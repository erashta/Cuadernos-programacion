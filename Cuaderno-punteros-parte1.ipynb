{
 "cells": [
  {
   "cell_type": "markdown",
   "id": "cbe43e06",
   "metadata": {},
   "source": [
    "## Punteros y referencias \n",
    "\n",
    "\n",
    "En clases anteriores, las variables se han explicado como ubicaciones en la memoria de la computadora a las que se puede acceder mediante su identificador (su nombre). De esta manera, el programa no necesita preocuparse por la dirección física de los datos en la memoria, ya que simplemente usa el identificador cada vez que necesita referirse a la variable.  \n",
    "\n",
    "Un **puntero** es una variable que apunta a otra variable. Los punteros tienen un tipo; es decir, un puntero a `int` apunta o se refiere a un `int`. Un puntero a `char` se refiere a un `char`. Un puntero a `int` se puede asignar a otro puntero a `int`, pero no a un puntero a `char`. Un puntero a la clase `f1` se refiere a una instancia de la clase `f1`. \n",
    "\n",
    "Un puntero también puede ser el valor especial `nullptr`, lo que significa que el puntero no apunta a nada. Una `referencia`  es un puntero, pero con restricciones que hacen que su uso sea más seguro. \n",
    "\n",
    "Los punteros de C++ pueden apuntar a cualquier variable dentro de cualquier estructura de datos y pueden iterar en los elementos del arreglos. Para que los punteros sean eficientes, C++ no hace nada para verificar si un puntero se refiere a una ubicación de memoria válida que contiene una variable del mismo tipo que el puntero. Esto significa que los punteros pueden causar estragos, sobrescribiendo inesperadamente datos en un programa que no los usa con cuidado. \n",
    "\n",
    "Debido a que los punteros y las referencias pueden apuntar a otras estructuras de datos, usar un puntero es un atajo que elimina la necesidad de escribir código repetidamente para acceder a los datos. Esto también puede dar a C++ una ventaja de velocidad sobre otros lenguajes. \n"
   ]
  },
  {
   "cell_type": "markdown",
   "id": "c6c49731",
   "metadata": {},
   "source": [
    "### Direcciones de memoria \n",
    "\n",
    "Para un programa C++, la memoria de una computadora es como una sucesión de celdas de memoria de un solo byte, cada una con una dirección única. Estas celdas de memoria están ordenadas de manera que permiten que las representaciones de datos de más de un byte ocupen celdas de memoria que tienen direcciones consecutivas. Esta ordenación permite localizar fácilmente cada celda en la memoria por medio de su dirección única. \n",
    "Por ejemplo, la celda de memoria con la dirección `1776` siempre sigue inmediatamente después de la celda con la dirección `1775` y precede a la que tiene `1777` y está exactamente mil celdas después de `776` y exactamente mil celdas antes de `2776`. \n",
    "\n",
    "Cuando se declara una variable, a la memoria necesaria para almacenar su valor se le asigna una ubicación específica en la memoria, conocida como su **dirección**. Generalmente, los programas de C++ no deciden activamente las direcciones de memoria exactas donde se almacenan sus variables. Esa tarea se deja al entorno donde se ejecuta el programa, generalmente, un sistema operativo que decide las ubicaciones de memoria particulares en tiempo de ejecución. Sin embargo, puede ser útil que un programa pueda obtener la dirección de una variable durante el tiempo de ejecución para acceder a las celdas de datos que se encuentran en una determinada posición con respecto a ella. \n",
    "\n",
    "El siguiente diagrama muestra una región de la memoria como una cinta larga que se extiende de izquierda a derecha. Los números hexadecimales sobre la cinta son direcciones de memoria. \n",
    "\n",
    "![](Imagenes/F8.png)\n",
    "\n",
    "\n",
    "Los bytes de memoria no tienen un significado fijo hasta que el programa declara una variable.\n"
   ]
  },
  {
   "cell_type": "markdown",
   "id": "51cfcf9c",
   "metadata": {},
   "source": [
    "### Operador address-of & \n",
    "\n",
    "La dirección de memoria de una variable se puede obtener precediendo el nombre de una variable con un signo &, conocido como operador de dirección. \n",
    "\n",
    "Por ejemplo: \n"
   ]
  },
  {
   "cell_type": "code",
   "execution_count": null,
   "id": "26b76931",
   "metadata": {},
   "outputs": [],
   "source": [
    "f1 = &myvar;"
   ]
  },
  {
   "cell_type": "markdown",
   "id": "53606ba5",
   "metadata": {},
   "source": [
    "Esta declaración asignará la dirección de la variable `myvar` a `f1`.  Al preceder el nombre de la variable `myvar` con el ampersand, ya no estamos asignando el contenido de la variable en sí a `f1`, sino su dirección de memoria. \n",
    "\n",
    "Supongamos que `myvar` se coloca en tiempo de ejecución en la dirección de memoria `1776`. En este caso, considera el siguiente fragmento de código: \n",
    "\n"
   ]
  },
  {
   "cell_type": "code",
   "execution_count": null,
   "id": "2b7355bc",
   "metadata": {},
   "outputs": [],
   "source": [
    "myvar = 25; \n",
    "f1 = &myvar; \n",
    "bar = myvar; \n"
   ]
  },
  {
   "cell_type": "markdown",
   "id": "132cbe3c",
   "metadata": {},
   "source": [
    "Primero, le hemos asignado el valor `25` a `myvar` (una variable cuya dirección en memoria asumimos que es `1776`). La segunda declaración asigna la dirección de `myvar (1776)`, en lugar del valor de `myvar`, a `f1`. Finalmente, la tercera declaración asigna el valor contenido en `myvar` a `bar`. Esta es una operación de asignación normal.\n",
    "\n",
    "Una variable que almacena la dirección de otra variable, `f1` en este ejemplo, se llama puntero. \n"
   ]
  },
  {
   "cell_type": "markdown",
   "id": "556a892d",
   "metadata": {},
   "source": [
    "### Punteros \n",
    "\n",
    "Un puntero es una variable que contiene la dirección de otra variable. Es decir, un puntero apunta a otra variable. Los punteros se declaran con el nombre del tipo y un asterisco `*`. Entonces, para declarar un puntero llamado `ptr` a una variable `int`, la declaración se ve como `int* ptr`.\n",
    "\n",
    "\n",
    "El operador `& address-of` produce la dirección del argumento, convirtiendo una variable en un puntero a esa variable. Si `i1` es una variable `int`, entonces `&i1` es un puntero a `int` que apunta a `i1`. El operador `&` puede leerse como `toma la dirección de...`. \n",
    "\n",
    "El efecto del operador `address-of` puede verse consultando el siguiente diagrama: \n",
    "\n",
    "![](Imagenes/F9.png)\n"
   ]
  },
  {
   "cell_type": "markdown",
   "id": "9a26a7c4",
   "metadata": {},
   "source": [
    "### Operador de desreferencia *\n",
    "\n",
    "Hemos visto cómo usar un puntero para almacenar la dirección de otra variable. Los punteros se denominan así porque \"apuntan a\" la variable cuya dirección almacenan. Una propiedad interesante de los punteros es que también se pueden usar para acceder al valor de la variable a la que apuntan. Esto se hace precediendo el nombre del puntero con el operador de desreferencia `*`. El operador en sí puede leerse como \"valor apuntado por\". \n",
    "\n",
    "La siguiente declaración establece la variable `baz` igual al `\"valor señalado por f1\"`: \n"
   ]
  },
  {
   "cell_type": "code",
   "execution_count": null,
   "id": "3486734f",
   "metadata": {},
   "outputs": [],
   "source": [
    "baz = *f1; "
   ]
  },
  {
   "cell_type": "markdown",
   "id": "605083a8",
   "metadata": {},
   "source": [
    "Esta declaración en realidad asignaría el valor `25` a `baz`, ya que `f1` es `1776` y el valor almacenado en la dirección `1776` (usando el ejemplo anterior) sería `25`.\n",
    "\n",
    "Es importante diferenciar claramente que `f1` hace referencia al valor `1776`, mientras que `*f1` hace referencia al valor almacenado en la dirección `1776`, que en este caso es `25`. Fíjate en la diferencia de incluir o no incluir el operador de desreferencia: "
   ]
  },
  {
   "cell_type": "code",
   "execution_count": null,
   "id": "8f260efa",
   "metadata": {},
   "outputs": [],
   "source": [
    "baz = f1; // baz igual a f1 (1776) \n",
    "baz = *f1; // baz igual al valor apuntado por f1 (25)\n"
   ]
  },
  {
   "cell_type": "markdown",
   "id": "ad84e404",
   "metadata": {},
   "source": [
    "Los operadores de referencia y desreferencia son, por tanto, complementarios: \n",
    "\n",
    "- `&` es la dirección del operador, y puede leerse simplemente como \"dirección de\" \n",
    "- `*` es el operador de desreferencia y puede leerse como \"valor señalado por\" \n",
    "\n",
    "Anteriormente, realizamos las siguientes dos operaciones de asignación: \n"
   ]
  },
  {
   "cell_type": "code",
   "execution_count": null,
   "id": "e42d44b3",
   "metadata": {},
   "outputs": [],
   "source": [
    "myvar = 25; \n",
    "f1 = &myvar; "
   ]
  },
  {
   "cell_type": "markdown",
   "id": "62e094d0",
   "metadata": {},
   "source": [
    "Inmediatamente después de estas dos declaraciones, todas las siguientes expresiones darían como resultado verdadero: "
   ]
  },
  {
   "cell_type": "code",
   "execution_count": null,
   "id": "167295c5",
   "metadata": {},
   "outputs": [],
   "source": [
    "myvar == 25 \n",
    "&myvar == 1776 \n",
    "f1 == 1776 \n",
    "*f1 == 25 \n",
    "*f1 == myvar "
   ]
  },
  {
   "cell_type": "markdown",
   "id": "0ec18cb1",
   "metadata": {},
   "source": [
    "La primera expresión es bastante clara, considerando que la operación de asignación realizada en `myvar` fue `myvar = 25`. La segunda utiliza el operador `address-of &`, que devuelve la dirección de `myvar`, que asumimos que tiene un valor de `1776`. La tercera es algo obvio, ya que la segunda expresión era verdadera y la operación de asignación realizada en `f1` era `f1 = &myvar`. La cuarta expresión utiliza el operador de desreferencia `*` para obtener el valor al que apunta `f1` y, de hecho, es `25`. La expresión final es verdadera siempre que la dirección a la que apunta `f1` sea la dirección de `myvar`.\n"
   ]
  },
  {
   "cell_type": "markdown",
   "id": "a8ca80c8",
   "metadata": {},
   "source": [
    "### Ejemplo: Punteros \n",
    "\n",
    "En este ejemplo, escribiremos un programa muy simple que crea un puntero, se establece para que apunte a un `int` y luego cambia el valor del `int` a través del puntero.  El programa ilustra la sintaxis de las declaraciones y asignaciones de punteros. El programa también imprimirá el valor del puntero y la dirección del `int`, para demostrar que son iguales, y el valor del `int` antes y después de cambiarlo a través del puntero, para comprobar que ha cambiado. \n",
    "\n",
    "Estos son los pasos para completar el ejemplo: \n"
   ]
  },
  {
   "cell_type": "markdown",
   "id": "86d1cf64",
   "metadata": {},
   "source": [
    "1 . Primero, ingresa el esqueleto de la función `main()`:"
   ]
  },
  {
   "cell_type": "code",
   "execution_count": null,
   "id": "c77cf08f",
   "metadata": {},
   "outputs": [],
   "source": [
    "#include <iostream>\n",
    "using namespace std;\n",
    "int main()\n",
    "{\n",
    "    return 0;\n",
    "}"
   ]
  },
  {
   "cell_type": "markdown",
   "id": "cc4c6fde",
   "metadata": {},
   "source": [
    "2 . En la función `main()`, declara una variable `int`, `i`, que inicialice en `12345`: "
   ]
  },
  {
   "cell_type": "code",
   "execution_count": null,
   "id": "81930990",
   "metadata": {},
   "outputs": [],
   "source": [
    "int i = 12345;"
   ]
  },
  {
   "cell_type": "markdown",
   "id": "bcb4304a",
   "metadata": {},
   "source": [
    "3 . Declara un puntero a la variable `int` `p` y inicializa para que apunta a `int`:\n"
   ]
  },
  {
   "cell_type": "code",
   "execution_count": null,
   "id": "49833b89",
   "metadata": {},
   "outputs": [],
   "source": [
    "int *p = &i;"
   ]
  },
  {
   "cell_type": "markdown",
   "id": "34b0cb81",
   "metadata": {},
   "source": [
    "4 . Muestra el valor del puntero y la dirección de la variable `int`:\n"
   ]
  },
  {
   "cell_type": "code",
   "execution_count": null,
   "id": "4e093c7f",
   "metadata": {},
   "outputs": [],
   "source": [
    "cout << \"p = \" << p << \", &i = \" << &i << endl;"
   ]
  },
  {
   "cell_type": "markdown",
   "id": "4bd06b8e",
   "metadata": {},
   "source": [
    "Las direcciones hexadecimales específicas impresas pueden cambiar de un compilador a otro y de una ejecución a otra, pero el punto es que los dos números son iguales; es decir, el puntero apunta a `int`. \n"
   ]
  },
  {
   "cell_type": "markdown",
   "id": "c9528c63",
   "metadata": {},
   "source": [
    "5 . Muestra el valor de la variable `int`, `i`: \n"
   ]
  },
  {
   "cell_type": "code",
   "execution_count": null,
   "id": "399ee7fc",
   "metadata": {},
   "outputs": [],
   "source": [
    "cout << \"i = \" << i << endl;"
   ]
  },
  {
   "cell_type": "markdown",
   "id": "bf1fac20",
   "metadata": {},
   "source": [
    "6 . Usa el operador `*` para desreferenciar el puntero, produciendo el `int` apuntado. Luego, agregue `2` al valor y guárdelo nuevamente: \n"
   ]
  },
  {
   "cell_type": "code",
   "execution_count": null,
   "id": "a52ed7cf",
   "metadata": {},
   "outputs": [],
   "source": [
    "*p = *p + 2;"
   ]
  },
  {
   "cell_type": "markdown",
   "id": "68465e8e",
   "metadata": {},
   "source": [
    "7 . Finalmente, imprima el valor para demostrar que agregar `2` al puntero desreferenciado también agregó `2` al `int`: \n"
   ]
  },
  {
   "cell_type": "code",
   "execution_count": null,
   "id": "6b5a45c9",
   "metadata": {},
   "outputs": [],
   "source": [
    "cout << \"i = \" << i << endl;"
   ]
  },
  {
   "cell_type": "markdown",
   "id": "1dd6fcb4",
   "metadata": {},
   "source": [
    "8 . Compila y ejecuta el programa."
   ]
  },
  {
   "cell_type": "code",
   "execution_count": null,
   "id": "10539b4e",
   "metadata": {},
   "outputs": [],
   "source": [
    "#include <iostream>\n",
    "using namespace std;\n",
    "int main()\n",
    "{\n",
    "    int i = 12345;\n",
    "    int *p = &i;\n",
    "    cout << \"p = \" << p << \", &i = \" << &i << endl;\n",
    "    \n",
    "    cout << \"i = \" << i << endl;\n",
    "    *p = *p + 2;\n",
    "    cout << \"i = \" << i << endl;\n",
    "    \n",
    "    return 0;\n",
    "}"
   ]
  },
  {
   "cell_type": "markdown",
   "id": "cadd376e",
   "metadata": {},
   "source": [
    "Las direcciones hexadecimales que se muestran en este resultado pueden ser diferentes en tu ejecución de la mía. Eso se espera. Lo importante es que las dos direcciones serán la misma. Después de asignar un nuevo valor al puntero desreferenciado, el valor de int cambió, también como se esperaba."
   ]
  },
  {
   "cell_type": "markdown",
   "id": "267ab34c",
   "metadata": {},
   "source": [
    "### Ejemplo: Desreferenciar nullptr \n",
    "\n",
    "La desreferenciación de `nullptr` provoca un error en el tiempo de ejecución y detiene el programa. Desreferenciar `nullptr` no es algo que un programador haga deliberadamente. Es algo que sucede por accidente cuando alguna ruta de ejecución a través del programa no inicializa el puntero a una dirección de máquina válida antes de que se use el puntero. \n",
    "\n",
    "Inicializar cada puntero a `nullptr` produce un mensaje de error particular, mientras que desreferenciar a un puntero no inicializado puede causar errores más sutiles. \n",
    "\n",
    "Aquí hay algunos pasos que puede realizar para ver esto en acción:\n"
   ]
  },
  {
   "cell_type": "markdown",
   "id": "7e8ff7e4",
   "metadata": {},
   "source": [
    "1 . Escribe el siguiente programa: "
   ]
  },
  {
   "cell_type": "code",
   "execution_count": null,
   "id": "a59c1562",
   "metadata": {},
   "outputs": [],
   "source": [
    "#include <iostream>\n",
    "using namespace std;\n",
    "int main()\n",
    "\n",
    "{\n",
    "    int *p1 = nullptr;\n",
    "    cout << \"p1 = \" << p1 << endl;\n",
    "    *p1 = 22;\n",
    "    return 0;\n",
    "}"
   ]
  },
  {
   "cell_type": "markdown",
   "id": "f627921e",
   "metadata": {},
   "source": [
    "¿Qué sucede en la ejecución ? Si estás utilizando un compilador en línea y el compilador en línea en particular utilizado no muestra un mensaje de error, prueba con un compilador diferente. \n"
   ]
  },
  {
   "cell_type": "markdown",
   "id": "8fcbc06b",
   "metadata": {},
   "source": [
    "### Declaración de punteros \n",
    "\n",
    "Dado que un puntero puede hacer referencia al valor de la variable a la que apunta (desreferenciando), un puntero debe saber el tipo de variable a la que apunta. No basta con saber que apunta a una dirección de memoria anónima. Esto significa que la declaración del puntero debe incluir el tipo de datos al que apunta. La declaración de punteros sigue esta sintaxis: \n"
   ]
  },
  {
   "cell_type": "code",
   "execution_count": null,
   "id": "fe6c8a02",
   "metadata": {},
   "outputs": [],
   "source": [
    "tipo * nombre;"
   ]
  },
  {
   "cell_type": "markdown",
   "id": "f5d524c2",
   "metadata": {},
   "source": [
    "En la declaración, `tipo` es el tipo de datos al que apunta el puntero. Este no es el tipo del puntero en sí, sino el tipo de los datos a los que apunta el puntero. Por ejemplo: \n",
    "\n"
   ]
  },
  {
   "cell_type": "code",
   "execution_count": null,
   "id": "5f3942fb",
   "metadata": {},
   "outputs": [],
   "source": [
    "int *number;\n",
    "char *character;\n",
    "double *decimals;"
   ]
  },
  {
   "cell_type": "markdown",
   "id": "8f36a22b",
   "metadata": {},
   "source": [
    "Estas son tres declaraciones de punteros. Aunque cada uno apunta a un tipo de datos diferente, son punteros y todos usan la misma cantidad de espacio en la memoria (el tamaño en la memoria de un puntero depende de la plataforma donde se ejecuta el programa). Sin embargo, los datos a los que apuntan no ocupan la misma cantidad de espacio, ni son del mismo tipo. Ten en cuenta que el asterisco `*` utilizado al declarar un puntero no debe confundirse con el operador de desreferencia. "
   ]
  },
  {
   "cell_type": "markdown",
   "id": "a1750040",
   "metadata": {},
   "source": [
    "**Ejercicios**\n",
    "\n",
    "Explica la salida de ambos ejemplos."
   ]
  },
  {
   "cell_type": "code",
   "execution_count": null,
   "id": "f23348b3",
   "metadata": {},
   "outputs": [],
   "source": [
    "#include <iostream>\n",
    "using namespace std;\n",
    "\n",
    "int main()\n",
    "{\n",
    "  int primerValor, segundoValor;\n",
    "  int * mypointer;\n",
    "\n",
    "  mypointer = &primerValor;\n",
    "  *mypointer = 10;\n",
    "  mypointer = &segundoValor;\n",
    "  *mypointer = 20;\n",
    "  cout << \"primerValor es \" << primerValor << endl;\n",
    "  cout << \"segundoValor es \" << segundoValor << endl;\n",
    "  return 0;\n",
    "}\n"
   ]
  },
  {
   "cell_type": "code",
   "execution_count": null,
   "id": "1915a70e",
   "metadata": {},
   "outputs": [],
   "source": [
    "#include <iostream>\n",
    "using namespace std;\n",
    "\n",
    "int main()\n",
    "{\n",
    "  int primerValor = 5, segundoValor = 15;\n",
    "  int * p1, * p2;\n",
    "\n",
    "  p1 = &primerValor;  \n",
    "  p2 = &segundoValor; \n",
    "  *p1 = 10;         \n",
    "  *p2 = *p1;        \n",
    "  p1 = p2;           \n",
    "  *p1 = 20;      \n",
    "  \n",
    "  cout << \"primerValor es \" << primerValor << endl;\n",
    "  cout << \"segundoValor es \" << segundoValor << endl;\n",
    "  return 0;\n",
    "}\n"
   ]
  },
  {
   "cell_type": "markdown",
   "id": "cd98d2a9",
   "metadata": {},
   "source": [
    "Observa la siguiente línea:  \n"
   ]
  },
  {
   "cell_type": "code",
   "execution_count": null,
   "id": "1e68e2cc",
   "metadata": {},
   "outputs": [],
   "source": [
    "int  *p1, *p2; "
   ]
  },
  {
   "cell_type": "markdown",
   "id": "c3b79014",
   "metadata": {},
   "source": [
    "Esta declara los dos punteros `p1` y `p2` en una sola línea, pero requiere un `*` para que cada variable sea un puntero. Si, en cambio, el código fuera: "
   ]
  },
  {
   "cell_type": "code",
   "execution_count": null,
   "id": "0572fb78",
   "metadata": {},
   "outputs": [],
   "source": [
    "int *p1, p2;"
   ]
  },
  {
   "cell_type": "markdown",
   "id": "1876f3c8",
   "metadata": {},
   "source": [
    "Terminaría con un puntero `p1` y `p2`  sería de tipo `int`. Los espacios no importan en absoluto para este propósito. Para evitar este tipo de ambigüedad, es una buena práctica declarar una variable por línea: \n"
   ]
  },
  {
   "cell_type": "code",
   "execution_count": null,
   "id": "97b0ac2f",
   "metadata": {},
   "outputs": [],
   "source": [
    "int *p1;\n",
    "int *p2;"
   ]
  },
  {
   "cell_type": "markdown",
   "id": "3df28fd0",
   "metadata": {},
   "source": [
    "### Punteros a arreglos \n",
    "\n",
    "Los arreglos y los punteros son casi indistinguibles entre sí en C++. Un arreglo  siempre se puede convertir implícitamente en el puntero del tipo adecuado. Por ejemplo, considera estas dos declaraciones: \n",
    "\n"
   ]
  },
  {
   "cell_type": "code",
   "execution_count": null,
   "id": "62a9c7c9",
   "metadata": {},
   "outputs": [],
   "source": [
    "int myarray[20];\n",
    "int *mypointer;"
   ]
  },
  {
   "cell_type": "markdown",
   "id": "b9045cd7",
   "metadata": {},
   "source": [
    "La siguiente operación de asignación sería válida: "
   ]
  },
  {
   "cell_type": "code",
   "execution_count": null,
   "id": "246ca65b",
   "metadata": {},
   "outputs": [],
   "source": [
    "mypointer = myarray;"
   ]
  },
  {
   "cell_type": "markdown",
   "id": "53a84262",
   "metadata": {},
   "source": [
    "Después de ejecutar esta declaración, `mypointer` y `myarray` serían equivalentes y, de hecho, tendrían propiedades muy similares. La variable `mypointer` se puede usar para hacer referencia a elementos del arreglo, y la variable `myarray` se puede deferenciar como un puntero. De hecho, la única diferencia es que a `mypointer` se le puede asignar un valor,  mientras que a `myarray` no, por lo que no se permite la siguiente asignación: \n"
   ]
  },
  {
   "cell_type": "code",
   "execution_count": null,
   "id": "a2374897",
   "metadata": {},
   "outputs": [],
   "source": [
    "myarray = mypointer;"
   ]
  },
  {
   "cell_type": "markdown",
   "id": "382aa244",
   "metadata": {},
   "source": [
    "**Ejercicio**\n",
    "\n",
    "Explica la salida del siguiente ejemplo."
   ]
  },
  {
   "cell_type": "code",
   "execution_count": null,
   "id": "08485b4c",
   "metadata": {},
   "outputs": [],
   "source": [
    "#include <iostream>\n",
    "using namespace std;\n",
    "\n",
    "int main()\n",
    "{\n",
    "  int numbers[5];\n",
    "  int *p;\n",
    "  p = numbers;\n",
    "  *p = 10;\n",
    "  p++;  \n",
    "  *p = 20;\n",
    "  p = &numbers[2];  \n",
    "  *p = 30;\n",
    "  p = numbers + 3;  \n",
    "  *p = 40;\n",
    "  p = numbers;  \n",
    "  *(p+4) = 50;\n",
    "  for (int n=0; n<5; n++)\n",
    "    cout << numbers[n] << \", \";\n",
    "  cout << endl;\n",
    "  return 0;\n",
    "}\n"
   ]
  },
  {
   "cell_type": "markdown",
   "id": "4225b0de",
   "metadata": {},
   "source": [
    "Un puntero al comienzo de un arreglo, la dirección del primer elemento y el nombre del arreglo significan lo mismo. \n",
    "\n",
    "Los elementos del arreglo son variables. El operador `&` se puede usar para obtener la dirección de un elemento del arreglo para asignarlo a un puntero. La expresión `p = &a[2]`,  actualiza `p` para apuntar a la tercera entrada del arreglo `a` (recuerda, los arreglos comienzan desde cero). \n",
    "\n",
    "Un puntero funciona como un arreglo en C++. Si `p` apunta a `a[2]`, entonces la expresión `p[3]` busca la sexta entrada en el arreglo (es decir, la que está en `a[5]`)."
   ]
  },
  {
   "cell_type": "markdown",
   "id": "f8d6c88a",
   "metadata": {},
   "source": [
    "### Ejemplo: Punteros a arreglos \n",
    "\n",
    "En este sencillo ejemplo, configuramos un puntero para que apunte a un elemento el arreglo y probaremos que apunta al valor esperado. \n",
    "Recuerda que los arreglos comienzan en cero en C++, por lo que `a[5]` es el sexto elemento. \n",
    "\n",
    "Estos son los pasos para completar el ejercicio: \n"
   ]
  },
  {
   "cell_type": "markdown",
   "id": "05057ac6",
   "metadata": {},
   "source": [
    "1 .Ingresa la función esqueleto `main()`, de la siguiente manera: "
   ]
  },
  {
   "cell_type": "code",
   "execution_count": null,
   "id": "7d2e0b44",
   "metadata": {},
   "outputs": [],
   "source": [
    "#include <iostream>\n",
    "using namespace std;\n",
    "int main()\n",
    "{\n",
    "    return 0;\n",
    "}"
   ]
  },
  {
   "cell_type": "markdown",
   "id": "7d59f9b1",
   "metadata": {},
   "source": [
    "2 . Siguiendo la llave de apertura de `main()`, declara un arreglo de `7` `ints` llamado `a`, e inicializalo. Luego, declara un puntero a `int` llamado `p`, y configúrelo en `nullptr` para que sepamos que no tiene una dirección conocida: \n"
   ]
  },
  {
   "cell_type": "code",
   "execution_count": null,
   "id": "95262c9b",
   "metadata": {},
   "outputs": [],
   "source": [
    "int a[7]{ 1, 3, 5, 4, 2, 9, -1 };\n",
    "int *p = nullptr;"
   ]
  },
  {
   "cell_type": "markdown",
   "id": "d6950bd0",
   "metadata": {},
   "source": [
    "3 . Ahora, establece `p` en la dirección de `a[2]` usando el operador `& address-of` para conocer la dirección del elemento del arreglo: \n"
   ]
  },
  {
   "cell_type": "code",
   "execution_count": null,
   "id": "fdd8ad6a",
   "metadata": {},
   "outputs": [],
   "source": [
    "p = &a[2];"
   ]
  },
  {
   "cell_type": "markdown",
   "id": "f44215d6",
   "metadata": {},
   "source": [
    "4 . Muestra el puntero desreferenciado, `*p`, y el valor de `a[2]` para ver que el puntero apunta realmente a `a[2]`: \n"
   ]
  },
  {
   "cell_type": "code",
   "execution_count": null,
   "id": "f5df18f8",
   "metadata": {},
   "outputs": [],
   "source": [
    "cout << \"*p = \" << *p << \", a[2] = \" << a[2] << endl;"
   ]
  },
  {
   "cell_type": "markdown",
   "id": "499366ab",
   "metadata": {},
   "source": [
    "5 . A continuación, genera `p[3]` y `a[5]`. Esto muestra que los punteros se pueden subscribir como arreglos, y que `p[3]` apunta al mismo valor que `a[5]`: \n",
    "\n"
   ]
  },
  {
   "cell_type": "code",
   "execution_count": null,
   "id": "ddf28249",
   "metadata": {},
   "outputs": [],
   "source": [
    "cout << \"p[3] = \" << p[3] << \", a[5] = \" << a[5] << endl;"
   ]
  },
  {
   "cell_type": "markdown",
   "id": "fb9e0888",
   "metadata": {},
   "source": [
    "6 . El programa completo se ve así: \n",
    " "
   ]
  },
  {
   "cell_type": "code",
   "execution_count": null,
   "id": "5227abe3",
   "metadata": {},
   "outputs": [],
   "source": [
    "#include <iostream>\n",
    "using namespace std;\n",
    "int main()\n",
    "{\n",
    "    int a[7] {1, 3, 5, 4, 2, 9, -1};\n",
    "    int * p = nullptr;\n",
    "    \n",
    "    p = & a[2];\n",
    "    cout << \"*p = \" << * p << \", a[2] = \" << a[2] << endl;\n",
    "    cout << \"p[3] = \" << p[3] << \", a[5] = \" << a[5] << endl;\n",
    "    \n",
    "    return 0;\n",
    "}"
   ]
  },
  {
   "cell_type": "markdown",
   "id": "61ab53bc",
   "metadata": {},
   "source": [
    "7 . Compila y ejecuta el programa."
   ]
  },
  {
   "cell_type": "markdown",
   "id": "0105701f",
   "metadata": {},
   "source": [
    "### Inicialización de puntero \n",
    "\n",
    "Los punteros se pueden inicializar para señalar ubicaciones específicas cuando se definen: "
   ]
  },
  {
   "cell_type": "code",
   "execution_count": null,
   "id": "ce76375b",
   "metadata": {},
   "outputs": [],
   "source": [
    "int myvar; \n",
    "int *myptr = &myvar; "
   ]
  },
  {
   "cell_type": "markdown",
   "id": "c891f865",
   "metadata": {},
   "source": [
    "El estado resultante de las variables después de este código es el mismo que después de lo siguiente: "
   ]
  },
  {
   "cell_type": "code",
   "execution_count": null,
   "id": "26d7dfc7",
   "metadata": {},
   "outputs": [],
   "source": [
    "int myvar;\n",
    "int * myptr; \n",
    "myptr = &myvar; "
   ]
  },
  {
   "cell_type": "markdown",
   "id": "56982e65",
   "metadata": {},
   "source": [
    "Los punteros se pueden inicializar en la dirección de una variable (como en el caso anterior) o en el valor de otro puntero (o arreglo): \n"
   ]
  },
  {
   "cell_type": "code",
   "execution_count": null,
   "id": "0cfeeddd",
   "metadata": {},
   "outputs": [],
   "source": [
    "int myvar; \n",
    "int *f1 = &myvar; \n",
    "int *bar = f1; "
   ]
  },
  {
   "cell_type": "markdown",
   "id": "1759e459",
   "metadata": {},
   "source": [
    "### Aritmética de punteros \n",
    "\n",
    "Las operaciones de suma y resta en punteros funcionan de forma ligeramente diferente a los tipos de enteros normales, ya que depende del tamaño del tipo de datos al que apuntan. Podemos ver este comportamiento usando el siguiente ejemplo que define tres punteros a tipos de diferentes tamaños: \n"
   ]
  },
  {
   "cell_type": "code",
   "execution_count": null,
   "id": "48ae214c",
   "metadata": {},
   "outputs": [],
   "source": [
    "char *mychar;\n",
    "short *myshort;\n",
    "long *mylong;\n"
   ]
  },
  {
   "cell_type": "markdown",
   "id": "a84c0f7e",
   "metadata": {},
   "source": [
    "Supongamos que apuntan a las ubicaciones de memoria `1000`, `2000` y `3000`, respectivamente y ejecutan las siguientes instrucciones: \n"
   ]
  },
  {
   "cell_type": "code",
   "execution_count": null,
   "id": "34bf9dc0",
   "metadata": {},
   "outputs": [],
   "source": [
    "++mychar;\n",
    "++myshort;\n",
    "++mylong;"
   ]
  },
  {
   "cell_type": "markdown",
   "id": "f925f0b4",
   "metadata": {},
   "source": [
    "Encontraríamos que `mychar` contiene el valor `1001`, `myshort` contiene el valor `2002` y `mylong` contiene el valor `3004`, aunque cada uno de ellos se incrementó solo una vez. La razón es que, al agregar uno a un puntero, se hace que el puntero apunte al siguiente elemento del mismo tipo. Para lograr esto, se agrega al puntero el tamaño (en bytes) del tipo al que apunta. \n",
    "\n",
    "Esto es aplicable tanto al sumar como al restar punteros con cualquier número. \n",
    "\n",
    "Los operadores de incremento `++` y decremento `--` se usan comúnmente con punteros, ya que proporcionan una manera conveniente de mover el puntero al valor anterior o siguiente, respectivamente. Recuerda que pueden usarse como prefijo o como postfijo de una expresión. Cuando se usan con punteros, esto puede tener una sutil diferencia, ya que el resultado de la operación de prefijo es el nuevo valor, mientras que el resultado de la operación popstfijo es el valor anterior. \n",
    "\n",
    "Las siguientes operaciones son equivalentes: "
   ]
  },
  {
   "cell_type": "code",
   "execution_count": null,
   "id": "edaeff3a",
   "metadata": {},
   "outputs": [],
   "source": [
    "*p++ \n",
    "*(p++) "
   ]
  },
  {
   "cell_type": "markdown",
   "id": "d663e691",
   "metadata": {},
   "source": [
    "Esta operación aumentará el valor de `p` (por lo que ahora apunta al siguiente elemento), pero debido a que `++` se usa en forma de postfijo, la expresión `p++` se evalúa como el valor señalado antes de incrementarse. Esto significa que `*p++` hace referencia a la ubicación antes del incremento. Básicamente, estas son las cuatro combinaciones posibles del operador de desreferencia con las versiones de prefijo y postfijo del operador de incremento (lo mismo se aplica al operador de decremento): \n",
    "\n",
    "\n",
    "\n"
   ]
  },
  {
   "cell_type": "code",
   "execution_count": null,
   "id": "35c47740",
   "metadata": {},
   "outputs": [],
   "source": [
    "*p++ // igual que *(p++): puntero de incremento y dirección no incrementada de referencia \n",
    "*++p // igual que *(++p): puntero de incremento y dirección incrementada desreferenciada \n",
    "++*p // igual que ++(*p): desreferenciar el puntero e incrementar el valor al que apunta\n",
    "(*p)++ // desreferenciar el puntero y post-incrementar el valor al que apunta "
   ]
  },
  {
   "cell_type": "markdown",
   "id": "e4121b2a",
   "metadata": {},
   "source": [
    "Ten en cuenta que se requieren paréntesis en el último caso ya que los operadores `++` (y `--`) tienen mayor precedencia que `*`, por lo que se aplican primero a la expresión. \n",
    "\n",
    "Múltiples operadores se pueden combinar en una sola declaración como la siguiente:"
   ]
  },
  {
   "cell_type": "code",
   "execution_count": null,
   "id": "38335aa1",
   "metadata": {},
   "outputs": [],
   "source": [
    "*p++ = *q++; "
   ]
  },
  {
   "cell_type": "markdown",
   "id": "b3e87801",
   "metadata": {},
   "source": [
    "El valor asignado a `*p` es `*q` antes de que tanto `p` como `q` se incrementen, luego ambos se incrementan. es equivalente a: \n",
    "\n",
    " "
   ]
  },
  {
   "cell_type": "code",
   "execution_count": null,
   "id": "3a7fc3f9",
   "metadata": {},
   "outputs": [],
   "source": [
    "*p = *q;\n",
    " ++p; \n",
    "++q;"
   ]
  },
  {
   "cell_type": "markdown",
   "id": "3a0698b8",
   "metadata": {},
   "source": [
    "C++ convierte el nombre de un arreglo en un puntero `a[0]`, la primera entrada del arreglo. El enunciado `p = a`; donde `a` es un arreglo, actualiza `p` para que apunte a la primera entrada en `a`. \n",
    "\n",
    "El programa puede agregar uno a un puntero. Si el puntero apunta a un arreglo, el resultado de `p+1` es un puntero al siguiente elemento del arreglo. El valor de dirección hexadecimal del puntero cambia según el tamaño en bytes de un elemento del arreglo. \n",
    "\n",
    "El programa puede agregar el valor de cualquier expresión integral a un puntero, lo que produce un puntero que avanza esa cantidad de elementos. Si `p` es un puntero y `k` es un `int`, entonces la expresión de puntero `p+k` es un puntero del mismo tipo que `p`. \n",
    "\n",
    "El programa puede restar un puntero de otro si apuntan al mismo arreglo. El resultado es el número de elementos del arreglo entre los dos punteros. El resultado de restar punteros no se puede interpretar si los dos punteros no apuntan al mismo arreglo. \n",
    "\n",
    "El programa puede comparar dos punteros si apuntan al mismo arreglo, utilizando cualquiera de los operadores relacionales (como `==, !=, <, >, <=` y `>=`). Si los punteros apuntan a arreglos diferentes, se produce una respuesta sin sentido. "
   ]
  },
  {
   "cell_type": "markdown",
   "id": "b2034024",
   "metadata": {},
   "source": [
    "### Ejemplo: Aritmética de punteros \n",
    "\n",
    "En este ejemplo demuestra cómo funcionan la aritmética de punteros y los operadores relacionales de punteros, y también te familiariza con la interpretación de expresiones de punteros.\n",
    "\n",
    "Estos son los pasos para completar el ejercicio: \n"
   ]
  },
  {
   "cell_type": "markdown",
   "id": "0d3b9b22",
   "metadata": {},
   "source": [
    "1.Ingresa a la función esqueleto `main()`. Puedes ejecutar el programa después de cada paso, o esperar hasta que esté todo ingresado para ejecutarlo: \n"
   ]
  },
  {
   "cell_type": "code",
   "execution_count": null,
   "id": "bd800250",
   "metadata": {},
   "outputs": [],
   "source": [
    "#include <iostream>\n",
    "using namespace std;\n",
    "int main()\n",
    "{\n",
    "    return 0;\n",
    "}"
   ]
  },
  {
   "cell_type": "markdown",
   "id": "d8d29b63",
   "metadata": {},
   "source": [
    "2 .  Siguiendo la llave de apertura de `main()`, declara un arreglo de cinco enteros llamados `numbers`. Declara un puntero a `int` llamado `pint` e inicialícelo a `numbers`. Declara otro puntero a `int` llamado `p2` e inicializarlo para que apunte a `numbers[3]`: \n"
   ]
  },
  {
   "cell_type": "code",
   "execution_count": null,
   "id": "72c8eebc",
   "metadata": {},
   "outputs": [],
   "source": [
    "int numbers[5]{ 0, 100, 200, 300, 400 };\n",
    "int* pint = numbers;\n",
    "int* p2 = &numbers[3];"
   ]
  },
  {
   "cell_type": "markdown",
   "id": "52d43f85",
   "metadata": {},
   "source": [
    "3 . A continuación, genera el valor de `pint`, el valor de la expresión de puntero `pint+1` y `sizeof(int)`, que te indica cuántos bytes de memoria ocupa un `int` en esta máquina. Aunque los valores hexadecimales impresos para punteros normalmente no son interpretables por seres humanos, verás que los dos números hexadecimales impresos difieren `sizeof(int)`. Agregar `1` a un puntero agrega el tamaño del tipo apuntado:\n"
   ]
  },
  {
   "cell_type": "code",
   "execution_count": null,
   "id": "ac1e7f3d",
   "metadata": {},
   "outputs": [],
   "source": [
    "cout << \"pint = \" << pint << \", pint+1 = \" << pint+1 << \", sizeof(int) = \" << sizeof(int) << endl;"
   ]
  },
  {
   "cell_type": "markdown",
   "id": "67d58c88",
   "metadata": {},
   "source": [
    "4 . Muestra que la expresión `*(pint+1)` y el valor del puntero  subscripto, `pint[1]` son lo mismo. Luego, genera `*(pint+4)` y `pint[4]`, que también son iguales:"
   ]
  },
  {
   "cell_type": "code",
   "execution_count": null,
   "id": "4e570ceb",
   "metadata": {},
   "outputs": [],
   "source": [
    "cout << \"*(pint+1) = \" << *(pint+1) << \", pint[1] = \" << pint[1] << endl;\n",
    "\n",
    "cout << \"*(pint+4) = \" << *(pint+4) << \", pint[4] = \" << pint[4] << endl;"
   ]
  },
  {
   "cell_type": "markdown",
   "id": "b895a67d",
   "metadata": {},
   "source": [
    "5 . Muestra la expresión del puntero `p2 - pint`. La diferencia debe imprimirse como `3`: \n"
   ]
  },
  {
   "cell_type": "code",
   "execution_count": null,
   "id": "19cf68b8",
   "metadata": {},
   "outputs": [],
   "source": [
    "cout << \"p2 - pint = \" << p2 - pint << endl;"
   ]
  },
  {
   "cell_type": "markdown",
   "id": "342c04af",
   "metadata": {},
   "source": [
    "6 . Genera un par de comparaciones de punteros utilizando los operadores `== y >`. El manipulador de salida `boolalpha` hace que las expresiones de tipo `bool` se impriman como `true` o `false`. De lo contrario, se convierten a `int` y se imprimen como `1` o `0`. \n",
    "\n",
    "Además, los operadores de comparación tienen una precedencia de operador menor que el operador de salida, `<<`. Las expresiones de comparación deben estar entre paréntesis para evitar un error de compilación:"
   ]
  },
  {
   "cell_type": "code",
   "execution_count": null,
   "id": "36ec0dea",
   "metadata": {},
   "outputs": [],
   "source": [
    "cout << \"p2 == pint = \" << boolalpha << (p2 == pint) << endl;\n",
    "cout << \"p2 > pint = \" << boolalpha << (p2 > pint) << endl;"
   ]
  },
  {
   "cell_type": "markdown",
   "id": "3d2a949f",
   "metadata": {},
   "source": [
    "7 . El programa completo se ve así:\n"
   ]
  },
  {
   "cell_type": "code",
   "execution_count": null,
   "id": "2b1b0e74",
   "metadata": {},
   "outputs": [],
   "source": [
    "#include <iostream>\n",
    "using namespace std;\n",
    "int main()\n",
    "{\n",
    "    int numbers[5] {0, 100, 200, 300, 400};\n",
    "    int * pint = numbers;\n",
    "    int * p2 = & numbers[3];\n",
    "    cout << \"pint = \" << pint << \", pint+1 = \" << pint + 1 << \", sizeof(int) = \" << sizeof(int) << endl;\n",
    "\n",
    "    cout << \"*(pint+1) = \" << * (pint + 1) << \", pint[1] = \" << pint[1] << endl;\n",
    "    cout << \"*(pint+4) = \" << * (pint + 4) << \", pint[4] = \" << pint[4] << endl;\n",
    "\n",
    "    cout << \"p2 - pint = \" << p2 - pint << endl;\n",
    "    cout << \"p2 == pint = \" << boolalpha << (p2 == pint) << endl;\n",
    "    cout << \"p2 > pint = \" << boolalpha << (p2 > pint) << endl;\n",
    "    \n",
    "    return 0;\n",
    "}"
   ]
  },
  {
   "cell_type": "markdown",
   "id": "7a0ca6c8",
   "metadata": {},
   "source": [
    "8 . Compila y ejecuta el programa."
   ]
  },
  {
   "cell_type": "markdown",
   "id": "81f8ff28",
   "metadata": {},
   "source": [
    "Este es el resultado que esperábamos: `a[1] == *(pint + 1)` y `a[4] == *(pint + 4)`. Los punteros se comportan como arreglos en C++, y la resta de punteros funciona como se esperaba: `p2 -pint == 3`. Finalmente, los punteros se pueden comparar usando los seis operadores de comparación como se esperaba.\n"
   ]
  },
  {
   "cell_type": "markdown",
   "id": "a287e556",
   "metadata": {},
   "source": [
    "### Ejemplo: Punteros incrementales \n",
    "\n",
    "Este ejemplo pasamos un puntero a través de un arreglo e imprimimos cada elemento del arreglo. \n",
    "\n",
    "Estos son los pasos para completar el ejercicio: \n",
    "\n",
    "1 . Ingresa la función esqueleto `main()` nuevamente: \n"
   ]
  },
  {
   "cell_type": "code",
   "execution_count": null,
   "id": "fa714e24",
   "metadata": {},
   "outputs": [],
   "source": [
    "#include <iostream>\n",
    "using namespace std;\n",
    "int main()\n",
    "{\n",
    "    return 0;\n",
    "}"
   ]
  },
  {
   "cell_type": "markdown",
   "id": "cb18c9c6",
   "metadata": {},
   "source": [
    "2 . Siguiendo la llave de apertura de `main()`, declara un arreglo de cinco enteros llamado `a` e inicialícelo. Declara un puntero `int` llamado `p`. El código se ve así: \n"
   ]
  },
  {
   "cell_type": "code",
   "execution_count": null,
   "id": "c84f6667",
   "metadata": {},
   "outputs": [],
   "source": [
    "int a[5]{ 10, 20, 30, 40, 50 };\n",
    "int* p;"
   ]
  },
  {
   "cell_type": "markdown",
   "id": "961ca9d9",
   "metadata": {},
   "source": [
    "3 . Ahora ingresa un bucle `for` para iterar a través de cada elemento de `a` comenzando `p` en el primer elemento de `a`, que en C++ es `a[0]`. Incrementa `p` para que apunte a cada entrada. Para cuando `p` caiga al final de `a`, que es `a[5]`. Dentro del bucle, genera cada entrada. Observa en la expresión de salida que hay un espacio `(\"  \")` pero no `endl` al final, por lo que estos valores impresos aparecen en la misma línea. \n",
    "\n",
    "No olvides generar un `endl` al final del bucle.\n"
   ]
  },
  {
   "cell_type": "code",
   "execution_count": null,
   "id": "b8da1786",
   "metadata": {},
   "outputs": [],
   "source": [
    "for (p = &a[0]; p < &a[5]; p = p + 1)\n",
    "{\n",
    "    cout << *p << \" \";\n",
    "}\n",
    "    cout << endl;"
   ]
  },
  {
   "cell_type": "markdown",
   "id": "ed647823",
   "metadata": {},
   "source": [
    "4 . Escribe el programa completo"
   ]
  },
  {
   "cell_type": "code",
   "execution_count": null,
   "id": "4c76e670",
   "metadata": {},
   "outputs": [],
   "source": [
    "#include <iostream>\n",
    "using namespace std;\n",
    "int main()\n",
    "{\n",
    "    int a[5]{ 10, 20, 30, 40, 50 };\n",
    "    int* p;\n",
    "    for (p = &a[0]; p < &a[5]; p = p + 1)\n",
    "    {\n",
    "        cout << *p << \" \";\n",
    "        }\n",
    "        cout << endl;\n",
    "        return 0;\n",
    "}"
   ]
  },
  {
   "cell_type": "markdown",
   "id": "0904e5f5",
   "metadata": {},
   "source": [
    "5 . Compila y ejecuta el programa."
   ]
  },
  {
   "cell_type": "markdown",
   "id": "2d9c4545",
   "metadata": {},
   "source": [
    "### Refinando para el bucle for\n",
    "\n",
    "Este programa podría ser mejor. En este momento, está desordenado de varias maneras. El programa se basa en saber que el arreglo, `a`, tiene cinco elementos. Es peligroso depender de constantes numéricas porque, si luego se agregan más elementos  al arreglo `a`, el desarrollador debe recordar cambiar las constantes dondequiera que ocurran, y C++ no ofrece ayuda allí. \n",
    "\n",
    "Lo primero que debes cambiar es dejar que el inicializador establezca el tamaño de `a`. La declaración `int a[]{ 10, 20, 30, 40, 50 }`; dice que  se permita que el inicializador de `a` declare su tamaño. \n",
    "\n",
    "La segunda cosa a cambiar es el bucle `for`. El primer elemento de `a` se puede escribir como `&a[0]`, pero también se puede escribir simplemente como `a`, lo que parece más simple:\n",
    "\n",
    "```\n",
    "for (p = a; p < &a[5]; p = p + 1)\n",
    "```\n",
    "\n",
    "El final del bucle llega cuando `p` cae al final del arreglo `a`. Hay una manera de construir esta expresión de puntero sin conocer el tamaño de `a`. \n",
    "La expresión `sizeof(a)/sizeof(a[0])` significa tomar el tamaño de `a` en bytes y dividirlo por el tamaño de un elemento de `a`. El resultado es el número de elementos en `a`. Entonces, la condición de terminación es una expresión de puntero que apunta al primer byte después del final de `a`. Eso se ve así: \n",
    "\n",
    "```\n",
    "for (p = a; p < a + sizeof(a)/sizeof(a[0]); p = p + 1)\n",
    "``` \n",
    "\n",
    "Lo último que hay que cambiar es la expresión del paso del bucle `for`. Esto se escribió originalmente como `p = p + 1`, pero hay otro operador en C++ que hace lo mismo. Se llama operador de incremento de prefijo `++`. \n",
    "El operador de incremento de prefijo agrega uno al valor del puntero, guarda el resultado en la variable del puntero y luego produce el puntero incrementado. \n",
    "\n",
    "Además, hay un operador de incremento postfijo `++` , (`p++`), que funciona de manera un poco diferente. El operador de incremento de posfijo primero toma nota del valor del puntero antes de incrementarlo, agrega uno al puntero y guarda ese resultado en la variable del puntero y luego produce el valor guardado antes de incrementarlo. \n",
    "\n",
    "Hay operadores de decremento de prefijo y posfijo, que funcionan como sus primos `++`, excepto que restan uno del puntero. Entonces, la declaración for finalmente se ve así: \n",
    "\n",
    "```\n",
    "for (p = a; p < a + sizeof(a)/sizeof(a[0]); ++p)\n",
    "``` \n",
    "\n",
    "Esto parece el tipo de bucle `for` que encontrarás en el código comercial de C++. \n",
    "\n",
    "6 . Escribe el programa actualizado completo."
   ]
  },
  {
   "cell_type": "code",
   "execution_count": null,
   "id": "861168ff",
   "metadata": {},
   "outputs": [],
   "source": [
    "#include <iostream>\n",
    "using namespace std;\n",
    "int main()\n",
    "{\n",
    "    int a[]{ 10, 20, 30, 40, 50 };\n",
    "    int* p;\n",
    "    for (p = a; p < a + sizeof(a)/sizeof(a[0]); ++p)\n",
    "    {\n",
    "        cout << *p << \" \";\n",
    "    }\n",
    "    cout << endl;\n",
    "    return 0;\n",
    "}"
   ]
  },
  {
   "cell_type": "markdown",
   "id": "59f0342f",
   "metadata": {},
   "source": [
    "7 . Ejecuta el programa y compruebe por sí mismo que produce el mismo resultado que la versión anterior.\n"
   ]
  },
  {
   "cell_type": "markdown",
   "id": "c20d3015",
   "metadata": {},
   "source": [
    "El modismo de incrementar un puntero a través de los elementos de un arreglo es uno que se repite con frecuencia en C++. Hay muchas maneras de escribir este bucle `for`, algunas usando punteros y otras no."
   ]
  },
  {
   "cell_type": "markdown",
   "id": "e3fe3536",
   "metadata": {},
   "source": [
    "### Punteros y const \n",
    "\n",
    "Se puede utilizar un puntero para acceder a una variable por su dirección y este acceso puede incluir la modificación del valor de la variable. A veces es útil poder declarar punteros que puedan leer un valor, pero no modificarlo, y esto se logra calificando la declaración con `const`. Por ejemplo: \n"
   ]
  },
  {
   "cell_type": "code",
   "execution_count": null,
   "id": "52c07cf7",
   "metadata": {},
   "outputs": [],
   "source": [
    "int x; \n",
    "int y = 10; \n",
    "const int *p = &y; \n",
    "x = *p; // ok: leyendo p \n",
    "*p = x; // error: modificando p, que es const-calificado "
   ]
  },
  {
   "cell_type": "markdown",
   "id": "a214d129",
   "metadata": {},
   "source": [
    "Aquí `p` apunta a una variable, pero la apunta de una manera cualificada por `const`, que solo permite el acceso de lectura al valor. La expresión `&y` es de tipo `int*` (puntero a un `int`), pero esta se asigna a un puntero de tipo `const int*`. Esto está permitido ya que un puntero a `non-const` se puede convertir implícitamente en un puntero a `const`. No se permite lo contrario, ya que permitiría modificar el valor constante. \n",
    "\n",
    "Un uso común de punteros a elementos `const` es como parámetros de función. Sin esto, una función que toma un puntero como parámetro puede modificar el valor pasado como argumento. Declarar el parámetro como `const` evita que se modifique (accidentalmente o no). "
   ]
  },
  {
   "cell_type": "markdown",
   "id": "af43097a",
   "metadata": {},
   "source": [
    "**Ejercicio**\n",
    "\n",
    "Explica la salida del siguiente ejemplo."
   ]
  },
  {
   "cell_type": "code",
   "execution_count": null,
   "id": "ec3cca55",
   "metadata": {},
   "outputs": [],
   "source": [
    "#include <iostream>\n",
    "using namespace std;\n",
    "\n",
    "void incrementa_todo(int* inicio, int* parar)\n",
    "{\n",
    "  int *actual = inicio;\n",
    "  while (actual != parar) {\n",
    "    ++(*actual);  \n",
    "    ++actual;   \n",
    "  }\n",
    "}\n",
    "\n",
    "void imprimir_todo(const int* inicio, const int* parar)\n",
    "{\n",
    "  const int *actual = inicio;\n",
    "  while (actual != parar) {\n",
    "    cout << *actual << endl;\n",
    "    ++actual;   \n",
    "  }\n",
    "}\n",
    "\n",
    "int main()\n",
    "{\n",
    "  int numeros[] = {10,20,30};\n",
    "  incrementa_todo(numeros,numeros+3);\n",
    "  imprimir_todo(numeros,numeros+3);\n",
    "  return 0;\n",
    "}"
   ]
  },
  {
   "cell_type": "markdown",
   "id": "c402a27f",
   "metadata": {},
   "source": [
    "El siguiente código muestra las diferentes combinaciones para usar `const`: "
   ]
  },
  {
   "cell_type": "code",
   "execution_count": null,
   "id": "ebeb1bbc",
   "metadata": {},
   "outputs": [],
   "source": [
    "int x; \n",
    "int *p1 = &x; // puntero no constante a int no constante \n",
    "const int *p2 = &x; // puntero no const a const int \n",
    "int * const p3 = &x; // puntero const a int no const \n",
    "const int * const p4 = &x; // puntero const a const int \n"
   ]
  },
  {
   "cell_type": "markdown",
   "id": "0b221679",
   "metadata": {},
   "source": [
    "El calificador `const` puede preceder o seguir al tipo señalado:"
   ]
  },
  {
   "cell_type": "code",
   "execution_count": null,
   "id": "ace35d5a",
   "metadata": {},
   "outputs": [],
   "source": [
    "const int * p2a = &x; // puntero no const a const int \n",
    "int const * p2b = &x; // también puntero no const a const int "
   ]
  },
  {
   "cell_type": "markdown",
   "id": "9301c48f",
   "metadata": {},
   "source": [
    "### Punteros y literales de cadena \n",
    "\n",
    "Los literales de cadena (entre comillas \") son esencialmente arreglos que contienen secuencias de caracteres terminadas en `null`. El tipo de una cadena literal es un arreglo de `const char` (ya que los elementos de la literal no se pueden modificar). \n",
    "\n",
    "Por ejemplo: \n",
    "\n"
   ]
  },
  {
   "cell_type": "code",
   "execution_count": null,
   "id": "b40bfc40",
   "metadata": {},
   "outputs": [],
   "source": [
    "const char * mystring = \"hello\"; "
   ]
  },
  {
   "cell_type": "markdown",
   "id": "636af906",
   "metadata": {},
   "source": [
    "Esto declara un arreglo con la representación literal de `\"hello\"` y a `mystring` se le asigna un puntero a su primer elemento. El puntero `mystring` apunta a un arreglo de caracteres, y debido a que los punteros y las arreglos se comportan esencialmente de la misma manera en las expresiones, `mystring` se puede usar para acceder a los caracteres de la misma manera que los arreglos de secuencias de caracteres terminadas en `null`. \n",
    "\n",
    "Por ejemplo: \n"
   ]
  },
  {
   "cell_type": "code",
   "execution_count": null,
   "id": "823ff261",
   "metadata": {},
   "outputs": [],
   "source": [
    "*(mystring+4)\n",
    "mystring[4]"
   ]
  },
  {
   "cell_type": "markdown",
   "id": "e8c01879",
   "metadata": {},
   "source": [
    "Ambas expresiones tienen un valor de `'o'` (el quinto elemento de un arreglo). "
   ]
  },
  {
   "cell_type": "markdown",
   "id": "da54f462",
   "metadata": {},
   "source": [
    "### Punteros a punteros \n",
    "\n",
    "C++ permite el uso de punteros que apuntan a otros punteros, que a su vez, apuntan a datos (o incluso a otros punteros). La sintaxis simplemente requiere un asterisco `*` para cada nivel de direccionamiento indirecto en la declaración del puntero: \n"
   ]
  },
  {
   "cell_type": "code",
   "execution_count": null,
   "id": "ebe398d6",
   "metadata": {},
   "outputs": [],
   "source": [
    "char a;\n",
    "char *b;\n",
    "char **c;\n",
    "a = 'z';\n",
    "b = &a;\n",
    "c = &b;"
   ]
  },
  {
   "cell_type": "markdown",
   "id": "7182e750",
   "metadata": {},
   "source": [
    "Esto, suponiendo que las ubicaciones de memoria elegidas al azar para cada variable de `7230`, `8092` y `10502`, podría representarse como: \n",
    "\n",
    "Con el valor de cada variable representado dentro de su celda correspondiente, y sus respectivas direcciones en memoria representadas por el valor debajo de ellas. \n",
    "\n",
    "Lo nuevo en este ejemplo es la variable c, que es un puntero a un puntero, y se puede usar en tres niveles diferentes de indirección, cada uno de ellos correspondería a un valor diferente: \n",
    "\n",
    "```\n",
    "c es de tipo char** y un valor de 8092 \n",
    "*c es de tipo char* y un valor de 7230 \n",
    "**c es de tipo char y un valor de 'z' \n",
    "```"
   ]
  },
  {
   "cell_type": "markdown",
   "id": "28866269",
   "metadata": {},
   "source": [
    "En este ejemplo, manipularemos un arreglo de punteros utilizando  puntero a un puntero.\n",
    "\n",
    "Aquí los pasos para completarlos:\n"
   ]
  },
  {
   "cell_type": "markdown",
   "id": "289be01d",
   "metadata": {},
   "source": [
    "1 . Escribe la  función esqueleto `main()`:"
   ]
  },
  {
   "cell_type": "code",
   "execution_count": null,
   "id": "bbd4fe97",
   "metadata": {},
   "outputs": [],
   "source": [
    "#include <iostream>\n",
    "using namespace std;\n",
    "int main()\n",
    "{\n",
    "    return 0;\n",
    "}"
   ]
  },
  {
   "cell_type": "markdown",
   "id": "2429f3c1",
   "metadata": {},
   "source": [
    "2 . Después de la llave de apertura de `main()`, declara un arreglo de cadenas de caracteres literales llamado `alphabet`. `alphabet` es un arreglo de punteros a `const char`: "
   ]
  },
  {
   "cell_type": "code",
   "execution_count": null,
   "id": "344073be",
   "metadata": {},
   "outputs": [],
   "source": [
    "char* alphabet[26]\n",
    "    {\n",
    "    \"alpha\",\n",
    "    \"bravo\",\n",
    "    \"charlie\",\n",
    "    \"delta\",\n",
    "    \"echo\",\n",
    "    \"foxtrot\"\n",
    "    }"
   ]
  },
  {
   "cell_type": "markdown",
   "id": "820b3694",
   "metadata": {},
   "source": [
    "3 .  A continuación, ingresa un bucle `for` para imprimir las entradas de `alphabet` hasta que el programa llegue a uno que sea igual a `nullptr`: \n"
   ]
  },
  {
   "cell_type": "code",
   "execution_count": null,
   "id": "0935294a",
   "metadata": {},
   "outputs": [],
   "source": [
    "for (char **p = alphabet; *p != nullptr; ++p)\n",
    "    {\n",
    "        cout << *p << \" \";\n",
    "    }\n",
    "    cout << endl;"
   ]
  },
  {
   "cell_type": "markdown",
   "id": "9d18dbec",
   "metadata": {},
   "source": [
    "La variable de inducción `p` es de tipo puntero a puntero a `char`. Ahora, `p` se establece inicialmente en `alphabet` (un arreglo de punteros a `char`) que el compilador convierte en un puntero a puntero a `char`. La condición de continuación del bucle `for` es si `*p` no es igual a `nullptr`. Al final de cada iteración, el puntero `p` se incrementa. Dentro del bucle `for` imprimimos `*p`, que es un puntero a `char`, seguido de un espacio.\n",
    "\n",
    "Al imprimir las entradas sin seguimiento `endl`, todas se imprimen en la misma línea.  El flujo de salida de C++ intenta imprimir un puntero a char como si fuera una cadena terminada en `null`. "
   ]
  },
  {
   "cell_type": "markdown",
   "id": "41a597d1",
   "metadata": {},
   "source": [
    "4 . El programa completo se ve así: "
   ]
  },
  {
   "cell_type": "code",
   "execution_count": null,
   "id": "78d8d2a6",
   "metadata": {},
   "outputs": [],
   "source": [
    "#include <iostream>\n",
    "using namespace std;\n",
    "int main()\n",
    "{\n",
    "char* alphabet[26]\n",
    "    {\n",
    "    \"alpha\",\n",
    "    \"bravo\",\n",
    "    \"charlie\",\n",
    "    \"delta\",\n",
    "    \"echo\",\n",
    "    \"foxtrot\"\n",
    "    };\n",
    "    for (char **p = alphabet; *p != nullptr; ++p)\n",
    "    {\n",
    "        cout << *p << \" \";\n",
    "    }\n",
    "    cout << endl;\n",
    "    return 0;\n",
    "}"
   ]
  },
  {
   "cell_type": "markdown",
   "id": "dd2ac218",
   "metadata": {},
   "source": [
    "5 .  Compila y ejecuta el programa. ¿Qué sucede aquí?."
   ]
  },
  {
   "cell_type": "code",
   "execution_count": null,
   "id": "8181a67e",
   "metadata": {},
   "outputs": [],
   "source": [
    "// Completa"
   ]
  },
  {
   "cell_type": "markdown",
   "id": "c7022522",
   "metadata": {},
   "source": [
    "\n",
    "6 . Elimina los mensajes de advertencia de tu código.\n"
   ]
  },
  {
   "cell_type": "markdown",
   "id": "42b1400d",
   "metadata": {},
   "source": [
    "Para hacer que estos mensajes de error desaparezcan, cambia el tipo de `alphabet` a `char const* alphabet[26]` y cambia el tipo de `p`, la variable de inducción del bucle `for` a `char const** p`."
   ]
  },
  {
   "cell_type": "markdown",
   "id": "88f5834d",
   "metadata": {},
   "source": [
    "### Punteros void \n",
    "\n",
    "El tipo de puntero `void` es un tipo especial de puntero. En C++, `void` representa la ausencia de tipo. Por lo tanto, los punteros `void` son punteros que apuntan a un valor que no tiene tipo (y por lo tanto también una longitud indeterminada y propiedades de desreferenciación indeterminadas).\n",
    "\n",
    "Esto le da a los punteros `void` una gran flexibilidad, al poder apuntar a cualquier tipo de datos, desde un valor entero o un flotante hasta una cadena de caracteres. A cambio, tienen una gran limitación: los datos que apuntan no se pueden desreferenciar directamente (lo cual es lógico, ya que no tenemos ningún tipo al que desreferenciar), y por eso, cualquier dirección en un puntero `void` necesita ser transformada en algún otro tipo de puntero que apunte a un tipo de datos concreto antes de ser desreferenciado. \n",
    "\n",
    "Uno de sus posibles usos puede ser pasar parámetros genéricos a una función. Por ejemplo: \n"
   ]
  },
  {
   "cell_type": "code",
   "execution_count": null,
   "id": "d63e1434",
   "metadata": {},
   "outputs": [],
   "source": [
    "#include <iostream>\n",
    "using namespace std;\n",
    "\n",
    "void increase (void* data, int psize)\n",
    "{\n",
    "  if ( psize == sizeof(char) )\n",
    "  { char* pchar; pchar=(char*)data; ++(*pchar); }\n",
    "  else if (psize == sizeof(int) )\n",
    "  { int* pint; pint=(int*)data; ++(*pint); }\n",
    "}\n",
    "\n",
    "int main ()\n",
    "{\n",
    "  char a = 'x';\n",
    "  int b = 1602;\n",
    "  increase (&a,sizeof(a));\n",
    "  increase (&b,sizeof(b));\n",
    "  cout << a << \", \" << b << endl;\n",
    "  return 0;\n",
    "}\n"
   ]
  },
  {
   "cell_type": "markdown",
   "id": "8f0e7662",
   "metadata": {},
   "source": [
    "¿Cuál es la salida de este ejemplo?"
   ]
  },
  {
   "cell_type": "markdown",
   "id": "4a667bf9",
   "metadata": {},
   "source": [
    "El operador `sizeof` está integrado en el lenguaje C++ que devuelve el tamaño en bytes de su argumento. Para tipos de datos no dinámicos, este valor es una constante. Por lo tanto, por ejemplo, `sizeof(char)` es 1, porque `char` siempre tiene un tamaño de un byte. "
   ]
  },
  {
   "cell_type": "markdown",
   "id": "fad2fb8d",
   "metadata": {},
   "source": [
    "### Punteros no válidos y punteros nulos\n",
    "\n",
    "En principio, los punteros apuntan a direcciones válidas, como la dirección de una variable o la dirección de un elemento en un arreglo. Pero los punteros en realidad pueden apuntar a cualquier dirección, incluidas las direcciones que no se refieren a ningún elemento válido. \n",
    "\n",
    "Ejemplos típicos de esto son punteros no inicializados y punteros a elementos inexistentes de un arreglo: \n"
   ]
  },
  {
   "cell_type": "code",
   "execution_count": null,
   "id": "77c8132b",
   "metadata": {},
   "outputs": [],
   "source": [
    "int * p; // puntero no inicializado (variable local) \n",
    "int myarray[10]; \n",
    "int * q = myarray+20; // elemento fuera de límites "
   ]
  },
  {
   "cell_type": "markdown",
   "id": "b09d65c6",
   "metadata": {},
   "source": [
    "Ni `p` ni `q` apuntan a direcciones que se sabe que contienen un valor, pero ninguna de las declaraciones anteriores provoca un error. En C++, los punteros pueden tomar cualquier valor de dirección, sin importar si realmente hay algo en esa dirección o no. Lo que puede causar un error es desreferenciar dicho puntero (es decir, acceder realmente al valor al que apuntan). El acceso a dicho puntero provoca un comportamiento indefinido, que va desde un error durante el tiempo de ejecución hasta el acceso a algún valor aleatorio.\n",
    "\n",
    "Pero, a veces, un puntero realmente necesita apuntar explícitamente a ninguna parte y no solo a una dirección no válida. Para tales casos, existe un valor especial que puede tomar cualquier tipo de puntero: el valor del puntero nulo. Este valor se puede expresar en C++ de dos formas: con un valor entero de cero o con la palabra clave `nullptr` que vimos anteriormente: \n"
   ]
  },
  {
   "cell_type": "code",
   "execution_count": null,
   "id": "14ea5b12",
   "metadata": {},
   "outputs": [],
   "source": [
    "int * p = 0;\n",
    "int * q = nullptr;"
   ]
  },
  {
   "cell_type": "markdown",
   "id": "b68dc638",
   "metadata": {},
   "source": [
    "Aquí, tanto `p` como `q` son punteros nulos, lo que significa que apuntan explícitamente a ninguna parte, y en realidad ambos se comparan como iguales: todos los punteros nulos se comparan como iguales a otros punteros nulos. También es bastante común ver que la constante `NULL` definida se usa en código antiguo para referirse al valor del puntero nulo: "
   ]
  },
  {
   "cell_type": "code",
   "execution_count": null,
   "id": "c7768d00",
   "metadata": {},
   "outputs": [],
   "source": [
    "int * r = NULL;"
   ]
  },
  {
   "cell_type": "markdown",
   "id": "6ae7c756",
   "metadata": {},
   "source": [
    "`NULL` se define en varios encabezados de la biblioteca estándar y se define como un alias de algún valor constante de puntero nulo (como `0` o `nullptr`). \n",
    "\n",
    "**Importante**\n",
    "\n",
    "¡No confundir los punteros nulos con los punteros void! Un puntero nulo es un valor que cualquier puntero puede tomar para representar que apunta a \"ninguna parte\", mientras que un puntero `void` es un tipo de puntero que puede apuntar a algún lugar sin un tipo específico. \n",
    "\n",
    "Uno se refiere al valor almacenado en el puntero y el otro al tipo de datos al que apunta. \n"
   ]
  },
  {
   "cell_type": "markdown",
   "id": "e4fcd03c",
   "metadata": {},
   "source": [
    "### Punteros a funciones \n",
    "\n",
    "C++ permite operaciones con punteros a funciones. El uso típico de esto es para pasar una función como argumento a otra función. Los punteros a funciones se declaran con la misma sintaxis que una declaración de función regular, excepto que el nombre de la función se incluye entre paréntesis () y se inserta un asterisco (`*`) antes del nombre:\n"
   ]
  },
  {
   "cell_type": "code",
   "execution_count": null,
   "id": "a6c95733",
   "metadata": {},
   "outputs": [],
   "source": [
    " // puntero a funciones \n",
    "#include <iostream>\n",
    "using namespace std;\n",
    "\n",
    "int adicion (int a, int b)\n",
    "{ return (a+b); }\n",
    "\n",
    "int resta (int a, int b)\n",
    "{ return (a-b); }\n",
    "\n",
    "int operacion (int x, int y, int (*functocall)(int,int))\n",
    "{\n",
    "  int g;\n",
    "  g = (*functocall)(x,y);\n",
    "  return (g);\n",
    "}\n",
    "\n",
    "int main ()\n",
    "{\n",
    "  int m,n;\n",
    "  int (*menos)(int,int) = resta;\n",
    "\n",
    "  m = operacion (7, 5, adicion);\n",
    "  n = operacion (20, m, menos);\n",
    "  cout <<n;\n",
    "  return 0;\n",
    "}\n"
   ]
  },
  {
   "cell_type": "markdown",
   "id": "e24fe7b0",
   "metadata": {},
   "source": [
    "¿Cuál es el resultado del anterior programa?"
   ]
  },
  {
   "cell_type": "markdown",
   "id": "b695d045",
   "metadata": {},
   "source": [
    "En el ejemplo anterior, `menos` es un puntero a una función que tiene dos parámetros de tipo `int`. Se inicializa directamente para apuntar a la función `resta`:\n"
   ]
  },
  {
   "cell_type": "code",
   "execution_count": null,
   "id": "3c9eff68",
   "metadata": {},
   "outputs": [],
   "source": [
    "int (*menos)(int,int) = resta;"
   ]
  },
  {
   "cell_type": "markdown",
   "id": "69c42371",
   "metadata": {},
   "source": [
    "### Ejercicios\n",
    "\n",
    "1 .Escribe un programa que sume los elementos de un arreglo usando punteros.\n",
    "\n",
    "2 . Escribe un programa que use punteros para generar un `arreglo[n]` con un número pequeño de datos enteros entre `1` y `12`, ordenados ascendentemente y que los reporte.\n",
    "\n",
    "Sugerencia de diseño: genera los números al azar y los ordena.\n",
    "\n",
    "\n",
    "Ejemplo de salida: `2 5 6 9 10 12`\n",
    "\n",
    "3 . Ya resolvimos el problema anterior, los datos están ordenados; pero resulta que ahora los necesitamos descendentes (o sea en reversa); como hemos perdido tiempo, debemos reordenarlos en el\n",
    "modo más rápido posible usando punteros.\n",
    "\n",
    "Ejemplo de salida:\n",
    "\n",
    "```\n",
    "2 5 6 9 10 12\n",
    "12 10 9 6 5 2\n",
    "``` \n",
    "\n",
    "Sugerencia de diseño: Utiliza un solo `for()` y aplica la enseñanza de Cristo: `Los últimos serán\n",
    "los primeros` y viceversa."
   ]
  },
  {
   "cell_type": "code",
   "execution_count": null,
   "id": "e9eca819",
   "metadata": {},
   "outputs": [],
   "source": [
    "// Tus respuestas"
   ]
  }
 ],
 "metadata": {
  "kernelspec": {
   "display_name": "C++17",
   "language": "C++17",
   "name": "xcpp17"
  },
  "language_info": {
   "codemirror_mode": "text/x-c++src",
   "file_extension": ".cpp",
   "mimetype": "text/x-c++src",
   "name": "c++",
   "version": "17"
  }
 },
 "nbformat": 4,
 "nbformat_minor": 5
}
