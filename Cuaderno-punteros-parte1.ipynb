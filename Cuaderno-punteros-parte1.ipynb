{
 "cells": [
  {
   "cell_type": "markdown",
   "id": "cbe43e06",
   "metadata": {},
   "source": [
    "## Punteros y referencias \n",
    "\n",
    "\n",
    "Un **puntero** es una variable que apunta a otra variable. Los punteros tienen un tipo; es decir, un puntero a `int` apunta o se refiere a un `int`. Un puntero a `char` se refiere a un `char`. Un puntero a `int` se puede asignar a otro puntero a `int`, pero no a un puntero a `char`. \n",
    "\n",
    "Un puntero a la clase `f1` se refiere a una instancia de la clase `f1`. \n",
    "\n",
    "Un puntero también puede ser el valor especial `nullptr`, lo que significa que el puntero no apunta a nada. Una `referencia`  es un puntero, pero con restricciones que hacen que su uso sea más seguro. \n",
    "\n",
    "Los punteros de C++ pueden apuntar a cualquier variable dentro de cualquier estructura de datos y pueden iterar en los elementos del arreglos. Para que los punteros sean eficientes, C++ no hace nada para verificar si un puntero se refiere a una ubicación de memoria válida que contiene una variable del mismo tipo que el puntero. Esto significa que los punteros pueden causar estragos, sobrescribiendo inesperadamente datos en un programa que no los usa con cuidado. Los inventores de lenguajes más nuevos siempre mencionan punteros como una razón para evitar C++. Sin embargo, los riesgos de los punteros son relativamente fáciles de gestionar.\n",
    "\n",
    "Debido a que los punteros y las referencias pueden apuntar a otras estructuras de datos, usar un puntero es un atajo que elimina la necesidad de escribir código repetidamente para acceder a los datos. Esto también puede dar a C++ una ventaja de velocidad sobre otros lenguajes. \n",
    "\n",
    "Los punteros y las referencias se pueden usar para vincular una parte de una estructura de datos compleja a otra.  Los punteros pueden iterar a través de los elementos del arreglos y también a través de estructuras de datos vinculadas. \n",
    "\n",
    "Los punteros y las referencias también son útiles porque un puntero a un arreglo o a una  instancia de clase se puede pasar a una función, en lugar de copiar el arreglo o instancia en el argumento formal de la función. Los punteros tienen un papel importante en referencia a las variables dinámicas.\n"
   ]
  },
  {
   "cell_type": "markdown",
   "id": "c6c49731",
   "metadata": {},
   "source": [
    "### Direcciones de memoria \n",
    "\n",
    "La memoria de una computadora se puede modelar como un arreglo  muy largo de bytes. Cada byte tiene una dirección que tiene la misma función que un subíndice de arreglos. Cada variable tiene una dirección que es la primera de quizás varias direcciones de bytes en las que se almacenan los bits de la variable. \n",
    "\n",
    "Las variables normales se conocen por un nombre que el compilador traduce en una dirección. \n",
    "\n",
    "El siguiente diagrama muestra una región de la memoria como una cinta larga que se extiende de izquierda a derecha. Los números hexadecimales sobre la cinta son direcciones de memoria. \n",
    "\n",
    "![](Imagenes/F8.png)\n",
    "\n",
    "\n",
    "\n",
    "Los bytes de memoria no tienen un significado fijo hasta que el programa declara una variable.\n"
   ]
  },
  {
   "cell_type": "markdown",
   "id": "556a892d",
   "metadata": {},
   "source": [
    "### Punteros \n",
    "\n",
    "Un puntero es una variable que contiene la dirección de otra variable. Es decir, un puntero apunta a otra variable. Los punteros se declaran con el nombre del tipo y un asterisco `*`. Entonces, para declarar un puntero llamado `ptr` a una variable `int`, la declaración se ve como `int* ptr`.\n",
    "\n",
    "\n",
    "El operador `& address-of` produce la dirección del argumento, convirtiendo una variable en un puntero a esa variable. Si `i1` es una variable `int`, entonces `&i1` es un puntero a `int` que apunta a `i1`. El operador `&` puede leerse como `toma la dirección de...`. \n",
    "\n",
    "El efecto del operador `address-of` puede entenderse consultando el siguiente diagrama: \n",
    "\n",
    "![](Imagenes/F9.png)\n",
    "\n",
    "\n",
    "El operador `*` (desreferenciar) desreferencia un puntero. Es decir, si un puntero `p` se refiere a una variable `int`, `*p` es la variable `int` a la que se refiere. Si el programa aplica el operador `*` para desreferenciar un puntero que está establecido en `nullptr`, el programa se bloqueará con un breve mensaje de error, porque el programa ha intentado acceder a una dirección de máquina que no está asignada a ninguna memoria real. \n",
    "\n",
    "Si eliminas la referencia a un puntero que nunca se configuró, es posible que se bloquee o que continúe ejecutándose, pero no producirá un resultado válido. "
   ]
  },
  {
   "cell_type": "markdown",
   "id": "a8ca80c8",
   "metadata": {},
   "source": [
    "### Ejemplo: Punteros \n",
    "\n",
    "En este ejemplo, escribiremos un programa muy simple que crea un puntero, se establece para que apunte a un `int` y luego cambia el valor del `int` a través del puntero.  El programa ilustra la sintaxis de las declaraciones y asignaciones de punteros. El programa también imprimirá el valor del puntero y la dirección del `int`, para demostrar que son iguales, y el valor del `int` antes y después de cambiarlo a través del puntero, para comprobar que ha cambiado. \n",
    "\n",
    "Estos son los pasos para completar el ejemplo: \n"
   ]
  },
  {
   "cell_type": "markdown",
   "id": "86d1cf64",
   "metadata": {},
   "source": [
    "1 . Primero, ingresa el esqueleto de la función `main()`:"
   ]
  },
  {
   "cell_type": "code",
   "execution_count": null,
   "id": "c77cf08f",
   "metadata": {},
   "outputs": [],
   "source": [
    "#include <iostream>\n",
    "using namespace std;\n",
    "int main()\n",
    "{\n",
    "    return 0;\n",
    "}"
   ]
  },
  {
   "cell_type": "markdown",
   "id": "cc4c6fde",
   "metadata": {},
   "source": [
    "2 . En la función `main()`, declara una variable `int`, `i`, que inicialice en `12345`: "
   ]
  },
  {
   "cell_type": "code",
   "execution_count": null,
   "id": "81930990",
   "metadata": {},
   "outputs": [],
   "source": [
    "int i = 12345;"
   ]
  },
  {
   "cell_type": "markdown",
   "id": "bcb4304a",
   "metadata": {},
   "source": [
    "3 . Declara un puntero a la variable `int` `p` y inicializa para que apunta a `int`:\n"
   ]
  },
  {
   "cell_type": "code",
   "execution_count": null,
   "id": "49833b89",
   "metadata": {},
   "outputs": [],
   "source": [
    "int *p = &i;"
   ]
  },
  {
   "cell_type": "markdown",
   "id": "34b0cb81",
   "metadata": {},
   "source": [
    "4 . Muestra el valor del puntero y la dirección de la variable `int`:\n"
   ]
  },
  {
   "cell_type": "code",
   "execution_count": null,
   "id": "4e093c7f",
   "metadata": {},
   "outputs": [],
   "source": [
    "cout << \"p = \" << p << \", &i = \" << &i << endl;"
   ]
  },
  {
   "cell_type": "markdown",
   "id": "4bd06b8e",
   "metadata": {},
   "source": [
    "Las direcciones hexadecimales específicas impresas pueden cambiar de un compilador a otro y de una ejecución a otra, pero el punto es que los dos números son iguales; es decir, el puntero apunta a `int`. \n"
   ]
  },
  {
   "cell_type": "markdown",
   "id": "c9528c63",
   "metadata": {},
   "source": [
    "5 . Muestra el valor de la variable `int`, `i`: \n"
   ]
  },
  {
   "cell_type": "code",
   "execution_count": null,
   "id": "399ee7fc",
   "metadata": {},
   "outputs": [],
   "source": [
    "cout << \"i = \" << i << endl;"
   ]
  },
  {
   "cell_type": "markdown",
   "id": "bf1fac20",
   "metadata": {},
   "source": [
    "6 . Usa el operador `*` para desreferenciar el puntero, produciendo el `int` apuntado. Luego, agregue `2` al valor y guárdelo nuevamente: \n"
   ]
  },
  {
   "cell_type": "code",
   "execution_count": null,
   "id": "a52ed7cf",
   "metadata": {},
   "outputs": [],
   "source": [
    "*p = *p + 2;"
   ]
  },
  {
   "cell_type": "markdown",
   "id": "68465e8e",
   "metadata": {},
   "source": [
    "7 . Finalmente, imprima el valor para demostrar que agregar `2` al puntero desreferenciado también agregó `2` al `int`: \n"
   ]
  },
  {
   "cell_type": "code",
   "execution_count": null,
   "id": "6b5a45c9",
   "metadata": {},
   "outputs": [],
   "source": [
    "cout << \"i = \" << i << endl;"
   ]
  },
  {
   "cell_type": "markdown",
   "id": "1dd6fcb4",
   "metadata": {},
   "source": [
    "8 . Compila y ejecuta el programa."
   ]
  },
  {
   "cell_type": "code",
   "execution_count": null,
   "id": "10539b4e",
   "metadata": {},
   "outputs": [],
   "source": [
    "#include <iostream>\n",
    "using namespace std;\n",
    "int main()\n",
    "{\n",
    "    int i = 12345;\n",
    "    int *p = &i;\n",
    "    cout << \"p = \" << p << \", &i = \" << &i << endl;\n",
    "    \n",
    "    cout << \"i = \" << i << endl;\n",
    "    *p = *p + 2;\n",
    "    cout << \"i = \" << i << endl;\n",
    "    \n",
    "    return 0;\n",
    "}"
   ]
  },
  {
   "cell_type": "markdown",
   "id": "cadd376e",
   "metadata": {},
   "source": [
    "Las direcciones hexadecimales que se muestran en este resultado pueden ser diferentes en tu ejecución de la mía. Eso se espera. Lo importante es que las dos direcciones serán la misma. Después de asignar un nuevo valor al puntero desreferenciado, el valor de int cambió, también como se esperaba."
   ]
  },
  {
   "cell_type": "markdown",
   "id": "267ab34c",
   "metadata": {},
   "source": [
    "### Ejemplo: Desreferenciar nullptr \n",
    "\n",
    "La desreferenciación de `nullptr` provoca un error en el tiempo de ejecución y detiene el programa. Desreferenciar `nullptr` no es algo que un programador haga deliberadamente. Es algo que sucede por accidente cuando alguna ruta de ejecución a través del programa no inicializa el puntero a una dirección de máquina válida antes de que se use el puntero. \n",
    "\n",
    "Inicializar cada puntero a `nullptr` produce un mensaje de error particular, mientras que desreferenciar a un puntero no inicializado puede causar errores más sutiles. \n",
    "\n",
    "Aquí hay algunos pasos que puede realizar para ver esto en acción:\n"
   ]
  },
  {
   "cell_type": "markdown",
   "id": "7e8ff7e4",
   "metadata": {},
   "source": [
    "1 . Escribe el siguiente programa: "
   ]
  },
  {
   "cell_type": "code",
   "execution_count": null,
   "id": "a59c1562",
   "metadata": {},
   "outputs": [],
   "source": [
    "#include <iostream>\n",
    "using namespace std;\n",
    "int main()\n",
    "\n",
    "{\n",
    "    int *p1 = nullptr;\n",
    "    cout << \"p1 = \" << p1 << endl;\n",
    "    *p1 = 22;\n",
    "    return 0;\n",
    "}"
   ]
  },
  {
   "cell_type": "markdown",
   "id": "f627921e",
   "metadata": {},
   "source": [
    "¿Qué sucede en la ejecución ? Si estás utilizando un compilador en línea y el compilador en línea en particular utilizado no muestra un mensaje de error, prueba con un compilador diferente. \n"
   ]
  },
  {
   "cell_type": "markdown",
   "id": "3df28fd0",
   "metadata": {},
   "source": [
    "### Punteros a arreglos \n",
    "\n",
    "Los arreglos y los punteros son casi indistinguibles entre sí en C++. Un puntero al comienzo de un arreglo, la dirección del primer elemento y el nombre del arreglo significan lo mismo. \n",
    "\n",
    "Los elementos del arreglo son variables. El operador `&` se puede usar para obtener la dirección de un elemento del arreglo para asignarlo a un puntero. La expresión `p = &a[2]`,  actualiza `p` para apuntar a la tercera entrada del arreglo `a` (recuerda, los arreglos comienzan desde cero). \n",
    "\n",
    "Un puntero funciona como un arreglo en C++. Esto puede ser subscripto como un arreglo. Si `p` apunta a `a[2]`, entonces la expresión `p[3]` busca la sexta entrada en el arreglo (es decir, la que está en `a[5]`). \n",
    "\n"
   ]
  },
  {
   "cell_type": "markdown",
   "id": "f8d6c88a",
   "metadata": {},
   "source": [
    "### Ejemplo: Punteros a arreglos \n",
    "\n",
    "En este sencillo ejemplo, configuramos un puntero para que apunte a un elemento el arreglo y probaremos que apunta al valor esperado. Tu suscribes un puntero y verás que produce el elemento del arreglo esperado. \n",
    "Recuerda que los arreglos comienzan en cero en C++, por lo que `a[5]` es el sexto elemento. \n",
    "\n",
    "Estos son los pasos para completar el ejercicio: \n"
   ]
  },
  {
   "cell_type": "markdown",
   "id": "05057ac6",
   "metadata": {},
   "source": [
    "1 .Ingresa la función esqueleto `main()`, de la siguiente manera: "
   ]
  },
  {
   "cell_type": "code",
   "execution_count": null,
   "id": "7d2e0b44",
   "metadata": {},
   "outputs": [],
   "source": [
    "#include <iostream>\n",
    "using namespace std;\n",
    "int main()\n",
    "{\n",
    "    return 0;\n",
    "}"
   ]
  },
  {
   "cell_type": "markdown",
   "id": "7d59f9b1",
   "metadata": {},
   "source": [
    "2 . Siguiendo la llave de apertura de `main()`, declara un arreglo de `7` `ints` llamado `a`, e inicializalo. Luego, declara un puntero a `int` llamado `p`, y configúrelo en `nullptr` para que sepamos que no tiene una dirección conocida: \n"
   ]
  },
  {
   "cell_type": "code",
   "execution_count": null,
   "id": "95262c9b",
   "metadata": {},
   "outputs": [],
   "source": [
    "int a[7]{ 1, 3, 5, 4, 2, 9, -1 };\n",
    "int *p = nullptr;"
   ]
  },
  {
   "cell_type": "markdown",
   "id": "d6950bd0",
   "metadata": {},
   "source": [
    "3 . Ahora, establece `p` en la dirección de `a[2]` usando el operador `& address-of` para conocer la dirección del elemento del arreglo: \n"
   ]
  },
  {
   "cell_type": "code",
   "execution_count": null,
   "id": "fdd8ad6a",
   "metadata": {},
   "outputs": [],
   "source": [
    "p = &a[2];"
   ]
  },
  {
   "cell_type": "markdown",
   "id": "f44215d6",
   "metadata": {},
   "source": [
    "4 . Muestra el puntero desreferenciado, `*p`, y el valor de `a[2]` para ver que el puntero apunta realmente a `a[2]`: \n"
   ]
  },
  {
   "cell_type": "code",
   "execution_count": null,
   "id": "f5df18f8",
   "metadata": {},
   "outputs": [],
   "source": [
    "cout << \"*p = \" << *p << \", a[2] = \" << a[2] << endl;"
   ]
  },
  {
   "cell_type": "markdown",
   "id": "499366ab",
   "metadata": {},
   "source": [
    "5 . A continuación, genera `p[3]` y `a[5]`. Esto muestra que los punteros se pueden subscribir como arreglos, y que `p[3]` apunta al mismo valor que `a[5]`: \n",
    "\n"
   ]
  },
  {
   "cell_type": "code",
   "execution_count": null,
   "id": "ddf28249",
   "metadata": {},
   "outputs": [],
   "source": [
    "cout << \"p[3] = \" << p[3] << \", a[5] = \" << a[5] << endl;"
   ]
  },
  {
   "cell_type": "markdown",
   "id": "fb9e0888",
   "metadata": {},
   "source": [
    "6 . El programa completo se ve así: \n",
    " "
   ]
  },
  {
   "cell_type": "code",
   "execution_count": null,
   "id": "5227abe3",
   "metadata": {},
   "outputs": [],
   "source": [
    "#include <iostream>\n",
    "using namespace std;\n",
    "int main()\n",
    "{\n",
    "    int a[7] {1, 3, 5, 4, 2, 9, -1};\n",
    "    int * p = nullptr;\n",
    "    \n",
    "    p = & a[2];\n",
    "    cout << \"*p = \" << * p << \", a[2] = \" << a[2] << endl;\n",
    "    cout << \"p[3] = \" << p[3] << \", a[5] = \" << a[5] << endl;\n",
    "    \n",
    "    return 0;\n",
    "}"
   ]
  },
  {
   "cell_type": "markdown",
   "id": "61ab53bc",
   "metadata": {},
   "source": [
    "7 . Compilar y ejecutar el programa."
   ]
  },
  {
   "cell_type": "markdown",
   "id": "1759e459",
   "metadata": {},
   "source": [
    "### Aritmética de punteros \n",
    "\n",
    "C++ convierte el nombre de un arreglo en un puntero `a[0]`, la primera entrada del arreglo. El enunciado `p = a`; donde `a` es un arreglo, actualiza `p` para que apunte a la primera entrada en `a`. \n",
    "\n",
    "El programa puede agregar uno a un puntero. Si el puntero apunta a un arreglo, el resultado de `p+1` es un puntero al siguiente elemento del arreglo. El valor de dirección hexadecimal del puntero cambia según el tamaño en bytes de un elemento del arreglo. \n",
    "\n",
    "El programa puede agregar el valor de cualquier expresión integral a un puntero, lo que produce un puntero que avanza esa cantidad de elementos. Si `p` es un puntero y `k` es un `int`, entonces la expresión de puntero `p+k` es un puntero del mismo tipo que `p`. \n",
    "\n",
    "El programa puede restar un puntero de otro si apuntan al mismo arreglo. El resultado es el número de elementos del arreglo entre los dos punteros. El resultado de restar punteros no se puede interpretar si los dos punteros no apuntan al mismo arreglo. \n",
    "\n",
    "El programa puede comparar dos punteros si apuntan al mismo arreglo, utilizando cualquiera de los operadores relacionales (como `==, !=, <, >, <=` y `>=`). Si los punteros apuntan a arreglos diferentes, se produce una respuesta sin sentido. \n"
   ]
  },
  {
   "cell_type": "markdown",
   "id": "b2034024",
   "metadata": {},
   "source": [
    "### Ejemplo: Aritmética de punteros \n",
    "\n",
    "En este ejemplo demuestra cómo funcionan la aritmética de punteros y los operadores relacionales de punteros, y también te familiariza con la interpretación de expresiones de punteros.\n",
    "\n",
    "Estos son los pasos para completar el ejercicio: \n"
   ]
  },
  {
   "cell_type": "markdown",
   "id": "0d3b9b22",
   "metadata": {},
   "source": [
    "1.Ingresa a la función esqueleto `main()`. Puedes ejecutar el programa después de cada paso, o esperar hasta que esté todo ingresado para ejecutarlo: \n"
   ]
  },
  {
   "cell_type": "code",
   "execution_count": null,
   "id": "bd800250",
   "metadata": {},
   "outputs": [],
   "source": [
    "#include <iostream>\n",
    "using namespace std;\n",
    "int main()\n",
    "{\n",
    "    return 0;\n",
    "}"
   ]
  },
  {
   "cell_type": "markdown",
   "id": "d8d29b63",
   "metadata": {},
   "source": [
    "2 .  Siguiendo la llave de apertura de `main()`, declara un arreglo de cinco enteros llamados `numbers`. Declara un puntero a `int` llamado `pint` e inicialícelo a `numbers`. Declara otro puntero a `int` llamado `p2` e inicializarlo para que apunte a `numbers[3]`: \n"
   ]
  },
  {
   "cell_type": "code",
   "execution_count": null,
   "id": "72c8eebc",
   "metadata": {},
   "outputs": [],
   "source": [
    "int numbers[5]{ 0, 100, 200, 300, 400 };\n",
    "int* pint = numbers;\n",
    "int* p2 = &numbers[3];"
   ]
  },
  {
   "cell_type": "markdown",
   "id": "52d43f85",
   "metadata": {},
   "source": [
    "3 . A continuación, genera el valor de `pint`, el valor de la expresión de puntero `pint+1` y `sizeof(int)`, que te indica cuántos bytes de memoria ocupa un `int` en esta máquina. Aunque los valores hexadecimales impresos para punteros normalmente no son interpretables por seres humanos, verás que los dos números hexadecimales impresos difieren `sizeof(int)`. Agregar `1` a un puntero agrega el tamaño del tipo apuntado:\n"
   ]
  },
  {
   "cell_type": "code",
   "execution_count": null,
   "id": "ac1e7f3d",
   "metadata": {},
   "outputs": [],
   "source": [
    "cout << \"pint = \" << pint << \", pint+1 = \" << pint+1 << \", sizeof(int) = \" << sizeof(int) << endl;"
   ]
  },
  {
   "cell_type": "markdown",
   "id": "67d58c88",
   "metadata": {},
   "source": [
    "4 . Muestra que la expresión `*(pint+1)` y el valor del puntero  subscripto, `pint[1]` son lo mismo. Luego, genera `*(pint+4)` y `pint[4]`, que también son iguales:"
   ]
  },
  {
   "cell_type": "code",
   "execution_count": null,
   "id": "4e570ceb",
   "metadata": {},
   "outputs": [],
   "source": [
    "cout << \"*(pint+1) = \" << *(pint+1) << \", pint[1] = \" << pint[1] << endl;\n",
    "\n",
    "cout << \"*(pint+4) = \" << *(pint+4) << \", pint[4] = \" << pint[4] << endl;"
   ]
  },
  {
   "cell_type": "markdown",
   "id": "b895a67d",
   "metadata": {},
   "source": [
    "5 . Muestra la expresión del puntero `p2 - pint`. La diferencia debe imprimirse como `3`: \n"
   ]
  },
  {
   "cell_type": "code",
   "execution_count": null,
   "id": "19cf68b8",
   "metadata": {},
   "outputs": [],
   "source": [
    "cout << \"p2 - pint = \" << p2 - pint << endl;"
   ]
  },
  {
   "cell_type": "markdown",
   "id": "342c04af",
   "metadata": {},
   "source": [
    "6 . Genera un par de comparaciones de punteros utilizando los operadores `== y >`. El manipulador de salida `boolalpha` hace que las expresiones de tipo `bool` se impriman como `true` o `false`. De lo contrario, se convierten a `int` y se imprimen como `1` o `0`. \n",
    "\n",
    "Además, los operadores de comparación tienen una precedencia de operador menor que el operador de salida, `<<`. Las expresiones de comparación deben estar entre paréntesis para evitar un error de compilación:"
   ]
  },
  {
   "cell_type": "code",
   "execution_count": null,
   "id": "36ec0dea",
   "metadata": {},
   "outputs": [],
   "source": [
    "cout << \"p2 == pint = \" << boolalpha << (p2 == pint) << endl;\n",
    "cout << \"p2 > pint = \" << boolalpha << (p2 > pint) << endl;"
   ]
  },
  {
   "cell_type": "markdown",
   "id": "3d2a949f",
   "metadata": {},
   "source": [
    "7 . El programa completo se ve así:\n"
   ]
  },
  {
   "cell_type": "code",
   "execution_count": null,
   "id": "2b1b0e74",
   "metadata": {},
   "outputs": [],
   "source": [
    "#include <iostream>\n",
    "using namespace std;\n",
    "int main()\n",
    "{\n",
    "    int numbers[5] {0, 100, 200, 300, 400};\n",
    "    int * pint = numbers;\n",
    "    int * p2 = & numbers[3];\n",
    "    cout << \"pint = \" << pint << \", pint+1 = \" << pint + 1 << \", sizeof(int) = \" << sizeof(int) << endl;\n",
    "\n",
    "    cout << \"*(pint+1) = \" << * (pint + 1) << \", pint[1] = \" << pint[1] << endl;\n",
    "    cout << \"*(pint+4) = \" << * (pint + 4) << \", pint[4] = \" << pint[4] << endl;\n",
    "\n",
    "    cout << \"p2 - pint = \" << p2 - pint << endl;\n",
    "    cout << \"p2 == pint = \" << boolalpha << (p2 == pint) << endl;\n",
    "    cout << \"p2 > pint = \" << boolalpha << (p2 > pint) << endl;\n",
    "    \n",
    "    return 0;\n",
    "}"
   ]
  },
  {
   "cell_type": "markdown",
   "id": "7a0ca6c8",
   "metadata": {},
   "source": [
    "8 . Compila y ejecuta el programa."
   ]
  },
  {
   "cell_type": "markdown",
   "id": "81f8ff28",
   "metadata": {},
   "source": [
    "Este es el resultado que esperábamos: `a[1] == *(pint + 1)` y `a[4] == *(pint + 4)`. Los punteros se comportan como arreglos en C++, y la resta de punteros funciona como se esperaba: `p2 -pint == 3`. Finalmente, los punteros se pueden comparar usando los seis operadores de comparación como se esperaba.\n"
   ]
  },
  {
   "cell_type": "markdown",
   "id": "a287e556",
   "metadata": {},
   "source": [
    "### Ejemplo: Punteros incrementales \n",
    "\n",
    "Este ejemplo pasamos un puntero a través de un arreglo e imprimimos cada elemento del arreglo. \n",
    "\n",
    "Estos son los pasos para completar el ejercicio: \n",
    "\n",
    "1 . Ingresa la función esqueleto `main()` nuevamente: \n"
   ]
  },
  {
   "cell_type": "code",
   "execution_count": null,
   "id": "fa714e24",
   "metadata": {},
   "outputs": [],
   "source": [
    "#include <iostream>\n",
    "using namespace std;\n",
    "int main()\n",
    "{\n",
    "    return 0;\n",
    "}"
   ]
  },
  {
   "cell_type": "markdown",
   "id": "cb18c9c6",
   "metadata": {},
   "source": [
    "2 . Siguiendo la llave de apertura de `main()`, declara un arreglo de cinco enteros llamado `a` e inicialícelo. Declara un puntero `int` llamado `p`. El código se ve así: \n"
   ]
  },
  {
   "cell_type": "code",
   "execution_count": null,
   "id": "c84f6667",
   "metadata": {},
   "outputs": [],
   "source": [
    "int a[5]{ 10, 20, 30, 40, 50 };\n",
    "int* p;"
   ]
  },
  {
   "cell_type": "markdown",
   "id": "961ca9d9",
   "metadata": {},
   "source": [
    "3 . Ahora ingresa un bucle `for` para iterar a través de cada elemento de `a` comenzando `p` en el primer elemento de `a`, que en C++ es `a[0]`. Incrementa `p` para que apunte a cada entrada. Para cuando `p` caiga al final de `a`, que es `a[5]`. Dentro del bucle, genera cada entrada. Observa en la expresión de salida que hay un espacio `(\"  \")` pero no `endl` al final, por lo que estos valores impresos aparecen en la misma línea. \n",
    "\n",
    "No olvides generar un `endl` al final del bucle.\n"
   ]
  },
  {
   "cell_type": "code",
   "execution_count": null,
   "id": "b8da1786",
   "metadata": {},
   "outputs": [],
   "source": [
    "for (p = &a[0]; p < &a[5]; p = p + 1)\n",
    "{\n",
    "    cout << *p << \" \";\n",
    "}\n",
    "    cout << endl;"
   ]
  },
  {
   "cell_type": "markdown",
   "id": "ed647823",
   "metadata": {},
   "source": [
    "4 . Escribe el programa completo"
   ]
  },
  {
   "cell_type": "code",
   "execution_count": null,
   "id": "4c76e670",
   "metadata": {},
   "outputs": [],
   "source": [
    "#include <iostream>\n",
    "using namespace std;\n",
    "int main()\n",
    "{\n",
    "    int a[5]{ 10, 20, 30, 40, 50 };\n",
    "    int* p;\n",
    "    for (p = &a[0]; p < &a[5]; p = p + 1)\n",
    "    {\n",
    "        cout << *p << \" \";\n",
    "        }\n",
    "        cout << endl;\n",
    "        return 0;\n",
    "}"
   ]
  },
  {
   "cell_type": "markdown",
   "id": "0904e5f5",
   "metadata": {},
   "source": [
    "5 . Compila y ejecuta el programa."
   ]
  },
  {
   "cell_type": "markdown",
   "id": "2d9c4545",
   "metadata": {},
   "source": [
    "### Refinando para el bucle for\n",
    "\n",
    "Este programa podría ser mejor. En este momento, está desordenado de varias maneras. El programa se basa en saber que el arreglo, `a`, tiene cinco elementos. Es peligroso depender de constantes numéricas porque, si luego se agregan más elementos  al arreglo `a`, el desarrollador debe recordar cambiar las constantes dondequiera que ocurran, y C++ no ofrece ayuda allí. \n",
    "\n",
    "Lo primero que debes cambiar es dejar que el inicializador establezca el tamaño de `a`. La declaración `int a[]{ 10, 20, 30, 40, 50 }`; dice que  se permita que el inicializador de `a` declare su tamaño. \n",
    "\n",
    "La segunda cosa a cambiar es el bucle `for`. El primer elemento de `a` se puede escribir como `&a[0]`, pero también se puede escribir simplemente como `a`, lo que parece más simple:\n",
    "\n",
    "```\n",
    "for (p = a; p < &a[5]; p = p + 1)\n",
    "```\n",
    "\n",
    "El final del bucle llega cuando `p` cae al final del arreglo `a`. Hay una manera de construir esta expresión de puntero sin conocer el tamaño de `a`. \n",
    "La expresión `sizeof(a)/sizeof(a[0])` significa tomar el tamaño de `a` en bytes y dividirlo por el tamaño de un elemento de `a`. El resultado es el número de elementos en `a`. Entonces, la condición de terminación es una expresión de puntero que apunta al primer byte después del final de `a`. Eso se ve así: \n",
    "\n",
    "```\n",
    "for (p = a; p < a + sizeof(a)/sizeof(a[0]); p = p + 1)\n",
    "``` \n",
    "\n",
    "Lo último que hay que cambiar es la expresión del paso del bucle `for`. Esto se escribió originalmente como `p = p + 1`, pero hay otro operador en C++ que hace lo mismo. Se llama operador de incremento de prefijo `++`. \n",
    "El operador de incremento de prefijo agrega uno al valor del puntero, guarda el resultado en la variable del puntero y luego produce el puntero incrementado. \n",
    "\n",
    "Además, hay un operador de incremento postfijo `++` , (`p++`), que funciona de manera un poco diferente. El operador de incremento de posfijo primero toma nota del valor del puntero antes de incrementarlo, agrega uno al puntero y guarda ese resultado en la variable del puntero y luego produce el valor guardado antes de incrementarlo. \n",
    "\n",
    "Hay operadores de decremento de prefijo y posfijo, que funcionan como sus primos `++`, excepto que restan uno del puntero. Entonces, la declaración for finalmente se ve así: \n",
    "\n",
    "```\n",
    "for (p = a; p < a + sizeof(a)/sizeof(a[0]); ++p)\n",
    "``` \n",
    "\n",
    "Esto parece el tipo de bucle `for` que encontrarás en el código comercial de C++. \n",
    "\n",
    "6 . Escribe el programa actualizado completo."
   ]
  },
  {
   "cell_type": "code",
   "execution_count": null,
   "id": "861168ff",
   "metadata": {},
   "outputs": [],
   "source": [
    "#include <iostream>\n",
    "using namespace std;\n",
    "int main()\n",
    "{\n",
    "    int a[]{ 10, 20, 30, 40, 50 };\n",
    "    int* p;\n",
    "    for (p = a; p < a + sizeof(a)/sizeof(a[0]); ++p)\n",
    "    {\n",
    "        cout << *p << \" \";\n",
    "    }\n",
    "    cout << endl;\n",
    "    return 0;\n",
    "}"
   ]
  },
  {
   "cell_type": "markdown",
   "id": "59f0342f",
   "metadata": {},
   "source": [
    "7 . Ejecuta el programa y compruebe por sí mismo que produce el mismo resultado que la versión anterior.\n"
   ]
  },
  {
   "cell_type": "markdown",
   "id": "c20d3015",
   "metadata": {},
   "source": [
    "El modismo de incrementar un puntero a través de los elementos de un arreglo es uno que se repite con frecuencia en C++. Hay muchas maneras de escribir este bucle `for`, algunas usando punteros y otras no."
   ]
  },
  {
   "cell_type": "markdown",
   "id": "da54f462",
   "metadata": {},
   "source": [
    "### Punteros a punteros \n",
    "\n",
    "Un puntero puede hacer referencia a otro puntero. Si `char* p` es un puntero a char, entonces `char** q = &p` es un puntero a un puntero a `char`. En este ejemplo, manipularemos un arreglo de punteros utilizando  puntero a un puntero.\n",
    "\n",
    "Aquí los pasos para completarlos:\n"
   ]
  },
  {
   "cell_type": "markdown",
   "id": "289be01d",
   "metadata": {},
   "source": [
    "1 . Escribe la  función esqueleto `main()`:"
   ]
  },
  {
   "cell_type": "code",
   "execution_count": null,
   "id": "bbd4fe97",
   "metadata": {},
   "outputs": [],
   "source": [
    "#include <iostream>\n",
    "using namespace std;\n",
    "int main()\n",
    "{\n",
    "    return 0;\n",
    "}"
   ]
  },
  {
   "cell_type": "markdown",
   "id": "2429f3c1",
   "metadata": {},
   "source": [
    "2 . Después de la llave de apertura de `main()`, declara un arreglo de cadenas de caracteres literales llamado `alphabet`. `alphabet` es un arreglo de punteros a `const char`: "
   ]
  },
  {
   "cell_type": "code",
   "execution_count": null,
   "id": "344073be",
   "metadata": {},
   "outputs": [],
   "source": [
    "char* alphabet[26]\n",
    "    {\n",
    "    \"alpha\",\n",
    "    \"bravo\",\n",
    "    \"charlie\",\n",
    "    \"delta\",\n",
    "    \"echo\",\n",
    "    \"foxtrot\"\n",
    "    }"
   ]
  },
  {
   "cell_type": "markdown",
   "id": "820b3694",
   "metadata": {},
   "source": [
    "3 .  A continuación, ingresa un bucle `for` para imprimir las entradas de `alphabet` hasta que el programa llegue a uno que sea igual a `nullptr`: \n"
   ]
  },
  {
   "cell_type": "code",
   "execution_count": null,
   "id": "0935294a",
   "metadata": {},
   "outputs": [],
   "source": [
    "for (char **p = alphabet; *p != nullptr; ++p)\n",
    "    {\n",
    "        cout << *p << \" \";\n",
    "    }\n",
    "    cout << endl;"
   ]
  },
  {
   "cell_type": "markdown",
   "id": "9d18dbec",
   "metadata": {},
   "source": [
    "La variable de inducción `p` es de tipo puntero a puntero a `char`. Ahora, `p` se establece inicialmente en `alphabet` (un arreglo de punteros a `char`) que el compilador convierte en un puntero a puntero a `char`. La condición de continuación del bucle `for` es si `*p` no es igual a `nullptr`. Al final de cada iteración, el puntero `p` se incrementa. Dentro del bucle `for` imprimimos `*p`, que es un puntero a `char`, seguido de un espacio.\n",
    "\n",
    "Al imprimir las entradas sin seguimiento `endl`, todas se imprimen en la misma línea.  El flujo de salida de C++ intenta imprimir un puntero a char como si fuera una cadena terminada en `nulo`. "
   ]
  },
  {
   "cell_type": "markdown",
   "id": "41a597d1",
   "metadata": {},
   "source": [
    "4 . El programa completo se ve así: "
   ]
  },
  {
   "cell_type": "code",
   "execution_count": null,
   "id": "78d8d2a6",
   "metadata": {},
   "outputs": [],
   "source": [
    "#include <iostream>\n",
    "using namespace std;\n",
    "int main()\n",
    "{\n",
    "char* alphabet[26]\n",
    "    {\n",
    "    \"alpha\",\n",
    "    \"bravo\",\n",
    "    \"charlie\",\n",
    "    \"delta\",\n",
    "    \"echo\",\n",
    "    \"foxtrot\"\n",
    "    };\n",
    "    for (char **p = alphabet; *p != nullptr; ++p)\n",
    "    {\n",
    "        cout << *p << \" \";\n",
    "    }\n",
    "    cout << endl;\n",
    "    return 0;\n",
    "}"
   ]
  },
  {
   "cell_type": "markdown",
   "id": "dd2ac218",
   "metadata": {},
   "source": [
    "5 .  Compila y ejecuta el programa. ¿Qué sucede aquí?."
   ]
  },
  {
   "cell_type": "code",
   "execution_count": null,
   "id": "8181a67e",
   "metadata": {},
   "outputs": [],
   "source": [
    "// Completa"
   ]
  },
  {
   "cell_type": "markdown",
   "id": "c7022522",
   "metadata": {},
   "source": [
    "\n",
    "6 . Elimina los mensajes de advertencia de tu código.\n"
   ]
  },
  {
   "cell_type": "markdown",
   "id": "42b1400d",
   "metadata": {},
   "source": [
    "Para hacer que estos mensajes de error desaparezcan, cambia el tipo de `alphabet` a `char const* alphabet[26]` y cambia el tipo de `p`, la variable de inducción del bucle `for` a `char const** p`."
   ]
  },
  {
   "cell_type": "markdown",
   "id": "69c42371",
   "metadata": {},
   "source": [
    "### Ejercicios\n",
    "\n",
    "1 .Escribe un programa que sume los elementos de un arreglo usando punteros.\n",
    "\n",
    "2 . Escribe un programa que use punteros para generar un `arreglo[n]` con un número pequeño de datos enteros entre `1` y `12`, ordenados ascendentemente y que los reporte.\n",
    "\n",
    "Sugerencia de diseño: genera los números al azar y los ordena.\n",
    "\n",
    "\n",
    "Ejemplo de salida: `2 5 6 9 10 12`\n",
    "\n",
    "3 . Ya resolvimos el problema anterior, los datos están ordenados; pero resulta que ahora los necesitamos descendentes (o sea en reversa); como hemos perdido tiempo, debemos reordenarlos en el\n",
    "modo más rápido posible usando punteros.\n",
    "\n",
    "Ejemplo de salida:\n",
    "\n",
    "```\n",
    "2 5 6 9 10 12\n",
    "12 10 9 6 5 2\n",
    "``` \n",
    "\n",
    "Sugerencia de diseño: Utiliza un solo `for()` y aplica la enseñanza de Cristo: `Los últimos serán\n",
    "los primeros` y viceversa."
   ]
  },
  {
   "cell_type": "code",
   "execution_count": null,
   "id": "e9eca819",
   "metadata": {},
   "outputs": [],
   "source": [
    "// Tus respuestas"
   ]
  }
 ],
 "metadata": {
  "kernelspec": {
   "display_name": "C++17",
   "language": "C++17",
   "name": "xcpp17"
  },
  "language_info": {
   "codemirror_mode": "text/x-c++src",
   "file_extension": ".cpp",
   "mimetype": "text/x-c++src",
   "name": "c++",
   "version": "17"
  }
 },
 "nbformat": 4,
 "nbformat_minor": 5
}
