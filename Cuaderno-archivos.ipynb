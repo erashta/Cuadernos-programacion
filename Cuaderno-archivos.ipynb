{
 "cells": [
  {
   "cell_type": "markdown",
   "id": "c8ac1463",
   "metadata": {},
   "source": [
    "### Archivos\n",
    "\n",
    "En C++, manejamos y organizamos archivos, carpetas y directorios. Podemos escribir archivos y mostrar los elementos en los archivos creados. ¿Qué es exactamente un archivo en C++?. \n",
    "\n",
    "Los archivos creados en C++ ayudan a almacenar datos en el disco duro y permanecen en el sistema para su uso posterior. Esto es diferente de los programas tradicionales, donde los datos u objetos que contienen datos se eliminan después de la finalización del programa para recuperar el espacio de memoria temporal asignado. Muchas veces, necesitamos qu los datos se almacenen de forma segura en el sistema, por lo que obtener elementos de un archivo requiere menos tiempo. \n"
   ]
  },
  {
   "cell_type": "markdown",
   "id": "4646aa63",
   "metadata": {},
   "source": [
    "#### Flujos\n",
    "\n",
    "Para que el usuario ingrese y proporcione detalles o valores, usamos flujos de entrada (input streams). Un flujo (stream) se refiere a un grupo de bytes a los que se puede acceder secuencialmente. \n",
    "Hay dos tipos diferentes de stream. \n",
    "\n",
    "Los **flujos de entrada** se utilizan para contener la entrada de un usuario dada desde un teclado. Por ejemplo, el usuario puede presionar cualquier tecla del teclado, incluso cuando no se le solicite. En una situación como esta, todas estas claves se guardan en el flujo de entrada y se usan más tarde cuando el propio programa lo requiere. \n",
    "\n",
    "El segundo tipo es un **flujo de salida** (output stream), que se utiliza para la salida a un monitor, archivo o impresora. Por ejemplo, supongamos que necesitas una impresión, pero la impresora está trabajando actualmente en otro documento, por lo que tus datos/archivo esperan su turno para ser entregados como salida. Para poder usar todas estas funcionalidades en tu código C++, debes incluir el archivo de encabezado `iostream` que proporciona al programa una jerarquía completa de clases (herencia múltiple) para hacer uso de todas las clases de E/S.\n",
    "\n",
    "C++ proporciona las siguientes clases para realizar la salida y entrada de caracteres a/desde archivos:\n",
    "\n",
    "- La clase `iostream` puede manejar flujos de entrada y salida. Es la clase base para todas las demás clases de flujo de E/S que usaremos.\n",
    "\n",
    "- La clase `istream` es para los flujos de entrada y esta clase se deriva de la clase `iostream`. El operador de extracción `(>>)` elimina valores del flujo creado cuando el usuario presiona las teclas (ya sea que se le solicite o no). También tiene funciones para operaciones de entrada como `get()` y `getline()`.\n",
    "\n",
    "\n",
    "- La clase `ostream` es para flujos de salida y esta clase se deriva de la clase `iostream`. El operador de inserción `(<<)` se usa para poner valores en el flujo para que se muestren en dispositivos de salida como monitores. También tiene funciones para operaciones de entrada como `put()` y `write()`.\n",
    "\n",
    "- La clase `fstream` puede manejar operaciones de entrada y salida relacionadas con la apertura y el cierre de archivos, como leer elementos particulares de un archivo o escribir en un archivo. Tiene varias funciones con una operatividad especial. \n",
    "\n",
    "\n",
    "- La clase `ifstream` maneja todas las operaciones relacionadas con la entrada de archivos y tiene varias funciones con operabilidad especial, como `get()`, `getline()`, `read()`, `seekg()` y `tellg()`.\n",
    "\n",
    "- La clase `ofstream` puede manejar operaciones de entrada relacionadas con la escritura en un archivo. Tiene varias funciones con operabilidad especial como `put()`, `write()`, `seekp()` y `tellp()`.\n",
    "\n",
    "- La clase `streambuf` se utiliza para administrar los flujos de entrada y salida a través de un puntero, que apunta al búfer.\n"
   ]
  },
  {
   "cell_type": "markdown",
   "id": "df84a2b7",
   "metadata": {},
   "source": [
    "Ya hemos usado objetos cuyos tipos eran estas clases: `cin` es un objeto de clase `istream` y cout es un objeto de clase `ostream`. Por lo tanto, ya hemos estado usando clases relacionadas con los flujos de archivos. Y de hecho, podemos usar los flujos de archivos de la misma manera que ya estamos acostumbrados a usar `cin` y `cout`, con la única diferencia de que tenemos que asociar estos flujos con archivos físicos.\n"
   ]
  },
  {
   "cell_type": "markdown",
   "id": "b0417859",
   "metadata": {},
   "source": [
    "#### Ejemplo"
   ]
  },
  {
   "cell_type": "code",
   "execution_count": null,
   "id": "7fc137d4",
   "metadata": {},
   "outputs": [],
   "source": [
    "#include <iostream>\n",
    "#include <fstream>\n",
    "using namespace std;\n",
    "int main()\n",
    "{\n",
    "    ofstream ofObj;\n",
    "    string linea1;\n",
    "    ofObj.open(\"archivo1.txt\");\n",
    "    \n",
    "    while (ofObj)\n",
    "    {\n",
    "        getline(cin, linea1);\n",
    "        if (linea1 == \"-1\")\n",
    "            break;\n",
    "        cout<< linea << endl;\n",
    "    }\n",
    "    ofObj.close();\n",
    "    ifstream ifObj;\n",
    "    ifObj.open(\"archivo1.txt\");\n",
    "    while (ifObj)\n",
    "    {\n",
    "        getline(ifObj, linea1);\n",
    "        cout << linea1 << endl;\n",
    "    }\n",
    "    ifObj.close();\n",
    "        return 0;\n",
    "}"
   ]
  },
  {
   "cell_type": "markdown",
   "id": "cd1ba2c2",
   "metadata": {},
   "source": [
    "En este código, usamos la clase `ofstream` y creamos un objeto  y un valor de cadena. Luego usamos el método `open` para acceder al archivo en modo abierto.  El texto ingresado se escribe en el archivo usando el objeto de clase `ifstream`.  Luego, el programa imprime el contenido del archivo recién escrito. Se recurre al método `close` para cerrar el archivo que habíamos abierto anteriormente.\n"
   ]
  },
  {
   "cell_type": "markdown",
   "id": "95fbdf68",
   "metadata": {},
   "source": [
    "### Operaciones de archivos \n",
    "\n",
    "Los principales pasos necesarios en C++ para el manejo de archivos son los siguientes: \n",
    "\n"
   ]
  },
  {
   "cell_type": "markdown",
   "id": "0f9e0292",
   "metadata": {},
   "source": [
    "#### Creación de un nuevo archivo "
   ]
  },
  {
   "cell_type": "code",
   "execution_count": null,
   "id": "d9749c1f",
   "metadata": {},
   "outputs": [],
   "source": [
    "#include <iostream>\n",
    "#include <fstream>\n",
    "\n",
    "using namespace std;\n",
    "\n",
    "int main()\n",
    "{\n",
    "    // completa \n",
    "\n",
    "    if(fs.is_open()==0)\n",
    "    {\n",
    "        cout<<\"No se puede abrir el archivo\";\n",
    "    }\n",
    "\n",
    "    fs.close();\n",
    "    return 0;\n",
    "}"
   ]
  },
  {
   "cell_type": "markdown",
   "id": "98792d31",
   "metadata": {},
   "source": [
    "En el programa anterior, creamos el objeto `fstream fs` y usamos el método `open()` para abrir un archivo usando el modo `ios::out`. Después de eso, usamos el método `is_open()` para verificar si el archivo se abrió con éxito o no. Este método devuelve 1 si se abre el archivo,  de lo contrario, devuelve 0 cuando no puede abrir el archivo.\n",
    "\n",
    "El método `close()` se usa para cerrar el archivo que está abierto en la memoria."
   ]
  },
  {
   "cell_type": "code",
   "execution_count": null,
   "id": "fb89341c",
   "metadata": {},
   "outputs": [],
   "source": [
    "// Otra forma\n",
    "\n",
    "#include <iostream>\n",
    "#include <fstream> // \n",
    "using namespace std;\n",
    "\n",
    "int main()\n",
    "{\n",
    "    fstream archivo1;\n",
    "    archivo.open(\"archivo1\",ios::out);\n",
    "    if(!archivo1)\n",
    "    {\n",
    "        cout<<\"El archivo no fue creado\";\n",
    "    }\n",
    "    else\n",
    "    {\n",
    "        cout<<\"El archivo ha sido creado\";\n",
    "        archivo1.close();\n",
    "    }\n",
    "    return 0;\n",
    "}"
   ]
  },
  {
   "cell_type": "markdown",
   "id": "e2a3f0d2",
   "metadata": {},
   "source": [
    "En este código, usamos la clase `fstream` y creamos un objeto de esa clase. Usamos el método `open` para acceder al archivo en modo abierto. Luego, el programa imprime el mensaje `El archivo ha sido creado`. \n",
    "\n",
    "Se recurre al método `close` para cerrar el archivo que abrimos anteriormente.\n"
   ]
  },
  {
   "cell_type": "markdown",
   "id": "9e03ead6",
   "metadata": {},
   "source": [
    "#### Abrir un archivo \n",
    "\n",
    "Este es el primer paso que se da hacia la administración de archivos en C++ y se puede hacer pasando el nombre de archivo en el constructor cuando se crea un objeto o usando el método `open()`. La sintaxis en general para abrir un archivo es la siguiente: \n"
   ]
  },
  {
   "cell_type": "code",
   "execution_count": null,
   "id": "b5a0e466",
   "metadata": {},
   "outputs": [],
   "source": [
    "void open(const char* ourFileName, ios::openMode mode);  // funcion open()"
   ]
  },
  {
   "cell_type": "markdown",
   "id": "27f0032d",
   "metadata": {},
   "source": [
    "Ahora, se pueden activar varios [modos](https://gist.github.com/kapumota/404263d6d6453960c54420d0bced86cd)  en C++. \n",
    "\n",
    "\n",
    "\n",
    "También podemos combinar diferentes modos de apertura separando cada uno de ellos mediante el símbolo |, llamado símbolo lógico `or`. \n",
    "\n",
    "Por ejemplo, si queremos abrir el archivo `ejemplo.bin` en modo binario para agregar datos, podemos hacerlo mediante la siguiente llamada a la función miembro `open`:\n"
   ]
  },
  {
   "cell_type": "code",
   "execution_count": null,
   "id": "b9d092e2",
   "metadata": {},
   "outputs": [],
   "source": [
    "ofstream archivo1;\n",
    "archivo1.open (\"ejemplo.bin\", ios::out | ios::app | ios::binary);"
   ]
  },
  {
   "cell_type": "markdown",
   "id": "a54dee48",
   "metadata": {},
   "source": [
    "Cada una de las funciones miembro `open` de las clases `ofstream`, `ifstream` y `fstream` tiene un modo predeterminado que se usa si el archivo se abre sin un segundo argumento:\n",
    "\n",
    "- `ofstream ios::out`\n",
    "- `ifstream ios::in`\n",
    "- `fstream ios::in | ios::out`"
   ]
  },
  {
   "cell_type": "markdown",
   "id": "29502dc8",
   "metadata": {},
   "source": [
    "Para las clases `ifstream` y `ofstream`, `ios::in` y `ios::out` se asumen automática y respectivamente, incluso si se pasa un modo que no los incluye como segundo argumento a la función miembro `open`.\n",
    "\n",
    "Para `fstream`, el valor predeterminado solo se aplica si se llama a la función sin especificar ningún valor para el parámetro de modo. Si se llama a la función con cualquier valor en ese parámetro, el modo predeterminado se anula, no se combina.\n",
    "\n",
    "Los flujos de archivos abiertos en modo binario realizan operaciones de entrada y salida independientemente de cualquier consideración de formato. Los archivos no binarios se conocen como archivos de texto y pueden producirse algunas traducciones debido al formato de algunos caracteres especiales (como los caracteres de nueva línea y de retorno de carro).\n",
    "\n",
    "Dado que la primera tarea que se realiza en un flujo de archivos generalmente es abrir un archivo, estas tres clases incluyen un constructor que llama automáticamente a la función de miembro `open` y tiene exactamente los mismos parámetros que este miembro. Por lo tanto, también podríamos haber declarado el objeto `archivo1` anterior y realizar la misma operación de apertura el el ejemplo anterior escribiendo:"
   ]
  },
  {
   "cell_type": "code",
   "execution_count": null,
   "id": "cc546526",
   "metadata": {},
   "outputs": [],
   "source": [
    "ofstream archivo1(\"ejemplo.bin\", ios::out | ios::app | ios::binary);\n"
   ]
  },
  {
   "cell_type": "markdown",
   "id": "4d0d685b",
   "metadata": {},
   "source": [
    "Para verificar si se abrió correctamente un archivo, puedes utilizar el miembro `is_open`. Esta función miembro devuelve un valor `bool` de `true` en el caso de que el objeto de flujo esté asociado con un archivo abierto, o `false` en caso contrario:"
   ]
  },
  {
   "cell_type": "code",
   "execution_count": null,
   "id": "56ca69da",
   "metadata": {},
   "outputs": [],
   "source": [
    "if (archivo1.is_open()) // ok, proceda con la salida "
   ]
  },
  {
   "cell_type": "markdown",
   "id": "473462c7",
   "metadata": {},
   "source": [
    "#### Ejemplo: abrir un archivo"
   ]
  },
  {
   "cell_type": "code",
   "execution_count": null,
   "id": "cc5dfbfc",
   "metadata": {},
   "outputs": [],
   "source": [
    "#include <iostream>\n",
    "#include <fstream>\n",
    "\n",
    "using namespace std;\n",
    "\n",
    "int main()\n",
    "{\n",
    "    // completa\n",
    "\n",
    "    if(fs.is_open()==0)\n",
    "    {\n",
    "        cout<<\"No se puede abrir el archivo\";\n",
    "    }\n",
    "\n",
    "    fs.close();\n",
    "    return 0;\n",
    "}"
   ]
  },
  {
   "cell_type": "markdown",
   "id": "3e8c0785",
   "metadata": {},
   "source": [
    "#### Ejemplo"
   ]
  },
  {
   "cell_type": "code",
   "execution_count": null,
   "id": "4d97d6f8",
   "metadata": {},
   "outputs": [],
   "source": [
    "#include <iostream>\n",
    "#include <fstream> // trabajando con archivos de texto\n",
    "using namespace std;\n",
    "\n",
    "int main()\n",
    "\n",
    "{\n",
    "\n",
    "    ofstream ofObj;\n",
    "    string linea1;\n",
    "    ofObj.open(\"archivos1.txt\");\n",
    "    while (ofObj)\n",
    "    {\n",
    "        getline(cin, linea1);\n",
    "        if (linea1 == \"-1\")\n",
    "            break;\n",
    "        cout<< linea1 << endl;\n",
    "    }\n",
    "    ofObj.close();\n",
    "    ifstream ifObj;\n",
    "    ifObj.open(\"archivos1.txt\");\n",
    "    while (ifObj)\n",
    "    {\n",
    "        getline(ifObj, linea1);\n",
    "            cout << linea1 << endl;\n",
    "    }\n",
    "    ifObj.close();\n",
    "        return 0;\n",
    "}"
   ]
  },
  {
   "cell_type": "markdown",
   "id": "b7d6a511",
   "metadata": {},
   "source": [
    "En este código, usamos la clase `ofstream` y creamos un objeto de esa clase y una cadena. Luego usamos el método `open` para acceder alarchivo en modo abierto. El texto ingresado se escribe en el archivo usando el objeto de clase `ifstream`. Luego, el programa imprime el contenido del archivo recién escrito. \n",
    "\n",
    "Se recurre al método `close` para cerrar el archivo que habíamos abierto anteriormente.\n",
    "\n"
   ]
  },
  {
   "cell_type": "markdown",
   "id": "f8c39020",
   "metadata": {},
   "source": [
    "#### Escribir en un archivo\n",
    "\n",
    "Esto se hace usando las clases `ofstream` o `fstream` para ingresar datos en los archivos creados o abiertos. "
   ]
  },
  {
   "cell_type": "code",
   "execution_count": null,
   "id": "dd88df49",
   "metadata": {},
   "outputs": [],
   "source": [
    "#include<iostream>                         \n",
    "#include<fstream>                            \n",
    "using namespace std;\n",
    "\n",
    "int main() {\n",
    "    fstream archivo1;                       \n",
    "    // completa ...\n",
    "    return 0;\n",
    "}"
   ]
  },
  {
   "cell_type": "markdown",
   "id": "600d0951",
   "metadata": {},
   "source": [
    "Aquí tenemos creamos un objeto de la clase `fstream` llamado `archivo1`. En el objeto creado anteriormente, tenemos que aplicar la función `open()` para crear un nuevo archivo, y el modo se establece en `out`, lo que nos permitirá escribir en el archivo. \n",
    "\n",
    "Usamos la declaración `if` para verificar la creación del archivo. Escribimos los datos en el archivo creado. Usamos la función `close()` en el objeto para cerrar el archivo."
   ]
  },
  {
   "cell_type": "markdown",
   "id": "e745e039",
   "metadata": {},
   "source": [
    "#### Ejercicio \n",
    "\n",
    "Escribe el programa  a partir de las siguiente indicaciones.\n",
    "    \n",
    "1. Incluye el archivo de encabezado `iostream` en el programa para usar sus funciones.\n",
    "2. Incluye el archivo de encabezado `fstream` en el programa para usar sus clases.\n",
    "3. Incluye  el espacio de nombres estándar en el programa para usar sus clases sin llamarlo.\n",
    "4. Llama a la función `main()`. La lógica del programa debe agregarse dentro del cuerpo de esta función.\n",
    "5. Crea una instancia de la clase `fstream` y asígnala el nombre `archivo1`.\n",
    "6. Usa la función `open()` para crear un nuevo archivo llamado `archivo1.txt`. El archivo se abrirá en el modo `out` para escribir en él.\n",
    "7. Usa una declaración `if` para verificar si el archivo no se ha abierto.\n",
    "8. Escribe el texto para imprimir en la consola si el archivo no está abierto.\n",
    "9. Termina del cuerpo de la instrucción `if`.\n",
    "10. Usa una declaración `else` para indicar qué hacer si se creó el archivo.\n",
    "11. Escribe texto para imprimir en la consola si se creó el archivo.\n",
    "12. Escribe un texto en el archivo creado.\n",
    "13. Utiliza la función `close()` para cerrar el archivo.\n",
    "14. Finaliza el cuerpo de la sentencia `else`.\n",
    "15. El programa debe retornar el valor al completarse con éxito.\n",
    "16. Finaliza del cuerpo de la función `main()`."
   ]
  },
  {
   "cell_type": "code",
   "execution_count": null,
   "id": "47958f73",
   "metadata": {},
   "outputs": [],
   "source": [
    "// Completa"
   ]
  },
  {
   "cell_type": "markdown",
   "id": "5c91cc79",
   "metadata": {},
   "source": [
    "#### Lectura de un archivo\n",
    "\n",
    "Se usan las clases `ifstream` o `fstream` para obtener datos de los archivos creados o abiertos. \n"
   ]
  },
  {
   "cell_type": "code",
   "execution_count": null,
   "id": "213d439b",
   "metadata": {},
   "outputs": [],
   "source": [
    "#include <iostream>\n",
    "#include <fstream>\n",
    "\n",
    "using namespace std;\n",
    "\n",
    "int main()\n",
    "{\n",
    "    fstream fs;\n",
    "    char c;\n",
    "\n",
    "    fs.open(\"data.txt\", ios::in);\n",
    "\n",
    "    if(fs.is_open()==0)\n",
    "    {\n",
    "        cout<<\"No se puede abrir el archivo\";\n",
    "    }\n",
    "    else\n",
    "    {\n",
    "        while(!fs.eof())\n",
    "        {\n",
    "            fs.get(c);\n",
    "            cout<<c;\n",
    "        }\n",
    "        fs.close();\n",
    "    }\n",
    "    return 0;\n",
    "}"
   ]
  },
  {
   "cell_type": "markdown",
   "id": "17abf24d",
   "metadata": {},
   "source": [
    "En el programa anterior, hemos ejecutado un ciclo `while` infinito para leer todos los caracteres del archivo hasta que obtengamos el final del carácter del archivo usando el método `eof()`. \n",
    "Leemos caracteres individuales del archivo en una variable de carácter `c` usando el método `get()` y lo imprimimos en la pantalla. El ciclo `while` termina cuando obtenemos el carácter `eof` (CTRL + D) del archivo."
   ]
  },
  {
   "cell_type": "markdown",
   "id": "c4e779d4",
   "metadata": {},
   "source": [
    "#### Ejercicio\n",
    "\n",
    "Utiliza un ciclo `while` que usa la función `getline()` para leer una línea del archivo en una variable de cadena. Imprimimos la línea junto con el carácter de nueva línea usando la instrucción `endl` en la pantalla. \n",
    "\n",
    "El ciclo `while` termina cuando la función `getline()` llega al final del archivo."
   ]
  },
  {
   "cell_type": "code",
   "execution_count": null,
   "id": "552f84e6",
   "metadata": {},
   "outputs": [],
   "source": [
    "// Completa"
   ]
  },
  {
   "cell_type": "markdown",
   "id": "ad807148",
   "metadata": {},
   "source": [
    "#### Ejercicio \n",
    "\n",
    "Escribe el programa  a partir de las siguiente indicaciones.\n",
    "    \n",
    "1. Incluye el archivo de encabezado `iostream` en el programa para usar sus funciones.\n",
    "2. Incluye el archivo de encabezado `fstream` en el programa para usar sus clases.\n",
    "3. Incluye  el espacio de nombres estándar en el programa para usar sus clases sin llamarlo.\n",
    "4. Llama a la función `main()`. La lógica del programa debe agregarse dentro del cuerpo de esta función.\n",
    "5. Crea una instancia de la clase `fstream` y asígnala el nombre `archivo1`.\n",
    "6. Usa la función `open()` para crear un nuevo archivo llamado `archivo1.txt`. El archivo se abrirá en el modo `in` para escribir en él.\n",
    "7. Usa una declaración `if` para verificar si el archivo no se ha abierto.\n",
    "8. Escribe el texto para imprimir en la consola si el archivo no está abierto.\n",
    "9. Termina del cuerpo de la instrucción `if`.\n",
    "10. Usa una declaración `else` para indicar qué hacer si se creó el archivo.\n",
    "11. Crea una variable char llamada `ch`.\n",
    "12. Crea un bucle `while` para iterar sobre el contenido del archivo.\n",
    "13. Escribe/almacena el contenido del archivo en la variable `ch`.\n",
    "14. Usa una condición `if` y la función `eof()`, es decir, el final del archivo, para asegurarse de que el compilador siga leyendo el archivo si no se llega al final.\n",
    "15. Usa una declaración `break` para dejar de leer el archivo una vez que se llega al final.\n",
    "16. Imprime el contenido de la variable `ch` en la consola.\n",
    "17. Finaliza el cuerpo `while`.\n",
    "18. Finaliza el cuerpo de la sentencia `else`.\n",
    "18. Llama a la función `close()` para cerrar el archivo.\n",
    "19. El programa debe retornar valor al completarse con éxito.\n",
    "20. Finaliza el cuerpo de la función `main()`."
   ]
  },
  {
   "cell_type": "code",
   "execution_count": null,
   "id": "13f76c9c",
   "metadata": {},
   "outputs": [],
   "source": [
    "// Completa"
   ]
  },
  {
   "cell_type": "markdown",
   "id": "4a3f6ef3",
   "metadata": {},
   "source": [
    "#### Cambiar el nombre de un archivo\n"
   ]
  },
  {
   "cell_type": "code",
   "execution_count": null,
   "id": "9e607c97",
   "metadata": {},
   "outputs": [],
   "source": [
    "#include <iostream>\n",
    "#include <stdio.h>\n",
    "\n",
    "using namespace std;\n",
    "\n",
    "int main()\n",
    "{\n",
    "    rename(\"data1.txt\", \"data2.txt\");\n",
    "    printf(\"Archivo renombrado!\");\n",
    "    return 0;\n",
    "}"
   ]
  },
  {
   "cell_type": "markdown",
   "id": "dcb2924d",
   "metadata": {},
   "source": [
    "Nota: Antes de cambiar el nombre del archivo, asegúrate de que el archivo esté cerrado,de lo contrario, no se podrá cambiar el nombre."
   ]
  },
  {
   "cell_type": "markdown",
   "id": "41571a34",
   "metadata": {},
   "source": [
    "#### Eliminar un archivo"
   ]
  },
  {
   "cell_type": "code",
   "execution_count": null,
   "id": "2cb4665c",
   "metadata": {},
   "outputs": [],
   "source": [
    "#include <iostream>\n",
    "#include <stdio.h>\n",
    "\n",
    "using namespace std;\n",
    "\n",
    "int main()\n",
    "{\n",
    "    remove(\"data2.txt\");\n",
    "    printf(\"Archivo eliminado!\");\n",
    "    return 0;\n",
    "}"
   ]
  },
  {
   "cell_type": "markdown",
   "id": "a637b316",
   "metadata": {},
   "source": [
    "Nota: Antes de eliminar el archivo, asegúrate de que el archivo esté cerrado, de lo contrario, no se podrá eliminar."
   ]
  },
  {
   "cell_type": "markdown",
   "id": "c04b58c8",
   "metadata": {},
   "source": [
    "#### Cerrar un archivo\n",
    "\n",
    "Cuando hayamos terminado con las operaciones de entrada y salida en un archivo, lo cerraremos para que el sistema operativo sea notificado y sus recursos vuelvan a estar disponibles. Para eso, llamamos a la función miembro `close`. Esta función miembro vacía los búferes asociados y cierra el archivo.\n",
    "\n",
    "Este es el último paso importante en el manejo de archivos."
   ]
  },
  {
   "cell_type": "markdown",
   "id": "6a3b085f",
   "metadata": {},
   "source": [
    "#### Comprobación de los indicadores de  estados\n",
    "\n",
    "Las siguientes funciones miembro existen para verificar estados específicos de un stream (todas ellas devuelven un valor booleano):\n",
    "\n",
    "`bad()`: devuelve `true` si falla una operación de lectura o escritura. Por ejemplo, en el caso de que intentemos escribir en un archivo que no está abierto para escribir o si el dispositivo donde intentamos escribir no tiene espacio libre.\n",
    "\n",
    "`fail()`: devuelve `true` en los mismos casos que `bad()`, pero también en el caso de que ocurra un error de formato, como cuando se extrae un carácter alfabético, cuando intentamos leer un número entero.\n",
    "\n",
    "`eof()`: devuelve `true` si un archivo abierto para lectura ha llegado al final.\n",
    "\n",
    "\n",
    "`good()`: es el indicador de estado más genérica: devuelve `false` en los mismos casos en que llamar a cualquiera de las funciones anteriores devolvería `true`. "
   ]
  },
  {
   "cell_type": "markdown",
   "id": "4b591e78",
   "metadata": {},
   "source": [
    "### Ejercicios\n",
    "\n",
    "1. Escribe un programa en C++ para contar dígitos, letras y espacios usando el manejo de archivos.\n",
    "\n",
    "2. Escribe un programa en C++ para contar palabras, líneas y el tamaño total usando el manejo de archivos."
   ]
  },
  {
   "cell_type": "code",
   "execution_count": null,
   "id": "905b5e69",
   "metadata": {},
   "outputs": [],
   "source": [
    "// Respuestas"
   ]
  },
  {
   "cell_type": "markdown",
   "id": "a5c207e2",
   "metadata": {},
   "source": [
    "#### Acceso aleatorio a un archivo\n",
    "\n",
    "Todos los objetos de flujos de E/S mantienen internamente al menos una posición interna:\n",
    "\n",
    "`ifstream`, como `istream`, mantiene una posición `get` interna con la ubicación del elemento que se leerá en la siguiente operación de entrada.\n",
    "\n",
    "`ofstream`, como `ostream` mantiene una posición `put` interna con la ubicación donde debe escribirse el siguiente elemento.\n",
    "\n",
    "Finalmente, `fstream` mantiene tanto la posición `get` como `put` como `iostream`.\n",
    "\n",
    "Estas posiciones de flujo interno apuntan a las ubicaciones dentro del flujo donde se realiza la siguiente operación de lectura o escritura. Estas posiciones se pueden observar y modificar utilizando las siguientes funciones miembro:\n",
    "\n",
    "**tellg() y tellp()**\n",
    "\n",
    "Estas dos funciones sin parámetros devuelven un valor del tipo `streampos`, que es un tipo que representa la posición `get` (en el caso de `tellg`) o la posición `put` (en el caso de `tellp`).\n",
    "\n",
    "**seekg() y seekp()**\n",
    "\n",
    "Estas funciones permiten cambiar la ubicación de las posiciones `get` y `put`. Ambas funciones están sobrecargadas con dos prototipos diferentes. La primera forma es:\n"
   ]
  },
  {
   "cell_type": "code",
   "execution_count": null,
   "id": "04112cec",
   "metadata": {},
   "outputs": [],
   "source": [
    "seekg ( position );\n",
    "seekp ( position );"
   ]
  },
  {
   "cell_type": "markdown",
   "id": "777b79ba",
   "metadata": {},
   "source": [
    "Usando este prototipo, el puntero de flujo se cambia a la posición absoluta `position` (contando desde el comienzo del archivo). El tipo de este parámetro es `streampos`, que es el mismo tipo que devuelven las funciones `tellg` y `tellp`.\n",
    "\n",
    "La otra forma para estas funciones es:"
   ]
  },
  {
   "cell_type": "code",
   "execution_count": null,
   "id": "ad681263",
   "metadata": {},
   "outputs": [],
   "source": [
    "seekg ( offset, direction );\n",
    "seekp ( offset, direction );"
   ]
  },
  {
   "cell_type": "markdown",
   "id": "cd1eaf0c",
   "metadata": {},
   "source": [
    "Con este prototipo, la posición `get` o `put` se establece en un valor `offset` relativo a algún punto específico determinado por el parámetro `direction`. `offset` es de tipo `streamoff`. Y `direction` es de tipo `seekdir`, que es un tipo enumerado que determina el punto desde donde se cuenta el offser y que puede tomar cualquiera de los siguientes valores:\n",
    "\n",
    "- `ios::beg` offset contado desde el comienzo del flujo\n",
    "- `ios::cur` offset contado desde la posición actual\n",
    "- `ios::end` offset contado desde el final del flujo."
   ]
  },
  {
   "cell_type": "markdown",
   "id": "3592ef49",
   "metadata": {},
   "source": [
    "#### Ejemplo\n",
    "\n",
    "El siguiente ejemplo utiliza las funciones miembro que acabamos de ver para obtener el tamaño de un archivo:"
   ]
  },
  {
   "cell_type": "code",
   "execution_count": null,
   "id": "a5d98a98",
   "metadata": {},
   "outputs": [],
   "source": [
    "// Completa"
   ]
  },
  {
   "cell_type": "markdown",
   "id": "a703298b",
   "metadata": {},
   "source": [
    "Observa el tipo que hemos usado para las variables `begin` y `end`:\n",
    "    \n",
    "  ```\n",
    "  streampos tam;\n",
    "  ``` \n",
    "    \n",
    "`streampos` es un tipo específico utilizado para el posicionamiento de archivos y búfer y es el tipo devuelto por `archivo.tellg()`. Los valores de este tipo se pueden restar de forma segura de otros valores del mismo tipo y también se pueden convertir a un tipo entero lo suficientemente grande como para contener el tamaño del archivo.\n",
    "\n",
    "Estas funciones de posicionamiento de flujo utilizan dos tipos particulares: `streampos` y `streamoff`. Estos tipos también se definen como tipos de miembros de la clase de flujo:\n",
    "\n",
    "\n",
    "- `streampos ios::pos_type` Definido como fpos<mbstate_t>. Se puede convertir a/desde `streamoff` y se pueden sumar o restar valores de estos tipos\n",
    "\n",
    "- `streamoff ios::off_type` Es un alias de uno de los tipos integrales fundamentales (como int o long long).\n",
    "\n"
   ]
  },
  {
   "cell_type": "markdown",
   "id": "5f553130",
   "metadata": {},
   "source": [
    "#### Ejemplo general"
   ]
  },
  {
   "cell_type": "code",
   "execution_count": null,
   "id": "3eca0255",
   "metadata": {},
   "outputs": [],
   "source": [
    "#include <iostream>\n",
    "#include <fstream>\n",
    "\n",
    "using namespace std;\n",
    "\n",
    "int main()\n",
    "{\n",
    "    fstream fs;\n",
    "    char s[]=\"C++ y Python\";\n",
    "    char c;\n",
    "    int i;\n",
    "\n",
    "    fs.open(\"data.txt\", ios::in | ios::out);\n",
    "\n",
    "\n",
    "    if(fs.is_open()==0)\n",
    "    {\n",
    "        cout<<\"No se puede abrir el archivo\";\n",
    "    }\n",
    "    else\n",
    "    {\n",
    "        // Completa\n",
    "    }\n",
    "\n",
    "    fs.close();\n",
    "    return 0;\n",
    "}"
   ]
  },
  {
   "cell_type": "markdown",
   "id": "8cfebe97",
   "metadata": {},
   "source": [
    "### ¿Qué es un archivo binario?\n",
    "\n",
    "Comprendamos cómo se almacenan los datos en un archivo binario y cómo se procesan en las computadoras.\n",
    "\n",
    "Los archivos binarios almacenan datos en forma de una secuencia de bytes. Estas secuencias son un flujo de grupos de ocho o dieciséis bits. Estos archivos se utilizan principalmente para almacenar datos personalizados para aplicaciones y, a veces, archivos que guardan varios tipos de datos, como imágenes, audio, texto, etc.\n",
    "\n",
    "Los desarrolladores que codifican estos formatos de archivo personalizados diseñan las aplicaciones de soporte para convertir la información binaria en alguna forma significativa. Por ejemplo, un archivo binario tiene los datos de 5 audios en formato de texto. Si abres el archivo en un editor de texto, verás secuencias de datos binarios, lo cual no es comprensible. Sin embargo, si el desarrollador diseña una aplicación de reproducción de audio que comprende y convierte estos datos binarios en audio y los reproduce, puede escucharlos.\n",
    "\n",
    "Los archivos binarios suelen contener encabezados como `.jpg` y `.png` para indicar el tipo de información que han almacenado. Los datos del archivo binario se cifran con 1 y 0, lo que lo hace más seguro ya que la información no es legible. Ocupan mucho menos espacio a medida que se almacenan en la memoria según su tamaño de bits (igual que el almacenamiento de la memoria).\n",
    "\n",
    "Las desventajas de los archivos binarios son que un simple error en los datos corrompe todo el archivo y es difícil corregir tales errores. Sin embargo hay formas de  prevenir la corrupción de datos en el futuro. El archivo debe sufrir muchas variaciones internas y formas de representación para transferir archivos binarios de una computadora a otra. Los usuarios habituales siempre deben tener un sistema de soporte convertible para ver los datos en archivos binarios."
   ]
  },
  {
   "cell_type": "markdown",
   "id": "4fbb19dd",
   "metadata": {},
   "source": [
    "#### Ejemplo: salida de un archivo de texto"
   ]
  },
  {
   "cell_type": "code",
   "execution_count": null,
   "id": "5d5adb20",
   "metadata": {},
   "outputs": [],
   "source": [
    "#include <fstream>\n",
    "#include <iostream>\n",
    "#include <cstring>\n",
    "using namespace std;\n",
    "\n",
    "struct Persona\n",
    "{\n",
    "   char nombre[20];\n",
    "   int edad;\n",
    "};\n",
    "\n",
    "int main()\n",
    "{\n",
    "   Persona checha;\n",
    "   strncpy(checha.nombre, \"Checha\", 6);\n",
    "   checha.edad=52;\n",
    "\n",
    "   //abre un archivo texto.out para el salida del texto\n",
    "   ofstream outFile(\"texto.out\");\n",
    "\n",
    "   if (! outFile)\n",
    "   {\n",
    "      cerr << \"no puedes abrir \\\"texto.out\\\" para la salida\\n\";\n",
    "      return -1;\n",
    "   }\n",
    "\n",
    "   outFile << checha.nombre;\n",
    "   outFile << checha.edad;\n",
    "\n",
    "   outFile.close();\n",
    "\n",
    "   return 0;\n",
    "}"
   ]
  },
  {
   "cell_type": "markdown",
   "id": "bf800ea0",
   "metadata": {},
   "source": [
    "#### Ejercicio: escribe la salida de un archivo binario"
   ]
  },
  {
   "cell_type": "code",
   "execution_count": null,
   "id": "3f7f0a29",
   "metadata": {},
   "outputs": [],
   "source": [
    "// Completa"
   ]
  },
  {
   "cell_type": "markdown",
   "id": "735c8a46",
   "metadata": {},
   "source": [
    "Información:\n",
    "\n",
    "- El dump hexadecimal se produce con el siguiente comando: `hexdump -C nombre de archivo`\n",
    "\n",
    "- El dump octal se produce con el siguiente comando: `od -c nombre de archivo`"
   ]
  },
  {
   "cell_type": "markdown",
   "id": "4aa940d9",
   "metadata": {},
   "source": [
    "**Preguntas:**\n",
    "\n",
    "- ¿Qué cosas notas que son diferentes en el código binario?\n",
    "\n",
    "- ¿Por qué crees que el archivo binario tiene más caracteres (y extraños) en comparación con el archivo de texto?\n",
    "\n",
    "- ¿Cuál es el valor binario de 72? ¿Qué es eso en hexadecimal?."
   ]
  },
  {
   "cell_type": "code",
   "execution_count": null,
   "id": "ab058e28",
   "metadata": {},
   "outputs": [],
   "source": [
    "// Tus respuestas"
   ]
  },
  {
   "cell_type": "markdown",
   "id": "3807bbbf",
   "metadata": {},
   "source": [
    "#### Antes de leer y escribir binario\n",
    "\n",
    "Antes de realizar una lectura o escritura, debes especificar que tu archivo es binario. Puedes hacerlo a través de la llamada al constructor o a través de la función `open`. \n",
    "\n",
    "* Lectura\n",
    "\n",
    "```\n",
    "ifstream is(\"indata.dat\", ios::binary);\t\n",
    "ifstream is;\n",
    "is.open(\"indata.dat\", ios::binary);\n",
    "``` \n",
    "\n",
    "* Escritura\n",
    "\n",
    "``` \n",
    "ofstream os(\"outdata.dat\", ios::trunc|ios::binary);\n",
    "ofstream os;\n",
    "os.open(\"outdata.dat\", ios::trunc|ios::binary);\n",
    "```\n"
   ]
  },
  {
   "cell_type": "markdown",
   "id": "458aa2d1",
   "metadata": {},
   "source": [
    "### Modos de apertura de archivos binarios\n",
    "\n",
    "A continuación, anotamos los diferentes tipos de modos de apertura de archivos que se usan para abrir un archivo binario usando el objeto de clase `fstream`.\n",
    "\n",
    "\n",
    "- `ios::binary | ios::in`: este modo se utiliza para abrir un archivo en modo binario para su lectura. El puntero de archivo se coloca al principio del archivo. Es el modo predeterminado cuando se abre un archivo sin ningún modo especificado.\n",
    "\n",
    "- `ios::binary | ios::out`: este modo se usa para abrir un archivo en modo binario para escritura. Si el archivo no existe, se creará. Si el archivo ya existe, se sobrescribirá. El puntero de archivo se coloca al principio del archivo.\n",
    "\n",
    "- `ios::binary | ios::app`: este modo se usa para abrir un archivo en modo binario para agregarlo. Si el archivo no existe, se creará. Si el archivo ya existe, todos los datos nuevos se agregarán al final del archivo.\n",
    "\n",
    "- `ios::binary | ios::in | ios::out`: este modo se utiliza para abrir un archivo en modo binario para lectura y escritura. El puntero de archivo se coloca al principio del archivo.\n",
    "\n",
    "- `ios::binary| ios::in | ios::out | ios::trunc`: este modo se usa para abrir un archivo en modo binario para lectura y escritura y trunca el archivo a cero si ya existe. El puntero de archivo se coloca al principio del archivo.\n",
    "\n",
    "- `ios::binary | ios::in | ios::out | ios::app`: este modo se usa para abrir un archivo en modo binario para lectura y escritura, y todos los datos nuevos se agregarán al final del archivo.\n",
    "\n",
    "- `ios::binary | ios::in | ios::out | ios::ate`: este modo se usa para abrir un archivo en modo binario para lectura y escritura, y el puntero del archivo se coloca al final del archivo."
   ]
  },
  {
   "cell_type": "markdown",
   "id": "9f23219f",
   "metadata": {},
   "source": [
    "#### El formato general de una lectura  y escritura\n",
    "\n",
    "```\n",
    "write(start_address, size);\n",
    "read(start_address, size);\n",
    "```\n",
    "\n",
    "Debido a que estás trabajando con bytes de lectura y escritura,  `start_address` es un puntero a los caracteres (los caracteres solo tienen un byte de longitud). Si tu dirección no es un puntero a un carácter, entonces necesitas usar un cast `(char *)` para \"falsificarlo\". A partir de esa dirección, las cosas aparecerán como una secuencia de bytes.\n",
    "\n",
    "Por ejemplo:\n",
    "\n",
    "```\n",
    "outFile.write(checha.nombre,sizeof(checha.nombre));\n",
    "outFile.write((char*)&(checha.edad),sizeof(checha.edad));\n",
    "```\n",
    "\n",
    "**Notas:**\n",
    "\n",
    "- `checha.nombre` es en realidad una dirección al comienzo de un arreglo de caracteres, por lo que no es necesario convertir.\n",
    "- `henry.edad` es un número entero, lo convertimos en una dirección usando `&` y lo convertimos en una dirección de caracteres\n",
    "- `sizeof` es un operador que devuelve el tamaño en bytes. Tomará una variable o un especificador de tipo como argumento.\n",
    "\n",
    "- No olvides cerrar tus archivos."
   ]
  },
  {
   "cell_type": "code",
   "execution_count": null,
   "id": "f867ff4b",
   "metadata": {},
   "outputs": [],
   "source": []
  },
  {
   "cell_type": "code",
   "execution_count": null,
   "id": "dff0efd0",
   "metadata": {},
   "outputs": [],
   "source": []
  }
 ],
 "metadata": {
  "kernelspec": {
   "display_name": "C++14",
   "language": "C++14",
   "name": "xcpp14"
  },
  "language_info": {
   "codemirror_mode": "text/x-c++src",
   "file_extension": ".cpp",
   "mimetype": "text/x-c++src",
   "name": "c++",
   "version": "14"
  }
 },
 "nbformat": 4,
 "nbformat_minor": 5
}
