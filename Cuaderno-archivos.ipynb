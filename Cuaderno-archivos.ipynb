{
 "cells": [
  {
   "cell_type": "markdown",
   "id": "c8ac1463",
   "metadata": {},
   "source": [
    "### Archivos\n",
    "\n",
    "En C++, manejamos y organizamos archivos, carpetas y directorios. Podemos escribir archivos y mostrar los elementos en los archivos creados. ¿Qué es exactamente un archivo en C++?. \n",
    "\n",
    "Los archivos creados en C++ ayudan a almacenar datos en el disco duro y permanecen en el sistema para su uso posterior. Esto es diferente de los programas tradicionales, donde los datos u objetos que contienen datos se eliminan después de la finalización del programa para recuperar el espacio de memoria temporal asignado. Muchas veces, necesitamos qu los datos se almacenen de forma segura en el sistema, por lo que obtener elementos de un archivo requiere menos tiempo. \n"
   ]
  },
  {
   "cell_type": "markdown",
   "id": "4646aa63",
   "metadata": {},
   "source": [
    "#### Flujos\n",
    "\n",
    "Para que el usuario ingrese y proporcione detalles o valores, usamos flujos de entrada (input streams). Un flujo (stream) se refiere a un grupo de bytes a los que se puede acceder secuencialmente. \n",
    "Hay dos tipos diferentes de stream. \n",
    "\n",
    "Los **flujos de entrada** se utilizan para contener la entrada de un usuario dada desde un teclado. Por ejemplo, el usuario puede presionar cualquier tecla del teclado, incluso cuando no se le solicite. En una situación como esta, todas estas claves se guardan en el flujo de entrada y se usan más tarde cuando el propio programa lo requiere. \n",
    "\n",
    "El segundo tipo es un **flujo de salida** (output stream), que se utiliza para la salida a un monitor, archivo o impresora. Por ejemplo, supongamos que necesitas una impresión, pero la impresora está trabajando actualmente en otro documento, por lo que tus datos/archivo esperan su turno para ser entregados como salida. Para poder usar todas estas funcionalidades en tu código C++, debes incluir el archivo de encabezado `iostream` que proporciona al programa una jerarquía completa de clases (herencia múltiple) para hacer uso de todas las clases de E/S.\n",
    "\n",
    "C++ proporciona las siguientes clases para realizar la salida y entrada de caracteres a/desde archivos:\n",
    "\n",
    "- La clase `iostream` puede manejar flujos de entrada y salida. Es la clase base para todas las demás clases de flujo de E/S que usaremos.\n",
    "\n",
    "- La clase `istream` es para los flujos de entrada y esta clase se deriva de la clase `iostream`. El operador de extracción `(>>)` elimina valores del flujo creado cuando el usuario presiona las teclas (ya sea que se le solicite o no). También tiene funciones para operaciones de entrada como `get()` y `getline()`.\n",
    "\n",
    "\n",
    "- La clase `ostream` es para flujos de salida y esta clase se deriva de la clase `iostream`. El operador de inserción `(<<)` se usa para poner valores en el flujo para que se muestren en dispositivos de salida como monitores. También tiene funciones para operaciones de entrada como `put()` y `write()`.\n",
    "\n",
    "- La clase `fstream` puede manejar operaciones de entrada y salida relacionadas con la apertura y el cierre de archivos, como leer elementos particulares de un archivo o escribir en un archivo. Tiene varias funciones con una operatividad especial. \n",
    "\n",
    "\n",
    "- La clase `ifstream` maneja todas las operaciones relacionadas con la entrada de archivos y tiene varias funciones con operabilidad especial, como `get()`, `getline()`, `read()`, `seekg()` y `tellg()`.\n",
    "\n",
    "- La clase `ofstream` puede manejar operaciones de entrada relacionadas con la escritura en un archivo. Tiene varias funciones con operabilidad especial como `put()`, `write()`, `seekp()` y `tellp()`.\n",
    "\n",
    "- La clase `streambuf` se utiliza para administrar los flujos de entrada y salida a través de un puntero, que apunta al búfer.\n"
   ]
  },
  {
   "cell_type": "markdown",
   "id": "195b4a2c",
   "metadata": {},
   "source": [
    "Ya hemos usado objetos cuyos tipos eran estas clases: `cin` es un objeto de clase `istream` y cout es un objeto de clase `ostream`. Por lo tanto, ya hemos estado usando clases relacionadas con los flujos de archivos. Y de hecho, podemos usar los flujos de archivos de la misma manera que ya estamos acostumbrados a usar `cin` y `cout`, con la única diferencia de que tenemos que asociar estos flujos con archivos físicos.\n"
   ]
  },
  {
   "cell_type": "markdown",
   "id": "b0417859",
   "metadata": {},
   "source": [
    "#### Ejemplo"
   ]
  },
  {
   "cell_type": "code",
   "execution_count": null,
   "id": "7fc137d4",
   "metadata": {},
   "outputs": [],
   "source": [
    "#include <iostream>\n",
    "#include <fstream>\n",
    "using namespace std;\n",
    "int main()\n",
    "{\n",
    "    ofstream ofObj;\n",
    "    string linea1;\n",
    "    ofObj.open(\"archivo1.txt\");\n",
    "    \n",
    "    while (ofObj)\n",
    "    {\n",
    "        getline(cin, linea1);\n",
    "        if (linea1 == \"-1\")\n",
    "            break;\n",
    "        cout<< linea << endl;\n",
    "    }\n",
    "    ofObj.close();\n",
    "    ifstream ifObj;\n",
    "    ifObj.open(\"archivo1.txt\");\n",
    "    while (ifObj)\n",
    "    {\n",
    "        getline(ifObj, linea1);\n",
    "        cout << linea1 << endl;\n",
    "    }\n",
    "    ifObj.close();\n",
    "        return 0;\n",
    "}"
   ]
  },
  {
   "cell_type": "markdown",
   "id": "cd1ba2c2",
   "metadata": {},
   "source": [
    "En este código, usamos la clase `ofstream` y creamos un objeto  y un valor de cadena. Luego usamos el método `open` para acceder al archivo en modo abierto.  El texto ingresado se escribe en el archivo usando el objeto de clase `ifstream`.  Luego, el programa imprime el contenido del archivo recién escrito. Se recurre al método `close` para cerrar el archivo que habíamos abierto anteriormente.\n"
   ]
  },
  {
   "cell_type": "markdown",
   "id": "95fbdf68",
   "metadata": {},
   "source": [
    "### Operaciones de archivos \n",
    "\n",
    "Los principales pasos necesarios en C++ para el manejo de archivos son los siguientes: \n",
    "\n"
   ]
  },
  {
   "cell_type": "markdown",
   "id": "7dfb9e1b",
   "metadata": {},
   "source": [
    "#### Creación de un nuevo archivo "
   ]
  },
  {
   "cell_type": "code",
   "execution_count": null,
   "id": "75811796",
   "metadata": {},
   "outputs": [],
   "source": [
    "#include <iostream>\n",
    "#include <fstream>\n",
    "\n",
    "using namespace std;\n",
    "\n",
    "int main()\n",
    "{\n",
    "    // completa \n",
    "\n",
    "    if(fs.is_open()==0)\n",
    "    {\n",
    "        cout<<\"No se puede abrir el archivo\";\n",
    "    }\n",
    "\n",
    "    fs.close();\n",
    "    return 0;\n",
    "}"
   ]
  },
  {
   "cell_type": "markdown",
   "id": "c7a40f5b",
   "metadata": {},
   "source": [
    "En el programa anterior, creamos el objeto `fstream fs` y usamos el método `open()` para abrir un archivo usando el modo `ios::out`. Después de eso, usamos el método `is_open()` para verificar si el archivo se abrió con éxito o no. Este método devuelve 1 si se abre el archivo,  de lo contrario, devuelve 0 cuando no puede abrir el archivo.\n",
    "\n",
    "El método `close()` se usa para cerrar el archivo que está abierto en la memoria."
   ]
  },
  {
   "cell_type": "code",
   "execution_count": null,
   "id": "083c7815",
   "metadata": {},
   "outputs": [],
   "source": [
    "// Otra forma\n",
    "\n",
    "#include <iostream>\n",
    "#include <fstream> // \n",
    "using namespace std;\n",
    "\n",
    "int main()\n",
    "{\n",
    "    fstream archivo1;\n",
    "    archivo.open(\"archivo1\",ios::out);\n",
    "    if(!archivo1)\n",
    "    {\n",
    "        cout<<\"El archivo no fue creado\";\n",
    "    }\n",
    "    else\n",
    "    {\n",
    "        cout<<\"El archivo ha sido creado\";\n",
    "        archivo1.close();\n",
    "    }\n",
    "    return 0;\n",
    "}"
   ]
  },
  {
   "cell_type": "markdown",
   "id": "363f9c12",
   "metadata": {},
   "source": [
    "En este código, usamos la clase `fstream` y creamos un objeto de esa clase. Usamos el método `open` para acceder al archivo en modo abierto. Luego, el programa imprime el mensaje `El archivo ha sido creado`. \n",
    "\n",
    "Se recurre al método `close` para cerrar el archivo que abrimos anteriormente.\n"
   ]
  },
  {
   "cell_type": "markdown",
   "id": "8ac36a97",
   "metadata": {},
   "source": [
    "#### Abrir un archivo \n",
    "\n",
    "Este es el primer paso que se da hacia la administración de archivos en C++ y se puede hacer pasando el nombre de archivo en el constructor cuando se crea un objeto o usando el método `open()`. La sintaxis en general para abrir un archivo es la siguiente: \n"
   ]
  },
  {
   "cell_type": "code",
   "execution_count": null,
   "id": "b5a0e466",
   "metadata": {},
   "outputs": [],
   "source": [
    "void open(const char* ourFileName, ios::openMode mode);  // funcion open()"
   ]
  },
  {
   "cell_type": "markdown",
   "id": "27f0032d",
   "metadata": {},
   "source": [
    "Ahora, se pueden activar varios [modos](https://gist.github.com/kapumota/404263d6d6453960c54420d0bced86cd)  en C++. \n",
    "\n",
    "\n",
    "\n",
    "También podemos combinar diferentes modos de apertura separando cada uno de ellos mediante el símbolo |, llamado símbolo lógico `or`. "
   ]
  },
  {
   "cell_type": "code",
   "execution_count": null,
   "id": "88cc42e2",
   "metadata": {},
   "outputs": [],
   "source": [
    "#include <iostream>\n",
    "#include <fstream>\n",
    "\n",
    "using namespace std;\n",
    "\n",
    "int main()\n",
    "{\n",
    "    // completa\n",
    "\n",
    "    if(fs.is_open()==0)\n",
    "    {\n",
    "        cout<<\"No se puede abrir el archivo\";\n",
    "    }\n",
    "\n",
    "    fs.close();\n",
    "    return 0;\n",
    "}"
   ]
  },
  {
   "cell_type": "markdown",
   "id": "3e8c0785",
   "metadata": {},
   "source": [
    "#### Ejemplo"
   ]
  },
  {
   "cell_type": "code",
   "execution_count": null,
   "id": "4d97d6f8",
   "metadata": {},
   "outputs": [],
   "source": [
    "#include <iostream>\n",
    "#include <fstream> // trabajando con archivos de texto\n",
    "using namespace std;\n",
    "\n",
    "int main()\n",
    "\n",
    "{\n",
    "\n",
    "    ofstream ofObj;\n",
    "    string linea1;\n",
    "    ofObj.open(\"archivos1.txt\");\n",
    "    while (ofObj)\n",
    "    {\n",
    "        getline(cin, linea1);\n",
    "        if (linea1 == \"-1\")\n",
    "            break;\n",
    "        cout<< linea1 << endl;\n",
    "    }\n",
    "    ofObj.close();\n",
    "    ifstream ifObj;\n",
    "    ifObj.open(\"archivos1.txt\");\n",
    "    while (ifObj)\n",
    "    {\n",
    "        getline(ifObj, linea1);\n",
    "            cout << linea1 << endl;\n",
    "    }\n",
    "    ifObj.close();\n",
    "        return 0;\n",
    "}"
   ]
  },
  {
   "cell_type": "markdown",
   "id": "b7d6a511",
   "metadata": {},
   "source": [
    "En este código, usamos la clase `ofstream` y creamos un objeto de esa clase y una cadena. Luego usamos el método `open` para acceder alarchivo en modo abierto. El texto ingresado se escribe en el archivo usando el objeto de clase `ifstream`. Luego, el programa imprime el contenido del archivo recién escrito. \n",
    "\n",
    "Se recurre al método `close` para cerrar el archivo que habíamos abierto anteriormente.\n",
    "\n"
   ]
  },
  {
   "cell_type": "markdown",
   "id": "70404998",
   "metadata": {},
   "source": [
    "#### Escribir en un archivo\n",
    "\n",
    "Esto se hace usando las clases `ofstream` o `fstream` para ingresar datos en los archivos creados o abiertos. "
   ]
  },
  {
   "cell_type": "code",
   "execution_count": null,
   "id": "fc90eb67",
   "metadata": {},
   "outputs": [],
   "source": [
    "#include<iostream>                         \n",
    "#include<fstream>                            \n",
    "using namespace std;\n",
    "\n",
    "int main() {\n",
    "    fstream archivo1;                       \n",
    "    // completa ...\n",
    "    return 0;\n",
    "}"
   ]
  },
  {
   "cell_type": "markdown",
   "id": "edecaa13",
   "metadata": {},
   "source": [
    "Aquí tenemos creamos un objeto de la clase `fstream` llamado `archivo1`. En el objeto creado anteriormente, tenemos que aplicar la función `open()` para crear un nuevo archivo, y el modo se establece en `out`, lo que nos permitirá escribir en el archivo. \n",
    "\n",
    "Usamos la declaración `if` para verificar la creación del archivo. Escribimos los datos en el archivo creado. Usamos la función `close()` en el objeto para cerrar el archivo."
   ]
  },
  {
   "cell_type": "markdown",
   "id": "bfb6d790",
   "metadata": {},
   "source": [
    "#### Ejercicio \n",
    "\n",
    "Escribe el programa  a partir de las siguiente indicaciones.\n",
    "    \n",
    "1. Incluye el archivo de encabezado `iostream` en el programa para usar sus funciones.\n",
    "2. Incluye el archivo de encabezado `fstream` en el programa para usar sus clases.\n",
    "3. Incluye  el espacio de nombres estándar en el programa para usar sus clases sin llamarlo.\n",
    "4. Llama a la función `main()`. La lógica del programa debe agregarse dentro del cuerpo de esta función.\n",
    "5. Crea una instancia de la clase `fstream` y asígnala el nombre `archivo1`.\n",
    "6. Usa la función `open()` para crear un nuevo archivo llamado `archivo1.txt`. El archivo se abrirá en el modo `out` para escribir en él.\n",
    "7. Usa una declaración `if` para verificar si el archivo no se ha abierto.\n",
    "8. Escribe el texto para imprimir en la consola si el archivo no está abierto.\n",
    "9. Termina del cuerpo de la instrucción `if`.\n",
    "10. Usa una declaración `else` para indicar qué hacer si se creó el archivo.\n",
    "11. Escribe texto para imprimir en la consola si se creó el archivo.\n",
    "12. Escribe un texto en el archivo creado.\n",
    "13. Utiliza la función `close()` para cerrar el archivo.\n",
    "14. Finaliza el cuerpo de la sentencia `else`.\n",
    "15. El programa debe retornar el valor al completarse con éxito.\n",
    "16. Finaliza del cuerpo de la función `main()`."
   ]
  },
  {
   "cell_type": "code",
   "execution_count": null,
   "id": "9eba811b",
   "metadata": {},
   "outputs": [],
   "source": [
    "// Completa"
   ]
  },
  {
   "cell_type": "markdown",
   "id": "54a0e8b3",
   "metadata": {},
   "source": [
    "#### Lectura de un archivo\n",
    "\n",
    "Se usan las clases `ifstream` o `fstream` para obtener datos de los archivos creados o abiertos. \n"
   ]
  },
  {
   "cell_type": "code",
   "execution_count": null,
   "id": "bfe6b381",
   "metadata": {},
   "outputs": [],
   "source": [
    "#include <iostream>\n",
    "#include <fstream>\n",
    "\n",
    "using namespace std;\n",
    "\n",
    "int main()\n",
    "{\n",
    "    fstream fs;\n",
    "    char c;\n",
    "\n",
    "    fs.open(\"data.txt\", ios::in);\n",
    "\n",
    "    if(fs.is_open()==0)\n",
    "    {\n",
    "        cout<<\"No se puede abrir el archivo\";\n",
    "    }\n",
    "    else\n",
    "    {\n",
    "        while(!fs.eof())\n",
    "        {\n",
    "            fs.get(c);\n",
    "            cout<<c;\n",
    "        }\n",
    "        fs.close();\n",
    "    }\n",
    "    return 0;\n",
    "}"
   ]
  },
  {
   "cell_type": "markdown",
   "id": "1667fe2c",
   "metadata": {},
   "source": [
    "En el programa anterior, hemos ejecutado un ciclo `while` infinito para leer todos los caracteres del archivo hasta que obtengamos el final del carácter del archivo usando el método `eof()`. \n",
    "Leemos caracteres individuales del archivo en una variable de carácter `c` usando el método `get()` y lo imprimimos en la pantalla. El ciclo `while` termina cuando obtenemos el carácter `eof` (CTRL + D) del archivo."
   ]
  },
  {
   "cell_type": "markdown",
   "id": "f3b455f1",
   "metadata": {},
   "source": [
    "#### Ejercicio\n",
    "\n",
    "Utiliza un ciclo `while` que usa la función `getline()` para leer una línea del archivo en una variable de cadena. Imprimimos la línea junto con el carácter de nueva línea usando la instrucción `endl` en la pantalla. \n",
    "\n",
    "El ciclo `while` termina cuando la función `getline()` llega al final del archivo."
   ]
  },
  {
   "cell_type": "code",
   "execution_count": null,
   "id": "b385135a",
   "metadata": {},
   "outputs": [],
   "source": [
    "// Completa"
   ]
  },
  {
   "cell_type": "markdown",
   "id": "8f65cda2",
   "metadata": {},
   "source": [
    "#### Ejercicio \n",
    "\n",
    "Escribe el programa  a partir de las siguiente indicaciones.\n",
    "    \n",
    "1. Incluye el archivo de encabezado `iostream` en el programa para usar sus funciones.\n",
    "2. Incluye el archivo de encabezado `fstream` en el programa para usar sus clases.\n",
    "3. Incluye  el espacio de nombres estándar en el programa para usar sus clases sin llamarlo.\n",
    "4. Llama a la función `main()`. La lógica del programa debe agregarse dentro del cuerpo de esta función.\n",
    "5. Crea una instancia de la clase `fstream` y asígnala el nombre `archivo1`.\n",
    "6. Usa la función `open()` para crear un nuevo archivo llamado `archivo1.txt`. El archivo se abrirá en el modo `in` para escribir en él.\n",
    "7. Usa una declaración `if` para verificar si el archivo no se ha abierto.\n",
    "8. Escribe el texto para imprimir en la consola si el archivo no está abierto.\n",
    "9. Termina del cuerpo de la instrucción `if`.\n",
    "10. Usa una declaración `else` para indicar qué hacer si se creó el archivo.\n",
    "11. Crea una variable char llamada `ch`.\n",
    "12. Crea un bucle `while` para iterar sobre el contenido del archivo.\n",
    "13. Escribe/almacena el contenido del archivo en la variable `ch`.\n",
    "14. Usa una condición `if` y la función `eof()`, es decir, el final del archivo, para asegurarse de que el compilador siga leyendo el archivo si no se llega al final.\n",
    "15. Usa una declaración `break` para dejar de leer el archivo una vez que se llega al final.\n",
    "16. Imprime el contenido de la variable `ch` en la consola.\n",
    "17. Finaliza el cuerpo `while`.\n",
    "18. Finaliza el cuerpo de la sentencia `else`.\n",
    "18. Llama a la función `close()` para cerrar el archivo.\n",
    "19. El programa debe retornar valor al completarse con éxito.\n",
    "20. Finaliza el cuerpo de la función `main()`."
   ]
  },
  {
   "cell_type": "code",
   "execution_count": null,
   "id": "75e893d8",
   "metadata": {},
   "outputs": [],
   "source": [
    "// Completa"
   ]
  },
  {
   "cell_type": "markdown",
   "id": "a36a4d62",
   "metadata": {},
   "source": [
    "#### Cambiar el nombre de un archivo\n"
   ]
  },
  {
   "cell_type": "code",
   "execution_count": null,
   "id": "fcd00a39",
   "metadata": {},
   "outputs": [],
   "source": [
    "#include <iostream>\n",
    "#include <stdio.h>\n",
    "\n",
    "using namespace std;\n",
    "\n",
    "int main()\n",
    "{\n",
    "    rename(\"data1.txt\", \"data2.txt\");\n",
    "    printf(\"Archivo renombrado!\");\n",
    "    return 0;\n",
    "}"
   ]
  },
  {
   "cell_type": "markdown",
   "id": "6940782c",
   "metadata": {},
   "source": [
    "Nota: Antes de cambiar el nombre del archivo, asegúrate de que el archivo esté cerrado,de lo contrario, no se podrá cambiar el nombre."
   ]
  },
  {
   "cell_type": "markdown",
   "id": "07cebd63",
   "metadata": {},
   "source": [
    "#### Eliminar un archivo"
   ]
  },
  {
   "cell_type": "code",
   "execution_count": null,
   "id": "2a7677d5",
   "metadata": {},
   "outputs": [],
   "source": [
    "#include <iostream>\n",
    "#include <stdio.h>\n",
    "\n",
    "using namespace std;\n",
    "\n",
    "int main()\n",
    "{\n",
    "    remove(\"data2.txt\");\n",
    "    printf(\"Archivo eliminado!\");\n",
    "    return 0;\n",
    "}"
   ]
  },
  {
   "cell_type": "markdown",
   "id": "25590f40",
   "metadata": {},
   "source": [
    "Nota: Antes de eliminar el archivo, asegúrate de que el archivo esté cerrado, de lo contrario, no se podrá eliminar."
   ]
  },
  {
   "cell_type": "markdown",
   "id": "21c0576e",
   "metadata": {},
   "source": [
    "#### Cerrar un archivo\n",
    "\n",
    "Este es el último paso importante en el manejo de archivos. Al finalizar el programa, la memoria se libera automáticamente. Sin embargo, para no arriesgarnos  siempre debemos cerrar los archivos."
   ]
  },
  {
   "cell_type": "markdown",
   "id": "2e9a4942",
   "metadata": {},
   "source": [
    "### Ejercicios\n",
    "\n",
    "1. Escribe un programa en C++ para contar dígitos, letras y espacios usando el manejo de archivos.\n",
    "\n",
    "2. Escribe un programa en C++ para contar palabras, líneas y el tamaño total usando el manejo de archivos."
   ]
  },
  {
   "cell_type": "code",
   "execution_count": null,
   "id": "430fb596",
   "metadata": {},
   "outputs": [],
   "source": [
    "// Respuestas"
   ]
  },
  {
   "cell_type": "markdown",
   "id": "072a06df",
   "metadata": {},
   "source": [
    "#### Acceso aleatorio a un archivo\n",
    "\n",
    "C++ podemos acceder aleatoriamente a los archivos abiertos o creados. El acceso aleatorio al archivo significa que el control no se da de forma predeterminada al principio o al final del archivo, sino en cualquier punto del archivo. \n",
    "\n",
    "Esto se hace usando operaciones de archivos especiales que asignan el puntero del archivo al punto al que deseamos acceder.\n",
    "\n",
    "- `seekg()`: esta función se usa para la entrada y `g` representa `get` que cambiará la posición del puntero para leer. Es decir, mueve el puntero `get` de `ofstream` a una posición específica en un archivo desde donde queremos leer el archivo.\n"
   ]
  },
  {
   "cell_type": "code",
   "execution_count": null,
   "id": "9c28d81e",
   "metadata": {},
   "outputs": [],
   "source": [
    "fileObject seekg(number_of_bytes, from_position);"
   ]
  },
  {
   "cell_type": "markdown",
   "id": "a2423972",
   "metadata": {},
   "source": []
  },
  {
   "cell_type": "markdown",
   "id": "76a05870",
   "metadata": {},
   "source": [
    "#### tellg() y tellp()\n",
    "\n",
    "Estas dos funciones miembro sin parámetros devuelven un valor del tipo de miembro `streampos`, que es un tipo que representa la posición `get` actual (en el caso de `tellg`) o la posición `put` (en el caso de `tellp`)."
   ]
  },
  {
   "cell_type": "code",
   "execution_count": null,
   "id": "1e2dbda5",
   "metadata": {},
   "outputs": [],
   "source": []
  },
  {
   "cell_type": "code",
   "execution_count": null,
   "id": "10d9e2af",
   "metadata": {},
   "outputs": [],
   "source": []
  },
  {
   "cell_type": "code",
   "execution_count": null,
   "id": "54326556",
   "metadata": {},
   "outputs": [],
   "source": []
  },
  {
   "cell_type": "code",
   "execution_count": null,
   "id": "85fcf5cc",
   "metadata": {},
   "outputs": [],
   "source": []
  },
  {
   "cell_type": "code",
   "execution_count": null,
   "id": "04e2a89f",
   "metadata": {},
   "outputs": [],
   "source": []
  },
  {
   "cell_type": "code",
   "execution_count": null,
   "id": "af4bedff",
   "metadata": {},
   "outputs": [],
   "source": []
  },
  {
   "cell_type": "markdown",
   "id": "8cfebe97",
   "metadata": {},
   "source": [
    "### ¿Qué es un archivo binario?\n",
    "\n",
    "Comprendamos cómo se almacenan los datos en un archivo binario y cómo se procesan en las computadoras.\n",
    "\n",
    "Los archivos binarios almacenan datos en forma de una secuencia de bytes. Estas secuencias son un flujo de grupos de ocho o dieciséis bits. Estos archivos se utilizan principalmente para almacenar datos personalizados para aplicaciones y, a veces, archivos que guardan varios tipos de datos, como imágenes, audio, texto, etc.\n",
    "\n",
    "Los desarrolladores que codifican estos formatos de archivo personalizados diseñan las aplicaciones de soporte para convertir la información binaria en alguna forma significativa. Por ejemplo, un archivo binario tiene los datos de 5 audios en formato de texto. Si abres el archivo en un editor de texto, verás secuencias de datos binarios, lo cual no es comprensible. Sin embargo, si el desarrollador diseña una aplicación de reproducción de audio que comprende y convierte estos datos binarios en audio y los reproduce, puede escucharlos.\n",
    "\n",
    "Los archivos binarios suelen contener encabezados como `.jpg` y `.png` para indicar el tipo de información que han almacenado. Los datos del archivo binario se cifran con 1 y 0, lo que lo hace más seguro ya que la información no es legible. Ocupan mucho menos espacio a medida que se almacenan en la memoria según su tamaño de bits (igual que el almacenamiento de la memoria).\n",
    "\n",
    "Las desventajas de los archivos binarios son que un simple error en los datos corrompe todo el archivo y es difícil corregir tales errores. Sin embargo hay formas de  prevenir la corrupción de datos en el futuro. El archivo debe sufrir muchas variaciones internas y formas de representación para transferir archivos binarios de una computadora a otra. Los usuarios habituales siempre deben tener un sistema de soporte convertible para ver los datos en archivos binarios."
   ]
  },
  {
   "cell_type": "markdown",
   "id": "4fbb19dd",
   "metadata": {},
   "source": [
    "#### Ejemplo: salida de un archivo de texto"
   ]
  },
  {
   "cell_type": "code",
   "execution_count": null,
   "id": "5d5adb20",
   "metadata": {},
   "outputs": [],
   "source": [
    "#include <fstream>\n",
    "#include <iostream>\n",
    "#include <cstring>\n",
    "using namespace std;\n",
    "\n",
    "struct Persona\n",
    "{\n",
    "   char nombre[20];\n",
    "   int edad;\n",
    "};\n",
    "\n",
    "int main()\n",
    "{\n",
    "   Persona checha;\n",
    "   strncpy(checha.nombre, \"Checha\", 6);\n",
    "   checha.edad=52;\n",
    "\n",
    "   //abre un archivo texto.out para el salida del texto\n",
    "   ofstream outFile(\"texto.out\");\n",
    "\n",
    "   if (! outFile)\n",
    "   {\n",
    "      cerr << \"no puedes abrir \\\"texto.out\\\" para la salida\\n\";\n",
    "      return -1;\n",
    "   }\n",
    "\n",
    "   outFile << checha.nombre;\n",
    "   outFile << checha.edad;\n",
    "\n",
    "   outFile.close();\n",
    "\n",
    "   return 0;\n",
    "}"
   ]
  },
  {
   "cell_type": "markdown",
   "id": "bf800ea0",
   "metadata": {},
   "source": [
    "#### Ejercicio: escribe la salida de un archivo binario"
   ]
  },
  {
   "cell_type": "code",
   "execution_count": null,
   "id": "3f7f0a29",
   "metadata": {},
   "outputs": [],
   "source": [
    "// Completa"
   ]
  },
  {
   "cell_type": "markdown",
   "id": "2bfa444c",
   "metadata": {},
   "source": [
    "Referencia general: https://cplusplus.com/doc/tutorial/files/"
   ]
  },
  {
   "cell_type": "code",
   "execution_count": null,
   "id": "fff528c4",
   "metadata": {},
   "outputs": [],
   "source": []
  }
 ],
 "metadata": {
  "kernelspec": {
   "display_name": "C++14",
   "language": "C++14",
   "name": "xcpp14"
  },
  "language_info": {
   "codemirror_mode": "text/x-c++src",
   "file_extension": ".cpp",
   "mimetype": "text/x-c++src",
   "name": "c++",
   "version": "14"
  }
 },
 "nbformat": 4,
 "nbformat_minor": 5
}
