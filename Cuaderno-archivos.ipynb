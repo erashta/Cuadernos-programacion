{
 "cells": [
  {
   "cell_type": "markdown",
   "id": "c8ac1463",
   "metadata": {},
   "source": [
    "### Archivos\n",
    "\n",
    "En C++, manejamos y organizamos archivos, carpetas y directorios. Podemos escribir archivos y mostrar los elementos en los archivos creados. ¿Qué es exactamente un archivo en C++?. \n",
    "\n",
    "Los archivos creados en C++ ayudan a almacenar datos en el disco duro y permanecen en el sistema para su uso posterior. Esto es diferente de los programas tradicionales, donde los datos u objetos que contienen datos se eliminan después de la finalización del programa para recuperar el espacio de memoria temporal asignado. Muchas veces, necesitamos qu los datos se almacenen de forma segura en el sistema, por lo que obtener elementos de un archivo requiere menos tiempo. \n"
   ]
  },
  {
   "cell_type": "markdown",
   "id": "4646aa63",
   "metadata": {},
   "source": [
    "#### Flujos\n",
    "\n",
    "Para que el usuario ingrese y proporcione detalles o valores, usamos flujos de entrada (input streams). Un flujo (stream) se refiere a un grupo de bytes a los que se puede acceder secuencialmente. \n",
    "Hay dos tipos diferentes de stream. \n",
    "\n",
    "Los **flujos de entrada** se utilizan para contener la entrada de un usuario dada desde un teclado. Por ejemplo, el usuario puede presionar cualquier tecla del teclado, incluso cuando no se le solicite. En una situación como esta, todas estas claves se guardan en el flujo de entrada y se usan más tarde cuando el propio programa lo requiere. \n",
    "\n",
    "El segundo tipo es un **flujo de salida** (output stream), que se utiliza para la salida a un monitor, archivo o impresora. Por ejemplo, supongamos que necesitas una impresión, pero la impresora está trabajando actualmente en otro documento, por lo que tus datos/archivo esperan su turno para ser entregados como salida. Para poder usar todas estas funcionalidades en tu código C++, debes incluir el archivo de encabezado `iostream` que proporciona al programa una jerarquía completa de clases (herencia múltiple) para hacer uso de todas las clases de E/S.\n",
    "\n",
    "\n",
    "Aunque la clase `iostream` se deriva de `ios_base`, trabaja directamente con `iostream`. Los símbolos `<<` o `>>` no deben confundirse con `mayor que` o `menor que`. En C++, estos son operadores especiales importantes en codificación. \n",
    "\n",
    "- La clase `iostream` puede manejar flujos de entrada y salida. Es la clase base para todas las demás clases de flujo de E/S que usaremos.\n",
    "\n",
    "- La clase `istream` es para los flujos de entrada y esta clase se deriva de la clase `iostream`. El operador de extracción `(>>)` elimina valores del flujo creado cuando el usuario presiona las teclas (ya sea que se le solicite o no). También tiene funciones para operaciones de entrada como `get()` y `getline()`.\n",
    "\n",
    "\n",
    "- La clase `ostream` es para flujos de salida y esta clase se deriva de la clase `iostream`. El operador de inserción `(<<)` se usa para poner valores en el flujo para que se muestren en dispositivos de salida como monitores. También tiene funciones para operaciones de entrada como `put()` y `write()`.\n",
    "\n",
    "- La clase `fstream` puede manejar operaciones de entrada y salida relacionadas con la apertura y el cierre de archivos, como leer elementos particulares de un archivo o escribir en un archivo. Tiene varias funciones con una operatividad especial. \n",
    "\n",
    "\n",
    "- La clase `ifstream` maneja todas las operaciones relacionadas con la entrada de archivos y tiene varias funciones con operabilidad especial, como `get()`, `getline()`, `read()`, `seekg()` y `tellg()`.\n",
    "\n",
    "- La clase `ofstream` puede manejar operaciones de entrada relacionadas con la escritura en un archivo. Tiene varias funciones con operabilidad especial como `put()`, `write()`, `seekp()` y `tellp()`.\n",
    "\n",
    "- La clase `streambuf` se utiliza para administrar los flujos de entrada y salida a través de un puntero, que apunta al búfer.\n",
    "\n"
   ]
  },
  {
   "cell_type": "markdown",
   "id": "b0417859",
   "metadata": {},
   "source": [
    "#### Ejemplo"
   ]
  },
  {
   "cell_type": "code",
   "execution_count": null,
   "id": "7fc137d4",
   "metadata": {},
   "outputs": [],
   "source": [
    "#include <iostream>\n",
    "#include <fstream>\n",
    "using namespace std;\n",
    "int main()\n",
    "{\n",
    "    ofstream ofObj;\n",
    "    string linea1;\n",
    "    ofObj.open(\"archivo1.txt\");\n",
    "    \n",
    "    while (ofObj)\n",
    "    {\n",
    "        getline(cin, linea1);\n",
    "        if (linea1 == \"-1\")\n",
    "            break;\n",
    "        cout<< linea << endl;\n",
    "    }\n",
    "    ofObj.close();\n",
    "    ifstream ifObj;\n",
    "    ifObj.open(\"archivo1.txt\");\n",
    "    while (ifObj)\n",
    "    {\n",
    "        getline(ifObj, linea1);\n",
    "        cout << linea1 << endl;\n",
    "    }\n",
    "    ifObj.close();\n",
    "        return 0;\n",
    "}"
   ]
  },
  {
   "cell_type": "markdown",
   "id": "cd1ba2c2",
   "metadata": {},
   "source": [
    "En este código, usamos la clase `ofstream` y creamos un objeto  y un valor de cadena. Luego usamos el método `open` para acceder al archivo en modo abierto.  El texto ingresado se escribe en el archivo usando el objeto de clase `ifstream`.  Luego, el programa imprime el contenido del archivo recién escrito. Se recurre al método `close` para cerrar el archivo que habíamos abierto anteriormente.\n"
   ]
  },
  {
   "cell_type": "markdown",
   "id": "95fbdf68",
   "metadata": {},
   "source": [
    "### Operaciones de archivos \n",
    "\n",
    "Los principales pasos necesarios en C++ para el manejo de archivos son los siguientes: \n",
    "\n",
    "Abrir un archivo: este es el primer paso que se da hacia la administración de archivos en C++ y se puede hacer pasando el nombre de archivo en el constructor cuando se crea un objeto o usando el método `open()`. La sintaxis para abrir un archivo es la siguiente: \n",
    "\n"
   ]
  },
  {
   "cell_type": "code",
   "execution_count": null,
   "id": "b5a0e466",
   "metadata": {},
   "outputs": [],
   "source": [
    "void open(const char* ourFileName, ios::openMode mode); "
   ]
  },
  {
   "cell_type": "code",
   "execution_count": null,
   "id": "70e073fb",
   "metadata": {},
   "outputs": [],
   "source": [
    "open()"
   ]
  },
  {
   "cell_type": "markdown",
   "id": "27f0032d",
   "metadata": {},
   "source": [
    "Ahora, se pueden activar varios modos abiertos en C++. \n",
    "\n",
    "Ver: https://www.guru99.com/cpp-file-read-write-open.html.\n",
    "\n",
    "También podemos combinar diferentes modos de apertura separando cada uno de ellos mediante el símbolo |, llamado símbolo lógico `or`. \n",
    "\n",
    "Escribir en un archivo: usando las clases `ofstream` o `fstream` para ingresar datos en los archivos creados o abiertos. \n",
    "\n",
    "Lectura de un archivo: usando las clases `ifstream` o `fstream` para obtener datos de los archivos creados o abiertos. \n",
    "\n",
    "Cerrar un archivo: este es el último paso importante en el manejo de archivos. Al finalizar el programa, la memoria se libera automáticamente. Sin embargo, para no arriesgarnos  siempre debemos cerrar los archivos.\n"
   ]
  },
  {
   "cell_type": "code",
   "execution_count": null,
   "id": "b748f599",
   "metadata": {},
   "outputs": [],
   "source": [
    "#include <iostream>\n",
    "#include <fstream> // operaciones de archivos\n",
    "using namespace std;\n",
    "\n",
    "int main()\n",
    "{\n",
    "    fstream archivo1;\n",
    "    archivo.open(\"archivo1\",ios::out);\n",
    "    if(!archivo1)\n",
    "    {\n",
    "        cout<<\"El archivo no fue creado\";\n",
    "    }\n",
    "    else\n",
    "    {\n",
    "        cout<<\"El archivo ha sido creado\";\n",
    "        archivo1.close();\n",
    "    }\n",
    "    return 0;\n",
    "}"
   ]
  },
  {
   "cell_type": "markdown",
   "id": "63c09ee9",
   "metadata": {},
   "source": [
    "En este código, usamos la clase `fstream` y creamos un objeto de esa clase. Usamos el método `open` para acceder al archivo en modo abierto. Luego, el programa imprime el mensaje `El archivo ha sido creado`. \n",
    "\n",
    "Se recurre al método `close` para cerrar el archivo que abrimos anteriormente.\n"
   ]
  },
  {
   "cell_type": "markdown",
   "id": "3e8c0785",
   "metadata": {},
   "source": [
    "#### Ejemplo"
   ]
  },
  {
   "cell_type": "code",
   "execution_count": null,
   "id": "4d97d6f8",
   "metadata": {},
   "outputs": [],
   "source": [
    "#include <iostream>\n",
    "#include <fstream> // trabajando con archivos de texto\n",
    "using namespace std;\n",
    "\n",
    "int main()\n",
    "\n",
    "{\n",
    "\n",
    "    ofstream ofObj;\n",
    "    string linea1;\n",
    "    ofObj.open(\"archivos1.txt\");\n",
    "    while (ofObj)\n",
    "    {\n",
    "        getline(cin, linea1);\n",
    "        if (linea1 == \"-1\")\n",
    "            break;\n",
    "        cout<< linea1 << endl;\n",
    "    }\n",
    "    ofObj.close();\n",
    "    ifstream ifObj;\n",
    "    ifObj.open(\"archivos1.txt\");\n",
    "    while (ifObj)\n",
    "    {\n",
    "        getline(ifObj, linea1);\n",
    "            cout << linea1 << endl;\n",
    "    }\n",
    "    ifObj.close();\n",
    "        return 0;\n",
    "}"
   ]
  },
  {
   "cell_type": "markdown",
   "id": "b7d6a511",
   "metadata": {},
   "source": [
    "En este código, usamos la clase `ofstream` y creamos UN objeto de esa clase y una cadena. Luego usamos el método `open` para acceder al en modo abierto. El texto ingresado se escribe en el archivo usando el objeto de clase `ifstream`. Luego, el programa imprime el contenido del archivo recién escrito. \n",
    "\n",
    "Se recurre al método `close` para cerrar el archivo que habíamos abierto anteriormente.\n",
    "\n"
   ]
  },
  {
   "cell_type": "markdown",
   "id": "8cfebe97",
   "metadata": {},
   "source": [
    "### ¿Qué es un archivo binario?\n",
    "\n",
    "Comprendamos cómo se almacenan los datos en un archivo binario y cómo se procesan en las computadoras.\n",
    "\n",
    "Los archivos binarios almacenan datos en forma de una secuencia de bytes. Estas secuencias son un flujo de grupos de ocho o dieciséis bits. Estos archivos se utilizan principalmente para almacenar datos personalizados para aplicaciones y, a veces, archivos que guardan varios tipos de datos, como imágenes, audio, texto, etc.\n",
    "\n",
    "Los desarrolladores que codifican estos formatos de archivo personalizados diseñan las aplicaciones de soporte para convertir la información binaria en alguna forma significativa. Por ejemplo, un archivo binario tiene los datos de 5 audios en formato de texto. Si abres el archivo en un editor de texto, verás secuencias de datos binarios, lo cual no es comprensible. Sin embargo, si el desarrollador diseña una aplicación de reproducción de audio que comprende y convierte estos datos binarios en audio y los reproduce, puede escucharlos.\n",
    "\n",
    "Los archivos binarios suelen contener encabezados como `.jpg` y `.png` para indicar el tipo de información que han almacenado. Los datos del archivo binario se cifran con 1 y 0, lo que lo hace más seguro ya que la información no es legible. Ocupan mucho menos espacio a medida que se almacenan en la memoria según su tamaño de bits (igual que el almacenamiento de la memoria).\n",
    "\n",
    "Las desventajas de los archivos binarios son que un simple error en los datos corrompe todo el archivo y es difícil corregir tales errores. Sin embargo hay formas de  prevenir la corrupción de datos en el futuro. El archivo debe sufrir muchas variaciones internas y formas de representación para transferir archivos binarios de una computadora a otra. Los usuarios habituales siempre deben tener un sistema de soporte convertible para ver los datos en archivos binarios."
   ]
  },
  {
   "cell_type": "markdown",
   "id": "4fbb19dd",
   "metadata": {},
   "source": [
    "#### Ejemplo: salida de un archivo de texto"
   ]
  },
  {
   "cell_type": "code",
   "execution_count": null,
   "id": "5d5adb20",
   "metadata": {},
   "outputs": [],
   "source": [
    "#include <fstream>\n",
    "#include <iostream>\n",
    "#include <cstring>\n",
    "using namespace std;\n",
    "\n",
    "struct Persona\n",
    "{\n",
    "   char nombre[20];\n",
    "   int edad;\n",
    "};\n",
    "\n",
    "int main()\n",
    "{\n",
    "   Persona checha;\n",
    "   strncpy(checha.nombre, \"Checha\", 6);\n",
    "   checha.edad=52;\n",
    "\n",
    "   //abre un archivo texto.out para el salida del texto\n",
    "   ofstream outFile(\"texto.out\");\n",
    "\n",
    "   if (! outFile)\n",
    "   {\n",
    "      cerr << \"no puedes abrir \\\"texto.out\\\" para la salida\\n\";\n",
    "      return -1;\n",
    "   }\n",
    "\n",
    "   outFile << checha.nombre;\n",
    "   outFile << checha.edad;\n",
    "\n",
    "   outFile.close();\n",
    "\n",
    "   return 0;\n",
    "}"
   ]
  },
  {
   "cell_type": "markdown",
   "id": "bf800ea0",
   "metadata": {},
   "source": [
    "#### Ejercicio: escribe la salida de un archivo binario"
   ]
  },
  {
   "cell_type": "code",
   "execution_count": null,
   "id": "3f7f0a29",
   "metadata": {},
   "outputs": [],
   "source": [
    "// Completa"
   ]
  }
 ],
 "metadata": {
  "kernelspec": {
   "display_name": "C++14",
   "language": "C++14",
   "name": "xcpp14"
  },
  "language_info": {
   "codemirror_mode": "text/x-c++src",
   "file_extension": ".cpp",
   "mimetype": "text/x-c++src",
   "name": "c++",
   "version": "14"
  }
 },
 "nbformat": 4,
 "nbformat_minor": 5
}
