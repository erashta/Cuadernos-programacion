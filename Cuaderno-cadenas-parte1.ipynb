{
 "cells": [
  {
   "cell_type": "markdown",
   "id": "ee37b6fc",
   "metadata": {},
   "source": [
    "### Chars\n",
    "\n",
    "El tipo de datos `char` fue diseñado para contener un solo carácter. Un carácter puede ser una sola letra, número, símbolo o espacio en blanco. \n",
    "\n",
    "`char` es un tipo integral, lo que significa que el valor subyacente se almacena como un número entero. De manera similar a cómo un valor booleano 0 se interpreta como `false` y un valor distinto de cero se interpreta como verdadero, el número entero almacenado por una variable `char` se interpreta como un carácter ASCII.\n",
    "\n",
    "[ASCII](https://www.ascii-code.com/) define una forma particular de representar los caracteres ingleses (además de algunos otros símbolos) como números entre `0` y `127`. Por ejemplo, el código ASCII `97` se interpreta como el carácter `'a'`.\n",
    "\n",
    "Los caracteres literales siempre se colocan entre comillas simples (por ejemplo, `'g'`, `'1'`, `' '`)."
   ]
  },
  {
   "cell_type": "markdown",
   "id": "086899a1",
   "metadata": {},
   "source": [
    "#### Inicializando caracteres\n",
    "\n",
    "Puede inicializar variables char usando literales de caracteres:"
   ]
  },
  {
   "cell_type": "code",
   "execution_count": null,
   "id": "9ab9c0fd",
   "metadata": {},
   "outputs": [],
   "source": [
    "char ch2{'a'}; // inicializa con 'a' (almacenado como entero 97) (preferido)"
   ]
  },
  {
   "cell_type": "markdown",
   "id": "3995f97e",
   "metadata": {},
   "source": [
    "También puede inicializar caracteres con números enteros, pero esto debe evitarse si es posible."
   ]
  },
  {
   "cell_type": "code",
   "execution_count": null,
   "id": "204bec68",
   "metadata": {},
   "outputs": [],
   "source": [
    "char ch1{ 97 }; // inicializa con el entero 97 ('a') (no preferido)"
   ]
  },
  {
   "cell_type": "markdown",
   "id": "2efdd07f",
   "metadata": {},
   "source": [
    "**Advertencia**\n",
    "\n",
    "Ten cuidado de no mezclar números de caracteres con números enteros. Las siguientes dos inicializaciones no son iguales:"
   ]
  },
  {
   "cell_type": "code",
   "execution_count": null,
   "id": "b44e6fa8",
   "metadata": {},
   "outputs": [],
   "source": [
    "char ch{5}; // inicializa con entero 5 (almacenado como entero 5)\n",
    "char ch{'5'}; // inicializa con '5' (almacenado como entero 53)"
   ]
  },
  {
   "cell_type": "markdown",
   "id": "0fbba263",
   "metadata": {},
   "source": [
    "Los números de caracteres están destinados a usarse cuando queremos representar números como texto, en lugar de números para aplicar operaciones matemáticas."
   ]
  },
  {
   "cell_type": "markdown",
   "id": "cb61b8e3",
   "metadata": {},
   "source": [
    "#### Impresión de caracteres\n",
    "\n",
    "Cuando se usa `std::cout` para imprimir un carácter, `std::cout` genera la variable `char` como un carácter ASCII:"
   ]
  },
  {
   "cell_type": "code",
   "execution_count": null,
   "id": "065857ef",
   "metadata": {},
   "outputs": [],
   "source": [
    "// completa"
   ]
  },
  {
   "cell_type": "markdown",
   "id": "82c4a5f8",
   "metadata": {},
   "source": [
    "#### Ingresando caracteres\n",
    "\n",
    "El siguiente programa le pide al usuario que ingrese un carácter, luego imprime el carácter:"
   ]
  },
  {
   "cell_type": "code",
   "execution_count": null,
   "id": "2eb28838",
   "metadata": {},
   "outputs": [],
   "source": [
    "// Completa"
   ]
  },
  {
   "cell_type": "markdown",
   "id": "f2bb1dc5",
   "metadata": {},
   "source": [
    "**Ejercicio**\n",
    "\n",
    "¿Qué sucede aquí?"
   ]
  },
  {
   "cell_type": "code",
   "execution_count": null,
   "id": "ee0a1f33",
   "metadata": {},
   "outputs": [],
   "source": [
    "#include <iostream>\n",
    "\n",
    "int main()\n",
    "{\n",
    "    std::cout << \"Ingresa un caracter del teclado: \"; \n",
    "\n",
    "    char ch{};\n",
    "    std::cin >> ch; \n",
    "    std::cout << \"Tu has ingresado \" << ch << '\\n';\n",
    "\n",
    "    std::cin >> ch; \n",
    "    std::cout << \"Tu has ingresado : \" << ch << '\\n';\n",
    "\n",
    "    return 0;\n",
    "}"
   ]
  },
  {
   "cell_type": "markdown",
   "id": "bc195bfb",
   "metadata": {},
   "source": [
    "#### Tamaño de caracteres, rango y signo predeterminado\n",
    "\n",
    "Char está definido por C++ para que siempre tenga un tamaño de 1 byte. De forma predeterminada, un carácter puede ser `signed` o no `unsigned`. Si está utilizando caracteres para contener caracteres ASCII, no necesita especificar esto (ya que los caracteres con y sin signo pueden contener valores entre 0 y 127).\n",
    "\n",
    "Si está utilizando un carácter para contener números enteros pequeños (algo que no debes hacer a menos que estés optimizando explícitamente el espacio), siempre debe especificar si es `signed` o no. \n",
    "\n",
    "Un carácter `signed` puede contener un número entre `-128` y `127`. Un carácter `unsigned` puede contener un número entre `0` y `255`."
   ]
  },
  {
   "cell_type": "markdown",
   "id": "4e1e5a9c",
   "metadata": {},
   "source": [
    "#### Secuencias de escape\n",
    "\n",
    "Hay algunos caracteres en C++ que tienen un significado especial. Estos caracteres se denominan `secuencias de escape`. Una [secuencia de escape](https://en.cppreference.com/w/cpp/language/escape) comienza con un carácter `'\\'` (barra invertida) y luego una letra o número siguiente."
   ]
  },
  {
   "cell_type": "code",
   "execution_count": null,
   "id": "b20db20f",
   "metadata": {},
   "outputs": [],
   "source": [
    "#include <iostream>\n",
    "\n",
    "int main()\n",
    "{\n",
    "    std::cout << \"Primer linea\\nSegunda linea\\n\";\n",
    "    return 0;\n",
    "}"
   ]
  },
  {
   "cell_type": "code",
   "execution_count": null,
   "id": "10225426",
   "metadata": {},
   "outputs": [],
   "source": [
    "#include <iostream>\n",
    "\n",
    "int main()\n",
    "{\n",
    "    std::cout << \"C\\tJava\\tPython\\tC++\";\n",
    "    return 0;\n",
    "}"
   ]
  },
  {
   "cell_type": "markdown",
   "id": "fc5d06cb",
   "metadata": {},
   "source": [
    "Otras tres secuencias de escape son:\n",
    "\n",
    "`\\'` imprime una comilla simple\n",
    "\n",
    "`\\\"`  imprime una comilla doble\n",
    "\n",
    "`\\\\`  imprime una barra invertida\n"
   ]
  },
  {
   "cell_type": "markdown",
   "id": "b11b7cba",
   "metadata": {},
   "source": [
    "#### Evite los literales de varios caracteres\n",
    "\n",
    "Por motivos de compatibilidad con versiones anteriores, muchos compiladores de C++ admiten literales de varios caracteres, que son literales de caracteres que contienen varios caracteres (por ejemplo, `'56'`). Si son compatibles, tienen un valor definido por la implementación (lo que significa que varía según el compilador).\n",
    "\n",
    "Dado que no forman parte del estándar C++ y su valor no está estrictamente definido, se deben evitar los literales de varios caracteres.\n",
    "\n",
    "\n",
    "Evita los literales de varios caracteres (por ejemplo, `'56'`).\n",
    "\n",
    "El soporte literal de múltiples caracteres a veces causa problemas para los nuevos programadores. Considera el siguiente programa simple:"
   ]
  },
  {
   "cell_type": "code",
   "execution_count": null,
   "id": "f9d2c99a",
   "metadata": {},
   "outputs": [],
   "source": [
    "// Completa"
   ]
  },
  {
   "cell_type": "markdown",
   "id": "76f73229",
   "metadata": {},
   "source": [
    "¿Qué sucede?"
   ]
  },
  {
   "cell_type": "markdown",
   "id": "2e698c80",
   "metadata": {},
   "source": [
    "### Cadenas\n",
    "\n",
    "Ni C ni C++ tienen un tipo de cadena incorporado predeterminado. Las cadenas `estilo C` o `C-cadenas` simplemente se implementan como un arreglo de caracteres que termina con un carácter nulo (también conocido como 0). Esta última parte de la definición es importante: todas las cadenas estilo C son arreglo de caracteres, pero no todos los arreglos de caracteres son cadenas estilo C."
   ]
  },
  {
   "cell_type": "code",
   "execution_count": null,
   "id": "1201701c",
   "metadata": {},
   "outputs": [],
   "source": [
    "const char * str = \"Este es un literal de cadena. ¿Ves las comillas dobles?\""
   ]
  },
  {
   "cell_type": "markdown",
   "id": "3cdc4103",
   "metadata": {},
   "source": [
    "Los literales de cadena se indican mediante comillas dobles (`\"`) y se almacenan como `(const) C-cadena`. El carácter nulo se agrega automáticamente al final.\n",
    "\n",
    "La biblioteca estándar contiene funciones para procesar  C-cadenas, como `strlen`, `strcpy` y `strcat`. Estas funciones se definen en el encabezado de C `string.h` y en el encabezado de C++ `cstring`. Estas funciones  requieren que las cadenas terminen con un carácter nulo para funcionar correctamente."
   ]
  },
  {
   "cell_type": "code",
   "execution_count": null,
   "id": "f00b1335",
   "metadata": {},
   "outputs": [],
   "source": [
    "#include <iostream>\n",
    "#include <cstring>\n",
    "using namespace std;\n",
    "int main ()\n",
    "{\n",
    "    char s1[10] = \"Kapu\";\n",
    "    char s2[7] = \"mota\";\n",
    "    strcat (s1, s2);\n",
    "    cout << s1 << endl;\n",
    "}"
   ]
  },
  {
   "cell_type": "code",
   "execution_count": null,
   "id": "e69999a6",
   "metadata": {},
   "outputs": [],
   "source": [
    "#include <iostream>\n",
    "#include <cstring>\n",
    "using namespace std;\n",
    "int main()\n",
    "{\n",
    "    char s1[10] = \"\";\n",
    "    char s2[7] = \"Kapu\";\n",
    "    strcpy (s1, s2);\n",
    "    cout << s1 << endl;\n",
    "}"
   ]
  },
  {
   "cell_type": "code",
   "execution_count": null,
   "id": "d59a037b",
   "metadata": {},
   "outputs": [],
   "source": [
    "#include <iostream>\n",
    "#include <cstring>\n",
    "using namespace std;\n",
    "int main()\n",
    "{\n",
    "    char s1[20] = \"Programming\";\n",
    "    char s2[10] = \"gram\";\n",
    "    cout << strstr (s1, s2) << endl;\n",
    "}"
   ]
  },
  {
   "cell_type": "markdown",
   "id": "205086df",
   "metadata": {},
   "source": [
    "#### Desventajas de las C-cadenas\n",
    "\n",
    "Los arreglos C no rastrean su propio tamaño. Deben mantenerse al día con el tamaño por su cuenta o confiar en la función `strlen` de tiempo lineal para determinar el tamaño de cada cadena durante el tiempo de ejecución. \n",
    "\n",
    "Dado que C no tiene el concepto de `protección de límites`, el uso del carácter nulo es de suma importancia: las funciones de la biblioteca C lo requieren, o bien operan más allá de los límites del arreglo.\n",
    "\n",
    "Trabajar con `C-cadenas` no es intuitivo. Se requieren funciones para comparar cadenas y la salida de las función `strcmp` tampoco es intuitiva. Para funciones como `strcpy` y `strcat`  el programador debe recordar el orden correcto de los argumentos para cada llamada. Invertir argumentos puede tener un efecto no obvio pero negativo.\n",
    "\n",
    "Muchas `C-cadenas` se utilizan como arreglo de tamaño fijo. Esto es cierto tanto para los literales como para los arreglos que se declaran en la forma `char str[32]`. \n",
    "\n",
    "Para las cadenas de tamaño dinámico, los programadores deben preocuparse por asignar, cambiar el tamaño y copiar manualmente las cadenas.\n",
    "\n",
    "El concepto de tamaño/longitud de una cadena estilo C no es intuitivo y comúnmente da como resultado errores de uno en uno. El carácter nulo que marca el final requiere un byte de almacenamiento en un arreglo `char`. Esto significa que una cadena de longitud 24 debe almacenarse en un arreglo de caracteres de 25 bytes. \n",
    "Sin embargo, la función `strlen` devuelve la longitud de la cadena sin el carácter nulo. \n",
    "\n",
    "Este simple hecho ha hecho tropezar a muchos programadores al copiar la memoria. Eventualmente, termina con una cadena no terminada en nulo, lo que hace que las funciones de la biblioteca de cadenas operen fuera de los límites.\n"
   ]
  },
  {
   "cell_type": "markdown",
   "id": "8a383547",
   "metadata": {},
   "source": [
    "#### ¿Y si pudiéramos arreglar esas desventajas?\n",
    "\n",
    "Aquí hay algunas ideas:\n",
    "\n",
    "- Capacidad de almacenamiento flexible\n",
    " \n",
    "- Recuperación de longitud de cadena en tiempo constante (en lugar de una verificación funcional en tiempo lineal)\n",
    " \n",
    "- No hay necesidad de preocuparse por la gestión manual de la memoria o el cambio de tamaño de las cadenas\n",
    " \n",
    "- Los problemas de límites se manejan por el desarrollador, con o sin un carácter nulo.\n",
    " \n",
    "- Asignación intuitiva usando el operador `=` en lugar de `strcpy`\n",
    "  \n",
    "- Comparación intuitiva utilizando el operador == en lugar de `strcmp`\n",
    "  \n",
    "- Interfaces intuitivas para otras operaciones como concatenación, tokenización."
   ]
  },
  {
   "cell_type": "markdown",
   "id": "0af38586",
   "metadata": {},
   "source": [
    "#### La clase  std::string\n",
    "\n",
    "La clase `std::string` de C++  soluciona la mayoría de estos problemas. Fundamentalmente, puede considerar `std::string` como un contenedor para manejar arreglos de caracteres, similar a `std::vector<char>` con algunas adiciones de funciones especializadas.\n",
    "\n",
    "Esta clase administra el almacenamiento subyacente, almacenando sus cadenas de manera contigua. Puedes obtener acceso a este búfer subyacente utilizando la función `c_str()`, que devolverá un puntero al arreglo de caracteres que terminan en nulo. Esto permite que `std::string` interopere con las API de `C-cadenas`.\n",
    "\n",
    "\n",
    "En general la clase `string` sirve para manejar y manipular cadenas de caracteres. Sin embargo, debido a que las cadenas son, de hecho, secuencias de caracteres, también podemos representarlas como arreglos sencillos de elementos de tipos de carácter.\n",
    "\n",
    "\n",
    "\n",
    "Por ejemplo, lo siguiente declara un arreglo que puede almacenar hasta `20` elementos de tipo `char`:\n",
    "\n",
    "Revisa: https://cplusplus.com/reference/string/string/"
   ]
  },
  {
   "cell_type": "code",
   "execution_count": null,
   "id": "8a96418f",
   "metadata": {},
   "outputs": [],
   "source": [
    "char my_array[20];"
   ]
  },
  {
   "cell_type": "markdown",
   "id": "d64ea584",
   "metadata": {},
   "source": [
    "Este arreglo tiene capacidad para almacenar secuencias de hasta 20 caracteres, pero también se pueden almacenar secuencias más cortas. Por ejemplo, en algún punto de un programa se puede almacenar en `my_array` la secuencia `hola` o la secuencia `Feliz Navidad`, ya que ambas cabrían en una secuencia con capacidad para 20 caracteres.\n",
    "\n",
    "Por convención, el final de las cadenas representadas en secuencias de caracteres se señala mediante un carácter especial llamado carácter nulo (`null`) representado por 0 o usando el valor literal `'\\0'` (barra invertida, cero).\n"
   ]
  },
  {
   "cell_type": "code",
   "execution_count": null,
   "id": "a4050a7c",
   "metadata": {},
   "outputs": [],
   "source": [
    "#include <iostream>\n",
    "\n",
    "int main()\n",
    "{\n",
    "    std::cout << \"Hello, world!\\n\";\n",
    "    return 0;\n",
    "}"
   ]
  },
  {
   "cell_type": "markdown",
   "id": "a9ed9947",
   "metadata": {},
   "source": [
    "#### std::string\n",
    "\n",
    "La forma más sencilla de trabajar con cadenas y objetos de cadena en C++ es a través del tipo `std::string`, que se encuentra en el encabezado `<string>`.\n",
    "\n",
    "Podemos crear objetos de tipo `std::string` como cualquier otro objeto.\n"
   ]
  },
  {
   "cell_type": "code",
   "execution_count": null,
   "id": "3e3f1110",
   "metadata": {},
   "outputs": [],
   "source": [
    "#include <string> // permite usar std::string\n",
    "\n",
    "int main()\n",
    "{\n",
    "    std::string name {}; // cadena vacia\n",
    "\n",
    "    return 0;\n",
    "}"
   ]
  },
  {
   "cell_type": "markdown",
   "id": "3f41d2d2",
   "metadata": {},
   "source": [
    "Al igual que las variables normales, puedes inicializar o asignar valores a los objetos `std::string` como cabría esperar:"
   ]
  },
  {
   "cell_type": "code",
   "execution_count": null,
   "id": "4622bae8",
   "metadata": {},
   "outputs": [],
   "source": [
    "#include <string>\n",
    "\n",
    "int main()\n",
    "{\n",
    "    std::string nombre { \"Checha\" }; // inicializa nombre con la cadena literal \"Checha\"\n",
    "    nombre = \"Z\";              // cambia el nombre a \"Z\"\n",
    "\n",
    "    return 0;\n",
    "}"
   ]
  },
  {
   "cell_type": "markdown",
   "id": "974480f1",
   "metadata": {},
   "source": [
    "#### Salida de cadena\n",
    "\n",
    "Los objetos `std::string` se pueden generar como se esperaba usando `std::cout`:\n"
   ]
  },
  {
   "cell_type": "code",
   "execution_count": null,
   "id": "60368d7f",
   "metadata": {},
   "outputs": [],
   "source": [
    "#include <iostream>\n",
    "#include <string>\n",
    "\n",
    "int main()\n",
    "{\n",
    "    std::string nombre { \"Z\" };\n",
    "    std::cout << \"Mi nombre es: \" << nombre << '\\n';\n",
    "\n",
    "    return 0;\n",
    "}"
   ]
  },
  {
   "cell_type": "markdown",
   "id": "8edaa4f3",
   "metadata": {},
   "source": [
    "Las cadenas vacías no imprimirán nada:"
   ]
  },
  {
   "cell_type": "code",
   "execution_count": null,
   "id": "11372c18",
   "metadata": {},
   "outputs": [],
   "source": [
    "// Completa"
   ]
  },
  {
   "cell_type": "markdown",
   "id": "d4d62c3d",
   "metadata": {},
   "source": [
    "#### Entrada de cadena con std::cin\n",
    "\n",
    "¡Usar cadenas con `std::cin` puede generar algunas sorpresas! Considera el siguiente ejemplo:\n"
   ]
  },
  {
   "cell_type": "code",
   "execution_count": null,
   "id": "ea78a9b8",
   "metadata": {},
   "outputs": [],
   "source": [
    "// Completa"
   ]
  },
  {
   "cell_type": "markdown",
   "id": "8f848404",
   "metadata": {},
   "source": [
    "#### Usa std::getline()  para ingresar texto\n",
    "\n",
    "Para leer una línea completa de entrada en una cadena, es mejor usar la función `std::getline()`. `std::getline()` requiere dos argumentos: el primero es `std::cin` y el segundo es su variable de cadena. \n",
    "\n",
    "Aquí está el  programa anterior que el anterior usando `std::getline()`:\n"
   ]
  },
  {
   "cell_type": "code",
   "execution_count": null,
   "id": "7d5698fe",
   "metadata": {},
   "outputs": [],
   "source": [
    "// Completa"
   ]
  },
  {
   "cell_type": "markdown",
   "id": "4bec1ee9",
   "metadata": {},
   "source": [
    "#### ¿Qué es std::ws?\n",
    "\n",
    "C++ también admite manipuladores de entrada, que alteran la forma en que se acepta la entrada. El manipulador de entrada `std::ws` le dice a `std::cin` que ignore cualquier espacio en blanco inicial antes de la extracción. El espacio en blanco inicial es cualquier carácter de espacio en blanco (espacios, tabuladores, líneas nuevas) que aparece al comienzo de la cadena.\n",
    "\n",
    "Exploremos por qué esto es útil. Considera el siguiente programa:\n"
   ]
  },
  {
   "cell_type": "code",
   "execution_count": null,
   "id": "089d4172",
   "metadata": {},
   "outputs": [],
   "source": [
    "#include <string>\n",
    "#include <iostream>\n",
    "\n",
    "int main()\n",
    "{\n",
    "    std::cout << \"Escoge 1 o 2: \";\n",
    "    int eleccion{};\n",
    "    std::cin >> eleccion;\n",
    "\n",
    "    std::cout << \"Ahora ingresa tu nombre : \";\n",
    "    std::string nombre{};\n",
    "    std::getline(std::cin, nombre); // nota: no std::ws aqui\n",
    "\n",
    "    std::cout << \"Hola, \" << nombre << \", tu escogiste \" << eleccion << '\\n';\n",
    "\n",
    "    return 0;\n",
    "}"
   ]
  },
  {
   "cell_type": "markdown",
   "id": "085c47d1",
   "metadata": {},
   "source": [
    "¿Vés algún problema en los resultados?"
   ]
  },
  {
   "cell_type": "code",
   "execution_count": null,
   "id": "fce0a3f9",
   "metadata": {},
   "outputs": [],
   "source": [
    "// Corrección del problema\n"
   ]
  },
  {
   "cell_type": "markdown",
   "id": "6fc75ce7",
   "metadata": {},
   "source": [
    "#### Mejores prácticas\n",
    "\n",
    "Si usa `std::getline()` para leer cadenas, usa el manipulador de entrada `std::cin >> std::ws` para ignorar los espacios en blanco iniciales.\n",
    "\n",
    "El uso del operador de extracción (`>>`) con `std::cin` ignora los espacios en blanco iniciales.\n",
    "`std::getline()` no ignora los espacios en blanco iniciales a menos que use el manipulador de entrada `std::ws`."
   ]
  },
  {
   "cell_type": "markdown",
   "id": "b8d0c17c",
   "metadata": {},
   "source": [
    "#### Longitud de cadenas\n",
    "\n",
    "Si queremos saber cuántos caracteres hay en un `std::string` podemos preguntarle a un objeto `std::string` por su longitud. La sintaxis para hacer esto es diferente a la que ha visto antes, pero es bastante sencilla:"
   ]
  },
  {
   "cell_type": "code",
   "execution_count": null,
   "id": "99eb2dcc",
   "metadata": {},
   "outputs": [],
   "source": [
    "#include <iostream>\n",
    "#include <string>\n",
    "\n",
    "int main()\n",
    "{\n",
    "    std::string nombre{ \"Z\" };\n",
    "    std::cout << nombre << \" tiene \" << nombre.length() << \" caracteres\\n\";\n",
    "\n",
    "    return 0;\n",
    "}"
   ]
  },
  {
   "cell_type": "markdown",
   "id": "b1f98d4f",
   "metadata": {},
   "source": [
    "#### std::string puede ser costoso de inicializar y copiar\n",
    "\n",
    "Cada vez que se inicializa un `std::string`, se realiza una copia de la cadena utilizada para inicializarlo. Y cada vez que se pasa un `std::string` por valor a un parámetro `std::string` se realiza otra copia. Hacer copias de cadenas es costoso y debe evitarse si es posible.\n",
    "\n",
    "\n",
    "No pases `std::string` por valor, ya que hacer copias de `std::string` es costoso. Prefiere los parámetros `std::string_view`.\n"
   ]
  },
  {
   "cell_type": "markdown",
   "id": "f7cde88e",
   "metadata": {},
   "source": [
    "Considera el siguiente programa:"
   ]
  },
  {
   "cell_type": "code",
   "execution_count": null,
   "id": "57743e85",
   "metadata": {},
   "outputs": [],
   "source": [
    "#include <iostream>\n",
    "\n",
    "int main()\n",
    "{\n",
    "    int x { 5 };\n",
    "    std::cout << x << '\\n';\n",
    "\n",
    "    return 0;\n",
    "}"
   ]
  },
  {
   "cell_type": "markdown",
   "id": "45adecfe",
   "metadata": {},
   "source": [
    "Cuando se ejecuta la definición de `x` el valor de inicialización 5 se copia en la memoria asignada para `int x`. Para tipos fundamentales, inicializar (o copiar) una variable es rápido.\n",
    "\n",
    "Ahora considera este programa similar:\n"
   ]
  },
  {
   "cell_type": "code",
   "execution_count": null,
   "id": "ec15fe1b",
   "metadata": {},
   "outputs": [],
   "source": [
    "#include <iostream>\n",
    "#include <string>\n",
    "\n",
    "int main()\n",
    "{\n",
    "    std::string s{\"Hello, world!\" };\n",
    "    std::cout << s << '\\n';\n",
    "\n",
    "    return 0;\n",
    "}"
   ]
  },
  {
   "cell_type": "markdown",
   "id": "ae198a10",
   "metadata": {},
   "source": [
    "Vemos algo similar en este ejemplo:"
   ]
  },
  {
   "cell_type": "code",
   "execution_count": null,
   "id": "4f090200",
   "metadata": {},
   "outputs": [],
   "source": [
    "#include <iostream>\n",
    "#include <string>\n",
    "\n",
    "void imprimirCadena(std::string str)\n",
    "{\n",
    "    std::cout << str << '\\n';\n",
    "}\n",
    "\n",
    "int main()\n",
    "{\n",
    "    std::string s{ \"Hello, world!\" };\n",
    "    imprimirCadena(s);\n",
    "\n",
    "    return 0;\n",
    "}"
   ]
  },
  {
   "cell_type": "markdown",
   "id": "e773fc7b",
   "metadata": {},
   "source": [
    "#### std::string_view  (C++17)\n",
    "\n",
    "Para solucionar el problema de que `std::string` es caro de inicializar (o copiar), C++17 introdujo `std::string_view` (que vive en el encabezado `<string_view>`). \n",
    "\n",
    "`std::string_view` proporciona acceso de solo lectura a una cadena existente (una cadena literal de estilo C, una `std::string` o un arreglo de caracteres) sin hacer una copia.\n",
    "\n",
    "El siguiente ejemplo es idéntico al anterior, excepto que reemplazamos `std::string` con `std::string_view`.\n"
   ]
  },
  {
   "cell_type": "code",
   "execution_count": null,
   "id": "80a28ed8",
   "metadata": {},
   "outputs": [],
   "source": [
    "// Completa"
   ]
  },
  {
   "cell_type": "markdown",
   "id": "55b1ffde",
   "metadata": {},
   "source": [
    "#### Mejores prácticas \n",
    "\n",
    "Prefiere `std::string_view` sobre `std::string` cuando necesites una cadena de solo lectura, especialmente para parámetros de función."
   ]
  },
  {
   "cell_type": "markdown",
   "id": "ea9a3263",
   "metadata": {},
   "source": [
    "####  Funciones de la clase std::string"
   ]
  },
  {
   "cell_type": "markdown",
   "id": "f37defb4",
   "metadata": {},
   "source": [
    "La función `length()` averiguará la longitud de la cadena. Un beneficio de la orientación a objetos es que podemos llamar a las funciones sobre el objeto ya que están dentro del objeto. La función `size()` es lo mismo."
   ]
  },
  {
   "cell_type": "code",
   "execution_count": null,
   "id": "56ee506b",
   "metadata": {},
   "outputs": [],
   "source": [
    "// length() y size()\n",
    "\n",
    "#include <iostream>\n",
    "#include <string>\n",
    "using namespace std;\n",
    "int main()\n",
    "{\n",
    "    string str = \"Hello World\";\n",
    "    cout << \"Longitud: \" << str.length () << endl;\n",
    "    cout << \"Tamaño: \" << str.size () << endl;\n",
    "}"
   ]
  },
  {
   "cell_type": "markdown",
   "id": "51312840",
   "metadata": {},
   "source": [
    "Si queremos declarar e inicializar un objeto de cadena, escribimos,\n",
    "\n",
    "```\n",
    "String str = \"Bienvenido\";\n",
    "``` \n",
    "\n",
    "Si inicializamos esto, se creará un objeto de cadena. Esto creará un arreglo internamente. No tenemos que declarar un arreglo, internamente se creará una matriz y dentro de ese arreglo, la palabra `\"Bienvenido\"` se almacenará letra por letra. Luego, también se inserta un carácter nulo. \n",
    "\n",
    "Una cosa importante es que se ha creado una cadena más grande. No se creará un arreglo de tamaño exacto que se requiere para una cadena, sino se creará uno de tamaño un poco más grande. El tamaño del arreglo se creará más grande que la cadena. Así tendrás algo más de capacidad para almacenar o ampliar el sistema. \n",
    "\n",
    "Entonces, este tamaño del arreglo se conoce como la capacidad de una cadena y la cantidad de letras que se almacenan hasta el carácter nulo se denomina longitud de una cadena o también se denomina tamaño de una cadena.\n",
    "\n",
    "El siguiente código da la capacidad de una cadena y no creará un arreglo exactamente del tamaño de la cadena.  Se creará de un tamaño un poco más grande. \n",
    "\n",
    "Si le dimos una cadena más grande o aumentará la capacidad y también la longitud de la cadena. Es dinámico, irá cambiando de tamaño.\n",
    "\n"
   ]
  },
  {
   "cell_type": "code",
   "execution_count": null,
   "id": "58dcf2c7",
   "metadata": {},
   "outputs": [],
   "source": [
    "// capacity()\n",
    "\n",
    "#include <iostream>\n",
    "#include <string>\n",
    "using namespace std;\n",
    "int main()\n",
    "{\n",
    "    string str = \"Hello World\";\n",
    "    cout << \"Capacidad: \" << str.capacity () << endl;\n",
    "}"
   ]
  },
  {
   "cell_type": "markdown",
   "id": "a8b7b909",
   "metadata": {},
   "source": [
    "Esta función se utiliza para aumentar la capacidad de una cadena. Podemos mencionar el tamaño y cambiar la capacidad."
   ]
  },
  {
   "cell_type": "code",
   "execution_count": null,
   "id": "7a1d879a",
   "metadata": {},
   "outputs": [],
   "source": [
    "// resize()\n",
    "\n",
    "#include <iostream>\n",
    "#include <string>\n",
    "using namespace std;\n",
    "int main()\n",
    "{\n",
    "    string str = \"Hello World\";\n",
    "    str.resize (40);\n",
    "    cout << \"Capacidad: \" << str.capacity () << endl;"
   ]
  },
  {
   "cell_type": "markdown",
   "id": "8d703e95",
   "metadata": {},
   "source": [
    "Dependiendo del compilador, esta función proporciona el tamaño máximo posible para una cadena que podemos tener en el compilador. Esto puede variar de un compilador a otro. \n"
   ]
  },
  {
   "cell_type": "code",
   "execution_count": null,
   "id": "021513fc",
   "metadata": {},
   "outputs": [],
   "source": [
    "// max_size()\n",
    "\n",
    "#include <iostream>\n",
    "#include <string>\n",
    "using namespace std;\n",
    "int main()\n",
    "{\n",
    "    string str = \"Hello World\";\n",
    "    cout << \"Max: \" << str.max_size () << endl;\n",
    "}"
   ]
  },
  {
   "cell_type": "markdown",
   "id": "2547743c",
   "metadata": {},
   "source": [
    "Esta borrará el contenido de una cadena."
   ]
  },
  {
   "cell_type": "code",
   "execution_count": null,
   "id": "ed475ed7",
   "metadata": {},
   "outputs": [],
   "source": [
    "// clear()\n",
    "\n",
    "#include <iostream>\n",
    "#include <string>\n",
    "using namespace std;\n",
    "int main()\n",
    "{\n",
    "    string str = \"Hello World\";\n",
    "    str.clear ();\n",
    "    cout << \"Longitud: \" << str.length () << endl;\n",
    "}"
   ]
  },
  {
   "cell_type": "markdown",
   "id": "6baacf8b",
   "metadata": {},
   "source": [
    "Esta averiguará si una cadena está vacía o no."
   ]
  },
  {
   "cell_type": "code",
   "execution_count": null,
   "id": "402ae17d",
   "metadata": {},
   "outputs": [],
   "source": [
    "// empty()\n",
    "\n",
    "#include <iostream>\n",
    "#include <string>\n",
    "using namespace std;\n",
    "int main()\n",
    "{\n",
    "    string str = \"Hello World\";\n",
    "    if (!str.empty ())\n",
    "    {\n",
    "        cout << \"Cadena no vacia.\";\n",
    "    }\n",
    "}"
   ]
  },
  {
   "cell_type": "markdown",
   "id": "af610684",
   "metadata": {},
   "source": [
    "### Ejercicios\n",
    "\n",
    "1 . Escribe un programa que confirma si el usuario es un robot o no.\n",
    "\n",
    "2 . Escribe un programa que le pida al usuario que ingrese su nombre completo y su edad. Como salida, dígale al usuario la suma de su edad y el número de letras en su nombre (usa la función `std::string::length()` para obtener la longitud de la cadena). Para simplificar, cuenta los espacios en el nombre como una letra."
   ]
  },
  {
   "cell_type": "markdown",
   "id": "f3b49a8e",
   "metadata": {},
   "source": [
    "3 . Encuentre 3 problemas (que afectan a 4 líneas) en el siguiente código."
   ]
  },
  {
   "cell_type": "code",
   "execution_count": null,
   "id": "1a4bae40",
   "metadata": {},
   "outputs": [],
   "source": [
    "#include <cstdint> // para std::uint8_t\n",
    "#include <iostream>\n",
    "\n",
    "int main()\n",
    "{\n",
    "  std::cout << \"Cual es tu edad?\\n\";\n",
    "\n",
    "  std::uint8_t edad{};\n",
    "  std::cin >> edad;\n",
    "\n",
    "  std::cout << \"Puedes viajar a Andromeda Z-X111 [\";\n",
    "\n",
    "  if (edad >= 16)\n",
    "    std::cout << \"x\";\n",
    "  else\n",
    "    std::cout << \" \";\n",
    "\n",
    "  std::cout << \"]\\n\";\n",
    "\n",
    "  return 0;\n",
    "}"
   ]
  },
  {
   "cell_type": "code",
   "execution_count": null,
   "id": "7c2e82c1",
   "metadata": {},
   "outputs": [],
   "source": [
    "// Tus respuestas"
   ]
  }
 ],
 "metadata": {
  "kernelspec": {
   "display_name": "C++11",
   "language": "C++11",
   "name": "xcpp11"
  },
  "language_info": {
   "codemirror_mode": "text/x-c++src",
   "file_extension": ".cpp",
   "mimetype": "text/x-c++src",
   "name": "c++",
   "version": "11"
  }
 },
 "nbformat": 4,
 "nbformat_minor": 5
}
