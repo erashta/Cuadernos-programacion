{
 "cells": [
  {
   "cell_type": "markdown",
   "id": "856dd3db",
   "metadata": {},
   "source": [
    "## Fundamentos de Programación \n",
    "\n",
    "\n",
    "La programación informática es algo que se ha convertido en parte de nuestra vida cotidiana de tal manera que nos resulta natural, está presente en nuestros teléfonos inteligentes, computadoras, televisores, automóviles, etc. \n",
    "\n",
    "Hoy en día cada vez más empresas, y no solo en la industria del software, necesitan desarrollar aplicaciones móviles, o crear formas de mejorar sus canales de comunicación, o analizar gran cantidad de datos para poder ofrecer a sus clientes un mejor servicio o un nuevo producto. Pues bien, para poder hacer eso, la **programación de computadoras** juega un papel indispensable, y no estamos hablando de saber solo los comandos de un lenguaje de programación, sino de poder pensar y analizar cuál es la mejor manera de resolver un problema, y en este transmitir esas ideas a una computadora para crear algo que pueda ayudar a las personas. \n",
    "\n",
    "El objetivo de este curso es mostrar las dos caras de la moneda, por un lado dar una explicación sencilla de algunos de los algoritmos más populares en diferentes temas, y por otro lado mostrar un programa informático que contiene la estructura básica de cada algoritmo. \n"
   ]
  },
  {
   "cell_type": "markdown",
   "id": "36497297",
   "metadata": {},
   "source": [
    "### Concursos de Programación\n",
    "\n",
    "Los concursos de programación son excelentes lugares para involucrarse en algoritmos y programación, y hay un concurso para todos. \n",
    "\n",
    "* Para las personas de 12 a 18 años, quizás el concurso más importante sea Olympiad of Informatics , que consiste en resolver diferentes problemas utilizando la lógica y las computadoras. El siguiente enlace contiene los resultados, problemas y soluciones de todos los concursos que se han realizado desde 1989.  \n",
    "http://www.ioinformatics.org/history.shtml\n",
    "\n",
    "* Para los estudiantes universitarios existe el ACM-ICPC (ACM - International Collegiate Programming Contest). Los resultados de concursos anteriores y los conjuntos de problemas se pueden consultar en la web oficial del concurso. https://icpc.baylor.edu/ \n",
    "\n",
    "* Para estudiantes de posgrado o profesionales, existen otras opciones para seguir participando en concursos de programación. Hoy en día algunas de las empresas más grandes de la industria del software y otras organizaciones hacen sus propios concursos, cada uno con sus propias reglas y premios. Algunos de estos concursos son la **Facebook Hacker Cup** y el **Google Code Jam**. También **Topcoder** organiza algunos concursos que incluyen premios monetarios.\n",
    "\n"
   ]
  },
  {
   "cell_type": "markdown",
   "id": "67d7c214",
   "metadata": {},
   "source": [
    "#### Entrevistas de codificación\n",
    "\n",
    "Es bien sabido que las empresas más importantes de la industria del software tienen un proceso de contratación bien estructurado y altamente selectivo, que implica probar el conocimiento de algoritmos del candidato. \n",
    "\n",
    "Prepárate para tu entrevista, cada empresa tiene su propia cultura, sus propios procesos de contratación, así que trate de aprender sobre esto antes de la entrevista.\n",
    "\n",
    "* Si va a estudiar para una entrevista, confíe en tus fortalezas y concéntrese en tus debilidades. \n",
    "\n",
    "* En el momento antes de la entrevista trate de relajarse. Al final, debería poder disfrutar de la entrevista sin importar el resultado.\n",
    "\n",
    "* Independientemente del veredicto, el resultado de una entrevista siempre es positivo. \n",
    "\n"
   ]
  },
  {
   "cell_type": "markdown",
   "id": "67977bd9",
   "metadata": {},
   "source": [
    "### Jueces en línea \n",
    "\n",
    "Los jueces en línea son sitios web donde puede encontrar problemas de diferentes categorías y donde puede enviar su solución para cualquiera de esos problemas, que luego se evalúa comparándolo con las entradas y salidas de la prueba, y finalmente se le devuelve un resultado. \n",
    "\n",
    "Algunos de los jueces en línea más populares son: \n",
    "\n",
    "* [Leetcode](https://leetcode.com/). Uno de los sitios más populares para capacitarse para entrevistas de trabajo en las principales empresas tecnológicas. Contiene problemas de diferentes categorías. \n",
    "\n",
    "* [Project Euler](https://projecteuler.net/). Enfocado a las matemáticas, no es necesario enviar un código fuente, solo la respuesta al problema. \n",
    "\n",
    "* [Codeforces](https://codeforces.com/). Uno de los mejores jueces en línea para practicar, contiene problemas de diferentes categorías y con frecuencia programa competencias. También hay excelentes tutoriales y debates sobre soluciones. \n",
    "* [UVA Online Judge](https://onlinejudge.org/index.php). Aquí puede encontrar problemas de cualquier tipo, y hay más de 4000 problemas para elegir. \n",
    "\n",
    "* [Hacker Rank](https://www.hackerrank.com/). Un juez en línea popular para comenzar a codificar, tienen un camino para que pueda comenzar con problemas fáciles y luego pasar a los más complicados. \n",
    "\n",
    "\n",
    "* [CodeChef](https://www.codechef.com/). Esta plataforma es útil para preparar a los estudiantes para competencias de programación y para que los profesionales mejoren sus habilidades de codificación. Tiene una gran comunidad de desarrolladores y soporta más de 50 lenguajes de programación. \n",
    "\n",
    "* [Topcoder](https://www.topcoder.com/). Contiene tutoriales que explican con gran detalle diferentes algoritmos. Al resolver un problema los puntos obtenidos al resolverlo disminuyen a medida que pasa el tiempo, por lo que si desea mejorar su velocidad de codificación, este es el lugar correcto.\n",
    "\n",
    "* [Omega UP](https://omegaup.com/). Excelente herramienta para enseñar programación de computadoras. Es muy fácil crear tus propios problemas y también hay una gran base de datos de problemas para resolver. \n",
    "\n"
   ]
  },
  {
   "cell_type": "markdown",
   "id": "36cce4fb",
   "metadata": {},
   "source": [
    "## C y C++ \n",
    "\n",
    "El lenguaje de programación elegido para escribir el código fuente de los algoritmos de este curso es C++, junto con algunas funciones de C. Incluso cuando hay otros lenguajes populares como Java y Python, elegimos C++ porque sigue siendo uno de los lenguajes más robustos. en el mercado, y con el uso de la Standard Template Library(STL), podemos implementar estructuras de datos más complejas, manipular cadenas, usar algoritmos predefinidos, etc. Otra razón por la que elegimos C++ es porque se ejecuta más rápido que otros lenguajes, por ejemplo, en algunos casos, Java puede ser 10 veces más lento y Python es incluso más lento que eso.\n",
    "\n",
    "\n",
    "Las funciones de C++ se pueden optimizar agregando las siguientes líneas al comienzo de la función main\n",
    "\n",
    "```\n",
    " cin.tie(0); \n",
    "ios_base::sync_with_stdio(0);\n",
    "```\n",
    "\n",
    "C ++ también nos brinda todas las ventajas de la `Programación Orientada a Objetos (OOP)`  y la biblioteca STL, que contiene algoritmos, estructuras de datos, capacidad de manipulación de cadenas, etc. Otros lenguajes de programación tienen herramientas poderosas para la resolución de problemas. \n",
    "\n",
    "\n"
   ]
  },
  {
   "cell_type": "code",
   "execution_count": null,
   "id": "0ce76757",
   "metadata": {},
   "outputs": [],
   "source": [
    "# include <iostream>  "
   ]
  },
  {
   "cell_type": "code",
   "execution_count": null,
   "id": "590d60f6",
   "metadata": {},
   "outputs": [],
   "source": [
    "#include <bits/stdc++.h>\n",
    "using namespace std;\n",
    "\n",
    "int x, y, d;\n",
    "void extendedEuclidean(int, int);\n"
   ]
  },
  {
   "cell_type": "code",
   "execution_count": null,
   "id": "74ec390b",
   "metadata": {},
   "outputs": [],
   "source": [
    "void extendedEuclidean(int a, int b) {\n",
    "  if (b == 0) {\n",
    "    d = a;\n",
    "    x = 1;\n",
    "    y = 0;\n",
    "  } else {\n",
    "    extendedEuclidean(b, a % b);\n",
    "    int x1 = x;\n",
    "    int y1 = y;\n",
    "    x = y1;\n",
    "    y = x1 - (a / b) * y1;\n",
    "  }\n",
    "}"
   ]
  },
  {
   "cell_type": "code",
   "execution_count": null,
   "id": "14ba9027",
   "metadata": {},
   "outputs": [],
   "source": [
    "int main() {\n",
    "  int a, b;\n",
    "\n",
    "  scanf(\"%d %d\", &a, &b);\n",
    "  extendedEuclidean(a, b);\n",
    "  \n",
    "  printf(\"%d %d %d\\n\", x, y, d);\n",
    "  return 0;\n",
    "}"
   ]
  },
  {
   "cell_type": "markdown",
   "id": "10edf95b",
   "metadata": {},
   "source": [
    "### Recursión, Algoritmos, operaciones a nivel de bit\n",
    "\n",
    "`Primero, resuelve el problema. Luego, escribe el código` --> `John Johnson`  \n",
    "\n",
    " \n",
    "La recursión es una técnica muy utilizada que al principio no es tan fácil de entender. De hecho, puede parecer una especie de magia, pero la verdad es que no es tan complejo y es una herramienta muy poderosa, ya que algunos problemas son imposibles de resolver sin recursividad. \n",
    "\n",
    "El análisis de algoritmos nos ayuda a identificar qué tan bueno o malo es un algoritmo para un determinado problema, porque dependiendo de los datos, algunos algoritmos encajarán mejor que otros. \n",
    "\n",
    "\n",
    "Las operaciones a nivel de bit nos ayudará a comprender cómo se realizan las operaciones a nivel de bit. Recuerda que todos los cálculos en su computadora son binarios, por lo que todo se traduce a 0 y 1, y hay operadores que nos permiten hacer operaciones directamente en los bits, y como veremos, eso puede ahorrarnos no solo tiempo de ejecución, sino también el tiempo de codificación. \n",
    "\n",
    "\n",
    "\n"
   ]
  },
  {
   "cell_type": "markdown",
   "id": "957fbd09",
   "metadata": {},
   "source": [
    "## Recursividad \n",
    "\n",
    "La recursividad es una herramienta muy poderosa y muchos de los algoritmos contenidos en este la usan. Es por eso que decidimos agregar una breve descripción del mismo. \n",
    "\n",
    "Cuando se llama a una función dentro de la misma función, decimos que esta función es una función recursiva. Supongamos que hay una función $f(n)$, que devuelve el factorial de un número dado n. Lo sabemos: \n",
    "\n",
    "$$\n",
    "\\begin{align*}\n",
    "f(0) &= 1 \\\\\n",
    "f(1) &= 1 \\\\\n",
    "f(2) &= 1 \\times2 \\\\\n",
    "f(3) &= 1 \\times 2 \\times 3 = f (2) \\times 3 \\\\\n",
    "f(3) &= 1 \\times 2 \\times 3 \\times 4 = f (3) \\times 4\\\\\n",
    " \\vdots \\\\\n",
    "f(n) &= 1 \\times 2 \\times  \\times n = f(n- 1) \\times n \\\\\n",
    "\\end{align*}\n",
    "$$\n",
    "\n",
    "Vemos que el factorial de n se obtiene multiplicando n por el factorial de n - 1, y el factorial de n - 1 se obtiene por el factorial de n -2, y así hasta llegar a 0!. Entonces decimos que 0! es el **caso base**, ya que es el que genera el resto de los factoriales. Si vemos esto como una función recursiva, se vería como:"
   ]
  },
  {
   "cell_type": "code",
   "execution_count": null,
   "id": "64b517ce",
   "metadata": {},
   "outputs": [],
   "source": [
    "int f(unsigned int n) {\n",
    "    if (n == 0) {\n",
    "        return 1;\n",
    "  }\n",
    "    return n * f(n - 1);\n",
    "}"
   ]
  },
  {
   "cell_type": "markdown",
   "id": "8ad6305b",
   "metadata": {},
   "source": [
    "La validación para verificar si n es cero es crítica, porque sin ella la recursividad nunca se detendría y la memoria de nuestra computadora eventualmente colapsaría. Cada vez que se llama recursivamente a una función, toda la memoria que usa se almacena en un **heap**, y esa memoria se libera hasta que finaliza la función. Por eso es indispensable agregar una condición de parada, y evitar terminar en un proceso *infinito*. \n",
    "\n",
    "Resumiendo, hay dos partes fundamentales que toda función recursiva debe tener: \n",
    "\n",
    "1. La función debe llamarse a sí misma dentro de la función.\n",
    "\n",
    " 2. Se debe dar una condición de parada o caso base para evitar un proceso infinito. \n",
    "\n"
   ]
  },
  {
   "cell_type": "markdown",
   "id": "78daa50b",
   "metadata": {},
   "source": [
    "## Técnica: Memorización \n",
    "\n",
    "La memorización es una forma de mejorar la recursividad. Es una técnica que consiste en almacenar en memoria valores que ya hemos calculado para evitar calcularlos de nuevo, mejorando así el tiempo de ejecución del algoritmo. \n",
    "Hagamos un ejemplo para ver la importancia de usar la memorización. \n",
    "\n",
    "Considera la función de recurrencia siguiente, que calcula el n-ésimo número de Fibonacci. Los primeros dos números de Fibonacci son 1, y el n-ésimo número de Fibonacci es la suma de los dos números de Fibonacci anteriores, para $n \\geq 2$. \n",
    "\n"
   ]
  },
  {
   "cell_type": "code",
   "execution_count": null,
   "id": "cdcd39b7",
   "metadata": {},
   "outputs": [],
   "source": [
    "int f(int n) {\n",
    "    if (n == 0 || n == 1) {\n",
    "        return 1;\n",
    "    }\n",
    "    \n",
    "    return f(n - 1) + f(n - 2);\n",
    "}"
   ]
  },
  {
   "cell_type": "markdown",
   "id": "96794b9c",
   "metadata": {},
   "source": [
    "Ahora, supongamos que queremos obtener el quinto número de Fibonacci. \n",
    "\n",
    "**Pregunta**:¿Cual es el procedimiento de recursividad? \n",
    " "
   ]
  },
  {
   "cell_type": "code",
   "execution_count": null,
   "id": "3ef40fa5",
   "metadata": {},
   "outputs": [],
   "source": [
    "// Tu respuesta"
   ]
  },
  {
   "cell_type": "markdown",
   "id": "01f44b69",
   "metadata": {},
   "source": [
    "Pero si usamos una matriz para almacenar los valores de todos los números de Fibonacci ya calculados y usamos esos valores  entonces evitaremos ejecutar las mismas operaciones nuevamente y eso mejorará el tiempo de ejecución de nuestro código. \n",
    "\n",
    "Considera la matriz `Fibo` contiene que inicialmente contiene solo 0 y se usará para almacenar los números de Fibonacci. La función de recursión que usa memorización se vería de la siguiente manera: \n",
    "\n",
    "\n",
    "```\n",
    "int f(int n) {\n",
    "    if (n == 0 || n == 1) {\n",
    "        return 1;\n",
    "}\n",
    "if (Fibo[n] == 0) {\n",
    "    Fibo[n] = f(n - 1) + f(n - 2);\n",
    "}\n",
    "    return Fibo[n];\n",
    "\n",
    "}\n",
    "```"
   ]
  },
  {
   "cell_type": "markdown",
   "id": "cde3f8f1",
   "metadata": {},
   "source": [
    "Si estas interesado más sobre este tema puedes leer: https://jarednielsen.com/dynamic-programming-memoization-tabulation/."
   ]
  },
  {
   "cell_type": "markdown",
   "id": "6717f160",
   "metadata": {},
   "source": [
    "### Dos tipos de recursión\n",
    "\n",
    "\n",
    "**PROBLEMA: ¿Cuantos loritos tenemos?**\n",
    "\n",
    "Los pasajeros del Ferrocarril Tropical Paradise (TPR) esperan ver docenas de coloridos loritos desde las ventanas del tren. Debido a esto, el ferrocarril se interesa mucho en la salud de la población local de loritos y decide hacer un recuento de la cantidad de loritos a la vista de cada andén a lo largo de la línea principal.\n",
    "Cada plataforma cuenta con un empleado de TPR (consulta la figura ), que sin duda es capaz de contar loritos. Desafortunadamente, el trabajo se complica por el primitivo sistema telefónico. Cada plataforma puede llamar sólo a sus vecinos inmediatos. ¿Cómo obtenemos el total de loritos en la terminal de la línea principal? \n",
    "\n",
    "\n",
    "![](Imagenes/A1.png)\n",
    "\n",
    "(Los empleados de las cinco estaciones solo pueden comunicarse con sus vecinos inmediatos.)\n"
   ]
  },
  {
   "cell_type": "markdown",
   "id": "7c37393d",
   "metadata": {},
   "source": [
    "Supongamos que hay 7 loritos de Art en la terminal principal, 5 loritos de Belinda, 3 loritos de Cory, 10 loritos de Debbie y 2 loritos de Evan en la última estación. El número total de loritos es entonces 27. La pregunta es, ¿cómo van a trabajar juntos los empleados para comunicar este total a Art? \n",
    "\n",
    "Cualquier solución a este problema requerirá una cadena de comunicaciones desde la terminal principal hasta el final de la línea y viceversa. Se le pedirá al miembro del personal en cada plataforma que cuente los loritos y luego informe sus observaciones. Aun así, hay dos enfoques distintos para esta cadena de comunicaciones, y esos enfoques corresponden a las técnicas de recursión de clase.\n",
    "\n",
    "**Enfoque 1**\n",
    "\n",
    "En este enfoque, mantenemos un total acumulado de los loritos a medida que avanzamos en las comunicaciones salientes. Cada empleado, al hacer la solicitud del siguiente empleado en la línea, pasa la cantidad de loritos vistos hasta el momento. Cuando lleguemos al final de la fila, Evan será el primero en descubrir el total de loritos, que pasará a Debbie, quien se lo pasará a Cory, y así sucesivamente (como se muestra en la figura). \n",
    "\n",
    "![](Imagenes/A2.png)\n",
    "\n",
    "(Numeración de los pasos tomados en el Enfoque 1 para el problema de contar loritos.)\n"
   ]
  },
  {
   "cell_type": "markdown",
   "id": "80be4d48",
   "metadata": {},
   "source": [
    "1. ART comienza contando los loritos alrededor de su plataforma. Cuenta 7 loritos.\n",
    "2. ART a BELINDA: “Hay 7 loritos aquí en la terminal principal”. \n",
    "3. BELINDA cuenta 5 loritos alrededor de su plataforma para un total acumulado de 12.\n",
    "4. BELINDA a CORY: “Hay 12 loritos alrededor de las dos primeras estaciones”. \n",
    "5. CORY cuenta 3 loritos. \n",
    "6. CORY a DEBBIE: “Hay 15 loritos alrededor de las tres primeras estaciones”.\n",
    "7. DEBBIE cuenta 10 loritos. \n",
    "8. DEBBIE a EVAN: “Hay 25 loritos alrededor de las primeras cuatro estaciones”. \n",
    "9. EVAN cuenta 2 loritos y descubre que el número total de loritos es 27. \n",
    "10. EVAN a DEBBIE: “El número total de loritos es 27”. \n",
    "11. DEBBIE a CORY: “El número total de loritos es 27”. \n",
    "12. CORY a BELINDA: “El número total de loritos es 27.” \n",
    "13. BELINDA a ART: “El número total de loritos es 27”. \n",
    "\n",
    "Este enfoque es análogo a la **recursión de cola**. En la recursividad de cola, la llamada recursiva ocurre después del procesamiento; **la llamada recursiva es el último paso en la función**. En la cadena de comunicaciones anterior, ten en cuenta que el \"trabajo\" de los empleados, el conteo y la suma de loritos, ocurre antes de que señalen al siguiente empleado en la línea. Todo el trabajo ocurre en la cadena de comunicaciones salientes, no en la cadena entrante. Estos son los pasos que sigue cada empleado: \n",
    "\n",
    "1. Contar los loritos visibles desde el andén de la estación. \n",
    "2. Agrega este conteo al total dado por la estación anterior. \n",
    "3. Llama a la siguiente estación para pasar la suma acumulada de conteos de loritos.\n",
    "4. Espera a que la siguiente estación llame con el conteo total de loritos y luego pase este total a la estación anterior. \n"
   ]
  },
  {
   "cell_type": "markdown",
   "id": "295b1fb3",
   "metadata": {},
   "source": [
    "**Enfoque 2** \n",
    "\n",
    "En este enfoque, sumamos los recuentos de loritos desde el otro extremo. Cada empleado, al comunicarse con la siguiente estación en la línea, solicita el número total de loritos desde esa estación en adelante. Luego, el empleado suma la cantidad de loritos en su propia estación y pasa este nuevo total por la línea (como se muestra en la figura ). \n",
    "\n",
    "![](Imagenes/A3.png)\n",
    "\n",
    "\n",
    "(Numeración de los pasos tomados en el Enfoque 2 para el problema de contar loritos.)\n"
   ]
  },
  {
   "cell_type": "markdown",
   "id": "c72a586b",
   "metadata": {},
   "source": [
    "1. ART a BELINDA: “¿Cuál es el número total de loritos desde tu estación hasta el final de la fila?” \n",
    "2. BELINDA a CORY: “¿Cuál es el número total de loritos desde tu estación hasta el final de la fila?” \n",
    "3. CORY a DEBBIE: “¿Cuál es el número total de loritos desde tu estación hasta el final de la fila?” \n",
    "4. DEBBIE a EVAN: “¿Cuál es el número total de loritos desde tu estación hasta el final de la fila?” \n",
    "5. EVAN es el final de la línea. Cuenta 2 loritos. \n",
    "6. EVAN a DEBBIE: “El número total de loritos aquí al final es 2”. \n",
    "7. DEBBIE cuenta 10 loritos en su estación, por lo que el total desde su estación hasta el final es 12. \n",
    "8. DEBBIE a CORY: “El número total de loritos desde aquí hasta el final es 12”. \n",
    "9. CORY cuenta 3 loritos. \n",
    "10. CORY a BELINDA: “El número total de loritos desde aquí hasta el final es 15.” \n",
    "11. BELINDA cuenta 5 loritos. \n",
    "12. BELINDA a ART: “El total de loritos de aquí al final es 20”. \n",
    "13. ART cuenta 7 loritos en la terminal principal, haciendo un total de 27.\n",
    "\n",
    "Este enfoque es análogo a la **recursividad de cabecera**. En la **recursividad de cabecera, la llamada recursiva ocurre antes que el otro procesamiento**. Aquí, la llamada a la siguiente estación ocurre primero, antes de contar los loritos o la sumatoria. El trabajo se pospone hasta después de que las estaciones de la línea hayan informado sus totales. Estos son los pasos que sigue cada empleado: \n",
    "\n",
    "1. Llama a la siguiente estación. \n",
    "2. Cuenta los loritos visibles desde el andén de la estación. \n",
    "3. Agrega este conteo al total dado por la siguiente estación. \n",
    "4. Pasa la suma resultante a la estación anterior. \n",
    "\n"
   ]
  },
  {
   "cell_type": "markdown",
   "id": "1078b052",
   "metadata": {},
   "source": [
    "**Pregunta** ¿cuales son los efectos prácticos para los diferentes enfoques? "
   ]
  },
  {
   "cell_type": "code",
   "execution_count": null,
   "id": "d1596758",
   "metadata": {},
   "outputs": [],
   "source": [
    "// Tus respuestas"
   ]
  },
  {
   "cell_type": "markdown",
   "id": "2d12e2bc",
   "metadata": {},
   "source": [
    "## Problema: cálculo de la suma de una matriz de enteros \n",
    "\n",
    "Escribe una función recursiva a la que se le dé una matriz de enteros y el tamaño de la matriz como parámetros. La función devuelve la suma de los enteros de la matriz. \n",
    "\n",
    "Empecemos con una solución iterativa a este problema: \n",
    "\n",
    "\n"
   ]
  },
  {
   "cell_type": "code",
   "execution_count": null,
   "id": "aa762a09",
   "metadata": {},
   "outputs": [],
   "source": [
    "int iterativeArraySum(int integers[], int size) {\n",
    "    int sum = 0;\n",
    "    for (int i = 0; i < size; i++) {\n",
    "        sum += integers[i];\n",
    "    }\n",
    "    return sum;\n",
    "}"
   ]
  },
  {
   "cell_type": "markdown",
   "id": "fcfe1d21",
   "metadata": {},
   "source": [
    "El siguiente paso es escribir código que esté a mitad de camino entre la solución iterativa y la solución recursiva final deseada. Mantendremos la función iterativa y agregaremos una segunda función a la que nos referiremos como dispatcher. \n",
    "\n",
    "El dispatcher entregará la mayor parte del trabajo a la función iterativa previamente escrita y usará esta información para resolver el problema general. Para escribir un dispatcher, tenemos que seguir dos reglas: \n",
    "\n",
    "- El dispatcher debe manejar completamente el caso más trivial, sin llamar a la función iterativa. \n",
    "- El dispatcher, al llamar a la función iterativa, debe pasar una versión más pequeña del problema. \n",
    "\n"
   ]
  },
  {
   "cell_type": "code",
   "execution_count": null,
   "id": "01b24abc",
   "metadata": {},
   "outputs": [],
   "source": [
    "// Un dispatcher para el problema\n",
    "\n",
    "int arraySumDelegate(int integers[], int size) {\n",
    "    if (size == 0) return 0;\n",
    "    int lastNumber = integers[size - 1];\n",
    "    int allButLastSum = iterativeArraySum(integers, size - 1);\n",
    "    return lastNumber + allButLastSum;\n",
    "}"
   ]
  },
  {
   "cell_type": "markdown",
   "id": "5ec1fa56",
   "metadata": {},
   "source": [
    "Para convertir esta solución iterativa en una solución recursiva, sólo se requiere un paso adicional y simple: hacer que la función delegada se llame a sí misma donde antes llamaba a la función iterativa. Entonces podemos eliminar la función iterativa por completo. \n"
   ]
  },
  {
   "cell_type": "code",
   "execution_count": null,
   "id": "f1303be8",
   "metadata": {},
   "outputs": [],
   "source": [
    "int arraySumRecursive(int integers[], int size) {\n",
    "    if (size == 0) return 0;\n",
    "    int lastNumber = integers[size - 1];\n",
    "    int allButLastSum = arraySumRecursive(integers, size - 1);\n",
    "    return lastNumber + allButLastSum;\n",
    "}"
   ]
  },
  {
   "cell_type": "markdown",
   "id": "690b05bc",
   "metadata": {},
   "source": [
    "### Errores comunes \n",
    "\n",
    "**Error 1: Demasiados parámetros** \n",
    "\n",
    "Considera nuestro problema de calcular recursivamente la suma de una matriz de enteros. Al escribir una solución iterativa a este problema, el programador sabe que se necesitará una variable de `total acumulado`  (en la solución iterativa provista, la llamé sum) y la matriz se sumará a partir del primer elemento. \n",
    "\n",
    "Teniendo en cuenta la solución recursiva, el programador naturalmente imagina una implementación que refleja más directamente la solución iterativa, con una variable total acumulada y la primera llamada recursiva manejando el primer elemento de la matriz. Este enfoque, sin embargo, requiere que la función recursiva pase el total acumulado y la ubicación donde debe comenzar a procesarse la siguiente llamada recursiva. Tal solución se vería así:\n",
    "\n",
    "```\n",
    "int arraySumRecursiveExtraParams(int integers[], int size, int sum, int currentIndex) {\n",
    "    if (currentIndex == size) return sum;\n",
    "    sum += integers[currentIndex];\n",
    "    return arraySumRecursiveExtraParameters(integers, size, sum, currentIndex + 1);\n",
    "}\n",
    "```\n"
   ]
  },
  {
   "cell_type": "markdown",
   "id": "4413d823",
   "metadata": {},
   "source": [
    "Desde el punto de vista del código del cliente, los parámetros adicionales no tienen sentido y siempre tendrán que ser ceros en la llamada, como se muestra en este ejemplo: \n"
   ]
  },
  {
   "cell_type": "code",
   "execution_count": null,
   "id": "8b1be535",
   "metadata": {},
   "outputs": [],
   "source": [
    "//int a[10] = {20, 3, 5, 22, 7, 9, 14, 17, 4, 9};\n",
    "//int total = arraySumRecursiveExtraParameters(a, 10, 0, 0);"
   ]
  },
  {
   "cell_type": "markdown",
   "id": "0d48e126",
   "metadata": {},
   "source": [
    "### Variables globales\n",
    "\n",
    "El uso de variables globales es generalmente una mala práctica de programación, aunque a veces está permitido por motivos de rendimiento. Las variables globales siempre deben evitarse en funciones recursivas cuando sea posible. . Supongamos que se nos pide que escribamos una función recursiva que cuente el número de ceros que aparecen en una matriz de enteros. Este es un problema simple de resolver usando iteración: \n",
    "\n",
    "\n",
    "\n"
   ]
  },
  {
   "cell_type": "code",
   "execution_count": null,
   "id": "18d3e980",
   "metadata": {},
   "outputs": [],
   "source": [
    "int zeroCountIterative(int numbers[], int size) {\n",
    "    int sum = 0;\n",
    "    int count = 0;\n",
    "    for (int i = 0; i < size; i++) {\n",
    "        if (numbers[i] == 0) count ++;\n",
    "    }\n",
    "    return count;\n",
    "}"
   ]
  },
  {
   "cell_type": "markdown",
   "id": "c59dbe4e",
   "metadata": {},
   "source": [
    "No podemos simplemente declarar `count` como una variable local en la versión recursiva porque entonces sería una nueva variable en cada llamada recursiva. Así que podríamos tener la tentación de declararlo como una variable global: \n",
    "\n",
    "```\n",
    "int count;\n",
    "int zeroCountRecursive(int numbers[], int size){\n",
    "    if (size == 0) return count;\n",
    "    if (numbers[size - 1] == 0) count++;\n",
    "    zeroCountRecursive(numbers, size - 1);\n",
    "}\n",
    "```\n",
    "\n"
   ]
  },
  {
   "cell_type": "markdown",
   "id": "803758e0",
   "metadata": {},
   "source": [
    "Algunos programadores pueden intentar mitigar el problema haciendo que la variable sea local, pero estática: \n",
    "\n",
    "```\n",
    "int zeroCountStatic(int numbers[], int size) {\n",
    "    static int count = 0;\n",
    "    if (size == 0) return count;\n",
    "    if (numbers[size - 1] == 0) count++;\n",
    "    zeroCountStatic(numbers, size - 1);\n",
    "}\n",
    "```\n"
   ]
  },
  {
   "cell_type": "markdown",
   "id": "20dc25e7",
   "metadata": {},
   "source": [
    "La solución para evitar la variable global es suponer que una llamada recursiva con un valor más pequeño para el tamaño devolverá el resultado correcto y calculará el valor correcto para la matriz general a partir de eso. Esto conducirá a una solución recursiva : \n"
   ]
  },
  {
   "cell_type": "code",
   "execution_count": null,
   "id": "e486a3ca",
   "metadata": {},
   "outputs": [],
   "source": [
    "int zeroCountRecursive(int numbers[], int size) {\n",
    "if (size == 0) return 0;\n",
    "    int count = zeroCountRecursive(numbers, size - 1);\n",
    "    if (numbers[size - 1] == 0) count++;\n",
    "    return count;\n",
    "}"
   ]
  },
  {
   "cell_type": "markdown",
   "id": "fb99c4c9",
   "metadata": {},
   "source": [
    "## Ejercicios\n",
    "\n",
    "Como siempre, ¡es imperativo probar las ideas presentadas en el capítulo!\n",
    "\n",
    "1. Escribe una función para calcular la suma de solo los números positivos en una matriz de enteros. Primero, resuelve el problema usando la iteración. Luego, utilizando la técnica que se muestra en esta clase, convierte tu función iterativa en una función recursiva. \n",
    "\n",
    "2. Considera una matriz que representa una cadena binaria, donde el valor de datos de cada elemento es 0 o 1. Escribe una función bool para determinar si la cadena binaria tiene paridad impar (un número impar de 1 bits). Sugerencia: recuerda que la función recursiva devolverá true (odd) o false (even), no el recuento de 1 bits. Resuelve el problema primero usando iteración, luego recursividad. \n",
    "\n",
    "3. Escriba una función a la que se le pase una matriz de enteros y un número \"objetivo\" y que devuelva el número de ocurrencias del objetivo en la matriz. Resuelve el problema primero usando iteración, luego recursividad. \n",
    "\n",
    "4. Encuentra un problema al procesar una matriz unidimensional que ya hayas resuelto o que sea trivial para ti en tu nivel de habilidad actual, y resuelva el problema (o resuelva de nuevo) usando la recursividad.\n"
   ]
  },
  {
   "cell_type": "code",
   "execution_count": null,
   "id": "71229d3d",
   "metadata": {},
   "outputs": [],
   "source": [
    "// Tus respuestas."
   ]
  },
  {
   "cell_type": "code",
   "execution_count": null,
   "id": "187b51fc",
   "metadata": {},
   "outputs": [],
   "source": []
  }
 ],
 "metadata": {
  "kernelspec": {
   "display_name": "C++14",
   "language": "C++14",
   "name": "xcpp14"
  },
  "language_info": {
   "codemirror_mode": "text/x-c++src",
   "file_extension": ".cpp",
   "mimetype": "text/x-c++src",
   "name": "c++",
   "version": "14"
  }
 },
 "nbformat": 4,
 "nbformat_minor": 5
}
