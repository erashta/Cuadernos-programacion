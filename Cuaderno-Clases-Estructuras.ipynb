{
 "cells": [
  {
   "cell_type": "markdown",
   "id": "deb457ef",
   "metadata": {},
   "source": [
    "## Clases en C++\n",
    "\n",
    "Una clase es un tipo de datos definido por el usuario que consta de métodos y datos agrupados como miembros (es decir, encapsulados). \n",
    "Una clase usa objetos que almacenan datos y tienen un estado y comportamiento definidos. A estos también se les conoce como una instancia de una clase. Una clase es como una categoría amplia que abarca algunas entidades que tienen atributos o características similares. \n",
    "\n",
    "Por ejemplo, un gato y un tigre tienen similitudes y pertenecen a la familia de animales Felidae. En este ejemplo, Felidae es el nombre de la clase y los gatos y los tigres son los miembros de la clase. \n",
    "\n",
    "El siguiente código muestra cómo declaramos y usamos clases en C++."
   ]
  },
  {
   "cell_type": "code",
   "execution_count": null,
   "id": "0d8d8cc0",
   "metadata": {},
   "outputs": [],
   "source": [
    "#include <iostream>\n",
    "using namespace std;\n",
    "class Felidae\n",
    "{\n",
    "    public:\n",
    "    string gatos;\n",
    "    string tigres;\n",
    "    void nombreMascota()\n",
    "    {\n",
    "    std::cout << \"\\nEl nombre del gatito es: \" << gatos;\n",
    "    std:: cout << \"\\nEl nombre del tigre es: \" << tigres;\n",
    "    }\n",
    "};\n",
    "int main() {\n",
    "    Felidae objeto1;\n",
    "    objeto1.gatos = \"miauHacker\";\n",
    "    objeto1.tigres = \"Pirata\";\n",
    "    objeto1.nombreMascota();\n",
    "    return 0;\n",
    "}"
   ]
  },
  {
   "cell_type": "markdown",
   "id": "8ada7d97",
   "metadata": {},
   "source": [
    "Echemos un vistazo a cómo funciona este código.\n",
    "1. Aunque `main` es el típico punto de entrada de ejecución en un programa C++, aquí hemos declarado una clase fuera de `main`. Es posible declarar una clase fuera o dentro de `main`.\n",
    "\n",
    "2. La clase `Felidae` se define con la palabra clave `class` y los miembros `gatos` y `tigres` son cadenas con la función `nombreMascota`.\n",
    "\n",
    "3. Observamos que los especificadores de acceso en una clase están definidos por etiquetas, donde los miembros públicos son accesibles para todos y los miembros privados solo están disponibles para los métodos de clase.\n",
    "\n",
    "4. En `main`, hemos tomado dos objetos y accedido a los miembros usando el operador punto y luego les hemos asignado nombres.\n",
    "\n",
    "5. Un objeto accede a todos los miembros de datos de la clase, por lo que podemos crear tantos objetos como necesitemos."
   ]
  },
  {
   "cell_type": "markdown",
   "id": "4c51751f",
   "metadata": {},
   "source": [
    "#### Consejos para nombrar clases\n",
    "\n",
    "- Comienza con una letra mayúscula y asigna a la clase un nombre que tenga sentido.\n",
    "\n",
    "- Asigna a los objetos un nombre que deje claro para qué sirven.\n",
    "\n",
    "- Puedes utilizar símbolos, como un guión bajo, en los nombres de las clases.\n"
   ]
  },
  {
   "cell_type": "markdown",
   "id": "7052f691",
   "metadata": {},
   "source": [
    "**Ejemplo:** Trabajando con clases."
   ]
  },
  {
   "cell_type": "code",
   "execution_count": null,
   "id": "7d920b81",
   "metadata": {},
   "outputs": [],
   "source": [
    "#include <iostream>\n",
    "using namespace std;\n",
    "\n",
    "class Clase1\n",
    "{\n",
    " public:\n",
    " int x=40,y;\n",
    " void suma()\n",
    " {\n",
    "    std::cout << \"\\nLa suma is: \" <<x+y;\n",
    "    }\n",
    "};\n",
    "int main() {\n",
    "    Clase1 c1;\n",
    "    Clase1 c2, c3;\n",
    "    c1.y= 10;\n",
    "    c2.y = 20;\n",
    "    c1.suma();\n",
    "    c2.suma();\n",
    "\n",
    "    return 0;\n",
    "}"
   ]
  },
  {
   "cell_type": "markdown",
   "id": "73ef9e96",
   "metadata": {},
   "source": [
    "### Constructores y Destructores\n",
    "\n",
    "Una clase en C++ tiene miembros de datos, como variables de diferentes tipos y métodos (funciones). Además de estos, hay otra función miembro especial llamada **constructor**, cuya función principal es inicializar un objeto de una determinada clase al mismo tiempo que se declara.\n",
    "\n",
    "Los **destructores** implican `romper` o eliminar los objetos creados por el constructor para no sobrecargar la memoria limitada de la computadora.\n"
   ]
  },
  {
   "cell_type": "markdown",
   "id": "f39a20ba",
   "metadata": {},
   "source": [
    "#### Características de los constructores:\n",
    "\n",
    "1. Tiene el mismo nombre que la clase.\n",
    "\n",
    "2. Pueden hacerse accesibles a nivel público, privado o protegido.\n",
    "\n",
    "3. No pueden ser heredados ni instanciados por ninguna otra clase.\n",
    "\n",
    "4. Cada vez que se crea un objeto, se llama al constructor predeterminado.\n",
    "\n",
    "5. En C++, los constructores no se pueden declarar como virtuales.\n",
    "\n",
    "6. No tienen tipo de retorno.\n"
   ]
  },
  {
   "cell_type": "code",
   "execution_count": null,
   "id": "7e9b53fd",
   "metadata": {},
   "outputs": [],
   "source": [
    "#include <iostream>\n",
    "using namespace std;\n",
    "class Driver\n",
    "{\n",
    "    public:\n",
    "    Driver()\n",
    "    {\n",
    "    std::cout << \"\\nEste es un constructor de la clase Driver\\n\"\n",
    "<<endl;\n",
    "    }\n",
    "};\n",
    "\n",
    "int main() {\n",
    "    Driver d1;\n",
    "    return 0;\n",
    "}"
   ]
  },
  {
   "cell_type": "markdown",
   "id": "dd9371da",
   "metadata": {},
   "source": [
    "Observa que tan pronto como se crea el objeto, se llama al constructor de la clase ya que tiene la capacidad de sobrecargarse. "
   ]
  },
  {
   "cell_type": "markdown",
   "id": "ef018449",
   "metadata": {},
   "source": [
    "### Tipos de constructores\n",
    "\n",
    "C++ nos proporciona tres tipos de constructores, cada uno un poco diferente.\n",
    "\n",
    "Estos son los siguientes:\n",
    "\n",
    "\n"
   ]
  },
  {
   "cell_type": "markdown",
   "id": "98278e6d",
   "metadata": {},
   "source": [
    "#### 1 . Constructores predeterminados\n",
    "\n",
    "Estos no toman argumentos y todos los objetos de la clase se inicializan con el mismo conjunto de valores. Estos son dados por el compilador y serán 0 o cualquier valor entero. \n",
    "\n",
    "Si un programador se olvida de definir un constructor explícitamente en C++, el compilador le proporciona implícitamente el constructor predeterminado. \n",
    "\n",
    "La sintaxis para escribir el constructor predeterminado es la siguiente:"
   ]
  },
  {
   "cell_type": "code",
   "execution_count": null,
   "id": "12803f96",
   "metadata": {},
   "outputs": [],
   "source": [
    "class nombre_clase\n",
    "  { nombre_clase()\n",
    "{ //....\n",
    "}\n",
    "};"
   ]
  },
  {
   "cell_type": "code",
   "execution_count": null,
   "id": "bbc139ce",
   "metadata": {},
   "outputs": [],
   "source": [
    "#include <iostream>\n",
    "using namespace std;\n",
    "\n",
    "class Personas\n",
    "{\n",
    "  public:\n",
    "  Personas()\n",
    "  {\n",
    "    std::cout << \"\\nEste es un constructor predeterminado \\n\" <<endl;\n",
    "    }\n",
    "};\n",
    "\n",
    "int main() {\n",
    "    Personas Objetos1;\n",
    "    \n",
    "    return 0;\n",
    "}"
   ]
  },
  {
   "cell_type": "markdown",
   "id": "3b3b4c3f",
   "metadata": {},
   "source": [
    "#### 2 . Constructores Parametrizados\n",
    "\n",
    "En un constructor parametrizado podemos pasar uno o más argumentos a la función miembro para asignar diferentes valores de inicialización a un objeto a medida que se crea. Ten en cuenta que para llamar a este tipo de constructor debemos usar el orden correcto y el tipo de argumentos que se define en el prototipo del constructor. \n",
    "\n",
    "La sintaxis de un constructor parametrizado es la siguiente:\n"
   ]
  },
  {
   "cell_type": "code",
   "execution_count": null,
   "id": "35bc56b8",
   "metadata": {},
   "outputs": [],
   "source": [
    "class nombre_clase\n",
    "  { nombre_v\n",
    "      clase(argumentos lista..)\n",
    "{ //...\n",
    "}\n",
    "};"
   ]
  },
  {
   "cell_type": "code",
   "execution_count": null,
   "id": "df96df1e",
   "metadata": {},
   "outputs": [],
   "source": [
    "#include <iostream>\n",
    "using namespace std;\n",
    "class Estudiante\n",
    "{\n",
    "  public:\n",
    "  Estudiante(string n)\n",
    "  {\n",
    "    std::cout << \"\\nEste es un constructor parametrizado \" << endl;\n",
    "    std::cout << \"\\nEl nombre es \" <<n<<endl;\n",
    "   }\n",
    "};\n",
    "int main() {\n",
    "    Estudiante s1(\"Kapumota\");\n",
    "return 0;\n",
    "}"
   ]
  },
  {
   "cell_type": "markdown",
   "id": "cb1686e8",
   "metadata": {},
   "source": [
    "#### 3. Constructor de copias\n",
    "\n",
    "Un constructor de copias ayuda a crear una copia de otro objeto de una clase. La copia se crea con los mismos valores para todos los miembros de datos. \n",
    "\n",
    "La sintaxis para un constructor de copias es la siguiente:\n"
   ]
  },
  {
   "cell_type": "code",
   "execution_count": null,
   "id": "57d74bc2",
   "metadata": {},
   "outputs": [],
   "source": [
    "class nombre_clase\n",
    "{ nombre_clase(argumentos lista..)\n",
    "    { //...\n",
    "   }\n",
    "    nombre_clase(const nombre_clase)\n",
    "    { //...\n",
    "    }\n",
    " };"
   ]
  },
  {
   "cell_type": "code",
   "execution_count": null,
   "id": "726a86fa",
   "metadata": {},
   "outputs": [],
   "source": [
    "#include <iostream>\n",
    "using namespace std;\n",
    "class Estudiante\n",
    "\n",
    "{\n",
    "    public:\n",
    "    string n;\n",
    "    /*Estudiante()\n",
    "    {\n",
    "    std::cout << \"\\nEste es un constructor predeterminado \\n\" <<endl;\n",
    "    }*/\n",
    "    Estudiante(string n)\n",
    "     {\n",
    "        std::cout << \"\\nEl nombre es \" <<n<<endl;\n",
    "    }\n",
    "    Estudiante(const Estudiante& s1)\n",
    "    {\n",
    "        std::cout << \"\\nEste es un constructor copia\\n\" <<endl;\n",
    "    }\n",
    "};\n",
    "int main() {\n",
    "    //Estudiante s1;\n",
    "    Estudiante s1(\"Kapumota\");\n",
    "    Estudiante s3(s1);\n",
    "    \n",
    "    return 0;\n",
    "}"
   ]
  },
  {
   "cell_type": "markdown",
   "id": "509ad68b",
   "metadata": {},
   "source": [
    "**Ejemplo:** Escribe código donde se utilizan todos los constructores."
   ]
  },
  {
   "cell_type": "code",
   "execution_count": null,
   "id": "227c2761",
   "metadata": {},
   "outputs": [],
   "source": [
    "#include <iostream>\n",
    "using namespace std;\n",
    "class Estudiante\n",
    "\n",
    "{\n",
    "    public:\n",
    "    string n;\n",
    "    Estudiante()\n",
    "    {\n",
    "        std::cout << \"\\nEste es un constructor predeterminado \\n\" <<endl;\n",
    "    }\n",
    "    Estudiante(string n)\n",
    "     {\n",
    "        std::cout << \"\\nEste es un constructor parametrizado \" << endl;\n",
    "        std::cout << \"\\nEl nombre es: \" <<n<<endl;\n",
    "    }\n",
    "    Estudiante(const Estudiante& s2)\n",
    "    {\n",
    "        std::cout << \"\\nEste es un constructor copia\\n\" <<endl;\n",
    "    }\n",
    "};\n",
    "int main() {\n",
    "    Estudiante s1;\n",
    "    Estudiante s2(\"Kapumota\");\n",
    "    Estudiante s3(s2);\n",
    "    \n",
    "    return 0;\n",
    "}"
   ]
  },
  {
   "cell_type": "markdown",
   "id": "c02215c4",
   "metadata": {},
   "source": [
    "Los destructores se llaman cuando un objeto ya no está en uso y necesita ser borrado. Ayudan con la utilización de la memoria para que los objetos no utilizados no ocupen espacio. \n",
    "\n",
    "El compilador llama automáticamente a un destructor cada vez que el objeto parece estar fuera del alcance. \n",
    "\n",
    "Si deseas hacer la destrucción manualmente usa el operador tilde `(~)`. \n"
   ]
  },
  {
   "cell_type": "markdown",
   "id": "705f940a",
   "metadata": {},
   "source": [
    "**Características de los Destructores**\n",
    "\n",
    "1. Tienen el mismo nombre que la clase.\n",
    "\n",
    "2. Ayudan a desasignar la memoria de un objeto no utilizado\n",
    "\n",
    "3. No toman parámetros y son de un solo tipo, por lo tanto, no se puede sobrecargar.\n",
    "\n",
    "4. La destrucción ocurre en el orden opuesto a la construcción, lo que significa que el último objeto creado se elimina primero (LIFO, Last In First Out).\n",
    "\n",
    "La sintaxis para los destructores es la siguiente:"
   ]
  },
  {
   "cell_type": "code",
   "execution_count": null,
   "id": "ce05b1d5",
   "metadata": {},
   "outputs": [],
   "source": [
    "class nombre_clase { nombre_clase(argumentos lista..)\n",
    "{ //cuerpo del constructor}\n",
    "~nombre_clase()\n",
    "{ //cuerpo del constructor}};"
   ]
  },
  {
   "cell_type": "code",
   "execution_count": null,
   "id": "50fe104c",
   "metadata": {},
   "outputs": [],
   "source": [
    "#include <iostream>\n",
    "using namespace std;\n",
    "class Estudiante\n",
    "\n",
    "{\n",
    "    public:\n",
    "    Estudiante()\n",
    "    {\n",
    "    std::cout << \"\\nEste es un constructor predeterminado \\n\" <<endl;\n",
    "    }\n",
    "    \n",
    "    Estudiante(string n)\n",
    "    {\n",
    "        \n",
    "    std::cout << \"\\nEste es un constructor parametrizado\" <<endl;    \n",
    "    std::cout << \"\\nEl nombre es \" <<n<<endl;\n",
    "    }\n",
    "    \n",
    "    \n",
    "    Estudiante(const Estudiante& s2)\n",
    "    {\n",
    "        std::cout << \"\\nEste es un constructor copia\\n\" <<endl;\n",
    "    }\n",
    "    \n",
    "    ~Estudiante()\n",
    "    {\n",
    "        std::cout << \"\\nEste es un destructor para todos.\\n\" <<endl;\n",
    "    }\n",
    "};\n",
    "int main() {\n",
    "    Estudiante s1;\n",
    "    Estudiante s2(\"Kapumota\");\n",
    "    Estudiante s3(s2);\n",
    "    \n",
    "    return 0;\n",
    "}"
   ]
  },
  {
   "cell_type": "markdown",
   "id": "a9fc33a1",
   "metadata": {},
   "source": [
    "### El puntero this\n",
    "\n",
    "Cada objeto de una clase lleva consigo una copia de todos los miembros de datos, pero estos acceden a la copia original de las funciones. Puede ocurrir una situación en la que varios objetos acceden a la misma función miembro. ¿Cómo se actualizarán los valores dentro de la función? \n",
    "\n",
    "Este problema se puede resolver usando el puntero `this`. Este puntero almacena la dirección de un  objeto  para permitir que la función miembro actualice los valores correctos. \n",
    "\n",
    "Este puntero se puede utilizar en varios lugares y de varias maneras.  A veces, incluso se nos puede ocultar, ya que cuando el compilador se encuentra con una función miembro, implícitamente agregará `this` como un parámetro de función no estático para realizar un seguimiento de la dirección para `recordar` qué objeto llamó a esta función.\n",
    "\n",
    "El puntero `this` siempre apuntará hacia el objeto o la instancia en la que se está trabajando actualmente. \n",
    "\n",
    "Podemos hacer referencia explícita a este puntero `this` usándolo dentro de un constructor o métodos y apuntar a las variables de instancia que se actualizarán sin cambiar la dirección del puntero."
   ]
  },
  {
   "cell_type": "code",
   "execution_count": null,
   "id": "c90cc011",
   "metadata": {},
   "outputs": [],
   "source": [
    "#include<iostream>\n",
    "using namespace std;\n",
    "\n",
    "class Promedio {\n",
    "    private:\n",
    "    int num1;\n",
    "    int num2;\n",
    "    int r;\n",
    "    \n",
    "    public:\n",
    "      Promedio (int num1, int num2) {\n",
    "        this->num1 = num1;\n",
    "        this->num2 = num2;\n",
    "    }\n",
    "    void promedioResultado() {\n",
    "        cout<<\"\\nPromedio de num1 y num 2 = \"<<(this->num1+this->num2)/2<<endl;\n",
    "    }\n",
    "};\n",
    "\n",
    "int main () {\n",
    "    Promedio objeto1(22, 33);\n",
    "    objeto1.promedioResultado();\n",
    "    return 0;\n",
    "}"
   ]
  },
  {
   "cell_type": "markdown",
   "id": "abc72b11",
   "metadata": {},
   "source": [
    "#### Ejemplo 1\n",
    "\n"
   ]
  },
  {
   "cell_type": "code",
   "execution_count": null,
   "id": "9fa69bd2",
   "metadata": {},
   "outputs": [],
   "source": [
    "#include <iostream>\n",
    "using namespace std;\n",
    "class Demo {\n",
    "private:\n",
    "  int num;\n",
    "  char ch;\n",
    "public:\n",
    "  void colocaMisValores(int num, char ch){\n",
    "    this->num =num;\n",
    "    this->ch=ch;\n",
    "  }\n",
    "  void muestraMisValores(){\n",
    "    cout<<num<<endl;\n",
    "    cout<<ch;\n",
    "  }\n",
    "};\n",
    "int main(){\n",
    "  Demo obj;\n",
    "  obj.colocaMisValores(100, 'A');\n",
    "  obj.muestraMisValores();\n",
    "  return 0;\n",
    "}"
   ]
  },
  {
   "cell_type": "markdown",
   "id": "074bc68c",
   "metadata": {},
   "source": [
    "Aquí puedes ver que tenemos dos miembros de datos `num` y `ch`. En la función `colocaMisValores()` tenemos dos variables locales que tienen el mismo nombre que el nombre de los miembros de datos. En tal caso, si deseas asignar el valor de la variable local a los miembros de datos, no podrás hacerlos hasta que no uses el puntero `this`, porque el compilador no sabrá que te estás refiriendo a los miembros de datos del objeto a menos que se use el puntero. Este es uno de los ejemplos en los que debes usar el puntero `this`."
   ]
  },
  {
   "cell_type": "markdown",
   "id": "795d82c2",
   "metadata": {},
   "source": [
    "#### Ejemplo2 "
   ]
  },
  {
   "cell_type": "code",
   "execution_count": null,
   "id": "6cf14e16",
   "metadata": {},
   "outputs": [],
   "source": [
    "#include <iostream>\n",
    "using namespace std;\n",
    "class Demo {\n",
    "private:\n",
    "  int num;\n",
    "  char ch;\n",
    "public:\n",
    "  Demo &colocaNum(int num){\n",
    "    this->num =num;\n",
    "    return *this;\n",
    "  }\n",
    "  Demo &colocaCh(char ch){\n",
    "    this->num++;\n",
    "    this->ch =ch;\n",
    "    return *this;\n",
    "  }\n",
    "  void muestraMisValores(){\n",
    "    cout<<num<<endl;\n",
    "    cout<<ch;\n",
    "  }\n",
    "};\n",
    "int main(){\n",
    "  Demo obj;\n",
    "  obj.colocaNum(100).colocaCh('A');\n",
    "  obj.muestraMisValores();\n",
    "  return 0;\n",
    "}"
   ]
  },
  {
   "cell_type": "markdown",
   "id": "9da04513",
   "metadata": {},
   "source": [
    "Otro ejemplo de uso es devolver la referencia del objeto actual para que puedas encadenar llamadas a funciones. \n",
    "Otro punto importante a tener en cuenta en este programa es que se incrementa el valor del objeto en la segunda función y se puede ver en la salida que en realidad incrementó el valor que establecimos en la primera llamada a la función. \n",
    "\n",
    "Esto muestra que el encadenamiento es secuencial y los cambios realizados en los miembros de datos del objeto se retienen para futuras llamadas de encadenamiento.\n"
   ]
  },
  {
   "cell_type": "markdown",
   "id": "cff812be",
   "metadata": {},
   "source": [
    "**En resumen ...**\n",
    "\n",
    "`this` identifica `este` objeto en el que está operando actualmente. \n",
    "\n",
    "Cuando tienes una clase, puede tener funciones miembro de dos tipos: `static` y `no-static`. Las funciones miembro `no-static` deben operar en una instancia particular de la clase y necesitan saber dónde está esa instancia. Para ayudar, el lenguaje define una variable implícita (es decir, una que se declara automáticamente cuando se necesita sin que tengas que hacer nada) que se llama `this` y que automáticamente apuntará a la instancia particular de la clase en que opera la función miembro.\n"
   ]
  },
  {
   "cell_type": "code",
   "execution_count": null,
   "id": "0fe74cf8",
   "metadata": {},
   "outputs": [],
   "source": [
    "#include <iostream> //https://stackoverflow.com/questions/16492736/what-is-the-this-pointer\n",
    "\n",
    "class A\n",
    "{\n",
    "public:\n",
    "    A() \n",
    "    { \n",
    "        std::cout << \"A::A: construida en \" << this << std::endl;\n",
    "    } \n",
    "\n",
    "    void decimosHola()\n",
    "    {\n",
    "        std::cout << \"Hola, soy una instancia de A en \" << this << std::endl;\n",
    "    }\n",
    "};\n",
    "\n",
    "int main(int, char **)\n",
    "{\n",
    "    A a1;\n",
    "    A a2;\n",
    "\n",
    "    a1.decimosHola();        \n",
    "    a2.decimosHola();\n",
    "\n",
    "    return 0;\n",
    "}"
   ]
  },
  {
   "cell_type": "markdown",
   "id": "1e78ef4a",
   "metadata": {},
   "source": [
    "###  Métodos de clase\n",
    "\n",
    "Hemos discutido las clases y sus miembros, así como los constructores de funciones. Ahora, consideremos los métodos de clase. \n",
    "\n",
    "Las funciones de clase se pueden definir dentro o fuera de la definición de clase.\n",
    "\n",
    "La llamada de estas funciones se realiza utilizando objetos de la clase a través del operador punto o del de selección.\n"
   ]
  },
  {
   "cell_type": "code",
   "execution_count": null,
   "id": "64cc3cd2",
   "metadata": {},
   "outputs": [],
   "source": [
    "#include <iostream>\n",
    "using namespace std;\n",
    "\n",
    "\n",
    "class clase1\n",
    "{\n",
    "  public :\n",
    "  static int num1;\n",
    "  int y=100,r;\n",
    "  int suma(int x,int y)\n",
    "\n",
    "    {\n",
    "    cout << \"\\nLa suma es = \" << x+y<<endl;\n",
    "    }\n",
    "    static int asignacion(int x)\n",
    "    {\n",
    "        cout << \"\\nEl valor asignado al entero= \" << x<<endl;\n",
    "    }\n",
    "    void avg()\n",
    "    {\n",
    "        r= (num1+y)/2;\n",
    "        cout << \"\\nEl promedio es = \" << r<<endl;\n",
    "        cout << \"\\nEl nombre is \" << n<<endl;\n",
    "    }\n",
    "    private:\n",
    "    string n=\"Kapumota\";\n",
    "};\n",
    "int clase1::num1=4560;\n",
    "int main()\n",
    "{\n",
    "    clase1 obj1,obj2,obj3;\n",
    "    clase1::asignacion(45);\n",
    "    obj2.avg();\n",
    "    obj2.suma(20,27);\n",
    "    cout << \"\\nEl valor de la variable estatica : \" <<obj1.num1<<endl;\n",
    "return 0;\n",
    "}"
   ]
  },
  {
   "cell_type": "markdown",
   "id": "6fcc8d7c",
   "metadata": {},
   "source": [
    "En el código anterior, aparece un nuevo símbolo `(::)`, que se denomina operador de resolución de alcance (`scope resolution`) en C++. \n",
    "\n",
    "Su función principal es acceder o asignar valor a los miembros estáticos de una clase.\n"
   ]
  },
  {
   "cell_type": "markdown",
   "id": "a846623d",
   "metadata": {},
   "source": [
    "#### Usos del operador de resolución de alcance\n",
    "\n",
    "* Acceder a variables globales para verificar si tienen nombres en `conflicto` con alguna de las variables locales\n",
    "\n",
    "* Para definir un cuerpo de función particular fuera de la clase\n",
    "\n",
    "* Para acceder a miembros de tipos de datos estáticos\n",
    "\n",
    "* Usado en herencia\n",
    "\n",
    "* Se utiliza para acceder a variables y funciones que existen dentro de un alcance específico. \n",
    "\n"
   ]
  },
  {
   "cell_type": "markdown",
   "id": "7c8d43aa",
   "metadata": {},
   "source": [
    "El operador de resolución de alcance nos ayuda a comprender el alcance de las variables y funciones. \n",
    "\n",
    "Nos ayuda a ajustar el alcance para asegurarnos de que el código funcione como queremos.\n"
   ]
  },
  {
   "cell_type": "code",
   "execution_count": null,
   "id": "0fc86348",
   "metadata": {},
   "outputs": [],
   "source": [
    "#include <iostream>\n",
    "using namespace std;\n",
    "\n",
    "int x = 5; // variable global\n",
    "\n",
    "int main() {\n",
    " int x = 10; // variable local\n",
    "  cout << \"Local x: \" << x << endl;\n",
    "  cout << \"Global x: \" << ::x << endl;\n",
    "   return 0;\n",
    "}"
   ]
  },
  {
   "cell_type": "markdown",
   "id": "9c80d7e8",
   "metadata": {},
   "source": [
    "En este ejemplo, hemos definido una variable global llamada `x` y una variable local llamada `x` dentro de la función `main()`. Cuando usamos el operador de resolución de alcance `(::x)` podemos acceder a la variable global `x` desde dentro de la función `main()`. Esto nos permite diferenciar entre las variables globales y locales que tienen el mismo nombre.\n"
   ]
  },
  {
   "cell_type": "markdown",
   "id": "5d12466d",
   "metadata": {},
   "source": [
    "En C++, los objetos se crean a partir de clases y el operador de resolución de alcance se usa para acceder a funciones miembro y variables de esos objetos. Por ejemplo:\n"
   ]
  },
  {
   "cell_type": "code",
   "execution_count": null,
   "id": "ba1a27cc",
   "metadata": {},
   "outputs": [],
   "source": [
    "#include <iostream>\n",
    "using namespace std;\n",
    "\n",
    "class Clase1 {\n",
    "public:\n",
    " int x;\n",
    " void printX() {\n",
    "    cout << \"X es: \" << x << endl;\n",
    "}\n",
    "};\n",
    "\n",
    "int main() {\n",
    "    Clase1 obj;\n",
    "    obj.x = 5;\n",
    "    obj.printX();\n",
    "    return 0;\n",
    "}\n"
   ]
  },
  {
   "cell_type": "markdown",
   "id": "13cafc05",
   "metadata": {},
   "source": [
    "En este ejemplo, hemos definido una clase llamada `Clase1`, que contiene una variable entera pública llamada `x` y una función miembro pública llamada `printX()`. Luego creamos un objeto de la clase `Clase1` llamado `obj` y establecemos su valor `x` en 5. Luego podemos usar el operador de resolución de alcance `(obj.printX())` para acceder a la función miembro `printX()` del objeto `obj` que generará el valor de `x`.\n",
    "\n",
    "Incluso cuando se sobrecargan funciones, el operador de resolución de alcance puede especificar a qué función sobrecargada llamar, en función de los parámetros pasados a la función.\n"
   ]
  },
  {
   "cell_type": "markdown",
   "id": "b20748f7",
   "metadata": {},
   "source": [
    "**Referencia:** https://learn.microsoft.com/en-us/cpp/cpp/scope-resolution-operator?view=msvc-170&viewFallbackFrom=vs-2017"
   ]
  },
  {
   "cell_type": "markdown",
   "id": "5461eddd",
   "metadata": {},
   "source": [
    "C++ tiene una característica que habilita funciones en línea (`inline functions`) en una clase, donde el compilador copia el código del cuerpo de una función cada vez que se le solicita. Esto produce resultados más rápidos, por lo que no tenemos que escribir código una y otra vez. \n",
    "\n",
    "La sintaxis para llamar funciones en línea es la siguiente:\n"
   ]
  },
  {
   "cell_type": "code",
   "execution_count": null,
   "id": "bd5d3db4",
   "metadata": {},
   "outputs": [],
   "source": [
    "inline tipoRetorno nombre_funcion(Argumentos Lista....)\n",
    "{ // cuerpo de la función}"
   ]
  },
  {
   "cell_type": "markdown",
   "id": "d4e5498f",
   "metadata": {},
   "source": [
    "### La palabra clave static\n",
    "\n",
    "En C++, la palabra clave `static` declara cualquier variable, miembro de datos o función como un tipo de constante.\n",
    "Estos valores no se pueden modificar. Se inicializa solo una vez y solo se usa una copia durante la vida útil de un programa.\n",
    "\n",
    "Características de la palabra clave `static`:\n",
    "\n",
    "1. Las variables estáticas se inicializan solo una vez en un programa C++.\n",
    "\n",
    "2. Una variable estática puede definirse dentro de una función particular o fuera de ella.\n",
    "\n",
    "3. El alcance de una variable estática es local al bloque donde se usa.\n",
    "\n",
    "4. Cero es el valor predeterminado proporcionado a una variable estática si el programador no lo asigna.\n",
    "\n",
    "5. La vida útil de una variable estática dura hasta que termina un programa y luego se libera el espacio de memoria.\n",
    "\n",
    "6. Las funciones estáticas se llaman directamente desde el nombre de la clase.\n",
    "\n",
    "La sintaxis de las funciones y variables estáticas es la siguiente:\n"
   ]
  },
  {
   "cell_type": "code",
   "execution_count": null,
   "id": "bc08f4c8",
   "metadata": {},
   "outputs": [],
   "source": [
    "static DataType var = 10; // da una variable estática\n",
    "static returnType function // funcion declarada estática\n",
    " { // cuerpo de la función\n",
    "  }"
   ]
  },
  {
   "cell_type": "code",
   "execution_count": null,
   "id": "fe2d615c",
   "metadata": {},
   "outputs": [],
   "source": [
    "#include <iostream>\n",
    "using namespace std;\n",
    "\n",
    "class clase1\n",
    "{\n",
    "    public :\n",
    "    static int num1;\n",
    "    static int asignacion(int x)\n",
    "    {\n",
    "    cout << \"\\nValor asignado a entero= \" << x<<endl;\n",
    "    }\n",
    "};\n",
    "int clase1::num1=4560;\n",
    "int main()\n",
    "{\n",
    "    clase1 obj1;\n",
    "    clase1::asignacion(87);\n",
    "    cout << \"\\nEl valor de la variable estática : \" <<obj1.num1<<endl;\n",
    "return 0;\n",
    "}"
   ]
  },
  {
   "cell_type": "markdown",
   "id": "e554d539",
   "metadata": {},
   "source": [
    "### Administración de memoria y recolección de basura en C++\n",
    "\n",
    "C++ proporciona otros operadores útiles, como `new` y `delete` que vimos anteriormente. Estos operadores ayudan a mejorar la flexibilidad para asignar o desasignar memoria cuando sea necesario con respecto a las funciones de C como `malloc()`, `calloc()` y `free()`.\n",
    "\n",
    "La administración de la memoria en la programación es importante, ya que el espacio RAM proporcionado en un dispositivo es limitado. El `garbage collection` es un tipo de técnica de administración de memoria que realiza la recolección de elementos no utilizados de forma manual o automática. \n",
    "\n",
    "Recordemos algo: todas las variables globales y estáticas solo viven hasta el final del programa, después de lo cual no sirven y la memoria se libera. Las variables locales dentro de una función, también, solo `viven` entre el lapso de la llamada a la función y la declaración de retorno.\n",
    "Todo este trabajo se realiza automáticamente en C++ y todo se realiza en el momento de la compilación. \n",
    "\n",
    "C++ tiene la capacidad de asignar memoria para variables en tiempo de ejecución, lo que se conoce como asignación de memoria dinámica. Esto debe hacerse manualmente, a diferencia de otros lenguajes de programación como Java o Python, donde el compilador administra automáticamente la tarea de asignación de memoria."
   ]
  },
  {
   "cell_type": "markdown",
   "id": "9fe846bf",
   "metadata": {},
   "source": [
    "#### ¿Por qué utilizar la asignación de memoria dinámica?\n",
    "\n",
    "1. Útil para situaciones en las que no somos conscientes del tamaño de un tipo de datos en particular hasta el tiempo de ejecución\n",
    "\n",
    "2. Para hacer que un grupo de tipos de datos sea más flexible y modificable por el usuario \n",
    "\n",
    "3. Se presta más atención a la entrada del usuario y los resultados se vuelven más personalizados. "
   ]
  },
  {
   "cell_type": "markdown",
   "id": "eebb1c3a",
   "metadata": {},
   "source": [
    "### El operador new \n",
    "\n",
    "El operador `new` en C++ ayuda en la asignación dinámica de memoria. \n",
    "\n",
    "Realizamos una solicitud de espacio de memoria y si la cantidad de memoria requerida está allí, se asigna la cantidad de memoria especificada y se devuelve un puntero (o `null`, si no se pudo asignar). \n",
    "\n",
    "`Sizeof` se puede utilizar para calcular su tamaño. \n",
    "\n",
    "La sintaxis de este operador es la siguiente: \n"
   ]
  },
  {
   "cell_type": "code",
   "execution_count": null,
   "id": "54fb46fa",
   "metadata": {},
   "outputs": [],
   "source": [
    "Puntero = new TipoDato;\n",
    "TipoDato *new tipodato [size in int];\n",
    "varPuntero = new TipoDato[int size];"
   ]
  },
  {
   "cell_type": "markdown",
   "id": "586818d1",
   "metadata": {},
   "source": [
    "### El operador delete\n",
    "\n",
    "El operador `delete` en C ++ ayuda a desasignar memoria dinámicamente.\n",
    "\n",
    "Si un objeto se asigna con el operador `new`, solo se puede eliminar con el operador `delete`. Este operador garantiza un uso seguro y eficiente de la memoria. \n",
    "\n",
    "La sintaxis del operador `delete` es la siguiente: "
   ]
  },
  {
   "cell_type": "code",
   "execution_count": null,
   "id": "77334c8c",
   "metadata": {},
   "outputs": [],
   "source": [
    "delete ptr_var;"
   ]
  },
  {
   "cell_type": "code",
   "execution_count": null,
   "id": "da4cda2f",
   "metadata": {},
   "outputs": [],
   "source": [
    "#include <iostream>\n",
    "using namespace std;\n",
    "\n",
    "int main () {\n",
    "\n",
    "    int *ptr1 = nullptr;\n",
    "    ptr1 = new int;\n",
    "    *ptr1 = 28;\n",
    "    cout << \"\\nValor de la variable puntero 1 : \" << *ptr1 << endl;\n",
    "    delete ptr1;\n",
    "    return 0;\n",
    "}"
   ]
  },
  {
   "cell_type": "markdown",
   "id": "9485fd97",
   "metadata": {},
   "source": [
    "### Ejercicios\n",
    "\n",
    "1. Escribe un programa en C++ que ilustre una declaración y definición de clase, así como el acceso a los miembros de la clase.\n",
    "\n",
    "2. Escribe un programa en C++ para representar la llamada de los constructores de una clase.\n",
    "\n",
    "3. Escribe un programa en C++ para representar la llamada de los destructores de una clase.\n",
    "\n",
    "4. Escribe un programa en C++ para una calculadora simple con menú usando el concepto de clases.\n",
    "\n",
    "6. Escribe un programa en C++ para representar las formas de usar la palabra clave `static`.\n",
    "\n",
    "7. Escribe un programa en C++ para contar y mostrar el número de veces que se crea un objeto usando la palabra clave `static`.\n",
    "\n",
    "8. Escribe un programa en C++ para representar el uso de los operadores `new` y `delete`.\n",
    "\n",
    "9. Escribe un programa en C++ para una calculadora simple con un menú que use solo variables de puntero."
   ]
  },
  {
   "cell_type": "code",
   "execution_count": null,
   "id": "23fd9ad4",
   "metadata": {},
   "outputs": [],
   "source": [
    "//Tus respuestas"
   ]
  },
  {
   "cell_type": "markdown",
   "id": "70410a87",
   "metadata": {},
   "source": [
    "### Estructuras \n",
    "\n",
    "En C++, las clases son una forma de que existan los tipos de datos definidos por el usuario. Sin embargo, también podemos usar las estructuras, que son un tipo de datos definido por el usuario que agrupan diferentes tipos de datos. \n",
    "\n",
    "La estructura entonces es una colección de variables de diferentes tipos de datos bajo un solo nombre. Es similar a una clase en que ambos contienen una colección de datos de diferentes tipos de datos.\n",
    "\n",
    "Por ejemplo: si deseas almacenar información sobre una persona: su nombre, número de ciudadanía y salario. Puedes crear fácilmente diferentes variables `nombre`, `citNo`, `salario` para almacenar esta información por separado.\n",
    "\n",
    "Sin embargo, en el futuro podrás almacenar información sobre varias personas. Ahora, necesitarías crear diferentes variables para cada información por persona: `nombre1`, `citNo1`, `salario1`, `nombre2`, `citNo2`, `salario2`.\n",
    "\n",
    "Puede visualizar fácilmente qué tan grande y desordenado se vería el código. Además, dado que no existiría ninguna relación entre las variables (información), será una tarea abrumadora.\n",
    "\n",
    "Un mejor enfoque será tener una colección de toda la información relacionada bajo un solo nombre `Persona` y usarla para cada persona. Ahora, el código se ve mucho más limpio, legible y eficiente también.\n",
    "\n",
    "Esta colección de toda la información relacionada bajo un solo nombre `Persona` es una estructura."
   ]
  },
  {
   "cell_type": "markdown",
   "id": "475a8ddb",
   "metadata": {},
   "source": [
    "La sintaxis de una estructura es la siguiente: "
   ]
  },
  {
   "cell_type": "code",
   "execution_count": null,
   "id": "859de4ae",
   "metadata": {},
   "outputs": [],
   "source": [
    "struct {\n",
    "// Declaracion de la estructua\n",
    "//miembros\n",
    "};"
   ]
  },
  {
   "cell_type": "code",
   "execution_count": null,
   "id": "ebb57673",
   "metadata": {},
   "outputs": [],
   "source": [
    "struct Persona\n",
    "{\n",
    "    char nombre[50];\n",
    "    int edad;\n",
    "    float salario;\n",
    "};"
   ]
  },
  {
   "cell_type": "markdown",
   "id": "264aa26a",
   "metadata": {},
   "source": [
    "La definición de la estructura es solo el modelo para la creación de variables. Puedes imaginarlo como un tipo de datos. Cuando defines un número entero de la siguiente manera:\n"
   ]
  },
  {
   "cell_type": "code",
   "execution_count": null,
   "id": "2c8797cb",
   "metadata": {},
   "outputs": [],
   "source": [
    "int num1;"
   ]
  },
  {
   "cell_type": "markdown",
   "id": "68a96c27",
   "metadata": {},
   "source": [
    " Una vez que declara una estructura `Persona` como se indica arriba. Puedes definir una variable de estructura como: \n"
   ]
  },
  {
   "cell_type": "code",
   "execution_count": null,
   "id": "adc20bdf",
   "metadata": {},
   "outputs": [],
   "source": [
    "Persona B;"
   ]
  },
  {
   "cell_type": "markdown",
   "id": "6874d248",
   "metadata": {},
   "source": [
    "#### ¿Cómo acceder a los miembros de una estructura? \n",
    "\n",
    "Se accede a los miembros de la variable de estructura mediante un operador de punto (.)\n"
   ]
  },
  {
   "cell_type": "code",
   "execution_count": null,
   "id": "87350d78",
   "metadata": {},
   "outputs": [],
   "source": [
    "B.edad = 50;"
   ]
  },
  {
   "cell_type": "markdown",
   "id": "1c670e2a",
   "metadata": {},
   "source": [
    "**Ejemplo:** Asignación de datos a miembros de una variable de estructura.\n"
   ]
  },
  {
   "cell_type": "code",
   "execution_count": null,
   "id": "f2eaf436",
   "metadata": {},
   "outputs": [],
   "source": [
    "// Ejemplo"
   ]
  },
  {
   "cell_type": "markdown",
   "id": "741acaf0",
   "metadata": {},
   "source": [
    "**Ejemplo:** Clases y Estructuras en C++"
   ]
  },
  {
   "cell_type": "code",
   "execution_count": null,
   "id": "f377285a",
   "metadata": {},
   "outputs": [],
   "source": [
    "#include <iostream>\n",
    "using namespace std;\n",
    "class Estudiante\n",
    "{\n",
    "    public:\n",
    "    string n;\n",
    "    Estudiante(string n)\n",
    "{\n",
    "    std::cout << \"\\nNombre es \" <<n<<endl;\n",
    "}\n",
    "    Estudiante(const Estudiante& s1)\n",
    "{\n",
    "    std::cout << \"\\nEste es un miembro de una clase \\n\" <<endl;\n",
    "}\n",
    "};\n",
    "int main() {\n",
    "    Estudiante s1(\"Rio\");\n",
    "    Estudiante s3(s1);\n",
    "\n",
    "    return 0;\n",
    "    }"
   ]
  },
  {
   "cell_type": "markdown",
   "id": "abc59105",
   "metadata": {},
   "source": [
    "En este código, creamos una clase con algunos métodos. Los métodos de los valores se utilizan para tomar entradas para los miembros de datos de el usuario. \n",
    "\n",
    "Aquí el constructor está sobrecargado y se usa con un objeto. El código muestra los cambios realizados. La sobrecarga se realizó exitosamente. "
   ]
  },
  {
   "cell_type": "markdown",
   "id": "5718012b",
   "metadata": {},
   "source": [
    "**Ejemplo** Trabajando con estructuras"
   ]
  },
  {
   "cell_type": "code",
   "execution_count": null,
   "id": "a453a646",
   "metadata": {},
   "outputs": [],
   "source": [
    "#include <iostream>\n",
    "using namespace std;\n",
    "struct Estructura1 {\n",
    "    int x;\n",
    "    char c;\n",
    "};\n",
    "int main()\n",
    "{\n",
    "\n",
    "    struct Estructura1 s1;\n",
    "    s1.x = 85;\n",
    "    s1.c = 'G';\n",
    "    cout << \"El valor es : \"<< s1.x << endl;\n",
    "    cout << \"El valor es : \"<< s1.c << endl;\n",
    "    cout<<\"Tam de estructura: \"<<sizeof(s1)<<endl;\n",
    "return 0;\n",
    "}"
   ]
  },
  {
   "cell_type": "markdown",
   "id": "07009ce8",
   "metadata": {},
   "source": [
    "En este código, creamos una estructura con algunas variables. El objeto de la estructura está hecho para acceder a los miembros. \n",
    "\n",
    "Observa que el tamaño de toda la estructura se vuelve diferente. \n"
   ]
  },
  {
   "cell_type": "markdown",
   "id": "0a9b53db",
   "metadata": {},
   "source": [
    "### Acceso a una estructura \n",
    "\n",
    "Una estructura, un tipo de datos definido por el usuario en C++, agrupa diferentes tipos de datos juntos. El acceso a los miembros se realiza mediante el operador (.) o utilizando un puntero de estructura. \n",
    "\n",
    "Aquí hay algunos ejemplos que muestran cómo se accede y se llama a los miembros. \n",
    "\n",
    "Estos ejemplos también muestran la cantidad de memoria (o bytes) que ocupa la estructura. "
   ]
  },
  {
   "cell_type": "code",
   "execution_count": null,
   "id": "8dbfe4ee",
   "metadata": {},
   "outputs": [],
   "source": [
    "#include <iostream>\n",
    "using namespace std;\n",
    "  struct Estructura1 {\n",
    "    int x;\n",
    "    char c;\n",
    "};\n",
    "int main()\n",
    "{\n",
    "    struct Estructura1 s1;\n",
    "    struct Estructura1 s2 = { 240,'S' };\n",
    "    s1.x = 835;\n",
    "    s1.c = 'G';\n",
    "    cout << \"El valor es : \"<< s1.x << endl;\n",
    "    cout << \"El valor es : \"<< s1.c << endl;\n",
    "    cout<<\"Tam de la estructura : \"<<sizeof(s1)<<endl;\n",
    "    cout << \"El valor es : \"<< s2.x << endl;\n",
    "    cout << \"El valor  es : \"<< s2.c << endl;\n",
    "    cout<<\"Tam de la estructura : \"<<sizeof(s2)<<endl;\n",
    "    return 0;\n",
    "}"
   ]
  },
  {
   "cell_type": "markdown",
   "id": "520bdc12",
   "metadata": {},
   "source": [
    "En este código, creamos dos estructuras con algunas variables. Una sintaxis diferentes se utiliza para la creación de estructuras. El objeto de la estructura del código anterior está hecho para acceder a los miembros. \n",
    "\n",
    "Observa que el tamaño de toda la estructura se vuelve diferente, como en un clase. "
   ]
  },
  {
   "cell_type": "markdown",
   "id": "6a0c7751",
   "metadata": {},
   "source": [
    "**Ejemplo:** Trabajando con estructuras"
   ]
  },
  {
   "cell_type": "code",
   "execution_count": null,
   "id": "658d6d09",
   "metadata": {},
   "outputs": [],
   "source": [
    "#include <iostream>\n",
    "using namespace std;\n",
    "struct Estructura1 {\n",
    "    int x;\n",
    "    char c;\n",
    "};\n",
    "int main()\n",
    "{\n",
    "    struct Estructura s1 = { 240,'S' };\n",
    "    struct Estructura* s2 = &s1;\n",
    "    cout << \"El valor es : \"<< s2->x << endl;\n",
    "    cout << \"El valor es : \"<< s2->c << endl;\n",
    "    cout<<\"El tam de la estructura : \"<<sizeof(s1)<<endl;\n",
    "}"
   ]
  },
  {
   "cell_type": "markdown",
   "id": "9410d9d1",
   "metadata": {},
   "source": [
    "Considera al siguiente ejemplo:"
   ]
  },
  {
   "cell_type": "code",
   "execution_count": null,
   "id": "1363e260",
   "metadata": {},
   "outputs": [],
   "source": [
    "struct Empleado\n",
    "{\n",
    "    int id {};\n",
    "    int edad {};\n",
    "    double salario {};\n",
    "};\n",
    "\n",
    "int main()\n",
    "{\n",
    "    Empleado Jessica;\n",
    "\n",
    "    return 0;\n",
    "}"
   ]
  },
  {
   "cell_type": "markdown",
   "id": "4facfb33",
   "metadata": {},
   "source": [
    "En el ejemplo anterior, el nombre `Jessica` se refiere a todo el objeto de estructura (que contiene las variables miembro). Para acceder a una variable miembro específica, usamos el operador de selección de miembros (operador.) entre el nombre de la variable de estructura y el nombre del miembro. \n",
    "\n",
    "Por ejemplo, para acceder a la edad de Jessica, usaríamos `Jessica.edad`.\n",
    "\n",
    "Las variables miembro de la estructura funcionan igual que las variables normales, por lo que es posible realizar operaciones normales con ellas, incluida la asignación, operaciones aritméticas, la comparación, etc.\n"
   ]
  },
  {
   "cell_type": "code",
   "execution_count": null,
   "id": "1a8ec346",
   "metadata": {},
   "outputs": [],
   "source": [
    "#include <iostream>\n",
    "\n",
    "struct Empleado\n",
    "{\n",
    "    int id {};\n",
    "    int edad {};\n",
    "    double salario {};\n",
    "};\n",
    "\n",
    "int main()\n",
    "{\n",
    "    Empleado Jessica;\n",
    "    Jessica.edad = 32;  //usa el operador (.) para seleccionar la edad de la variable Jessica\n",
    "\n",
    "    std::cout << Jessica.edad << '\\n'; // imprime la edad de Jessica\n",
    "\n",
    "    return 0;\n",
    "}  // Imprime 32"
   ]
  },
  {
   "cell_type": "markdown",
   "id": "631fed9a",
   "metadata": {},
   "source": [
    "Una de las mayores ventajas de las estructuras es que solo necesitamos crear un nuevo nombre por variable de estructura (los nombres de los miembros se fijan como parte de la definición del tipo de estructura). \n",
    "\n",
    "En el siguiente ejemplo, instanciamos dos objetos `Empleado`: `Chalo` y `Kapu`.\n"
   ]
  },
  {
   "cell_type": "code",
   "execution_count": null,
   "id": "c56e373a",
   "metadata": {},
   "outputs": [],
   "source": [
    "#include <iostream>\n",
    "\n",
    "struct Empleado\n",
    "{\n",
    "    int id {};\n",
    "    int edad {};\n",
    "    double salario {};\n",
    "};\n",
    "\n",
    "int main()\n",
    "{\n",
    "    Empleado Chalo;\n",
    "    Chalo.id = 14;\n",
    "    Chalo.edad = 32;\n",
    "    Chalo.salario = 60000.0;\n",
    "\n",
    "    Empleado Kapu;\n",
    "    Kapu.id = 15;\n",
    "    Kapu.edad = 28;\n",
    "    Kapu.salario = 45000.0;\n",
    "\n",
    "    int edad_total{Chalo.edad + Kapu.edad};\n",
    "\n",
    "    if (Chalo.salario > Kapu.salario)\n",
    "        std::cout << \"Chalo gana mas que Kapu \\n\";\n",
    "    else if (Chalo.salario < Kapu.salario)\n",
    "        std::cout << \"Chalo gana menos que Kapu \\n\";\n",
    "    else\n",
    "        std::cout << \"Chalo y Kapu ganan igual\\n\";\n",
    "\n",
    "    // Promocion\n",
    "    Kapu.salario += 5000.0;\n",
    "\n",
    "    // Cumple de Chalo\n",
    "    ++Chalo.edad; // usea pre-incremento para incrementar la edad de Chalo en 1\n",
    "\n",
    "    return 0;\n",
    "}"
   ]
  },
  {
   "cell_type": "markdown",
   "id": "66ffe595",
   "metadata": {},
   "source": [
    "En el ejemplo anterior, es muy fácil saber qué variables miembro pertenecen a `Chalo` y cuáles pertenecen a `Kapu`. Esto proporciona un nivel de organización mucho más alto que el que proporcionarían las variables individuales.\n",
    "\n",
    "Además, debido a que los miembros de `Chalo` y `Kapu` tienen los mismos nombres, esto brinda consistencia cuando tiene múltiples variables del mismo tipo de estructura.\n",
    "\n"
   ]
  },
  {
   "cell_type": "markdown",
   "id": "41b5781c",
   "metadata": {},
   "source": [
    "#### Inicialización agregada de una estructura\n",
    "\n",
    "Debido a que una variable normal solo puede contener un único valor, solo necesitamos proporcionar un único inicializador:\n"
   ]
  },
  {
   "cell_type": "code",
   "execution_count": null,
   "id": "f418f955",
   "metadata": {},
   "outputs": [],
   "source": [
    "int x { 5 };"
   ]
  },
  {
   "cell_type": "markdown",
   "id": "5c549ffc",
   "metadata": {},
   "source": [
    "Sin embargo, una estructura puede tener varios miembros:"
   ]
  },
  {
   "cell_type": "code",
   "execution_count": null,
   "id": "28505d24",
   "metadata": {},
   "outputs": [],
   "source": [
    "struct Empleado\n",
    "{\n",
    "    int id {};\n",
    "    int edad {};\n",
    "    double salario {};\n",
    "};"
   ]
  },
  {
   "cell_type": "markdown",
   "id": "a457d5dd",
   "metadata": {},
   "source": [
    "Cuando definimos un objeto con un tipo de estructura, necesitamos alguna forma de inicializar varios miembros en el momento de la inicialización.\n",
    "\n",
    "Los **agregados** usan una forma de inicialización llamada **inicialización agregada** que nos permite inicializar directamente los miembros de los agregados. Para hacer esto, proporcionamos una lista de inicializadores como inicializador, que es solo una lista de valores de inicialización separados por comas.\n",
    "\n",
    "Al igual que las variables normales pueden inicializarse por copia, inicializarse directamente o inicializarse en una lista, existen 3 formas de inicialización agregada:"
   ]
  },
  {
   "cell_type": "code",
   "execution_count": null,
   "id": "22055316",
   "metadata": {},
   "outputs": [],
   "source": [
    "struct Empleado\n",
    "{\n",
    "    int id {};\n",
    "    int edad {};\n",
    "    double salario {};\n",
    "};\n",
    "\n",
    "int main()\n",
    "{\n",
    "    Empleado Karen = { 1, 32, 60000.0 };\n",
    "    Empleado Jessica ( 3, 45, 62500.0 );  // C++20\n",
    "    Empleado Edith { 2, 28, 45000.0 };   \n",
    "\n",
    "    return 0;\n",
    "}"
   ]
  },
  {
   "cell_type": "markdown",
   "id": "f75ac13e",
   "metadata": {},
   "source": [
    "Cada una de estas formas de inicialización realiza una inicialización por miembro, lo que significa que cada miembro de la estructura se inicializa en el orden de declaración. Por lo tanto, `Empleado Edith { 2, 28, 45000.0 }` primero inicializa `Edith.id` con el valor 2, luego `Edith.edad` con el valor 28 y `Edith.edad` con el valor 45000.0 por último.\n"
   ]
  },
  {
   "cell_type": "markdown",
   "id": "7504b5bd",
   "metadata": {},
   "source": [
    "**Pregunta:** Si se inicializa un agregado, pero el número de valores de inicialización es menor que el número de miembros, todos los miembros restantes se inicializarán por valor.\n"
   ]
  },
  {
   "cell_type": "code",
   "execution_count": null,
   "id": "e61e1b53",
   "metadata": {},
   "outputs": [],
   "source": [
    "struct Empleado\n",
    "{\n",
    "    int id {};\n",
    "    int edad {};\n",
    "    double salario {};\n",
    "};\n",
    "\n",
    "int main()\n",
    "{\n",
    "    Empleado Jessica{ 2, 28 }; // Jessica.salario deberia ser inicializado a 0.0\n",
    "\n",
    "    return 0;\n",
    "}"
   ]
  },
  {
   "cell_type": "markdown",
   "id": "9c37b941",
   "metadata": {},
   "source": [
    "Esto significa que podemos usar una lista de inicialización vacía para inicializar todos los miembros de la estructura:\n"
   ]
  },
  {
   "cell_type": "code",
   "execution_count": null,
   "id": "bba38b13",
   "metadata": {},
   "outputs": [],
   "source": [
    "Empleado Jessica {}; // valor-inicializa todos los miembros"
   ]
  },
  {
   "cell_type": "markdown",
   "id": "95453896",
   "metadata": {},
   "source": [
    "#### Estructuras const\n",
    "\n",
    "Las variables de un tipo de estructura pueden ser constantes y, al igual que todas las variables constantes, deben inicializarse.\n"
   ]
  },
  {
   "cell_type": "code",
   "execution_count": null,
   "id": "f6c43c49",
   "metadata": {},
   "outputs": [],
   "source": [
    "struct Rectangulo\n",
    "{\n",
    "    double longitud {};\n",
    "    double ancho {};\n",
    "};\n",
    "\n",
    "int main()\n",
    "{\n",
    "    const Rectangulo unidad { 1.0, 1.0 };\n",
    "    const Rectangulo cero { }; // valor-inicial a todos los miembros\n",
    "\n",
    "    return 0;\n",
    "}"
   ]
  },
  {
   "cell_type": "markdown",
   "id": "5c130e30",
   "metadata": {},
   "source": [
    "#### Asignación con una lista de inicializadores\n",
    "\n",
    "Podemos asignar valores a miembros de estructuras individualmente:\n"
   ]
  },
  {
   "cell_type": "code",
   "execution_count": null,
   "id": "a177fc3b",
   "metadata": {},
   "outputs": [],
   "source": [
    "struct Empleado\n",
    "{\n",
    "    int id {};\n",
    "    int edad {};\n",
    "    double salario {};\n",
    "};\n",
    "\n",
    "int main()\n",
    "{\n",
    "    Empleado Edith { 1, 32, 60000.0 };\n",
    "\n",
    "    Edith.edad  = 33;     \n",
    "    Edith.salario = 66000.0;\n",
    "\n",
    "    return 0;\n",
    "}"
   ]
  },
  {
   "cell_type": "markdown",
   "id": "130b4b12",
   "metadata": {},
   "source": [
    "Esto está bien para miembros individuales, pero no es bueno cuando queremos actualizar muchos miembros. \n",
    "\n",
    "Similar a inicializar una estructura con una lista de inicializadores, también puedes asignar valores a las estructuras usando una lista de inicializadores (que hace la asignación de miembros):\n"
   ]
  },
  {
   "cell_type": "code",
   "execution_count": null,
   "id": "39185709",
   "metadata": {},
   "outputs": [],
   "source": [
    "struct Empleado\n",
    "{\n",
    "    int id {};\n",
    "    int edad {};\n",
    "    double salario {};\n",
    "};\n",
    "\n",
    "int main()\n",
    "{\n",
    "    Empleado Edith { 1, 32, 60000.0 };\n",
    "    Edith = { Edith.id, 33, 66000.0 }; \n",
    "\n",
    "    return 0;\n",
    "}"
   ]
  },
  {
   "cell_type": "markdown",
   "id": "404f41ac",
   "metadata": {},
   "source": [
    "Ten en cuenta que debido a que no queríamos cambiar `Edith.id` necesitábamos proporcionar el valor actual de `Edith.id` en la lista como marcador de posición, para que la asignación de miembros pudieras asignar `Edith.id` a `Edith.id`.\n"
   ]
  },
  {
   "cell_type": "markdown",
   "id": "87e1fdf9",
   "metadata": {},
   "source": [
    "#### Inicialización de un miembro predeterminado\n",
    "\n",
    "Cuando definimos un tipo de estructura (o clase), podemos proporcionar un valor de inicialización predeterminado para cada miembro como parte de la definición del tipo. \n",
    "\n",
    "Este proceso se denomina inicialización de miembros no estáticos y el valor de inicialización se denomina inicializador de miembros predeterminado.\n",
    "\n"
   ]
  },
  {
   "cell_type": "code",
   "execution_count": null,
   "id": "985d9936",
   "metadata": {},
   "outputs": [],
   "source": [
    "struct Estruct1\n",
    "{\n",
    "    int x;       // sin valor de inicialización (malo)\n",
    "    int y {};    // valor inicializado por defecto\n",
    "    int z { 2 }; // valor predeterminado explícito\n",
    "};\n",
    "\n",
    "int main()\n",
    "{\n",
    "    Estruct1 s1; // s1.x no está inicializado, s1.y es 0 y s1.z es 2\n",
    "\n",
    "\n",
    "    return 0;\n",
    "}"
   ]
  },
  {
   "cell_type": "markdown",
   "id": "59e6c24b",
   "metadata": {},
   "source": [
    "#### Los valores de inicialización explícitos tienen prioridad sobre los valores predeterminados\n",
    "\n",
    "Los valores explícitos en un inicializador de lista siempre tienen prioridad sobre los valores de inicialización de miembros predeterminados.\n"
   ]
  },
  {
   "cell_type": "code",
   "execution_count": null,
   "id": "3e7f810b",
   "metadata": {},
   "outputs": [],
   "source": [
    "struct Estruct1\n",
    "{\n",
    "    int x;      \n",
    "    int y {};   \n",
    "    int z { 2 }; \n",
    "};\n",
    "\n",
    "int main()\n",
    "{\n",
    "    Estruct1 s2 { 5, 6, 7 };// usa inicializadores explícitos para s2.x, s2.y y s2.z (no se usan valores predeterminados)\n",
    "\n",
    "\n",
    "    return 0;\n",
    "}"
   ]
  },
  {
   "cell_type": "markdown",
   "id": "f2154ef8",
   "metadata": {},
   "source": [
    "**Ejercicio**\n",
    "\n",
    "¿Faltan inicializadores en una lista de inicializadores cuando existen valores predeterminados?. Qué sucede en el siguiente código?\n",
    "\n"
   ]
  },
  {
   "cell_type": "code",
   "execution_count": null,
   "id": "2f5330c9",
   "metadata": {},
   "outputs": [],
   "source": [
    "struct Estruct1\n",
    "{\n",
    "    int x;      \n",
    "    int y {};    \n",
    "    int z { 2 }; \n",
    "};\n",
    "\n",
    "int main()\n",
    "{\n",
    "    Estruct1 s3 {}; \n",
    "    return 0;\n",
    "}"
   ]
  },
  {
   "cell_type": "markdown",
   "id": "bf9318a6",
   "metadata": {},
   "source": [
    "// Tu respuesta"
   ]
  },
  {
   "cell_type": "markdown",
   "id": "b02d3748",
   "metadata": {},
   "source": [
    "Los miembros siempre se inicializan en el orden de declaración.\n"
   ]
  },
  {
   "cell_type": "code",
   "execution_count": null,
   "id": "583d19e9",
   "metadata": {},
   "outputs": [],
   "source": [
    "struct Estruct1\n",
    "{\n",
    "    int x;      \n",
    "    int y {};   \n",
    "    int z { 2 }; \n",
    "};\n",
    "\n",
    "int main()\n",
    "{\n",
    "    Estruct1 s1;          \n",
    "    Estruct1 s2 { 5, 6, 7 }; \n",
    "    Estruct1 s3 {};    \n",
    "    return 0;\n",
    "}"
   ]
  },
  {
   "cell_type": "markdown",
   "id": "9d5b66c7",
   "metadata": {},
   "source": [
    "El caso que queremos ver es `s1.x`. Debido a que `s1` no tiene una lista de inicializadores y `x` no tiene un inicializador de miembros predeterminado, `s1.x` permanece sin inicializar (lo cual es malo, ya que siempre debemos inicializar nuestras variables)."
   ]
  },
  {
   "cell_type": "markdown",
   "id": "50e8662b",
   "metadata": {},
   "source": [
    "**Ejercicio:** Escribe un ejemplo que siempre valores predeterminados para tus miembros en una estructura.\n"
   ]
  },
  {
   "cell_type": "code",
   "execution_count": null,
   "id": "1f4c8cb3",
   "metadata": {},
   "outputs": [],
   "source": [
    "// Tu respuesta"
   ]
  },
  {
   "cell_type": "markdown",
   "id": "3a9b4550",
   "metadata": {},
   "source": [
    "### Pasando estructuras"
   ]
  },
  {
   "cell_type": "code",
   "execution_count": null,
   "id": "b2ee6372",
   "metadata": {},
   "outputs": [],
   "source": [
    "int main()\n",
    "{\n",
    "    int id { 1 };\n",
    "    int edad { 24 };\n",
    "    double salario { 52400.0 };\n",
    "\n",
    "    return 0;\n",
    "}"
   ]
  },
  {
   "cell_type": "markdown",
   "id": "6768ebd9",
   "metadata": {},
   "source": [
    "Si queremos pasar este empleado a una función, tenemos que pasar tres variables:"
   ]
  },
  {
   "cell_type": "code",
   "execution_count": null,
   "id": "64e025f4",
   "metadata": {},
   "outputs": [],
   "source": [
    "#include <iostream>\n",
    "\n",
    "void imprimirEmpleado(int id, int edad, double salario)\n",
    "{\n",
    "    std::cout << \"ID:   \" << id << '\\n';\n",
    "    std::cout << \"Edad:  \" << edad << '\\n';\n",
    "    std::cout << \"Salario: \" << salario << '\\n';\n",
    "}\n",
    "\n",
    "int main()\n",
    "{\n",
    "    int id { 1 };\n",
    "    int edad { 24 };\n",
    "    double salario { 52400.0 };\n",
    "\n",
    "    imprimirEmpleado(id, edad, salario);\n",
    "\n",
    "    return 0;\n",
    "}"
   ]
  },
  {
   "cell_type": "markdown",
   "id": "ff8df2f9",
   "metadata": {},
   "source": [
    "Si bien pasar 3 variables no es tan malo, considera una estructura con 10 o 12 miembros. Pasar cada variable de forma independiente llevaría mucho tiempo y sería propenso a errores. \n",
    "Además, si alguna vez agregamos un nuevo atributo a `empleado` (por ejemplo, `nombre`), tenemos que modificar todas las declaraciones de funciones, definiciones y llamadas a funciones para aceptar el nuevo parámetro y argumento."
   ]
  },
  {
   "cell_type": "markdown",
   "id": "a5e48ca9",
   "metadata": {},
   "source": [
    "#### Paso de estructuras (por referencia)\n",
    "\n",
    "Una gran ventaja de usar estructuras sobre variables individuales es que podemos pasar la estructura completa a una función que necesita trabajar con los miembros. \n",
    "\n",
    "Las estructuras generalmente se pasan por referencia (const) para evitar hacer copias.\n"
   ]
  },
  {
   "cell_type": "code",
   "execution_count": null,
   "id": "2c1cc826",
   "metadata": {},
   "outputs": [],
   "source": [
    "// Completa"
   ]
  },
  {
   "cell_type": "markdown",
   "id": "5b706862",
   "metadata": {},
   "source": [
    "Debido a que estamos pasando todo el objeto de estructura (en lugar de miembros individuales), solo necesitamos un parámetro sin importar cuántos miembros tenga el objeto de estructura. \n",
    "\n",
    "Y, en el futuro, si alguna vez decidimos agregar nuevos miembros a la estructura `Empleado` no tendremos que cambiar la declaración de la función o la llamada a la función. El nuevo miembro se incluirá automáticamente.\n"
   ]
  },
  {
   "cell_type": "markdown",
   "id": "4a9f7c38",
   "metadata": {},
   "source": [
    "#### Retorno de estructuras\n",
    "\n",
    "Considera el caso en el que tenemos una función que necesita devolver un punto en un espacio cartesiano tridimensional. \n",
    "Dicho punto tiene 3 atributos: una coordenada x, una coordenada y y una coordenada z. Pero las funciones solo pueden devolver un valor. Entonces, ¿cómo devolvemos las 3 coordenadas al usuario?\n",
    "\n",
    "Una forma común es devolver una estructura:\n",
    "\n"
   ]
  },
  {
   "cell_type": "code",
   "execution_count": null,
   "id": "4dbc3954",
   "metadata": {},
   "outputs": [],
   "source": [
    "#include <iostream>\n",
    "\n",
    "struct Punto3d\n",
    "{\n",
    "    double x { 0.0 };\n",
    "    double y { 0.0 };\n",
    "    double z { 0.0 };\n",
    "};\n",
    "\n",
    "Punto3d obtenerPuntoCero()\n",
    "{\n",
    "    // Podemos crear una variable y devolver la variable \n",
    "    Punto3d temp { 0.0, 0.0, 0.0 };\n",
    "    return temp;\n",
    "}\n",
    "\n",
    "int main()\n",
    "{\n",
    "    Punto3d cero{obtenerPuntoCero() };\n",
    "\n",
    "    if (cero.x == 0.0 && cero.y == 0.0 && cero.z == 0.0)\n",
    "        std::cout << \"El punto es cero \\n\";\n",
    "    else\n",
    "        std::cout << \"El punto no es cero\\n\";\n",
    "\n",
    "    return 0;\n",
    "}"
   ]
  },
  {
   "cell_type": "markdown",
   "id": "7ea2f96c",
   "metadata": {},
   "source": [
    "Las estructuras generalmente se devuelven por valor.\n"
   ]
  },
  {
   "cell_type": "markdown",
   "id": "8a0e0d08",
   "metadata": {},
   "source": [
    "**Ejercicio:** Devolver estructuras sin nombre\n",
    "\n",
    "En la función `obtenerPuntoCero()` anterior, creamos un nuevo objeto con nombre `(temp)` solo para poder devolverlo:\n"
   ]
  },
  {
   "cell_type": "code",
   "execution_count": null,
   "id": "15103e8f",
   "metadata": {},
   "outputs": [],
   "source": [
    "Punto3d obtenerPuntoCero()\n",
    "{\n",
    "    Punto3d temp { 0.0, 0.0, 0.0 };\n",
    "    return temp;\n",
    "}"
   ]
  },
  {
   "cell_type": "markdown",
   "id": "4eda62ab",
   "metadata": {},
   "source": [
    "Podemos mejorar un poco la función devolviendo un objeto temporal (sin nombre):\n"
   ]
  },
  {
   "cell_type": "code",
   "execution_count": null,
   "id": "cc336f4f",
   "metadata": {},
   "outputs": [],
   "source": [
    "Punto3d obtenerPuntoCero()\n",
    "{\n",
    "    Punto3d temp { 0.0, 0.0, 0.0 };\n",
    "}"
   ]
  },
  {
   "cell_type": "markdown",
   "id": "ea6e940d",
   "metadata": {},
   "source": [
    "¿Qué sucede en el siguiente código ?"
   ]
  },
  {
   "cell_type": "code",
   "execution_count": null,
   "id": "05b983cd",
   "metadata": {},
   "outputs": [],
   "source": [
    "Point3d getZeroPoint()\n",
    "{\n",
    "    \n",
    "    return { 0.0, 0.0, 0.0 }; \n",
    "}"
   ]
  },
  {
   "cell_type": "markdown",
   "id": "10804f77",
   "metadata": {},
   "source": [
    "#### Estructuras con miembros definidos por programa\n",
    "\n",
    "En C++, las estructuras (y las clases) pueden tener miembros que sean otros tipos definidos por el programa. Hay dos maneras de hacer esto.\n",
    "\n",
    "Primero, podemos definir un tipo definido por programa (en el ámbito global) y luego usarlo como miembro de otro tipo definido por programa:\n"
   ]
  },
  {
   "cell_type": "code",
   "execution_count": null,
   "id": "90ed8a74",
   "metadata": {},
   "outputs": [],
   "source": [
    "#include <iostream>\n",
    "\n",
    "struct Empleado\n",
    "{\n",
    "    int id {};\n",
    "    int edad {};\n",
    "    double salario {};\n",
    "};\n",
    "\n",
    "struct Empresa\n",
    "{\n",
    "    int numeroEmpleados {};\n",
    "    Empleado CEO {}; // Empleado es una estructura dentro de la estructura Empresa\n",
    "};\n",
    "\n",
    "int main()\n",
    "{\n",
    "    Empresa miEmpresa{ 7, { 1, 32, 55000.0 } }; //Lista de inicialización anidada para inicializar Empleado\n",
    "    std::cout << miEmpresa.CEO.salario; \n",
    "}"
   ]
  },
  {
   "cell_type": "markdown",
   "id": "6830dd00",
   "metadata": {},
   "source": [
    "En el caso anterior, definimos una estructura `Empleado` y luego la usamos como miembro en una estructura `Empresa`. Cuando inicializamos `Empresa`, también podemos inicializar `Empleado` usando una lista de inicialización anidada. Y si queremos saber cuál era el salario del CEO, simplemente usamos dos veces el operador punto: `miEmpresa.CEO.salario`."
   ]
  },
  {
   "cell_type": "markdown",
   "id": "d4f89c5b",
   "metadata": {},
   "source": [
    "En segundo lugar, los tipos también se pueden anidar dentro de otros tipos, por lo que si `Empleado` solo existiera como parte de `Empresa`, el tipo de empleado podría anidarse dentro de la estructura `Empresa`:"
   ]
  },
  {
   "cell_type": "code",
   "execution_count": null,
   "id": "186f21db",
   "metadata": {},
   "outputs": [],
   "source": [
    "#include <iostream>\n",
    "\n",
    "struct Empresa\n",
    "{\n",
    "    struct Empleado // accedido  via Empresa::Empleado\n",
    "    {\n",
    "        int id{};\n",
    "        int edad{};\n",
    "        double salario{};\n",
    "    };\n",
    "\n",
    "    int numeroEmpleados{};\n",
    "    Empleado CEO{};\n",
    "};\n",
    "\n",
    "int main()\n",
    "{\n",
    "    Empresa miEmpresa{ 7, { 1, 32, 55000.0 } }; //Lista de inicialización anidada para inicializar Empleado\n",
    "    std::cout << miEmpresa.CEO.salario; \n",
    "}"
   ]
  },
  {
   "cell_type": "markdown",
   "id": "c2cea4c6",
   "metadata": {},
   "source": [
    "!Esto se hace mucho en clases!."
   ]
  },
  {
   "cell_type": "markdown",
   "id": "f1e49862",
   "metadata": {},
   "source": [
    "**Ejercicio** ¿qué sucede aquí?"
   ]
  },
  {
   "cell_type": "code",
   "execution_count": null,
   "id": "dcf7e955",
   "metadata": {},
   "outputs": [],
   "source": [
    "#include <iostream>\n",
    "\n",
    "struct F1\n",
    "{\n",
    "    short a {};\n",
    "    int b {};\n",
    "    double c {};\n",
    "};\n",
    "\n",
    "int main()\n",
    "{\n",
    "    std::cout << \"El tam de F1 es \" << sizeof(F1) << '\\n';\n",
    "\n",
    "    return 0;\n",
    "}"
   ]
  },
  {
   "cell_type": "markdown",
   "id": "68982a21",
   "metadata": {},
   "source": [
    "Resulta que solo podemos decir que el tamaño de una estructura será al menos tan grande como el tamaño de todas las variables que contiene. ¡Pero podría ser más grande! Por razones de rendimiento, el compilador a veces agregará espacios en las estructuras (esto se denomina **padding**)."
   ]
  },
  {
   "cell_type": "markdown",
   "id": "81309599",
   "metadata": {},
   "source": [
    "**Referencia:** [Structure Padding in C++](https://thoughts-on-coding.com/2020/09/14/structure-padding-in-cpp/)."
   ]
  },
  {
   "cell_type": "markdown",
   "id": "76370dd4",
   "metadata": {},
   "source": [
    "#### Pasar estructuras a funciónes en C++\n",
    "\n",
    "Una variable de estructura se puede pasar a una función de manera similar a un argumento normal. En este programa, se le pide al usuario que ingrese su nombre, la edad y el salario de una `Persona` dentro de la función main().\n",
    "\n",
    "\n",
    "Considera este ejemplo:\n"
   ]
  },
  {
   "cell_type": "code",
   "execution_count": null,
   "id": "ed5e5079",
   "metadata": {},
   "outputs": [],
   "source": [
    "// Completa"
   ]
  },
  {
   "cell_type": "markdown",
   "id": "ae12028b",
   "metadata": {},
   "source": [
    "**Retorno de la estructura de una función en C++**"
   ]
  },
  {
   "cell_type": "code",
   "execution_count": null,
   "id": "da624a6d",
   "metadata": {},
   "outputs": [],
   "source": [
    "// Completa"
   ]
  },
  {
   "cell_type": "markdown",
   "id": "c3d15e23",
   "metadata": {},
   "source": [
    "### Punteros de C++ a la estructura\n",
    "\n",
    "\n",
    "Se puede crear una variable de puntero no solo para tipos nativos como (int, float, double, etc.) sino también para tipos definidos por el usuario como una estructura.\n",
    "\n",
    "\n",
    "Así es como se puede crear un puntero para estructuras:\n"
   ]
  },
  {
   "cell_type": "code",
   "execution_count": null,
   "id": "ac18fbd3",
   "metadata": {},
   "outputs": [],
   "source": [
    "#include <iostream>\n",
    "using namespace std;\n",
    "\n",
    "struct temp {\n",
    "    int i;\n",
    "    float f;\n",
    "};\n",
    "\n",
    "int main() {\n",
    "    temp *ptr;\n",
    "    return 0;\n",
    "}"
   ]
  },
  {
   "cell_type": "markdown",
   "id": "08b4c0f8",
   "metadata": {},
   "source": [
    "Este programa crea un puntero `ptr` de tipo estructura `temp`.\n"
   ]
  },
  {
   "cell_type": "markdown",
   "id": "4f9f0e9f",
   "metadata": {},
   "source": [
    "**Ejemplo:** En este programa se define una variable puntero `ptr` y una variable normal `d` de tipo estructura `Distancia`.\n",
    "\n"
   ]
  },
  {
   "cell_type": "code",
   "execution_count": null,
   "id": "2f89fd3a",
   "metadata": {},
   "outputs": [],
   "source": [
    "// Completa"
   ]
  },
  {
   "cell_type": "markdown",
   "id": "5db48b51",
   "metadata": {},
   "source": [
    "Mostramos que puedes usar el operador punto `(.)` para seleccionar un miembro de un objeto de estructura:"
   ]
  },
  {
   "cell_type": "code",
   "execution_count": null,
   "id": "5f4139b2",
   "metadata": {},
   "outputs": [],
   "source": [
    "#include <iostream>\n",
    "\n",
    "struct Empleado\n",
    "{\n",
    "    int id {};\n",
    "    int age {};\n",
    "    double salario {};\n",
    "};\n",
    "\n",
    "int main()\n",
    "{\n",
    "    Employee Jessica { 1, 34, 65000.0 };\n",
    "    \n",
    "    ++Jessica.age; \n",
    "    Jessica.salario = 68000.0;\n",
    "\n",
    "    return 0;\n",
    "}"
   ]
  },
  {
   "cell_type": "markdown",
   "id": "937244f0",
   "metadata": {},
   "source": [
    "Dado que las referencias a un objeto actúan como el objeto mismo, también podemos usar el operador `(.)` para seleccionar un miembro de una referencia a una estructura:"
   ]
  },
  {
   "cell_type": "code",
   "execution_count": null,
   "id": "8d942055",
   "metadata": {},
   "outputs": [],
   "source": [
    "#include <iostream>\n",
    "\n",
    "struct Empleado\n",
    "{\n",
    "    int id{};\n",
    "    int edad{};\n",
    "    double salario{};\n",
    "};\n",
    "\n",
    "void imprimirEmpleado(const Empleado& e)\n",
    "{\n",
    "    // Uso del operador(.) para seleccionar un miembro desde la referencia a struct\n",
    "    std::cout << \"Id: \" << e.id << '\\n';\n",
    "    std::cout << \"  Edad: \" << e.edad << '\\n';\n",
    "    std::cout << \"  Salario: \" << e.salario << '\\n';\n",
    "}\n",
    "\n",
    "int main()\n",
    "{\n",
    "    Empleado Jessica{ 1, 34, 65000.0 };\n",
    "\n",
    "    ++Jessica.edad;\n",
    "    Jessica.salario = 68000.0;\n",
    "\n",
    "    imprimirEmpleado(Jessica);\n",
    "\n",
    "    return 0;\n",
    "}"
   ]
  },
  {
   "cell_type": "markdown",
   "id": "a96a8466",
   "metadata": {},
   "source": [
    "#### Selección de miembros para punteros a estructuras\n",
    "\n",
    "El uso del operador `(.)` no funciona si tienes un puntero a una estructura:\n"
   ]
  },
  {
   "cell_type": "code",
   "execution_count": null,
   "id": "6ab0839f",
   "metadata": {},
   "outputs": [],
   "source": [
    "#include <iostream>\n",
    "\n",
    "struct Empleado\n",
    "{\n",
    "    int id{};\n",
    "    int edad{};\n",
    "    double salario{};\n",
    "};\n",
    "\n",
    "int main()\n",
    "{\n",
    "    Empleado Jessica{ 1, 34, 65000.0 };\n",
    "\n",
    "    ++Jessica.edad;\n",
    "    Jessica.salario = 68000.0;\n",
    "\n",
    "    Empleado* ptr{ &Jessica };\n",
    "    std::cout << ptr.id << '\\n'; // Error: no puedes usar el operador . con punteros\n",
    "\n",
    "    return 0;\n",
    "}"
   ]
  },
  {
   "cell_type": "markdown",
   "id": "acc47111",
   "metadata": {},
   "source": [
    "Con variables normales o referencias, podemos acceder a los objetos directamente. Sin embargo, debido a que los punteros contienen direcciones, primero debemos eliminar la referencia del puntero para obtener el objeto antes de que podamos hacer algo con él. \n",
    "\n",
    "Entonces, una forma de acceder a un miembro desde un puntero a una estructura es la siguiente:\n"
   ]
  },
  {
   "cell_type": "code",
   "execution_count": null,
   "id": "fb487ff3",
   "metadata": {},
   "outputs": [],
   "source": [
    "#include <iostream> // no muy buena implementación\n",
    "\n",
    "struct Empleado\n",
    "{\n",
    "    int id{};\n",
    "    int edad{};\n",
    "    double salario{};\n",
    "};\n",
    "\n",
    "int main()\n",
    "{\n",
    "    Empleado Jessica{ 1, 34, 65000.0 };\n",
    "\n",
    "    ++Jessica.edad;\n",
    "    Jessica.salario = 68000.0;\n",
    "\n",
    "    Empleado* ptr{ &Jessica };\n",
    "    std::cout << (*ptr).id << '\\n'; // primero se desreferencia ptr, luego se usa el operador .\n",
    "    return 0;\n",
    "}"
   ]
  },
  {
   "cell_type": "markdown",
   "id": "94a77e18",
   "metadata": {},
   "source": [
    "En el código anterior  necesitamos poner entre paréntesis la operación de desreferenciación para que tenga prioridad sobre la operación de selección de miembros.\n",
    "\n",
    "Para lograr una sintaxis más limpia, C++ ofrece el operador `(->)` (también llamado a veces operador de flecha) que se puede usar para seleccionar miembros de un puntero a un objeto:\n"
   ]
  },
  {
   "cell_type": "code",
   "execution_count": null,
   "id": "6b37d564",
   "metadata": {},
   "outputs": [],
   "source": [
    "// Completa"
   ]
  },
  {
   "cell_type": "markdown",
   "id": "498ea249",
   "metadata": {},
   "source": [
    "Este puntero `(->)` funciona de manera idéntica al operador `(.)` pero elimina la referencia implícita del objeto de puntero antes de seleccionar el miembro. Así `ptr->id` es equivalente a `(*ptr).id`.\n",
    "\n",
    "Este operador de flecha no solo es más fácil de escribir, sino que también es mucho menos propenso a errores porque la indirección se hace implícitamente por el programador , por lo que no hay problemas de precedencia de los que preocuparse. En consecuencia, cuando accedas a miembros a través de un puntero, utiliza siempre el operador `->` en lugar del `.` operador.\n"
   ]
  },
  {
   "cell_type": "markdown",
   "id": "77821987",
   "metadata": {},
   "source": [
    "### Mezcla de  punteros y no punteros a miembros\n",
    "\n",
    "Si tienes una combinación de punteros y variables de miembros normales, puedes ver selecciones de miembros donde `.` y `->` se usan en secuencia:\n"
   ]
  },
  {
   "cell_type": "code",
   "execution_count": null,
   "id": "61d88547",
   "metadata": {},
   "outputs": [],
   "source": [
    "#include <iostream>\n",
    "#include <string>\n",
    "\n",
    "struct Patas\n",
    "{\n",
    "    int garras{};\n",
    "};\n",
    "\n",
    "struct Animal\n",
    "{\n",
    "    std::string nombre{};\n",
    "    Patas patas{};\n",
    "};\n",
    "\n",
    "int main()\n",
    "{\n",
    "    Animal puma{ \"Puma\", { 5 } };\n",
    "\n",
    "    Animal* ptr{ &puma };\n",
    "\n",
    "    // ptr es un puntero, usea ->\n",
    "    // paw no es un puntero, usa .\n",
    "\n",
    "    std::cout << (ptr->patas).garras << '\\n';\n",
    "\n",
    "    return 0;\n",
    "}"
   ]
  },
  {
   "cell_type": "markdown",
   "id": "113d8024",
   "metadata": {},
   "source": [
    "Ten en cuenta que en el caso de `(ptr->patas).garras`, los paréntesis no son necesarios ya que tanto operator `->` como operator`.` se evalúa en orden de izquierda a derecha, pero ayuda ligeramente a la legibilidad."
   ]
  },
  {
   "cell_type": "markdown",
   "id": "2137ac69",
   "metadata": {},
   "source": [
    "### Características de la estructura \n",
    "\n",
    "- Se define usando la palabra clave `struct` y los miembros acceden a ella usando el nombre. \n",
    "- La asignación de memoria para una estructura en C++ ocurre de forma contigua. \n",
    "- Tiene miembros de datos y funciones que son similares a las variables y funciones utilizadas en otras partes de C++.  \n",
    "- La inicialización de los miembros se puede realizar mediante llaves. \n",
    "- El acceso a los miembros se realiza mediante el selector o el operador punto. \n",
    "- Un puntero a una estructura en C++ usa el siguiente operador: `->`. \n",
    "- Al igual que los arreglos, las estructuras de  estructuras se pueden hacer en C++. "
   ]
  },
  {
   "cell_type": "markdown",
   "id": "ea6e71f9",
   "metadata": {},
   "source": [
    "### Ejercicios\n",
    "\n",
    "1. Explica la organización de almacenamiento de las variables de estructura.\n",
    "\n",
    "2. Escribe una breve nota sobre el paso de variables de tipo estructura a una función y la idoneidad de diferentes esquemas de paso de parámetros en diferentes situaciones.\n",
    "\n",
    "3. Escribe un programa en C++ que procese la fecha de nacimiento usando estructuras. Incluye la capacidad de procesar las fechas de nacimiento de varios estudiantes.\n",
    "\n",
    "4. Escribe un programa en C++ para procesar números complejos. El programa tiene que realizar sumas, restas, multiplicaciones y divisiones de números complejos  debe imprimir los resultados en forma `x+ iy`.\n",
    "\n",
    "5. Considera la siguiente declaración de estructura:\n",
    "\n",
    "\n",
    "```\n",
    "struct institucion {\n",
    "struct profesor{\n",
    "int empl_no;\n",
    "    char nombre[20];\n",
    "};\n",
    "\n",
    "struct student {\n",
    "    int roll_no;\n",
    "    char nombre[15];\n",
    "    };\n",
    "};\n",
    "```\n",
    "\n",
    "   ¿Cuáles son los valores de tamaño de (institución), tamaño de (maestro) y tamaño de (estudiante)?\n",
    "\n",
    "6. Estás ejecutando un sitio web y estás tratando de realizar un seguimiento de cuánto dinero gana por día con la publicidad. Declara una estructura publicitaria que realice un seguimiento de cuántos anuncios has mostrado a los lectores, en qué porcentaje de anuncios hicieron clic los usuarios y cuánto ganastes en promedio por cada anuncio en el que se hizo clic. Lee los valores para cada uno de estos campos del usuario. Pasa la estructura publicitaria a una función que imprima cada uno de los valores y luego calcule cuánto ganastes ese día (multiplica los 3 campos juntos).\n",
    "\n"
   ]
  },
  {
   "cell_type": "code",
   "execution_count": null,
   "id": "a6f8041f",
   "metadata": {},
   "outputs": [],
   "source": []
  },
  {
   "cell_type": "code",
   "execution_count": null,
   "id": "cf53d14c",
   "metadata": {},
   "outputs": [],
   "source": []
  }
 ],
 "metadata": {
  "kernelspec": {
   "display_name": "C++11",
   "language": "C++11",
   "name": "xcpp11"
  },
  "language_info": {
   "codemirror_mode": "text/x-c++src",
   "file_extension": ".cpp",
   "mimetype": "text/x-c++src",
   "name": "c++",
   "version": "11"
  }
 },
 "nbformat": 4,
 "nbformat_minor": 5
}
