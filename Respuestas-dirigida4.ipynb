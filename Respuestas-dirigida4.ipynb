{
 "cells": [
  {
   "cell_type": "markdown",
   "id": "5767a5ba",
   "metadata": {},
   "source": [
    "### Algunas respuestas de la lista de ejercicios 4"
   ]
  },
  {
   "cell_type": "markdown",
   "id": "c9a851bd",
   "metadata": {},
   "source": [
    " Escribe un programa en C ++ para extraer una sub-cadena de una cadena dada.\n"
   ]
  },
  {
   "cell_type": "code",
   "execution_count": null,
   "id": "74900657",
   "metadata": {},
   "outputs": [],
   "source": [
    "\n"
   ]
  },
  {
   "cell_type": "markdown",
   "id": "0e7165c2",
   "metadata": {},
   "source": [
    "Implementa  la función: `void rotar(int r, char *p, char *q)` la cual rota r posiciones a las\n",
    "letras de la cadena apuntada por p y las almacena en una cadena apuntada por q."
   ]
  },
  {
   "cell_type": "code",
   "execution_count": null,
   "id": "2bb698c9",
   "metadata": {},
   "outputs": [],
   "source": [
    "\n"
   ]
  },
  {
   "cell_type": "markdown",
   "id": "1e2c3e83",
   "metadata": {},
   "source": [
    "Escribe una función para imprimir una cadena estilo C carácter por carácter. Utiliza un puntero para recorrer cada carácter de la cadena e imprimir ese carácter. Detente cuando llegues a null. Escriba una función `main` que pruebe la función con el literal de cadena \"Hello world!\".\n"
   ]
  },
  {
   "cell_type": "code",
   "execution_count": null,
   "id": "c1ae5d75",
   "metadata": {},
   "outputs": [],
   "source": []
  },
  {
   "cell_type": "markdown",
   "id": "a40ef13b",
   "metadata": {},
   "source": [
    "Defina un arreglo de cadenas en las que las cadenas contengan los nombres de los meses. Imprime esas cadenas. Pasa el arreglo  a una función que imprima esas cadenas.\n"
   ]
  },
  {
   "cell_type": "code",
   "execution_count": null,
   "id": "177c60d3",
   "metadata": {},
   "outputs": [],
   "source": []
  },
  {
   "cell_type": "markdown",
   "id": "36112627",
   "metadata": {},
   "source": [
    "Leer una secuencia de palabras de la entrada. Usa `Salir` como una palabra que termina la entrada. Escriba las palabras en el orden en que fueron ingresadas. No escribas una palabra dos veces. \n",
    "\n",
    "Modifica el programa para ordenar las palabras antes de imprimirlas. Usa para simplificar  `<vector>` y `<algorithm>`. (Ejercicio opcional)\n"
   ]
  },
  {
   "cell_type": "code",
   "execution_count": null,
   "id": "23b5a2d2",
   "metadata": {},
   "outputs": [],
   "source": [
    "\n"
   ]
  },
  {
   "cell_type": "markdown",
   "id": "6dca76ad",
   "metadata": {},
   "source": [
    "Escribe una función `cat()` que tome dos argumentos de cadena de estilo C y devuelva una cadena que sea la concatenación de los argumentos. Usa `new` para encontrar almacenamiento  para el resultado.\n"
   ]
  },
  {
   "cell_type": "code",
   "execution_count": null,
   "id": "2a1ff27b",
   "metadata": {},
   "outputs": [],
   "source": []
  },
  {
   "cell_type": "markdown",
   "id": "9f3c694c",
   "metadata": {},
   "source": [
    "Todos los procesadores de textos, tienen la opción de \"buscar y reemplazar”. Escribe un\n",
    "programa en C++, implementando la función `void reemplazar(char *linea, char *strbusc, char\n",
    "*streemp)` tal que se leen la cadena a `buscar(strbusc)` y la cadena que va a reemplazarla\n",
    "`(streemp)`. \n",
    "\n",
    "Luego se lee un texto (línea). Si la cadena a buscar se encuentra en la línea, se reemplazará por la segunda cadena tantas veces como se encuentre. Las líneas nunca superarán los 100 caracteres.\n",
    "\n",
    "\n",
    "Sugerencia: Usa  las funciones `strlen`, `strcpy` y `strcat`.\n",
    "\n",
    "```\n",
    "Ingrese la cadena a buscar \t:  Amazon\n",
    "Ingrese la cadena a reemplazar : CC\n",
    "* Ingrese el texto :\n",
    "Amazon tiene cuentas en AWS Educate para experimentos\n",
    "* Texto reemplazado :\n",
    " CC  tiene cuentas en AWS  Educate para experimentos\n",
    " \n",
    " ```\n"
   ]
  },
  {
   "cell_type": "code",
   "execution_count": null,
   "id": "fcef587b",
   "metadata": {},
   "outputs": [],
   "source": []
  },
  {
   "cell_type": "markdown",
   "id": "c0973574",
   "metadata": {},
   "source": [
    "Escribe una función `atoi(const char∗)` que tome una cadena estilo C que contenga dígitos y devuelva el int correspondiente. Por ejemplo, `atoi(\"123\")` es `123` . Modifica `atoi()` para manejar la notación octal y hexadecimal de C++ además de números decimales simples. \n",
    "Modifica `atoi()` para manejar la notación constante de caracteres de C++.\n"
   ]
  },
  {
   "cell_type": "code",
   "execution_count": null,
   "id": "2d8ffe91",
   "metadata": {},
   "outputs": [],
   "source": [
    "\n"
   ]
  },
  {
   "cell_type": "markdown",
   "id": "c78d120d",
   "metadata": {},
   "source": [
    "Escribe una función `itoa(int i, char b[])` que cree una representación de cadena de `i` en `b` y devuelva `b` ."
   ]
  },
  {
   "cell_type": "code",
   "execution_count": null,
   "id": "3e44f2c6",
   "metadata": {},
   "outputs": [],
   "source": []
  },
  {
   "cell_type": "markdown",
   "id": "81fe879a",
   "metadata": {},
   "source": [
    "En un salón de clase hay un letrero de 4 líneas:\n",
    "\n",
    "```\n",
    "La hora es la hora\n",
    "Ante de la hora no es la hora\n",
    "Después de la hora tampoco es la hora.\n",
    "La hora es la hora.\n",
    "```\n",
    "\n",
    "Escribe un programa en C++que cuente las letras mayúsculas y las minúsculas, así como el número de espacios  blancos, puntos y finalmente el número total de caracteres.\n",
    "\n",
    "Sugerencia: Guarda el letrero en char letrero[4][40]. La salida será:\n",
    "\n",
    "``` \n",
    "Número de mayúsculas: 4\n",
    "Número de minúsculas: 75\n",
    "Número de  espacios en blanco: 22\n",
    "Número de puntos: 1\n",
    "Número total de caracteres: 102\n",
    "````"
   ]
  },
  {
   "cell_type": "code",
   "execution_count": null,
   "id": "80715ef8",
   "metadata": {},
   "outputs": [],
   "source": []
  },
  {
   "cell_type": "markdown",
   "id": "5fa637fa",
   "metadata": {},
   "source": [
    "Escribe un programa que elimine los comentarios de un programa C++. Es decir, lea desde `cin`, elimine los comentarios `//` y los comentarios `/∗ ∗/` y escriba el resultado en `cout`. \n",
    "\n",
    "No te preocupes por hacer que el diseño de la salida se vea bien (ese sería otro ejercicio y mucho más difícil). No te preocupes por los programas incorrectos. Ten cuidado con `//` , `/∗` y `∗/` en loscomentarios, cadenas y constantes de caracteres.\n"
   ]
  },
  {
   "cell_type": "code",
   "execution_count": null,
   "id": "16f905c7",
   "metadata": {},
   "outputs": [],
   "source": [
    "\n"
   ]
  },
  {
   "cell_type": "markdown",
   "id": "ece0769b",
   "metadata": {},
   "source": [
    "En un salón de clase  se dicta una conferencia sobre Programación en C++, los asistentes anotan sus nombres en una lista, al final se rifa (número aleatorio de 1 a número de asistentes), un premio y se anuncia el número y nombre del ganador. Escribe un programa en C++para controlar el ingreso.\n",
    "Suponga que los asistentes son:\n",
    "\n",
    "```\n",
    "char lista[30][10]= {\"Juan\", \"María\", \"José\", \"Elena\", \"Fiore\", \"Rosita\"}, nl= 0;\n",
    "\n",
    "```\n",
    "\n",
    "Cálculo de `nl = número de asistentes`:\n",
    "\n",
    "```\n",
    "for(i=0;i<10;i++) if(strlen(lista[i])) nl++ ;\n",
    "```\n",
    "\n",
    "La salida puede ser:\n",
    "\n",
    "```\n",
    "El ganador es: 3 José\n",
    "```"
   ]
  },
  {
   "cell_type": "code",
   "execution_count": null,
   "id": "f39a13dd",
   "metadata": {},
   "outputs": [],
   "source": []
  },
  {
   "cell_type": "markdown",
   "id": "6e84f443",
   "metadata": {},
   "source": [
    " Escribe un programa que escriba la segunda palabra (y su longitud) en un arreglo de caracteres. Las palabras están separadas por espacios, puntuación y tabulaciones. \n"
   ]
  },
  {
   "cell_type": "code",
   "execution_count": null,
   "id": "e3b9691d",
   "metadata": {},
   "outputs": [],
   "source": [
    "#include<iostream>\n",
    "bool esSeparador(char c, char* separadores) {\n",
    "    char finDeCadena = '\\0';\n",
    "    char* sepPtr = separadores;\n",
    "    bool ret = false;\n",
    "    while(*sepPtr != finDeCadena) {\n",
    "       if (c == *sepPtr) {\n",
    "         ret = true;\n",
    "           break;\n",
    "        }\n",
    "       sepPtr++;\n",
    "    }\n",
    "    return ret;\n",
    "}\n",
    "int charArrayLength(char* a) {\n",
    "    int ret = 0;\n",
    "    char finDeCadena = '\\0';\n",
    "    while(*a != finDeCadena) {\n",
    "       ret++;\n",
    "    a++;\n",
    "    }\n",
    "    return ret;\n",
    "}\n",
    "\n",
    "int main(int argc, char** argv) {\n",
    "using namespace std;\n",
    "\n",
    " int ret = 0;\n",
    " char finDeCadena = '\\0';\n",
    " char laOracion[] = \"Deberias estar aquí ?\";\n",
    " char separadores[] = \" \\t,.;:?!\";\n",
    " char* strPtr = laOracion;\n",
    " char*strFinal;\n",
    "\n",
    "\n",
    "bool esSegundaPalabra = false;\n",
    "while(*strPtr != finDeCadena) {\n",
    "    while(esSeparador(*strPtr, separadores)) {\n",
    "    strPtr++;\n",
    "    esSegundaPalabra = true;\n",
    "    }\n",
    "    if (esSegundaPalabra) {\n",
    "    break;\n",
    "    } else {\n",
    "      strPtr++;\n",
    "    }\n",
    "}\n",
    "\n",
    "strEnd = strPtr;\n",
    "while(*strEnd != finDeCadena) {\n",
    "    if (esSeparador(*strEnd, separadores)) {\n",
    "\n",
    "       *strEnd = finDeCadena;\n",
    "    break;\n",
    "    }\n",
    "\n",
    "   strFinal++;\n",
    "    }\n",
    "    cout << strPtr << \"(\" << charArrayLength(strPtr) << \")\" << endl;\n",
    "    return ret;\n",
    "}\n",
    "\n"
   ]
  },
  {
   "cell_type": "code",
   "execution_count": null,
   "id": "f9693b4c",
   "metadata": {},
   "outputs": [],
   "source": []
  }
 ],
 "metadata": {
  "kernelspec": {
   "display_name": "C++11",
   "language": "C++11",
   "name": "xcpp11"
  },
  "language_info": {
   "codemirror_mode": "text/x-c++src",
   "file_extension": ".cpp",
   "mimetype": "text/x-c++src",
   "name": "c++",
   "version": "11"
  }
 },
 "nbformat": 4,
 "nbformat_minor": 5
}
