{
 "cells": [
  {
   "cell_type": "markdown",
   "id": "95bb7713",
   "metadata": {},
   "source": [
    "## Análisis de algoritmos \n",
    "\n",
    "La complejidad de un algoritmo se puede definir en la forma en como cambia el rendimiento del algoritmo a medida que cambiamos el tamaño de los datos de entrada. Esto se refleja en el tiempo de ejecución y en el espacio de memoria del algoritmo. Entonces, podemos esperar que a medida que aumentamos el tamaño de la entrada, el algoritmo tardará más en ejecutarse y necesitará más memoria para almacenar los datos de entrada, lo que ciertamente es el caso la mayor parte del tiempo. "
   ]
  },
  {
   "cell_type": "markdown",
   "id": "62c2b114",
   "metadata": {},
   "source": [
    "### Notaciones asintóticas \n",
    "\n",
    "Usamos la llamada notación $O$ grande para medir el tiempo de ejecución de un algoritmo. Decimos un algoritmo se ejecuta en $O(f(n))$, si el algoritmo ejecuta como máximo operaciones $c\\cdot f(n)$ para procesar una entrada de tamaño $n$, donde $c$ es una constante positiva y $f$ es una función de $n$. \n",
    "\n",
    "Por ejemplo, decimos que un algoritmo se ejecuta en tiempo $O(n)$ si tiene complejidad lineal, es decir, la relación entre el tamaño de la entrada y el número de operaciones que realiza el algoritmo es lineal, es decir, el algoritmo se ejecuta en a lo más $c\\dot n$ operaciones para terminar, dada una entrada de tamaño $n$.\n",
    "\n",
    "Otro ejemplo típico es $O(\\log n)$, lo que significa que el algoritmo tiene una complejidad logarítmica, es decir, el algoritmo toma como máximo operaciones $c\\dot \\log(n)$ para terminar cuando el tamaño de entrada es $n$. \n",
    "\n",
    "A continuación, enumeramos tres tipos diferentes de notaciones utilizadas para describir los tiempos de ejecución de los algoritmos. \n",
    "\n",
    "\n",
    "* Notación $O$. Se utiliza para definir un límite superior asintótico para el tiempo de ejecución. Se emplea para describir el peor de los casos. \n",
    "\n",
    "* Notación $\\Omega$. Defina un límite inferior asintótico para el tiempo de ejecución de un algoritmo. En otras palabras, se utiliza para describir el mejor de los casos. \n",
    "\n",
    "* Notación $\\Theta$. Especifica un límite inferior asintótico y un límite superior asintótico para el tiempo de ejecución de un algoritmo. \n",
    "\n",
    "Es importante mencionar que aun cuando las notaciones asintóticas se asocian comúnmente al tiempo de ejecución, también se pueden utilizar para describir otras características del algoritmo, como la memoria. \n",
    "\n",
    "Existen diferentes tipos de algoritmos dependiendo de su complejidad. Algunos de los más comunes pertenecen a las siguientes categorías: \n",
    "\n",
    "* Complejidad Constante. Su rendimiento no cambia con el aumento del tamaño de entrada. Decimos que estos algoritmos se ejecutan en tiempo $O(1)$.\n",
    "\n",
    "* Complejidad Lineal. El rendimiento de estos algoritmos se comporta linealmente a medida que aumentamos el tamaño de los datos de entrada. \n",
    "\n",
    "* Complejidad Logarítmica. El rendimiento aumenta de forma logarítmica a medida que aumentamos el tamaño de los datos de entrada. Lo que significa que si tenemos $10$ elementos, el algoritmo ejecutará operaciones de $log 10$, que es alrededor de $2.3$.\n",
    "\n",
    "* Complejidad de polinomios. Para este tipo de algoritmos, el rendimiento crece a una tasa polinomial de acuerdo a los datos de entrada. Algunos de los algoritmos de clasificación más famosos como bubble sort, se ejecutan en tiempo cuadrático, $O(n^2 )$. \n",
    "\n",
    "* Complejidad Exponencial. Estos son los peores casos y deben evitarse en lo posible, ya que por un pequeño incremento en los datos de entrada, el rendimiento crece considerablemente. Decimos que estos algoritmos se ejecutan en ($a^n$) tiempo, para algún valor de $a > 1$.\n"
   ]
  },
  {
   "cell_type": "markdown",
   "id": "70b68e5d",
   "metadata": {},
   "source": [
    "### Teorema Master\n",
    "\n",
    "Sean $a \\geq 1$ y $b \\geq 1$ constantes, y sea $f(n)$ una función. Si la complejidad temporal, $T(n)$, de un algoritmo recursivo tiene la forma \n",
    "\n",
    "$$T(n) = aT(n/b) + f(n)$$ , \n",
    "\n",
    "donde $a$ se refiere al número de ramas que saldrán del nodo actual en el árbol de recursión y $b$ se refiere al tamaño de los datos en cada una de estas ramas. Entonces se tiene los siguientes límites asintóticos: \n",
    "\n",
    "\n",
    "1. Si $f(n) = 0(n^{\\log_b a -\\epsilon})$ para alguna constante $\\epsilon > 0$, entonces $T(n) = \\Theta(n^{\\log_b a})$.\n",
    "\n",
    "2. Si $f(n) = \\Theta(n^{\\log_b a})$, entonces $T(n) = \\Theta(n^{\\log_b a} \\log n)$.\n",
    "\n",
    "3. Si $f(n) = \\Omega(n^{\\log_b a + \\epsilon})$ para alguna constante $\\epsilon > 0$ y si $af(n/b) \\leq cf(n)$ para algún constante $c < 1$, entonces para un $n$ grande tenemos $T(n) = \\Theta(f(n))$.\n",
    "\n",
    "Cuando aplicamos el teorema Master, lo que hacemos es comparar la función $f(n)$ con la función $n^{log_{b} a}$  y seleccionar el mayor de las dos. Si $n^{log_{b} a}$  es mayor, entonces estamos en el primer caso y $T(n) = \\Theta(n^{\\log_b a})$. Si $f(n)$ es mayor, entonces estamos en el caso 3 y  $T(n) = \\Theta(f(n))$.  Si ambas funciones tienen el mismo tamaño, entonces estamos en el caso 2, y multiplicamos la función por un factor logarítmico y obtenemos  $f(n) = \\Theta(n^{\\log_b a} \\log n) = \\Theta(f(n)\\log n)$.  \n",
    "\n",
    "Cuando decimos que $f(n)$ debe ser menor o mayor que $n^{log_{b} a}$ queremos decir que $f(n)$ debe ser polinomialmente menor o mayor que $n^{log_{b} a}$ por un factor de $n^{\\epsilon}$, para algunos $\\epsilon> 0$.\n",
    "\n",
    "\n",
    "Para entender mejor el teorema Master veamos ejemplos:\n",
    "\n",
    "$T(n) = T(n/2) + 1$\n",
    "\n",
    "Este ejemplo representa una búsqueda binaria. Aquí $a = 1$, $b = 2$ y $f(n) = 1$. Entonces $n^{log_b a} = n^{log_2  1}  = n^0 = 1$. Dado que $f(n) = n^{log_b a} = 1$, entonces estamos en el segundo caso del teorema maestro, y $T(n) = \\Theta(\\log n)$.\n",
    "\n",
    "$T(n) = 2T(n/2) + n$.\n",
    "\n",
    "Este caso representa el comportamiento de `Merge Sort`. Aquí tenemos $a = 2, b = 2$ y $f(n) = n$. Entonces $n^{log_b a} = n^{log_2 2} = n^1 = n$. Como $f(n) = n^{log_b a}$, de nuevo estamos en el caso 2 del teorema y $T (n) = \\Theta(n \\log n)$.\n",
    "\n",
    "\n"
   ]
  },
  {
   "cell_type": "markdown",
   "id": "3b151cdd",
   "metadata": {},
   "source": [
    "Revisa: [Efficient Algorithms and Intractable Problems ](https://cs170.org/)."
   ]
  },
  {
   "cell_type": "markdown",
   "id": "0f1ac1de",
   "metadata": {},
   "source": [
    "### P y NP\n",
    "\n",
    "Llamamos **P** al conjunto de problemas que se pueden resolver en tiempo polinomial, y **NP** al conjunto de problemas cuya solución se puede verificar en tiempo polinomial.\n",
    "\n",
    "**P** está dentro de **NP** , ya que un problema cuya solución se puede obtener en tiempo polinomial, se puede verificar en tiempo polinomial\n",
    "\n",
    "\n",
    "Sin embargo, no está tan claro al revés, es decir, un problema cuya solución se puede verificar en tiempo polinomial, es incierto que se pueda resolver en tiempo polinomial.\n",
    "\n",
    "La prueba de que un problema cuya solución se puede verificar fácilmente (en tiempo polinomial) puede o no puede resolverse fácilmente (en tiempo polinomial) aún no se ha encontrado, y es uno de los siete problemas del milenio.\n",
    "\n",
    "Ver: https://brilliant.org/wiki/millennium-prize-problems/.\n"
   ]
  },
  {
   "cell_type": "markdown",
   "id": "d5eab890",
   "metadata": {},
   "source": [
    "## Algoritmos de ordenamiento"
   ]
  },
  {
   "cell_type": "markdown",
   "id": "ea811893",
   "metadata": {},
   "source": [
    "### 1. Algoritmo de Burbuja\n",
    "\n",
    "El algoritmo consiste en lo siguiente. Sea un arreglo  $X$ con $n$ elementos, $x_0, x_1,\\dots, x_{n−1}$. Itera de $i= 0$ a $i = n-2$ comparando el elemento $x_i$ con el elemento $x_{i+1}$, si $x_i > x_{i+1}$ intercambia ambos valores. \n",
    "\n",
    "Considera el siguiente arreglo de números. \n",
    "\n",
    "![](Imagenes/B1.png)\n",
    "\n",
    "Las iteraciones del método de ordenamiento  de burbujas se muestran en la tabla \n",
    "\n",
    "![](Imagenes/B2.png)\n",
    "\n",
    "\n",
    "El arreglo  resultante es\n",
    "\n",
    "\n",
    "![](Imagenes/B3.png)\n",
    "\n",
    "\n",
    "El programa siguiente  lee un número $n$ ($1 \\leq n \\leq100$), que indica el número de elementos en el arreglo $X$. Los siguientes $n$ números representan los elementos de $X$. \n",
    "\n",
    "El programa imprime el arreglo $X$ con sus elementos ordenados en orden creciente. \n",
    "\n",
    "\n",
    "\n"
   ]
  },
  {
   "cell_type": "markdown",
   "id": "6bcf3679",
   "metadata": {},
   "source": [
    "**Complejidad temporal**: $O(n^2)$\n",
    "\n",
    "Entrada:\n",
    "\n",
    "- n: Número de elementos en el arreglo.\n",
    "- X: Arreglo  a ordenar.\n",
    "\n",
    "Salida:\n",
    "\n",
    "El arreglo $X$ en orden no decreciente.\n"
   ]
  },
  {
   "cell_type": "code",
   "execution_count": null,
   "id": "d9a98a74",
   "metadata": {},
   "outputs": [],
   "source": [
    "#include <algorithm>\n",
    "#include <cstdio>\n",
    "#define N 101\n",
    "using namespace std;\n",
    "int X[N];\n",
    "\n",
    "int n;\n",
    "\n",
    "void bubbleSort();\n",
    "int main() {\n",
    "    scanf(\"%d\", &n);\n",
    "    for (int i = 0; i < n; i++) {\n",
    "        scanf(\"%d\", &X[i]);\n",
    "    }\n",
    "\n",
    "    bubbleSort();\n",
    "\n",
    "    for (int i = 0; i < n; i++) {\n",
    "        printf(\"%d \", X[i]);\n",
    "    }\n",
    "\n",
    "    printf(\"\\n\");\n",
    "    return 0;\n",
    "}\n",
    "void bubbleSort() {\n",
    "    for (int i = 0; i < n; i++) {\n",
    "        for (int j = 0; j < n - 1; j++) {\n",
    "            if (X[j] > X[j + 1]) {\n",
    "                swap(X[j], X[j + 1]);\n",
    "            }\n",
    "        }\n",
    "    }\n",
    "}"
   ]
  },
  {
   "cell_type": "markdown",
   "id": "be776075",
   "metadata": {},
   "source": [
    "### Ejercicios\n",
    "\n",
    "1. Explica paso a paso el proceso del algoritmo de ordenamiento de burbuja con el arreglo $[4, 2, 7, 1, 3]$. \n",
    "\n",
    "2. ¿Qué crees que sucede si el arreglo tiene elementos repetidos?."
   ]
  },
  {
   "cell_type": "code",
   "execution_count": 1,
   "id": "8586a831",
   "metadata": {},
   "outputs": [],
   "source": [
    "// Tus respuestas"
   ]
  },
  {
   "cell_type": "markdown",
   "id": "3ce01a6a",
   "metadata": {},
   "source": [
    "### 2 . Ordenamiento de selección\n",
    "\n",
    "Dada un arreglo de $n$ elementos, este algoritmo encuentra el elemento más pequeño en un arreglo y lo coloca en la primera posición, luego encuentra el número más pequeño de los elementos restantes y lo coloca en la segunda posición y así sucesivamente, hasta que todos los elementos estén ordenados. \n",
    "\n",
    "En la iteración $i$, el costo de encontrar el elemento más pequeño es $n- i$, porque en este punto estamos seguros de que los primeros $i-1$ elementos ya están ordenados. \n",
    "\n",
    "Considera el siguiente arreglo.\n",
    "\n",
    "![](Imagenes/B4.png)\n",
    "\n",
    "Las iteraciones del algoritmo se describen en la tabla.\n",
    "\n",
    "![](Imagenes/B5.png)\n",
    "\n",
    "En la tabla los números en rojo son números que ya están en las posiciones correctas, y los números en negrita son los que necesita ser intercambiado. En el primer elemento necesitamos iterar a través de todos los $n$ elementos, para el segundo necesitamos iterar a través de $n -1$ elementos, y así sucesivamente. \n",
    "\n",
    "Entonces, el número de iteraciones viene dado por $n + (n -1) + (n - 2) + \\dots + 1 = \\frac{n}{2} (n + 1)$.\n",
    "\n",
    "El código  lee un número entero $n$ ($1 \\leq n \\leq 100$). Sigue  $n$ números, que representan los elementos del  arreglo que se van a ordenar. \n",
    "\n",
    "\n",
    "El programa imprime la arreglo ordenada en orden ascendente utilizando el algoritmo de ordenamiento de selección. \n",
    "\n",
    "\n"
   ]
  },
  {
   "cell_type": "markdown",
   "id": "d5d88654",
   "metadata": {},
   "source": [
    "**Complejidad temporal**: $O(n^2)$\n",
    "\n",
    "Entrada:\n",
    "\n",
    "- n: Número de elementos en el arreglo.\n",
    "- X: Arreglo  a ordenar.\n",
    "\n",
    "Salida:\n",
    "\n",
    "El arreglo $X$ en orden no decreciente.\n"
   ]
  },
  {
   "cell_type": "code",
   "execution_count": null,
   "id": "393865db",
   "metadata": {},
   "outputs": [],
   "source": [
    "#include <algorithm>\n",
    "#include <cstdio>\n",
    "#define N 101\n",
    "using namespace std;\n",
    "int X[N];\n",
    "int n;\n",
    "void selectionSort();\n",
    "\n",
    "int main() {\n",
    "    scanf(\"%d\", &n);\n",
    "    for (int i = 0; i < n; i++) {\n",
    "        scanf(\"%d\", &X[i]);\n",
    "        \n",
    "    }\n",
    "\n",
    "    selectionSort();\n",
    "    for (int i = 0; i < n; i++) {\n",
    "        printf(\"%d \", X[i]);\n",
    "    }\n",
    "    printf(\"\\n\");\n",
    "    \n",
    "    return 0;\n",
    "}\n",
    "\n",
    "void selectionSort() {\n",
    "    for (int i = 0; i < n - 1; i++) {\n",
    "        int pos = i;\n",
    "        for (int j = i + 1; j < n; j++) {\n",
    "            if (X[j] < X[pos]) {\n",
    "                pos = j;\n",
    "                \n",
    "            }\n",
    "        }    \n",
    "        swap(X[i], X[pos]);\n",
    "        \n",
    "    }\n",
    "}"
   ]
  },
  {
   "cell_type": "markdown",
   "id": "1a840cf7",
   "metadata": {},
   "source": [
    "### Ejercicios\n",
    "\n",
    "1. Explica paso a paso el proceso del algoritmo de selección con el arreglo $[4, 2, 7, 1, 3]$. \n",
    "\n",
    "2. ¿Qué crees que sucede si el arreglo tiene elementos repetidos?."
   ]
  },
  {
   "cell_type": "code",
   "execution_count": null,
   "id": "38cda5d8",
   "metadata": {},
   "outputs": [],
   "source": [
    "// Tus respuestas"
   ]
  },
  {
   "cell_type": "markdown",
   "id": "fa50f36b",
   "metadata": {},
   "source": [
    "### 3. Ordenamiento de inserción\n",
    "\n",
    "Supongamos que tenemos un arreglo con sus elementos ordenados y queremos agregar un nuevo elemento. Para mantener ordenado el arreglo, debemos colocar el nuevo elemento en la posición correcta. Para lograrlo, todos los elementos mayores que el nuevo elemento deben desplazarse hacia la derecha para dejar espacio al nuevo elemento. \n",
    "\n",
    "Considera el  siguiente arreglo: \n",
    "\n",
    "![](Imagenes/B6.png)\n",
    "\n",
    "Para agregar un nuevo elemento con un valor de $5$, debemos desplazar hacia la derecha los elementos mayores a $5$, y colocar el nuevo elemento en la posición correcta.\n",
    "\n",
    "![](Imagenes/B7.png)\n",
    "\n",
    "En el peor de los casos, los elementos se dan en orden descendente, haciendo en cada iteración para cambiar todos los elementos de la matriz. \n",
    "\n",
    "El código lee un número entero $n$ ($1 \\leq n \\leq 100$), indicando el número de elementos en el arreglo. Los siguientes $n$ números representan los elementos del arreglo. \n",
    "\n",
    "El programa utiliza la ordenación por inserción para imprimir el arreglo dada en orden ascendente.\n",
    "\n"
   ]
  },
  {
   "cell_type": "markdown",
   "id": "8829287a",
   "metadata": {},
   "source": [
    "**Complejidad temporal**: $O(n^2)$\n",
    "\n",
    "Entrada:\n",
    "\n",
    "- n: Número de elementos en el arreglo.\n",
    "- X: Arreglo  a ordenar.\n",
    "\n",
    "Salida:\n",
    "\n",
    "El arreglo $X$ en orden no decreciente.\n"
   ]
  },
  {
   "cell_type": "code",
   "execution_count": null,
   "id": "dadc2d88",
   "metadata": {},
   "outputs": [],
   "source": [
    "#include <cstdio>\n",
    "#define N 101\n",
    "using namespace std;\n",
    "int X[N];\n",
    "int n;\n",
    "\n",
    "int main() {\n",
    "    int j, num;\n",
    "    scanf(\"%d\", &n);\n",
    "    for (int i = 0; i < n; i++) {\n",
    "        scanf(\"%d\", &num);\n",
    "        j = i;\n",
    "        while (j > 0 && num < X[j - 1]) {\n",
    "            X[j] = X[j - 1];\n",
    "            j--;\n",
    "        }\n",
    "        X[j] = num;\n",
    "    }\n",
    "    for (int i = 0; i < n; i++) {\n",
    "        printf(\"%d \", X[i]);\n",
    "    }\n",
    "    printf(\"\\n\");\n",
    "    return 0;\n",
    "}"
   ]
  },
  {
   "cell_type": "markdown",
   "id": "cbc497ee",
   "metadata": {},
   "source": [
    "**Observación:** Cuando dos algoritmos caen bajo la misma clasificación de la notación $O$, no significa necesariamente que ambos algoritmos tengan la misma velocidad. Bubble sort es el doble de lento que selection sort, aunque ambos son $O(n^2)$. \n",
    "\n",
    "Entonces, si bien la notación $O$ es perfecta para contrastar algoritmos que caen bajo diferentes clasificaciones $O$. cuando dos algoritmos caen bajo la misma clasificación, se requiere más análisis para determinar qué algoritmo es más rápido.\n"
   ]
  },
  {
   "cell_type": "markdown",
   "id": "8b11b36f",
   "metadata": {},
   "source": [
    "Toda la información de este cuaderno está basada en el libro de David Esparza Alba, Algorithms for Competitve Programming."
   ]
  },
  {
   "cell_type": "markdown",
   "id": "11d83d20",
   "metadata": {},
   "source": [
    "**Repaso:** Estudia las demostraciones dados aquí: https://homepages.bluffton.edu/~nesterd/apps/SortingDemo.html "
   ]
  },
  {
   "cell_type": "code",
   "execution_count": null,
   "id": "f9773127",
   "metadata": {},
   "outputs": [],
   "source": [
    "// Tus respuestas"
   ]
  }
 ],
 "metadata": {
  "kernelspec": {
   "display_name": "C++17",
   "language": "C++17",
   "name": "xcpp17"
  },
  "language_info": {
   "codemirror_mode": "text/x-c++src",
   "file_extension": ".cpp",
   "mimetype": "text/x-c++src",
   "name": "c++",
   "version": "17"
  }
 },
 "nbformat": 4,
 "nbformat_minor": 5
}
