{
 "cells": [
  {
   "cell_type": "markdown",
   "id": "0c65f212",
   "metadata": {},
   "source": [
    "## Algoritmos de ordenamiento"
   ]
  },
  {
   "cell_type": "markdown",
   "id": "6899c3bf",
   "metadata": {},
   "source": [
    "Quicksort se basa en un concepto llamado partición, por lo que abordaremos eso primero. \n",
    "\n",
    "### Particionamiento\n",
    "\n",
    "Dividir un arreglo es tomar un valor aleatorio, que luego se llama `pivote` y asegurarse de que cada número menor que el pivote termina a la izquierda del pivote, y que cada número mayor que el pivote termina a la derecha del pivote. \n",
    "\n",
    "Digamos que tenemos el siguiente arreglo: \n",
    "\n",
    "<img src=\"Imagenes/C1.png\"  width=\"200\"/>\n",
    "\n",
    "En aras de la coherencia, siempre seleccionaremos el valor más a la derecha para que sea el pivote (aunque técnicamente podemos elegir otros valores). En este caso, el número 3 es nuestro pivote. Lo indicamos rodeándolo con un círculo: \n",
    "\n",
    "<img src=\"Imagenes/C2.png\"  width=\"200\"/>\n",
    "\n",
    "\n",
    "Luego asignamos \"punteros\", uno al valor más a la izquierda de la arreglo y otro al valor más a la derecha de la arreglo, excluyendo el pivote en sí:\n",
    "\n",
    "<img src=\"Imagenes/C3.png\"  width=\"280\"/>\n",
    "\n",
    "Ahora estamos listos para comenzar la partición real, que sigue estos pasos:\n",
    "\n",
    "1. El puntero izquierdo se mueve continuamente una celda hacia la derecha hasta que alcanza un valor mayor o igual que el pivote y luego se detiene. \n",
    "\n",
    "2. El puntero derecho se mueve continuamente una celda hacia la izquierda hasta que alcanza un valor que es menor o igual que el pivote y luego se detiene. El puntero derecho también se detendrá si llega al principio del arreglo. \n",
    "\n",
    "3. Una vez que el puntero derecho se ha detenido, llegamos a un `cruce`. Si el puntero izquierdo ha alcanzado (o superado) al puntero derecho, pasamos al paso 4. De lo contrario, intercambiamos los valores a los que apuntan los punteros izquierdo y derecho, y luego volvemos a repetir los pasos 1, 2 y 3 nuevamente. \n",
    "\n",
    "4. Finalmente, intercambiamos el pivote con el valor al que apunta actualmente el puntero izquierdo. \n",
    "\n"
   ]
  },
  {
   "cell_type": "markdown",
   "id": "6d8c7348",
   "metadata": {},
   "source": [
    "**Ejercicio:** Aplica los pasos anteriores en el arreglo de ejemplo dado."
   ]
  },
  {
   "cell_type": "code",
   "execution_count": null,
   "id": "0063e9b6",
   "metadata": {},
   "outputs": [],
   "source": [
    "// Tu respuesta"
   ]
  },
  {
   "cell_type": "markdown",
   "id": "b695e626",
   "metadata": {},
   "source": [
    "### Algoritmo Quicksort\n",
    "\n",
    "El algoritmo Quicksort es una combinación de particiones y recursividad. Funciona de la siguiente manera:\n",
    "\n",
    "1. Particiona el arreglo. El pivote está ahora en su lugar correcto.\n",
    "\n",
    "2. Trata los subarreglos a la izquierda y a la derecha del pivote como sus propios arreglos y repita recursivamente los pasos 1 y 2. Eso significa que dividiremos cada subarreglo y terminaremos con sub-subarreglos aún más pequeños a la izquierda y a la derecha de cada pivote del subarreglo. Luego dividimos esos sub-subconjuntos, y así sucesivamente.\n",
    "\n",
    "3. Cuando tenemos un subarreglo que tiene cero o un elemento, ese es nuestro caso base y no hacemos nada.\n"
   ]
  },
  {
   "cell_type": "markdown",
   "id": "2210ae0d",
   "metadata": {},
   "source": [
    "**Ejemplo:** \n",
    "\n",
    "Comenzamos con el arreglo `[0, 5, 2, 1, 6, 3]` y ejecutamos una sola partición en todo el arreglo. Dado que quicksort comienza con una partición de este tipo, significa que ya hemos pasado en parte por el proceso de quicksort. Nos quedamos con:\n",
    "\n",
    "<img src=\"Imagenes/C4.png\"  width=\"250\"/>\n",
    "\n",
    "El valor 3 es el pivote original. Ahora que el pivote está en el lugar correcto, debemos ordenar lo que esté a la izquierda y a la derecha del pivote. Ten en cuenta que en el ejemplo, sucede que los números a la izquierda del pivote ya están ordenados, pero la computadora aún no lo sabe.\n",
    "\n",
    "El siguiente paso después de la partición es tratar todo a la izquierda del pivote como un arreglo y particionarlo.\n",
    "Ocultaremos el resto de la arreglo por ahora:\n",
    "\n",
    "<img src=\"Imagenes/C5.png\"  width=\"250\"/>\n",
    "\n",
    "\n",
    "Ahora, de este subarreglo `[0, 1, 2]`, haremos que el elemento más a la derecha sea el pivote, o sea el número 2:\n",
    "\n",
    "<img src=\"Imagenes/C6.png\"  width=\"250\"/>\n",
    "\n",
    "Estableceremos los punteros izquierdo y derecho:\n",
    "\n",
    "\n",
    "<img src=\"Imagenes/C7.png\"  width=\"300\"/>\n",
    "\n",
    "Y ahora estamos listos para dividir este subarreglo. \n",
    "\n",
    "Comparamos el puntero izquierdo (0) con el pivote (2). Como el 0 es menor que el pivote, seguimos moviendo el puntero izquierdo.\n",
    "\n",
    "Movemos el puntero izquierdo una celda a la derecha, y ahora apunta al mismo valor que apunta el puntero derecho:\n",
    "\n",
    "<img src=\"Imagenes/C8.png\"  width=\"300\"/>\n",
    "\n",
    "\n",
    "Comparamos el puntero izquierdo con el pivote. Como el valor 1 es menor que el pivote, seguimos adelante.\n",
    "\n",
    "Movemos el puntero izquierdo una celda a la derecha, que resulta ser el pivote:\n",
    "\n",
    "<img src=\"Imagenes/C9.png\"  width=\"300\"/>\n",
    "\n",
    "En este punto, el puntero izquierdo apunta a un valor que es igual al pivote (¡ya que es el pivote!), entonces se detiene. \n",
    "\n",
    "Observa cómo el puntero izquierdo logró colarse más allá del puntero derecho. Eso está bien, el algoritmo está diseñado para funcionar incluso con tal ocurrencia.\n",
    "\n",
    "Ahora, activamos el puntero derecho. Sin embargo, debido a que el valor del puntero derecho (1) es menor que el pivote, permanece inmóvil. \n",
    "\n",
    "Dado que el puntero izquierdo ha pasado al puntero derecho, hemos terminado de mover los punteros\n",
    "en total en esta partición.\n",
    "\n",
    "A continuación, intercambiamos el pivote con el valor del puntero izquierdo. Ahora, da la casualidad de que el puntero izquierdo apunta al pivote mismo, por lo que intercambiamos el pivote consigo mismo, lo que no produce ningún cambio. \n",
    "\n",
    "En este punto, la partición está completa y el pivote (2) ahora está en su lugar correcto:\n",
    "\n",
    "<img src=\"Imagenes/C10.png\"  width=\"250\"/>\n",
    "\n",
    "\n",
    "Ahora tenemos un subarreglo de `[0, 1]` a la izquierda del pivote (el 2) y ningún subarreglo a su derecha. El siguiente paso es particionar recursivamente el subarreglo a la izquierda del pivote, que nuevamente es `[0, 1]`. \n",
    "\n",
    "No tenemos que lidiar con ningún subarreglo a la derecha del pivote ya que no existe tal subarreglo.\n",
    "\n",
    "Debido a que todo lo que nos enfocaremos en el siguiente paso es el subarreglo `[0, 1]`, bloquearemos el resto del arreglo para que se vea así:\n",
    "\n",
    "<img src=\"Imagenes/C11.png\"  width=\"300\"/>\n",
    "\n",
    "Para particionar el subarreglo, `[0, 1]`, haremos que el elemento más a la derecha (el 1) sea el pivote. ¿Dónde pondremos los punteros izquierdo y derecho? \n",
    "\n",
    "Bueno, el puntero izquierdo apuntará al 0, pero el puntero derecho también apuntará al 0, ya que siempre comenzamos el puntero derecho en una celda a la izquierda del pivote. Esto nos da:\n",
    "\n",
    "<img src=\"Imagenes/C12.png\"  width=\"300\"/>\n",
    "\n",
    "Ahora estamos listos para comenzar la partición.\n",
    "\n",
    "Comparamos el puntero izquierdo (0) con el pivote (1):\n",
    "\n",
    "<img src=\"Imagenes/C13.png\"  width=\"300\"/>\n",
    "\n",
    "Es menos que el pivote, así que seguimos adelante.\n",
    "\n",
    "Desplazamos el puntero izquierdo una celda hacia la derecha. Ahora apunta al pivote:\n",
    "\n",
    "<img src=\"Imagenes/C14.png\"  width=\"330\"/>\n",
    "\n",
    "Dado que el valor del puntero izquierdo (1) no es inferior al pivote (ya que es el pivote), el puntero izquierdo deja de moverse.\n",
    "\n",
    "Comparamos el puntero derecho con el pivote. Como apunta a un valor que es menor que el pivote, ya no lo movemos. Y dado que el puntero izquierdo ha pasado al puntero derecho, hemos terminado de mover los punteros para esta partición.\n",
    "\n",
    "Ahora intercambiamos el puntero izquierdo con el pivote. Nuevamente, en este caso, el puntero izquierdo en realidad apunta al pivote en sí, por lo que el intercambio en realidad no cambia nada. El pivote ahora está en su lugar correcto y hemos terminado con esta partición.\n",
    "\n",
    "Eso nos deja con esto:\n",
    "\n",
    "<img src=\"Imagenes/C15.png\"  width=\"250\"/>\n",
    "\n",
    "A continuación, necesitamos dividir el subarreglo a la izquierda del pivote más reciente. En este caso, ese subarreglo es `[0]`, un arreglo de un solo elemento. Una arreglo de cero o uno elementos es nuestro caso base, por lo que no hacemos nada. Se considera que el elemento está en su lugar correcto automáticamente. Entonces, ahora tenemos:\n",
    "\n",
    "<img src=\"Imagenes/C16.png\"  width=\"250\"/>\n",
    "\n",
    "Comenzamos tratando a 3 como nuestro pivote y particionamos recursivamente el subarreglo a su izquierda `([0, 1, 2])`. Ahora debemos volver a dividir recursivamente el subarreglo a la derecha del `3`, que es `[6, 5]`.\n",
    "\n",
    "\n",
    "Ocultaremos `[0, 1, 2, 3]`, ya que ya los hemos ordenado, y ahora solo nos estamos enfocando en `[6, 5]`:\n",
    "\n",
    "\n",
    "<img src=\"Imagenes/C17.png\"  width=\"250\"/>\n",
    "\n",
    "\n",
    "En la siguiente partición, trataremos el elemento más a la derecha (el 5) como el pivote. Eso nos da:\n",
    "\n",
    "<img src=\"Imagenes/C18.png\"  width=\"250\"/>\n",
    "\n",
    "Al configurar la próxima partición, los punteros izquierdo y derecho terminan apuntando al 6:\n",
    "\n",
    "<img src=\"Imagenes/C19.png\"  width=\"250\"/>\n",
    "\n",
    "Comparamos el puntero izquierdo (6) con el pivote (5). Dado que 6 es mayor que el pivote, el puntero izquierdo no se mueve más.\n",
    "\n",
    "El puntero de la derecha también apunta al 6, por lo que teóricamente pasaríamos a la siguiente celda a la izquierda. Sin embargo, no hay más celdas a la izquierda del 6, por lo que el puntero derecho deja de moverse. Dado que el puntero izquierdo ha llegado al puntero derecho, hemos terminado de mover los punteros por completo para esta partición. Eso significa que estamos listos para el paso final.\n",
    "\n",
    "Cambiamos el pivote con el valor del puntero izquierdo:\n",
    "\n",
    "<img src=\"Imagenes/C20.png\"  width=\"250\"/>\n",
    "\n",
    "El pivote (5) ahora está en su lugar correcto, dejándonos con:\n",
    "\n",
    "<img src=\"Imagenes/C21.png\"  width=\"250\"/>\n",
    "\n",
    "A continuación, técnicamente necesitamos particionar recursivamente el subarreglo a la izquierda y derecha del subarreglo `[5, 6]`. Dado que no hay un subarreglo a su izquierda, eso significa que solo necesitamos dividir el subarreglo a la derecha. Dado que el subarreglo a la derecha del 5 es un solo elemento de `[6]`, ese es el caso base y no hacemos nada: automáticamente se considera que el 6 está en su lugar correcto:\n",
    "\n",
    "<img src=\"Imagenes/C22.png\"  width=\"250\"/>\n",
    "\n"
   ]
  },
  {
   "cell_type": "markdown",
   "id": "95bb7713",
   "metadata": {},
   "source": [
    "### Implementación del algoritmo\n",
    "\n",
    "Considera una arreglo $x_0 , x_1 , x_2 ,\\dots, x_{n-1}$ . Si tomamos el último elemento, $x_{n-1}$, como pivote, y colocamos un iterador $i$ en la posición $0$ y otro iterador $j$ en la posición $n -2$. Si $x_i$ es más pequeño que el pivote, aumenta $i$ en uno. \n",
    "Además, si $x_j$ es mayor o igual que el pivote, disminuye $j$ en uno. En el caso de que $x_i$ sea mayor o igual que el pivote y que $x_j$ sea menor que el pivote, intercambia ambos elementos y continúa. \n",
    "\n",
    "El proceso se detiene cuando $i$ es mayor que $j$. Finalmente, simplemente intercambia $x_i$ y el pivote. Este se asegurará de que el pivote esté en la posición correcta. Repite el proceso con el subarreglo en el lado izquierdo del pivote y con el subarreglo en el lado derecho del pivote. Al final, se ordenará todo el arreglo. \n",
    "\n",
    "\n",
    "El algoritmo muestra la lógica detrás de Quick Sort para ordenar un arreglo $X$ desde la posición $a$ hasta la posición $b$.\n",
    "\n",
    "\n",
    "<img src=\"Imagenes/C23.png\"  width=\"600\"/>"
   ]
  },
  {
   "cell_type": "markdown",
   "id": "ad715529",
   "metadata": {},
   "source": [
    "El peor de los casos es cuando todos los elementos se ordenan en orden no ascendente, porque todos los elementos estarán ubicados en el lado derecho del pivote en cada iteración. Para el primer pivote habrá $n -1$ elementos a su derecha, para el próximo pivote será $n - 2$, y así sucesivamente. \n",
    "\n",
    "Para evitar esto, muchos algoritmos ejecutan un algoritmo de ordenación aleatoria antes de ejecutar quick sort alcanzando $O(n\\log n)$ la mayoría de las veces."
   ]
  },
  {
   "cell_type": "markdown",
   "id": "b2db1b36",
   "metadata": {},
   "source": [
    "El código siguiente implementa quick sort para ordenar un arreglo $X$ de $n$ elementos ($1 \\leq n < 20$). La entrada consiste en el número $n$ y los $n$ números que forman $X$. La salida es $X$ con sus elementos ordenados en orden ascendente.\n",
    "\n",
    "\n",
    "**Complejidad del tiempo:** $O(n^2)$,\n",
    "\n",
    "Es importante decir que la complejidad de tiempo promedio de este algoritmo es $O(n \\log n)$, y es por eso que se usa ampliamente.\n",
    "\n",
    "Entrada:\n",
    "\n",
    "- n: El número de elementos en el arreglo.\n",
    "- X:  Arreglo a ordenar.\n",
    "\n",
    "Salida:\n",
    "\n",
    "El arreglo ordenado.\n"
   ]
  },
  {
   "cell_type": "code",
   "execution_count": null,
   "id": "af2c4723",
   "metadata": {},
   "outputs": [],
   "source": [
    "#include <algorithm>\n",
    "#include <cstdio>\n",
    "using namespace std;\n",
    "\n",
    "int X[20];\n",
    "int n;\n",
    "\n",
    "void quicksort(int, int);\n",
    "int getPivot(int, int);\n",
    "\n",
    "int main() {\n",
    "   scanf(\"%d\", &n);\n",
    "   for (int i = 0; i < n; i++) {\n",
    "    scanf(\"%d\", &X[i]);\n",
    "    }\n",
    "    \n",
    "    quicksort(0, n - 1);\n",
    "\n",
    "    for (int i = 0; i < n; i++) {\n",
    "      printf(\"%d \", X[i]);\n",
    "    }\n",
    "    printf(\"\\n\");\n",
    "\n",
    "    return 0;\n",
    "}"
   ]
  },
  {
   "cell_type": "markdown",
   "id": "b41da479",
   "metadata": {},
   "source": [
    "La función `quicksort` definida a continuación, recibe dos enteros que corresponden al intervalo a ordenar. Usando el pivote, se llama a sí mismo para ordenar el subintervalo a la izquierda del pivote y el subintervalo a la derecha del pivote.\n"
   ]
  },
  {
   "cell_type": "code",
   "execution_count": null,
   "id": "51654282",
   "metadata": {},
   "outputs": [],
   "source": [
    "void quicksort(int a, int b) {\n",
    "    if (a < b) {\n",
    "        int p = getPivot(a, b);\n",
    "        quicksort(a, p - 1);\n",
    "        quicksort(p + 1, b);\n",
    "    }\n",
    "}"
   ]
  },
  {
   "cell_type": "markdown",
   "id": "47690c03",
   "metadata": {},
   "source": [
    "La parte clave del algoritmo Quick Sort consiste en colocar en la posición correcta el pivote. La función `getPivot` coloca el pivote en la posición correcta en el intervalo `[a, b]` según el algoritmo descrito anteriormente."
   ]
  },
  {
   "cell_type": "code",
   "execution_count": null,
   "id": "c7c336c8",
   "metadata": {},
   "outputs": [],
   "source": [
    "int getPivot(int a, int b) {\n",
    "    int i = a;\n",
    "    int j = b - 1;\n",
    "    int p = b;\n",
    "    \n",
    "    while (i <= j) {\n",
    "     if (X[i] < X[p]) {\n",
    "      i++;\n",
    "     } else if (X[j] >= X[p]) {\n",
    "      j--;\n",
    "     } else if (X[i] >= X[p] && X[j] < X[p]) {\n",
    "      swap(X[i++], X[j--]);\n",
    "     }\n",
    "    }\n",
    "    swap(X[i], X[p]);\n",
    "    return i;\n",
    "\n",
    "}"
   ]
  },
  {
   "cell_type": "markdown",
   "id": "949101e5",
   "metadata": {},
   "source": [
    "### La eficiencia de Quicksort\n",
    "\n",
    "Para averiguar la eficiencia de Quicksort, primero determinemos la eficiencia de una sola partición.\n",
    "\n",
    "Cuando desglosemos los pasos de una partición, notaremos que una partición implica dos tipos principales de pasos:\n",
    "\n",
    "- Comparaciones: Comparamos cada uno de los valores que tenemos a mano con el pivote.\n",
    "\n",
    "- Swaps: cuando corresponda, intercambiamos los valores señalados por los punteros izquierdo y derecho.\n",
    "\n",
    "Cada partición tiene al menos `n` comparaciones, es decir, comparamos cada elemento de la matriz con el pivote.\n",
    "\n",
    "Sin embargo, el número de swaps dependerá de cómo se clasifiquen los datos. \n",
    "\n",
    "En el siguiente diagrama, dividimos seis elementos en solo tres swaps:\n",
    "\n",
    "<img src=\"Imagenes/C24.png\"  width=\"300\"/>\n",
    "\n",
    "En promedio, hacemos alrededor de $n$ comparaciones y $n/ 4$ swaps. Podemos decir, entonces, que hay alrededor de $1.25n$ pasos para $n$ elementos de datos. \n",
    "\n",
    "En notación O  diríamos que una partición se ejecuta en tiempo $O(N)$.\n"
   ]
  },
  {
   "cell_type": "markdown",
   "id": "e2112fdd",
   "metadata": {},
   "source": [
    "**Ejercicio:** Comprueba la aseveración anterior."
   ]
  },
  {
   "cell_type": "code",
   "execution_count": null,
   "id": "53686194",
   "metadata": {},
   "outputs": [],
   "source": [
    "// Tu respuesta."
   ]
  },
  {
   "cell_type": "markdown",
   "id": "ed22ce44",
   "metadata": {},
   "source": [
    "### Quicksort con más particiones\n",
    "\n",
    "\n",
    "Para visualizar esto más fácilmente, aquí hay un diagrama que muestra el quicksort en un arreglo de ocho elementos.\n",
    "\n",
    "<img src=\"Imagenes/C25.png\"  width=\"600\"/>\n",
    "\n",
    "\n",
    "\n",
    "Vemos que donde la arreglo original tiene ocho elementos, Quicksort toma alrededor de 21 pasos. Esto supone el mejor de los casos o el escenario promedio, donde el pivote termina aproximadamente en el medio del subarreglo después de cada partición. \n",
    "\n",
    "|  n | Pasos Quicksort (approx) |\n",
    "|:--:|:------------------------:|\n",
    "|  4 |             8            |\n",
    "|  8 |            24            |\n",
    "| 16 |            64            |\n",
    "| 32 |            160           |\n",
    "\n"
   ]
  },
  {
   "cell_type": "markdown",
   "id": "acd942f7",
   "metadata": {},
   "source": [
    "### ¿Cómo categorizamos quicksort en términos de notación  O?\n",
    "\n",
    "La cantidad de pasos de quicksort para N elementos en la arreglo es aproximadamente `n` multiplicado por `log N`, como se muestra en la siguiente tabla:\n",
    "\n",
    "|  n | log n | n * log n  | Pasos Quicksort (approx) |\n",
    "|:--:|:-----:|:----------:|:------------------------:|\n",
    "|  4 |   2   |      8     |             8            |\n",
    "|  8 |   3   |     24     |            24            |\n",
    "| 16 |   4   |     64     |            64            |\n",
    "| 32 |   5   |     160    |            160           |\n",
    "\n",
    "\n",
    "¿Cuántas veces podemos dividir un arreglo en mitades hasta que lo hayamos dividido completamente hasta el punto en que cada subarreglo sea de tamaño 1? Para una arreglo de tamaño `n`, esto nos llevará `log n` veces. Fíjate en el siguiente diagrama:\n",
    "\n",
    "<img src=\"Imagenes/C26.png\"  width=\"600\"/>\n",
    "\n",
    "\n",
    " Así es como se ve realmente un ejemplo más realista, donde ignoramos el pivote después de cada partición:\n",
    " \n",
    " <img src=\"Imagenes/C27.png\"  width=\"600\"/>"
   ]
  },
  {
   "cell_type": "markdown",
   "id": "2adf6cd3",
   "metadata": {},
   "source": [
    "### Quicksort en el peor de los casos \n",
    "\n",
    "El peor de los casos para quicksort es uno en el que el pivote siempre termina en un lado del subarreglo en lugar de en el medio. Esto puede suceder cuando el arreglo  está en perfecto orden ascendente o descendente. \n",
    "\n",
    "La visualización de este proceso se muestra aquí:\n",
    "\n",
    " <img src=\"Imagenes/C28.png\"  width=\"600\"/>\n",
    " \n",
    "En el peor de los casos, tenemos particiones de $8 + 7 + 6 + 5 + 4 + 3 + 2 + 1$ elementos, lo que da un total de $36$ comparaciones.\n",
    "\n",
    "Para poner esto un poco más en forma de fórmula, diríamos que para $n$ elementos, hay $n + (n - 1) + (n - 2) + (n - 3) \\dots + 1$  pasos y esto se calcua con $N^2/2$ pasos, que para los propósitos de la notación es $O(N^2)$. \n",
    "\n",
    "Entonces, en el peor de los casos, Quicksort tiene una eficiencia de $O(N^2)$.\n",
    "\n"
   ]
  },
  {
   "cell_type": "markdown",
   "id": "80e882f0",
   "metadata": {},
   "source": [
    "**Ejercicio** Realiza una comparación entre el algoritmo insertion sort y quicksort en el peor de los casos, caso promedio y el mejor de los casos."
   ]
  },
  {
   "cell_type": "code",
   "execution_count": null,
   "id": "df33cd82",
   "metadata": {},
   "outputs": [],
   "source": [
    "// Tu respuesta"
   ]
  },
  {
   "cell_type": "markdown",
   "id": "29d75aaa",
   "metadata": {},
   "source": [
    "**Ejercicio:** Revisa [QuickSelect: The Quick Select Algorithm Explained With Code Examples](https://www.freecodecamp.org/news/quickselect-algorithm-explained-with-examples/) e implementa el algoritmo `quickselect` en C++."
   ]
  },
  {
   "cell_type": "code",
   "execution_count": null,
   "id": "ae4b19ff",
   "metadata": {},
   "outputs": [],
   "source": [
    "// Tu respuesta"
   ]
  },
  {
   "cell_type": "markdown",
   "id": "4a85cede",
   "metadata": {},
   "source": [
    "## Mergesort\n",
    "\n",
    "Supongamos que queremos ordenar los elementos de un vector X en orden no decreciente de las posiciones a a b. Este algoritmo consiste de cuatro pasos:\n",
    "\n",
    "1. Divide el vector en dos partes encontrando el valor medio $X_m$ , donde $m = (a + b)/2$.\n",
    "\n",
    "2. Ordena los elementos en el lado izquierdo.\n",
    "\n",
    "3. Ordena los elementos en el lado derecho.\n",
    "\n",
    "4. Combina los elementos del lado izquierdo con los elementos del lado derecho de tal manera que el vector resultante esté ordenado. \n",
    "\n",
    "El paso 4 es el más importante. Veamos el proceso del algoritmo.\n",
    "\n",
    "\n",
    "**Iteración 1**\n",
    "\n",
    "\n",
    "<img src=\"Imagenes/D1.png\"  width=\"230\"/>\n",
    "\n",
    "**Iteración 2**\n",
    "\n",
    "<img src=\"Imagenes/D2.png\"  width=\"230\"/>\n",
    "\n",
    "\n",
    "**Iteración 3**\n",
    "\n",
    "<img src=\"Imagenes/D3.png\"  width=\"200\"/>\n",
    "\n",
    "\n",
    "**Iteración 4**\n",
    "\n",
    "<img src=\"Imagenes/D4.png\"  width=\"240\"/>\n",
    "\n",
    "\n",
    "**Iteración 5**\n",
    "\n",
    "<img src=\"Imagenes/D5.png\"  width=\"200\"/>\n",
    "\n",
    "\n",
    "**Iteración 6**\n",
    "\n",
    "<img src=\"Imagenes/D6.png\"  width=\"240\"/>\n",
    "\n",
    "\n",
    "**Iteración 7**\n",
    "\n",
    "<img src=\"Imagenes/D7.png\"  width=\"240\"/>\n",
    "\n",
    "**Iteración 8**\n",
    "\n",
    "\n",
    "<img src=\"Imagenes/D8.png\"  width=\"280\"/>\n",
    "\n"
   ]
  },
  {
   "cell_type": "markdown",
   "id": "9b54b1b2",
   "metadata": {},
   "source": [
    "Al principio hay $n$ elementos en el arreglo, luego se divide en dos mitades de $n/2$ elementos cada uno, y cada mitad se divide nuevamente en dos mitades de $n/4$ elementos, y así sucesivamente. Luego, el tiempo de ejecución depende de cuántas veces dividamos el arreglo. \n",
    "\n",
    "Sabemos que no podemos dividir el arreglo si solo hay un elemento, esto es cuando $n/2k = 1$. Resolviendo para k, tenemos que $k = \\log 2 n$, y cada vez que necesitamos realizar el proceso el tiempo la complejidad de Merge Sort es $O(n \\log n)$. \n",
    "\n"
   ]
  },
  {
   "cell_type": "markdown",
   "id": "0ce5e624",
   "metadata": {},
   "source": [
    "### Implementación del algoritmo\n",
    "\n",
    "El programa  recibe un número entero $n$ ($1 \\leq n \\leq 100$) que representa el número de elementos en el arreglo X. Los siguientes $n$ números son los elementos de X. \n",
    "\n",
    "La salida es el arreglo X ordenada usando el algoritmo Merge Sort.\n",
    "\n",
    "**Complejidad del tiempo:** $O(n \\log n)$,\n",
    "\n",
    "Entrada:\n",
    "\n",
    "- n: El número de elementos en el arreglo.\n",
    "- X:  Arreglo a ordenar.\n",
    "\n",
    "Salida:\n",
    "\n",
    "El arreglo ordenado.\n",
    "\n"
   ]
  },
  {
   "cell_type": "code",
   "execution_count": null,
   "id": "77f47ad5",
   "metadata": {},
   "outputs": [],
   "source": [
    "#include <cstdio>\n",
    "#define N 101\n",
    "using namespace std;\n",
    "\n",
    "int X[N], C[N];\n",
    "int n;\n",
    "\n",
    "void mergeSort(int, int);\n",
    "void merge(int, int, int);\n",
    "\n",
    "int main() {\n",
    "    scanf(\"%d\", &n);\n",
    "\n",
    "    // Lee los numeros a ser ordenados\n",
    "    for (int i = 0; i < n; i++) {\n",
    "        scanf(\"%d\", &X[i]);\n",
    "    }\n",
    "\n",
    "    // Aplicamos merge sort\n",
    "    mergeSort(0, n - 1);\n",
    "\n",
    "    // Imprimimos el arreglo ordenado\n",
    "    for (int i = 0; i < n; i++) {\n",
    "        printf(\"%d \", X[i]);\n",
    "    }\n",
    "    printf(\"\\n\");\n",
    "\n",
    "    return 0;\n",
    "}\n"
   ]
  },
  {
   "cell_type": "markdown",
   "id": "09485f6b",
   "metadata": {},
   "source": [
    "La función `mergeSort` recibe un intervalo de los elementos para ordenar, calcula el elemento medio y recursivamente se vuelve a llamar para ordenar ambas mitades del intervalo. \n",
    "\n",
    "Finalmente se juntan ambas mitades ordenando todos los elementos del intervalo."
   ]
  },
  {
   "cell_type": "code",
   "execution_count": null,
   "id": "f1e2f8a4",
   "metadata": {},
   "outputs": [],
   "source": [
    "void mergeSort(int i, int j) {\n",
    " if (i != j) {\n",
    "    int m = (i + j) / 2;\n",
    "     mergeSort(i, m);\n",
    "     mergeSort(m + 1, j);\n",
    "     merge(i, m, j);\n",
    "    }\n",
    "}"
   ]
  },
  {
   "cell_type": "markdown",
   "id": "e5603b6d",
   "metadata": {},
   "source": [
    "El proceso explicado anteriormente tiene lugar en la función `merge`, que recibe los índices i y j del intervalo a ordenar, y el punto medio m, y ordena ambas mitades del arreglo.\n"
   ]
  },
  {
   "cell_type": "code",
   "execution_count": null,
   "id": "77d6599f",
   "metadata": {},
   "outputs": [],
   "source": [
    "void merge(int i, int m, int j) {\n",
    "    // p y q son los indices que se moverán a través \n",
    "    // de cada mitad respectivamente.\n",
    "    int p = i;\n",
    "    int q = m + 1;\n",
    "    int r = i;\n",
    "    // Sigue comparando los valores de X[p] y X[q] \n",
    "    // hasta llegar al final de una de las mitades\n",
    "\n",
    "    while (p <= m && q <= j) {\n",
    "        if (X[p] <= X[q]) {\n",
    "          C[r++] = X[p++];\n",
    "        } else {\n",
    "          C[r++] = X[q++];\n",
    "        }\n",
    "    }\n",
    "    \n",
    "    //Agregamos los elementos restantes de la primera mitad.\n",
    "    while (p <= m) {\n",
    "        C[r++] = X[p++];\n",
    "    }\n",
    "\n",
    "    //Agregamos los elementos restantes de la segunda mitad.\n",
    "    while (q <= j) {\n",
    "        C[r++] = X[q++];\n",
    "    }\n",
    "\n",
    "    // Actualizamos el arreglo original\n",
    "    for (r = i; r <= j; r++) {\n",
    "      X[r] = C[r];\n",
    "    }\n",
    "}"
   ]
  },
  {
   "cell_type": "markdown",
   "id": "b8583ac6",
   "metadata": {},
   "source": [
    "**Ejercicio:** Suponga que recibes $k$ arreglos ordenados, cada uno con $n$ elementos, y deseas combinarlos en un solo arreglo ordenado de $kn$ elementos. \n",
    "\n",
    "Un enfoque es usar la subrutina `merge` repetidamente, combinar los dos primeros arreglos, luego combinar el resultado con el tercer arreglo, luego con el cuarto arreglo y así sucesivamente hasta que se combine en el arreglo de entrada enésima y final. ¿Cuál es el tiempo de ejecución?"
   ]
  },
  {
   "cell_type": "code",
   "execution_count": null,
   "id": "2a49643f",
   "metadata": {},
   "outputs": [],
   "source": [
    "// Tu respuesta"
   ]
  },
  {
   "cell_type": "markdown",
   "id": "8b11b36f",
   "metadata": {},
   "source": [
    "La información de este cuaderno está basada en el libro de David Esparza Alba, Algorithms for Competitve Programming."
   ]
  },
  {
   "cell_type": "markdown",
   "id": "11d83d20",
   "metadata": {},
   "source": [
    "**Repaso:** Estudia las demostraciones dados aquí: https://homepages.bluffton.edu/~nesterd/apps/SortingDemo.html "
   ]
  },
  {
   "cell_type": "code",
   "execution_count": null,
   "id": "f9773127",
   "metadata": {},
   "outputs": [],
   "source": [
    "// Tus respuestas"
   ]
  }
 ],
 "metadata": {
  "kernelspec": {
   "display_name": "C++17",
   "language": "C++17",
   "name": "xcpp17"
  },
  "language_info": {
   "codemirror_mode": "text/x-c++src",
   "file_extension": ".cpp",
   "mimetype": "text/x-c++src",
   "name": "c++",
   "version": "17"
  }
 },
 "nbformat": 4,
 "nbformat_minor": 5
}
