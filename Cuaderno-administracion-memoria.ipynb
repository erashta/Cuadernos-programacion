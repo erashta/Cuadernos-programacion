{
 "cells": [
  {
   "cell_type": "markdown",
   "id": "509688a1",
   "metadata": {},
   "source": [
    "## Administración de la memoria \n",
    "\n",
    "Comenzaremos esta clase explicando algunos conceptos que debes comprender antes de profundizar en la administración de memoria en C++. \n"
   ]
  },
  {
   "cell_type": "markdown",
   "id": "64637f8b",
   "metadata": {},
   "source": [
    "#### Memoria del ordenador\n",
    "\n",
    "La memoria física de una computadora se comparte entre todos los procesos que se ejecutan en un sistema. Si un proceso usa mucha memoria, lo más probable es que los otros procesos se vean afectados. \n",
    "\n",
    "Pero desde la perspectiva de un programador, por lo general no tenemos que preocuparnos por la memoria que utilizan otros procesos. Este aislamiento de la memoria se debe al hecho de que la mayoría de los sistemas operativos actuales son sistemas operativos de memoria virtual, que dan la ilusión de que un proceso tiene toda la memoria para sí mismo. \n",
    "\n",
    "Cada proceso tiene su propio **espacio de direcciones virtuales**. \n",
    "\n"
   ]
  },
  {
   "cell_type": "markdown",
   "id": "e49bf82a",
   "metadata": {},
   "source": [
    "#### El espacio de direcciones virtuales \n",
    "\n",
    "Las direcciones en el espacio de direcciones virtuales que ven los programadores son asignadas a direcciones físicas por el sistema operativo y la unidad de administración de memoria (MMU), que forma parte del procesador. Este mapeo o traducción ocurre cada vez que accedemos a una dirección de memoria. \n",
    "\n",
    "Esta capa adicional de direccionamiento indirecto hace posible que el sistema operativo utilice la memoria física para las partes de un proceso que se están utilizando actualmente y realice una copia de seguridad del resto de la memoria virtual en el disco. \n",
    "\n",
    "En este sentido, podemos ver la memoria principal física como un caché para el espacio de la memoria virtual, que reside en el almacenamiento secundario. Las áreas del almacenamiento secundario que se utilizan para realizar copias de seguridad de las páginas de la memoria suelen denominarse espacio de intercambio, archivo de intercambio o simplemente archivo de paginación (pagfiles), según el sistema operativo. \n",
    "\n",
    "La memoria virtual hace posible que los procesos tengan un espacio de direcciones virtuales más grande que el espacio de direcciones físicas, ya que la memoria virtual que no está en uso no tiene que ocupar la memoria física. \n"
   ]
  },
  {
   "cell_type": "markdown",
   "id": "4b619be0",
   "metadata": {},
   "source": [
    "#### Páginas de memoria \n",
    "\n",
    "La forma más común de implementar la memoria virtual hoy en día es dividir el espacio de direcciones en bloques de tamaño fijo llamados **páginas de memoria**. \n",
    "\n",
    "Cuando un proceso accede a la memoria en una dirección virtual, el sistema operativo verifica si la página de memoria está respaldada por la  memoria física (un marco de página). Si la página de memoria no está asignada en la memoria principal, se produce una excepción de hardware y la página se carga desde el disco a la memoria. Este tipo de excepción de hardware se denomina **fallo de página** (page fault). Esto no es un error sino una interrupción necesaria para cargar datos del disco a la memoria.\n",
    "\n",
    "Cuando no hay más marcos de página disponibles en la memoria principal, se debe desalojar un marco de página. Si la página que se va a desalojar está sucia, es decir, se ha modificado desde la última vez que se cargó desde el disco, debe escribirse en el disco antes de poder reemplazarla. Este mecanismo se llama **paginación**. Si la página de memoria no se ha modificado, la página de memoria simplemente se desaloja. \n",
    "\n",
    "![](Imagenes/VirtualMemoryPages.png)\n",
    "\n",
    "\n"
   ]
  },
  {
   "cell_type": "markdown",
   "id": "71a37848",
   "metadata": {},
   "source": [
    "#### Thrashing\n",
    "\n",
    "El thrashing puede ocurrir cuando un sistema se queda sin memoria física y, por lo tanto, está paginando constantemente. \n"
   ]
  },
  {
   "cell_type": "markdown",
   "id": "21f17365",
   "metadata": {},
   "source": [
    "### Memoria de procesos \n",
    "\n",
    "El **stack** y el **heap** son los dos segmentos de memoria más importantes en un programa C++. En realidad, para ser formalmente correcto, C++ habla sobre el almacenamiento libre, clases de almacenamiento y la duración del almacenamiento de los objetos. Sin embargo, dado que los conceptos de stack y heap se usan ampliamente en la comunidad de C++ y todas las implementaciones de C++ que conocemos usan el stack para implementar llamadas a funciones y administrar el almacenamiento automático de variables locales, es importante comprender qué  son el stack y heap. \n",
    "\n",
    "Usaremos los términos heap y **free** store indistintamente y no haremos ninguna distinción entre ellos. \n",
    "\n",
    "Tanto el stack como el heap residen en el espacio de memoria virtual del proceso. El stack es un lugar donde residen todas las variables locales, esto también incluye argumentos para funciones.\n",
    "\n",
    "El stack crece cada vez que se llama a una función y se reduce cuando se regresa a una función. Cada subproceso tiene su propio stack y por lo tanto la memoria del stack se puede considerar segura para subprocesos. \n",
    "\n",
    "El heap, por otro lado, es un área de memoria global que se comparte entre todos los subprocesos en un proceso en ejecución. El heap crece cuando asignamos memoria con **new** (o las funciones de biblioteca de C **malloc()** y **calloc()**) y se reduce cuando liberamos memoria con **delete** (o **free()**). \n",
    "\n",
    "![](Imagenes/Stack-heap.png)\n"
   ]
  },
  {
   "cell_type": "markdown",
   "id": "f3e9b274",
   "metadata": {},
   "source": [
    "#### Memoria stack \n",
    "\n",
    "El stack difiere en muchos aspectos en comparación con el heap. Estas son algunas de las propiedades únicas del stack: \n",
    "\n",
    "- El stack es un bloque de memoria contiguo. \n",
    "- Tiene un tamaño máximo fijo. Si un programa excede el tamaño máximo del stack, el programa fallará. Esta condición se denomina desbordamiento del stack (stack overflow). \n",
    "- La memoria de stack nunca se fragmenta. \n",
    "- La asignación de memoria desde el stack es (casi) siempre rápida. Las fallas de página son posibles pero ocurren raras veces. \n",
    "- Cada subproceso en un programa tiene su propio stack.\n"
   ]
  },
  {
   "cell_type": "markdown",
   "id": "2a88673e",
   "metadata": {},
   "source": [
    "#### Ejemplo\n",
    "\n",
    "El siguiente código de ejemplo demuestra cómo crece y se contrae el stack al entrar y salir de funciones: \n"
   ]
  },
  {
   "cell_type": "code",
   "execution_count": null,
   "id": "25980151",
   "metadata": {},
   "outputs": [],
   "source": [
    "// Completa ...\n",
    "\n",
    "void func1() {\n",
    "  auto i = 0;\n",
    "  std::cout << \"func1(): \" << std::addressof(i) << '\\n';\n",
    "}\n",
    "\n",
    "void func2() {\n",
    "   auto i = 0;\n",
    "   std::cout << \"func2(): \" << std::addressof(i) << '\\n';\n",
    "   func1();\n",
    "}\n",
    "int main() {\n",
    "   auto i = 0;\n",
    "   std::cout << \"main(): \" << std::addressof(i) << '\\n';\n",
    "    func2();\n",
    "    func1();\n",
    "}\n"
   ]
  },
  {
   "cell_type": "markdown",
   "id": "b2671edf",
   "metadata": {},
   "source": [
    "Explica los resultados y la del siguiente gráfico.\n",
    "\n",
    "![](Imagenes/CrecimientoStack.png)"
   ]
  },
  {
   "cell_type": "markdown",
   "id": "1ba88095",
   "metadata": {},
   "source": [
    "// Tu respuesta"
   ]
  },
  {
   "cell_type": "markdown",
   "id": "eb90de5d",
   "metadata": {},
   "source": [
    "**Discusión** ¿qué tan grande es el stack y qué sucede cuando alcanzamos el límite del stack? \n"
   ]
  },
  {
   "cell_type": "markdown",
   "id": "8cc02824",
   "metadata": {},
   "source": [
    "#### Ejemplo \n",
    "\n",
    "Escribe un programa para ver qué tan grande es el stack en la computadora que estás trabajando. Compara tus resultados con el comando: `ulimit -s. `\n",
    "\n"
   ]
  },
  {
   "cell_type": "code",
   "execution_count": null,
   "id": "39602968",
   "metadata": {},
   "outputs": [],
   "source": [
    "// Completa \n",
    "\n",
    "auto func(std::byte* stack_direccion_inferior) -> void {\n",
    "  std::byte data[1024];\n",
    "  std::cout << stack_direccion_inferior - data << '\\n';\n",
    "  func(stack_direccion_inferior);\n",
    "}\n",
    "\n",
    "int main() {\n",
    "      std::byte b;\n",
    "        func(&b);\n",
    "}"
   ]
  },
  {
   "cell_type": "markdown",
   "id": "9611402a",
   "metadata": {},
   "source": [
    "Lectura: https://google.github.io/googletest/primer.html"
   ]
  },
  {
   "cell_type": "markdown",
   "id": "7cfa1679",
   "metadata": {},
   "source": [
    "// Tu respuesta"
   ]
  },
  {
   "cell_type": "markdown",
   "id": "0a6d36dc",
   "metadata": {},
   "source": [
    "#### Memoria de heap \n",
    "\n",
    "El heap  es donde viven los datos con almacenamiento dinámico. \n",
    "\n",
    "El patrón de asignación y desasignación de la memoria del stack es secuencial, en el sentido de que la memoria siempre se desasigna en el orden inverso al que se asignó. \n",
    "Por otro lado, para la memoria dinámica, las asignaciones y desasignaciones pueden ocurrir arbitrariamente. \n",
    "\n",
    "La duración dinámica de los objetos y los tamaños variables de las asignaciones de memoria aumentan el riesgo de memoria fragmentada. \n",
    "\n",
    "Una manera fácil de comprender el problema de la fragmentación de la memoria es ver un ejemplo de cómo puede ocurrir la memoria fragmentada.\n",
    "\n"
   ]
  },
  {
   "cell_type": "markdown",
   "id": "651c669d",
   "metadata": {},
   "source": [
    "![](Imagenes/Memoria1.png)"
   ]
  },
  {
   "cell_type": "markdown",
   "id": "64df4dfa",
   "metadata": {},
   "source": [
    "A continuación, ya no se necesitan todos los objetos de tipo A, por lo que se pueden desasignar. La memoria ahora se ve así: \n"
   ]
  },
  {
   "cell_type": "markdown",
   "id": "9f1c61fa",
   "metadata": {},
   "source": [
    "![](Imagenes/Memoria2.png)"
   ]
  },
  {
   "cell_type": "markdown",
   "id": "d55856f9",
   "metadata": {},
   "source": [
    "**Pregunta:** ¿Qué sucede aquí y como se explica la memoria fragmentada?."
   ]
  },
  {
   "cell_type": "markdown",
   "id": "50cc2114",
   "metadata": {},
   "source": [
    "// Tu respuesta"
   ]
  },
  {
   "cell_type": "markdown",
   "id": "60913d33",
   "metadata": {},
   "source": [
    "### Objetos en la memoria \n",
    "\n",
    "Todos los objetos que usamos en un programa C++ residen en la memoria. \n",
    "\n",
    "#### Crear y eliminar objetos\n",
    "\n",
    "Considera la siguiente forma de usar `new` para crear un objeto en el free store y luego eliminarlo usando `delete`: \n",
    "\n"
   ]
  },
  {
   "cell_type": "code",
   "execution_count": null,
   "id": "7b6ed1e3",
   "metadata": {},
   "outputs": [],
   "source": [
    "auto* user = new User{\"Cesar\"}; // asignar y construir\n",
    "\n",
    "user->print_name();  // usar objeto \n",
    "delete user ; // destruir y desasignar \n"
   ]
  },
  {
   "cell_type": "markdown",
   "id": "5f60dcec",
   "metadata": {},
   "source": [
    "No se recomienda que llames a `new` y `delete` explícitamente de esta manera, pero ignoremos eso por ahora. \n",
    "\n",
    "Vayamos al grano; como sugieren los comentarios, `new` en realidad hace dos cosas: \n",
    "\n",
    "- Asigna memoria para contener un nuevo objeto del tipo `User` \n",
    "- Construye un nuevo objeto `User`  en el espacio de memoria asignado llamando al constructor de la clase `User`. \n",
    "\n",
    "Lo mismo ocurre con `delete` esto: \n",
    "\n",
    "- Destruye el objeto `User` llamando a su destructor \n",
    "- Desasigna/libera la memoria en la que se colocó el objeto User \n"
   ]
  },
  {
   "cell_type": "markdown",
   "id": "90831cf8",
   "metadata": {},
   "source": [
    "#### Ubicación nueva \n",
    "\n",
    "C++ nos permite separar la asignación de memoria de la construcción de objetos. Podríamos, por ejemplo, asignar un arreglo de bytes con `malloc()` y construir un nuevo objeto `User` en esa región de la memoria. \n",
    "Echa un vistazo al siguiente fragmento de código:\n"
   ]
  },
  {
   "cell_type": "code",
   "execution_count": null,
   "id": "42954585",
   "metadata": {},
   "outputs": [],
   "source": [
    "auto* memoria = std::malloc(sizeof(User));\n",
    "auto* user = ::new (memoria) User(\"Cesar\");"
   ]
  },
  {
   "cell_type": "markdown",
   "id": "8f7832bd",
   "metadata": {},
   "source": [
    "No hay eliminación de ubicación, por lo que para destruir el objeto y liberar la memoria, debemos llamar al destructor explícitamente y luego liberar la memoria: \n"
   ]
  },
  {
   "cell_type": "code",
   "execution_count": null,
   "id": "6cf26916",
   "metadata": {},
   "outputs": [],
   "source": [
    "user->~User();\n",
    "std::free(memory);"
   ]
  },
  {
   "cell_type": "markdown",
   "id": "7074cfd5",
   "metadata": {},
   "source": [
    "C++17 introduce un conjunto de funciones de utilidad en `<memory>` para construir y destruir objetos sin asignar o desasignar memoria. Entonces, en lugar de llamar a la ubicación `new`, ahora es posible usar algunas de las funciones de `<memory>` cuyos nombres comienzan con std::uninitialized_ para construir, copiar y mover objetos a un área de memoria no inicializada. \n",
    "    \n",
    "Y en lugar de llamar explícitamente al destructor, ahora podemos usar `std::destroy_at()` para destruir un objeto en una dirección de memoria específica sin desasignar la memoria. \n",
    "\n",
    "El ejemplo anterior podría reescribirse usando estas nuevas funciones. Así es como se vería: \n"
   ]
  },
  {
   "cell_type": "code",
   "execution_count": null,
   "id": "6a1e9e84",
   "metadata": {},
   "outputs": [],
   "source": [
    "auto* memoria = std::malloc(sizeof(User));\n",
    "auto* user_ptr = reinterpret_cast<User*>(memoria);\n",
    "std::uninitialized_fill_n(user_ptr, 1, User{\"Cesar\"});\n",
    "std::destroy_at(user_ptr);\n",
    "std::free(memoria);\n"
   ]
  },
  {
   "cell_type": "markdown",
   "id": "ecf7db38",
   "metadata": {},
   "source": [
    "C++20 también presenta `std::construct_at()`, que hace posible reemplazar la llamada `std::uninitialized_fill_n()` con: \n"
   ]
  },
  {
   "cell_type": "code",
   "execution_count": null,
   "id": "2b27efc2",
   "metadata": {},
   "outputs": [],
   "source": [
    "std::construct_at(user_ptr, User{\"Cesar\"});  // C++20 \n"
   ]
  },
  {
   "cell_type": "markdown",
   "id": "39e99b06",
   "metadata": {},
   "source": [
    "### Regresando a los punteros"
   ]
  },
  {
   "cell_type": "markdown",
   "id": "a8394db3",
   "metadata": {},
   "source": [
    "Una de las características clave del lenguaje C++ es el concepto de puntero y sabemos que los punteros son extremadamente útiles para asignar memoria para arreglos cuyos tamaños no se conocen cuando se compila el código. \n",
    "\n",
    "Vemos  algunas características de los punteros que se han introducido en los estándares C++ recientes. \n",
    "\n",
    "#### Punteros y la memoria de la computadora\n",
    "\n",
    " Los punteros se presentan mejor explicando cómo se relacionan con el almacenamiento de variables en la memoria de la computadora.\n",
    "\n",
    "**Direcciones** \n",
    "\n",
    "Supongamos que se declara una variable entera `suma_total` y se le asigna el valor 10:\n",
    "\n"
   ]
  },
  {
   "cell_type": "code",
   "execution_count": null,
   "id": "0440100c",
   "metadata": {},
   "outputs": [],
   "source": [
    "int suma total= 10;"
   ]
  },
  {
   "cell_type": "markdown",
   "id": "83581bdc",
   "metadata": {},
   "source": [
    "La dirección, es decir, la ubicación, de esta variable en la memoria de la computadora viene dada por `&suma_total` y se puede imprimir en la consola de la forma habitual (como se muestra a continuación), aunque esta dirección no tendrá sentido. \n"
   ]
  },
  {
   "cell_type": "code",
   "execution_count": null,
   "id": "9b57945e",
   "metadata": {},
   "outputs": [],
   "source": [
    "std::cout << &suma_total<< \"\\n\"; "
   ]
  },
  {
   "cell_type": "markdown",
   "id": "7b7bcfd0",
   "metadata": {},
   "source": [
    "#### Variables de puntero \n",
    "\n",
    "Podemos declarar variables de puntero que son variables que almacenan direcciones, es decir, la ubicación en la memoria de la computadora, de otras variables. \n",
    "\n"
   ]
  },
  {
   "cell_type": "code",
   "execution_count": null,
   "id": "fb2aca81",
   "metadata": {},
   "outputs": [],
   "source": [
    "double* p_x;\n",
    "int* p_i;"
   ]
  },
  {
   "cell_type": "markdown",
   "id": "c355c3d3",
   "metadata": {},
   "source": [
    "Todas las variables de puntero requieren un asterisco cuando se declaran. Por lo tanto, en el siguiente código, `p_x`, `p_y`, `p_i` son punteros, mientras que `j` es una variable entera. \n"
   ]
  },
  {
   "cell_type": "code",
   "execution_count": null,
   "id": "9615c03d",
   "metadata": {},
   "outputs": [],
   "source": [
    "double *p_x, *p_y;\n",
    "int *p_i, j;"
   ]
  },
  {
   "cell_type": "markdown",
   "id": "e0f51841",
   "metadata": {},
   "source": [
    "#### Ejemplo"
   ]
  },
  {
   "cell_type": "markdown",
   "id": "c2c598d6",
   "metadata": {},
   "source": [
    "El siguiente código muestra cómo los punteros a variables de punto flotante de doble precisión se pueden combinar con variables de punto flotante de doble precisión. "
   ]
  },
  {
   "cell_type": "code",
   "execution_count": null,
   "id": "a5b71280",
   "metadata": {},
   "outputs": [],
   "source": [
    "double y, z;\n",
    "double* p_x; \n",
    "z = 3.0;\n",
    "p_x = &z; \n",
    "y = *p_x + 1.0;"
   ]
  },
  {
   "cell_type": "markdown",
   "id": "4f094b1b",
   "metadata": {},
   "source": [
    "#### Advertencias sobre el uso de punteros \n",
    "\n",
    "No se debe usar un puntero de variable hasta que primero se le haya asignado una dirección válida. Por ejemplo, el siguiente fragmento de código puede causar problemas difíciles de localizar. \n"
   ]
  },
  {
   "cell_type": "code",
   "execution_count": null,
   "id": "0bf7503b",
   "metadata": {},
   "outputs": [],
   "source": [
    "double* p_x;\n",
    "*p_x = 1.0; // ver aliasing"
   ]
  },
  {
   "cell_type": "markdown",
   "id": "6f20658e",
   "metadata": {},
   "source": [
    "**Pregunta:** Explica el problema que podría suceder aquí."
   ]
  },
  {
   "cell_type": "markdown",
   "id": "d3e6e22a",
   "metadata": {},
   "source": [
    "// Tu respuesta"
   ]
  },
  {
   "cell_type": "markdown",
   "id": "c3738a45",
   "metadata": {},
   "source": [
    "Cambiar el contenido de una ubicación no especificada en la memoria de una computadora, como se hace en el  código anterior, claramente tiene el potencial de causar problemas que pueden ser difíciles de localizar. \n",
    "\n",
    "Este problema se puede evitar mediante el uso de la palabra clave `new`, como se muestra a continuación, para asignar una dirección de memoria válida a `p_x` y la palabra clave `delete` que libera esta memoria para que la utilicen otras partes del programa cuando esta memoria ya no sea necesaria.\n"
   ]
  },
  {
   "cell_type": "code",
   "execution_count": null,
   "id": "d98e8560",
   "metadata": {},
   "outputs": [],
   "source": [
    "double* p_x;\n",
    "p_x = new double;\n",
    "*p_x = 1.0;\n",
    "delete p_x;"
   ]
  },
  {
   "cell_type": "markdown",
   "id": "772ba66e",
   "metadata": {},
   "source": [
    "En el siguiente código se muestra otra razón para usar los punteros con cuidado."
   ]
  },
  {
   "cell_type": "code",
   "execution_count": null,
   "id": "3430c4b5",
   "metadata": {},
   "outputs": [],
   "source": [
    "double y;\n",
    "double* p_x;\n",
    "y = 3.0;\n",
    "p_x = &y;\n",
    "std::cout << \"y = \" << y << \"\\n\";\n",
    "*p_x = 1.0; \n",
    "std::cout << \"y = \" << y << \"\\n\";\n"
   ]
  },
  {
   "cell_type": "markdown",
   "id": "92e78ea6",
   "metadata": {},
   "source": [
    "**Pregunta:** Explica el problema que podría suceder aquí."
   ]
  },
  {
   "cell_type": "markdown",
   "id": "64dc8b4a",
   "metadata": {},
   "source": [
    "// Tu respuesta"
   ]
  },
  {
   "cell_type": "markdown",
   "id": "3de3b3af",
   "metadata": {},
   "source": [
    "Una situación en la que se puede acceder al contenido de la misma variable usando diferentes nombres, como en el código anterior, se conoce como **aliasing**. \n",
    "\n",
    "En C++, es más probable que esto suceda cuando hay punteros involucrados, ya sea cuando dos punteros tienen la misma dirección en la memoria o cuando un puntero hace referencia al contenido de otra variable. \n",
    "\n",
    "Cuando uno o más punteros permiten acceder a la misma variable con diferentes nombres, el aliasing se conoce como **aliasing de puntero**.\n"
   ]
  },
  {
   "cell_type": "markdown",
   "id": "a8d165fe",
   "metadata": {},
   "source": [
    "### Asignación dinámica de memoria para arreglos\n",
    "\n",
    "Uno de los principales usos de los punteros es la asignación dinámica de memoria para almacenar arreglos. \n",
    "\n",
    "Otro uso de los punteros para la asignación dinámica de memoria es el almacenamiento eficiente de arreglos de tamaño irregular, por ejemplo, una matriz triangular inferior. \n",
    "\n",
    "La asignación dinámica de memoria nos permite asignar la memoria de manera más prudente. "
   ]
  },
  {
   "cell_type": "markdown",
   "id": "f51e2140",
   "metadata": {},
   "source": [
    "#### Vectores \n",
    "\n",
    "Para usar punteros para crear un arreglo unidimensional de números de coma flotante de precisión doble de longitud 10 llamada `x`, usamos la siguiente sección de código. \n"
   ]
  },
  {
   "cell_type": "code",
   "execution_count": null,
   "id": "ccd7179a",
   "metadata": {},
   "outputs": [],
   "source": [
    "double* x;\n",
    "x = new double [10];"
   ]
  },
  {
   "cell_type": "markdown",
   "id": "06805d17",
   "metadata": {},
   "source": [
    "En la asignación dinámica de memoria para el arreglo utilizando el puntero `x` anterior, `x` almacena la dirección del primer elemento del arreglo. \n",
    "\n",
    "Esto se puede ver imprimiendo tanto el puntero `x` como la dirección del primer elemento del arreglo, como se muestra a continuación. \n"
   ]
  },
  {
   "cell_type": "code",
   "execution_count": null,
   "id": "80aef517",
   "metadata": {},
   "outputs": [],
   "source": [
    "std::cout << x << \"\\n\";\n",
    "std::cout << &x[0] << \"\\n\"; "
   ]
  },
  {
   "cell_type": "markdown",
   "id": "379be296",
   "metadata": {},
   "source": [
    "La memoria asignada a `x` puede ser, y debe ser, desasignada usando la declaración a continuación cuando ya no se requiera este arreglo. \n"
   ]
  },
  {
   "cell_type": "code",
   "execution_count": null,
   "id": "7eed1eb1",
   "metadata": {},
   "outputs": [],
   "source": [
    "delete[] x;"
   ]
  },
  {
   "cell_type": "markdown",
   "id": "ae17b0c9",
   "metadata": {},
   "source": [
    "A continuación se muestra un código de ejemplo que usa memoria asignada dinámicamente para arreglos. \n",
    "\n",
    "Este código crea dos arreglos, `x` e `y`, ambas de tamaño 10. Luego, los elementos de `x` se asignan manualmente. Luego, los elementos de `y` se configuran para que tengan el doble del valor del elemento correspondiente de `x`. Finalmente, se elimina toda la memoria asignada. \n"
   ]
  },
  {
   "cell_type": "code",
   "execution_count": null,
   "id": "dd074571",
   "metadata": {},
   "outputs": [],
   "source": [
    "// Completa"
   ]
  },
  {
   "cell_type": "markdown",
   "id": "ba9264bc",
   "metadata": {},
   "source": [
    "**Revisión:** https://godbolt.org/"
   ]
  },
  {
   "cell_type": "markdown",
   "id": "a7af7d2b",
   "metadata": {},
   "source": [
    "#### Matrices \n",
    "\n",
    "La memoria para matrices también se puede asignar dinámicamente. \n",
    "Por ejemplo, para crear una matriz bidimensional de números de punto flotante de doble precisión con 5 filas y 3 columnas llamada A, usamos la siguiente sección de código. \n"
   ]
  },
  {
   "cell_type": "code",
   "execution_count": null,
   "id": "e7556528",
   "metadata": {},
   "outputs": [],
   "source": [
    "int filas = 5, cols = 3;\n",
    "double** A;\n",
    "\n",
    "A = new double* [filas];\n",
    "for (int i=0; i<filas; i++)\n",
    "{\n",
    "    A[i] = new double [cols];\n",
    "}"
   ]
  },
  {
   "cell_type": "markdown",
   "id": "73ef2275",
   "metadata": {},
   "source": [
    "El arreglo se puede usar entonces exactamente de la misma manera que si se hubiera creado usando la declaración:\n"
   ]
  },
  {
   "cell_type": "code",
   "execution_count": null,
   "id": "1d215e9d",
   "metadata": {},
   "outputs": [],
   "source": [
    "double A[5][3];"
   ]
  },
  {
   "cell_type": "markdown",
   "id": "e2dda2fa",
   "metadata": {},
   "source": [
    "Al asignar memoria para la matriz dinámicamente en el código anterior, la variable A,tiene las siguientes propiedades después de ejecutar el fragmento de código: \n",
    "\n",
    "- Cada `A[i]` es un puntero y contiene la dirección de `A[i][0]`\n",
    "\n",
    "- `A` contiene la dirección del puntero `A[0]`. \n",
    "\n",
    "\n",
    "Como fue el caso de los vectores, es importante desasignar la memoria asignada dinámicamente para una matriz cuando ya no se necesita. \n",
    "\n",
    "La memoria asignada para el arreglo A se puede liberar usando el siguiente código. \n"
   ]
  },
  {
   "cell_type": "code",
   "execution_count": null,
   "id": "26e9593b",
   "metadata": {},
   "outputs": [],
   "source": [
    "for (int i=0; i<rows; i++)\n",
    "{\n",
    "    delete[] A[i];\n",
    "}\n",
    "delete[] A;"
   ]
  },
  {
   "cell_type": "markdown",
   "id": "c28e6d05",
   "metadata": {},
   "source": [
    "#### Matrices de tamaño irregular \n",
    "\n",
    "Supongamos que queremos construir una matriz triangular inferior A de números enteros con 1000 filas y 1000 columnas. Esto se puede hacer claramente utilizando la siguiente declaración. \n"
   ]
  },
  {
   "cell_type": "code",
   "execution_count": null,
   "id": "1f0fc057",
   "metadata": {},
   "outputs": [],
   "source": [
    "int A[1000][1000];"
   ]
  },
  {
   "cell_type": "markdown",
   "id": "c50a9687",
   "metadata": {},
   "source": [
    "Sin embargo, la declaración anterior desperdicia una cantidad considerable de memoria almacenando las entradas superdiagonales del arreglo que sabemos de antemano que toman el valor 0. \n",
    "\n",
    "Podemos evitar desperdiciar esta memoria asignando la memoria para esta matriz de forma dinámica y solo asignando memoria para los elementos diagonales y subdiagonales. \n",
    "\n",
    "Esto se demuestra en el fragmento de código a continuación, donde en la fila `i` de el arreglo declaramos `i+1` elementos distintos de cero: es decir, `1` elemento en la fila `0`, `2` elementos en la fila `1` y así sucesivamente. \n",
    "\n",
    "La memoria puede, y debe, eliminarse de la misma manera cuando ya no se necesita esta el arreglo. \n",
    "\n"
   ]
  },
  {
   "cell_type": "code",
   "execution_count": null,
   "id": "53ce0462",
   "metadata": {},
   "outputs": [],
   "source": [
    "int** A;\n",
    "A = new int* [1000];\n",
    "for (int i=0; i<1000; i++)\n",
    "{\n",
    "   A[i] = new int[i+1];\n",
    "}"
   ]
  },
  {
   "cell_type": "markdown",
   "id": "d47df39a",
   "metadata": {},
   "source": [
    "#### Pointer Aliasing\n",
    "\n",
    "Dimos un ejemplo en el que una variable de puntero `p_x` apuntaba a la ubicación de memoria de la variable `y`. Se realizó un cambio en esa variable eliminando la referencia del puntero `p_x`. \n",
    "\n",
    "Esta situación puede generar cierta confusión, aunque en un fragmento de código corto es fácil ver que las dos variables conducen al mismo lugar: `*p_x` es un alias para `y`. \n",
    "\n",
    "En programas a gran escala, puede que no sea tan fácil ver dónde los punteros son alias para otras variables. Un buen ejemplo de esto sería una operación de suma de vectores o matrices en la que los vectores o matrices se almacenan como matrices y se pasan a una función a través de punteros. Esto da la posibilidad del código de la función puede estar en un archivo diferente y que las variables pueden tomar diferentes nombres dentro de la definición de la función. \n",
    "\n",
    "La operación para calcular la suma de el arreglo A = B + C probablemente se implementaría en dicha función mediante un bucle anidado sobre los elementos de las matrices, de modo que la implementación real se convierta en un elemento \n",
    "\n",
    "`A[i][j] = B[i][ j] + C[i][j]`. \n",
    "\n",
    "Puede haber un alias de puntero desconocido en esta función, porque el usuario puede desear incrementar una matriz por otra, es decir, calcular X = X + Y. \n",
    "\n",
    "Resulta que este alias de puntero será seguro, porque el bucle interno calculará efectivamente `X[ i][j] += Y[i][j]` según lo previsto. \n",
    "Cada uno de los componentes `(i, j)` del resultado es independiente de los demás. \n",
    "\n",
    "Sin embargo, ¿qué pasaría si el usuario estuviera usando una operación de producto matriz-matriz?\n",
    "\n",
    "En el cálculo A= BC, el componente `A[i][j]` depende de partes de B y C distintas de `B[i][j]` y `C[i][j]`. Esto significa que, si el usuario desea calcular X = XY usando una función escrita para calcular A=BC, existe la posibilidad de que se escriban algunos componentes de X antes de leerlos, lo que provocaría un cálculo incorrecto. \n",
    "\n"
   ]
  },
  {
   "cell_type": "markdown",
   "id": "5b27429b",
   "metadata": {},
   "source": [
    "**Discusión:** ¿Cómo resolverías este tipo problemas?"
   ]
  },
  {
   "cell_type": "markdown",
   "id": "b0cc0f03",
   "metadata": {},
   "source": [
    "// Tu respuesta"
   ]
  },
  {
   "cell_type": "markdown",
   "id": "0fab8f9b",
   "metadata": {},
   "source": [
    "#### Asignación dinámica segura \n",
    "\n",
    "Puede haber circunstancias en las que no sea posible asignar memoria porque el número de elementos en un arreglo se ha establecido con un argumento negativo o porque no hay suficiente memoria física disponible para el programa. \n",
    "\n",
    "Establecer el número de elementos en un arreglo en un número negativo es más fácil de lo que  se piensa. Si el tamaño de un problema se configura a través de un archivo de entrada, es fácil que se escriba mal el tamaño. Más sutilmente, si se asigna un número a un entero que es mayor que el valor máximo que ese entero puede almacenar, entonces el valor entero almacenado puede ser en realidad un número negativo: esto se conoce como error de desbordamiento (overflow error). \n",
    "\n",
    "Las implementaciones de C++ pueden variar en la forma en que tratan dichos errores. El comportamiento predeterminado es lanzar una excepción cuando se encuentra un error de memoria. Si tu implementación de C++ no arroja este tipo de excepción, entonces una forma segura de programar es probar que a tu variable se le ha asignado un valor como se ilustra en el siguiente código."
   ]
  },
  {
   "cell_type": "code",
   "execution_count": null,
   "id": "7f0dd1bf",
   "metadata": {},
   "outputs": [],
   "source": [
    "double* p_x;\n",
    "p_x = new double[10000];\n",
    "assert (p_x != NULL);"
   ]
  },
  {
   "cell_type": "markdown",
   "id": "81896ef3",
   "metadata": {},
   "source": [
    "### Cada new tiene un delete \n",
    "\n",
    "Señalamos que toda la memoria asignada dinámicamente debe liberarse, o de lo contrario puede quedarse sin memoria. Este problema es particularmente notable cuando la memoria se asigna dinámicamente dentro del cuerpo de un bucle for, como el que se muestra a continuación."
   ]
  },
  {
   "cell_type": "code",
   "execution_count": null,
   "id": "a0284792",
   "metadata": {},
   "outputs": [],
   "source": [
    "for (int i=0; i<10000; i++)\n",
    "{\n",
    "   double** A;\n",
    "    A = new double* [50];\n",
    "    for (int j=0; j<50; j++)\n",
    "     {\n",
    "        A[j] = new double [50];\n",
    "     }\n",
    "}"
   ]
  },
  {
   "cell_type": "markdown",
   "id": "4d6dd75d",
   "metadata": {},
   "source": [
    "**Pregunta:** ¿ Qué ocurre en el código anterior?"
   ]
  },
  {
   "cell_type": "markdown",
   "id": "d5e9f346",
   "metadata": {},
   "source": [
    "// Tu respuesta"
   ]
  },
  {
   "cell_type": "markdown",
   "id": "4de2d291",
   "metadata": {},
   "source": [
    "###  Administración de memoria de C++ moderna \n",
    "\n",
    "La administración de memoria flexible  de C++ le dio una ventaja sobre los lenguajes que usan recolección de basura, como Java. Sin embargo, también hicimos una advertencia: esta administración de memoria flexible significa que tú, el programador, es responsable de asegurarse de que la memoria se administre correctamente. \n",
    "\n",
    "El estándar de C++ ha introducido construcciones de punteros inteligentes (smart pointers) que facilitan la administración de la memoria, lo que proporciona un compromiso eficiente entre dar responsabilidad al programador y la recolección automática de basura en tiempo de ejecución. \n",
    "\n",
    "Estas construcciones se introdujeron por primera vez en la especificación C++ 11 y se refinaron en especificaciones posteriores.\n"
   ]
  },
  {
   "cell_type": "markdown",
   "id": "dfd337e4",
   "metadata": {},
   "source": [
    "#### El puntero inteligente unique_ptr\n",
    "\n",
    "Ya advertimos sobre los peligros del alias de puntero. En particular, notamos que puede haber momentos en que un programador suponga que dos punteros apuntan a diferentes datos, pero que esta suposición puede no ser cierta. \n",
    "\n",
    "Cuando dos punteros apuntan a la misma pieza de datos, pueden producirse errores, como que un elemento de una matriz se sobrescriba antes de que se haya leído su valor. \n",
    "\n",
    "C++ 11 proporciona un tipo de puntero inteligente que puede protegerte contra errores de alias de puntero. Este puntero inteligente `unique_ptr` permite que el sistema en tiempo de ejecución supervise ciertos punteros de forma individual. \n",
    "\n",
    "El ejemplo de su uso, dado en el siguiente código, es un poco artificial porque el verdadero poder de la construcción no se puede ver hasta que se usa con funciones. \n",
    "Sin embargo, el programa servirá para ilustrar algunas de las características principales. \n",
    "\n",
    "Nota: es posible que tu compilador de C++ no acepte este programa, ya que la mayoría de los compiladores actuales están configurados para leer programas estándar C++98 más antiguos de forma predeterminada. \n",
    "\n",
    "Para compilar el programa, deberás agregar un indicador para indicar que el código se adhiere al estándar C++ 11. "
   ]
  },
  {
   "cell_type": "code",
   "execution_count": null,
   "id": "572694b4",
   "metadata": {},
   "outputs": [],
   "source": [
    "g++ -std=c++11 -o prg prg.cpp"
   ]
  },
  {
   "cell_type": "code",
   "execution_count": null,
   "id": "a7c78425",
   "metadata": {},
   "outputs": [],
   "source": [
    "#include <memory> // Requiere C++11 o ++\n",
    "#include <cassert>\n",
    "\n",
    "int main()\n",
    "{\n",
    "   std::unique_ptr<int> p_x(new int);\n",
    "   *p_x = 5;  \n",
    "\n",
    "   // int* p_y = p_x;\n",
    "   int* p_y = p_x.get();  \n",
    "\n",
    "   std::unique_ptr<int> p_z;\n",
    "\n",
    "   // p_z = p_x;\n",
    "   p_z = std::move(p_x); \n",
    "   assert(p_z); \n",
    "   assert(!p_x);\n",
    "   p_z.reset();\n",
    "   assert(!p_z);\n",
    "   exit(0);\n",
    "}"
   ]
  },
  {
   "cell_type": "markdown",
   "id": "37cca5d6",
   "metadata": {},
   "source": [
    "**Pregunta** Explica y compila el programa anterior."
   ]
  },
  {
   "cell_type": "code",
   "execution_count": null,
   "id": "62dcc9cb",
   "metadata": {},
   "outputs": [],
   "source": [
    "// Tu respuesta"
   ]
  },
  {
   "cell_type": "markdown",
   "id": "4266c462",
   "metadata": {},
   "source": [
    "#### El puntero inteligente shared_ptr\n",
    "\n",
    "El concepto detrás de un puntero compartido inteligente es simple. Junto con la dirección del recurso subyacente, el puntero también realiza un seguimiento de la cantidad de veces que se ha utilizado este recurso. \n",
    "\n",
    "Inicialmente, el conteo será 1, pero aumentará cuando el puntero se pase entre varias partes del programa. Cada vez que finalice un uso del puntero, el conteo de uso se reducirá. \n",
    "Cuando el conteo llega a 0 y no hay usos conocidos del puntero, el recurso original se liberará. Todo esto sucede automáticamente, sin que el usuario tenga que preocuparse por ello. \n",
    "\n",
    "Es efectivamente un recolector de basura local que administra una pequeña parte de la memoria."
   ]
  },
  {
   "cell_type": "code",
   "execution_count": null,
   "id": "ddb206ef",
   "metadata": {},
   "outputs": [],
   "source": [
    "#include <memory> // Requiere C++11 o ++\n",
    "#include <iostream>\n",
    "\n",
    "int main()\n",
    "{\n",
    "   std::shared_ptr<int> p_x(new int);\n",
    "   std::cout<<\"p_x usa conteo : \"<<p_x.use_count()<<\"\\n\";\n",
    "   *p_x = 5; \n",
    "\n",
    "   std::shared_ptr<int> p_y = p_x;\n",
    "   std::cout<<\"p_x usa conteo: \"<<p_x.use_count()<<\"\\n\";\n",
    "   p_y.reset();\n",
    "   std::cout<<\"p_x usa conteo: \"<<p_x.use_count()<<\"\\n\";\n",
    "   p_x.reset();\n",
    "   std::cout<<\"p_x usa conteo: \"<<p_x.use_count()<<\"\\n\";\n",
    "return 0;\n",
    "}"
   ]
  },
  {
   "cell_type": "markdown",
   "id": "b0129d90",
   "metadata": {},
   "source": [
    "**Pregunta**: Explica y compila el programa anterior."
   ]
  },
  {
   "cell_type": "markdown",
   "id": "e968c92a",
   "metadata": {},
   "source": [
    "// Tu respuesta"
   ]
  },
  {
   "cell_type": "markdown",
   "id": "0fdf6542",
   "metadata": {},
   "source": [
    "### Ejercicios\n",
    "\n",
    "1. Escribe código que declare un entero `i` para que tome el valor 5. Declara un puntero a un entero `p_j` y almacena la dirección de `i` en este puntero. Multiplica el valor de la variable `i` por 5 usando una línea de código que solo usa la variable de puntero. Declara otro puntero a un número entero `p_k` y usa la palabra clave `new` para asignar una ubicación en la memoria que almacena este puntero. Luego almacena el contenido de la variable `i` en esta ubicación. Ahora cambia el valor señalado por `p_j` a 0. Verifica que tu programa sea correcto generando el valor de `i` y los valores señalados por `p_j` y `p_k`.\n",
    "\n",
    "2. Escribe código que asigne memoria dinámicamente a dos vectores de números punto flotante de precisión doble de longitud 3, asigne valores a cada una de las entradas y luego desasigne la memoria antes de que finalice el código. Extiende este código para que calcule el producto escalar (punto) de estos vectores y lo imprima en la pantalla antes de que se desasigne la memoria. Coloca la asignación de memoria, el cálculo y la desasignación de memoria dentro de un bucle `for` que se ejecute 1,000,000,000 veces: si la memoria no se desasigna correctamente, tu código usará todos los recursos disponibles y tu computadora puede tener problemas.\n",
    "\n",
    "3.  Hemos presentado las construcciones `unique_ptr` y `shared_ptr`. Otro puntero inteligente útil es `weak_ptr`, que es un puntero inteligente que no contribuye al conteo de uso. Se puede utilizar en situaciones en las que es necesario acceder a las variables, pero solo cuando existen. Tiene funciones que se pueden utilizar para comprobar si un recurso se ha eliminado y, si no se ha eliminado, para acceder al recurso. Utiliza el último listado de este cuaderno  y agrega un puntero inteligente adicional: un `weak_ptr`  que se inicializa con el valor `p_x`. Experimenta con el resultado del valor original de `p_x` (es decir, el valor 5) a través de este puntero inteligente. Prueba esto antes y después, el `p_x` se restablece."
   ]
  },
  {
   "cell_type": "code",
   "execution_count": null,
   "id": "07f02e18",
   "metadata": {},
   "outputs": [],
   "source": [
    "// Tus respuestas."
   ]
  },
  {
   "cell_type": "code",
   "execution_count": null,
   "id": "2d986ae4",
   "metadata": {},
   "outputs": [],
   "source": []
  }
 ],
 "metadata": {
  "kernelspec": {
   "display_name": "C++11",
   "language": "C++11",
   "name": "xcpp11"
  },
  "language_info": {
   "codemirror_mode": "text/x-c++src",
   "file_extension": ".cpp",
   "mimetype": "text/x-c++src",
   "name": "c++",
   "version": "11"
  }
 },
 "nbformat": 4,
 "nbformat_minor": 5
}
