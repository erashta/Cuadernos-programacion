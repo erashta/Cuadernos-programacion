{
 "cells": [
  {
   "cell_type": "markdown",
   "id": "deb457ef",
   "metadata": {},
   "source": [
    "## Clases en C++\n",
    "\n",
    "Una clase es un tipo de datos definido por el usuario que consta de métodos y datos agrupados como miembros (es decir, encapsulados). \n",
    "Una clase usa objetos que almacenan datos y tienen un estado y comportamiento definidos. A estos también se les conoce como una instancia de una clase. Una clase es como una categoría amplia que abarca algunas entidades que tienen atributos o características similares. \n",
    "\n",
    "Por ejemplo, un gato y un tigre tienen similitudes y pertenecen a la familia de animales Felidae. En este ejemplo, Felidae es el nombre de la clase y los gatos y los tigres son los miembros de la clase. \n",
    "\n",
    "El siguiente código muestra cómo declaramos y usamos clases en C++."
   ]
  },
  {
   "cell_type": "code",
   "execution_count": null,
   "id": "0d8d8cc0",
   "metadata": {},
   "outputs": [],
   "source": [
    "#include <iostream>\n",
    "using namespace std;\n",
    "class Felidae\n",
    "{\n",
    "    public:\n",
    "    string gatos;\n",
    "    string tigres;\n",
    "    void nombreMascota()\n",
    "    {\n",
    "    std::cout << \"\\nEl nombre del gatito es: \" << gatos;\n",
    "    std:: cout << \"\\nEl nombre del tigre es: \" << tigres;\n",
    "    }\n",
    "};\n",
    "int main() {\n",
    "    Felidae objeto1;\n",
    "    objeto1.gatos = \"miauHacker\";\n",
    "    objeto1.tigres = \"Pirata\";\n",
    "    objeto1.nombreMascota();\n",
    "    return 0;\n",
    "}"
   ]
  },
  {
   "cell_type": "markdown",
   "id": "8ada7d97",
   "metadata": {},
   "source": [
    "Echemos un vistazo a cómo funciona este código. Intenta predecir el flujo de ejecución para mejorar la comprensión.\n",
    "\n",
    "1. Aunque `main` es el típico punto de entrada de ejecución en un programa C++, aquí hemos declarado una clase fuera de `main`. Es posible declarar una clase fuera o dentro de `main`.\n",
    "\n",
    "2. La clase `Felidae` se define con la palabra clave `class` y los miembros `gatos` y `tigres` son cadenas con la función `nombreMascota`.\n",
    "\n",
    "3. Observamos que los especificadores de acceso en una clase están definidos por etiquetas, donde los miembros públicos son accesibles para todos y los miembros privados solo están disponibles para los métodos de clase.\n",
    "\n",
    "4. En `main`, hemos tomado dos objetos y accedido a los miembros usando el operador punto y luego les hemos asignado nombres.\n",
    "\n",
    "5. Un objeto accede a todos los miembros de datos de la clase, por lo que podemos crear tantos objetos como necesitemos."
   ]
  },
  {
   "cell_type": "markdown",
   "id": "4c51751f",
   "metadata": {},
   "source": [
    "#### Consejos para nombrar clases\n",
    "\n",
    "- Comienza con una letra mayúscula y asigna a la clase un nombre que tenga sentido.\n",
    "\n",
    "- Asigna a los objetos un nombre que deje claro para qué sirven.\n",
    "\n",
    "- Puedes utilizar símbolos, como un guión bajo, en los nombres de las clases.\n"
   ]
  },
  {
   "cell_type": "markdown",
   "id": "7052f691",
   "metadata": {},
   "source": [
    "**Ejemplo:** Trabajando con clases."
   ]
  },
  {
   "cell_type": "code",
   "execution_count": null,
   "id": "7d920b81",
   "metadata": {},
   "outputs": [],
   "source": [
    "#include <iostream>\n",
    "using namespace std;\n",
    "\n",
    "class Clase1\n",
    "{\n",
    " public:\n",
    " int x=40,y;\n",
    " void suma()\n",
    " {\n",
    "    std::cout << \"\\nLa suma is: \" <<x+y;\n",
    "    }\n",
    "};\n",
    "int main() {\n",
    "    Clase1 c1;\n",
    "    Clase1 c2, c3;\n",
    "    c1.y= 10;\n",
    "    c2.y = 20;\n",
    "    c1.suma();\n",
    "    c2.suma();\n",
    "\n",
    "    return 0;\n",
    "}"
   ]
  },
  {
   "cell_type": "markdown",
   "id": "73ef9e96",
   "metadata": {},
   "source": [
    "### Constructores y Destructores\n",
    "\n",
    "Una clase en C++ tiene miembros de datos, como variables de diferentes tipos y métodos (funciones). Además de estos, hay otra función miembro especial llamada **constructor**, cuya función principal es inicializar un objeto de una determinada clase al mismo tiempo que se declara.\n",
    "\n",
    "Los **destructores** implican `romper` o eliminar los objetos creados por el constructor para no sobrecargar la memoria limitada de la computadora.\n"
   ]
  },
  {
   "cell_type": "markdown",
   "id": "f39a20ba",
   "metadata": {},
   "source": [
    "#### Características de los constructores:\n",
    "\n",
    "1. Tiene el mismo nombre que la clase.\n",
    "\n",
    "2. Pueden hacerse accesibles a nivel público, privado o protegido.\n",
    "\n",
    "3. No pueden ser heredados ni instanciados por ninguna otra clase.\n",
    "\n",
    "4. Cada vez que se crea un objeto, se llama al constructor predeterminado.\n",
    "\n",
    "5. En C++, los constructores no se pueden declarar como virtuales.\n",
    "\n",
    "6. No tienen tipo de retorno.\n"
   ]
  },
  {
   "cell_type": "code",
   "execution_count": null,
   "id": "7e9b53fd",
   "metadata": {},
   "outputs": [],
   "source": [
    "#include <iostream>\n",
    "using namespace std;\n",
    "class Driver\n",
    "{\n",
    "    public:\n",
    "    Driver()\n",
    "    {\n",
    "    std::cout << \"\\nEste es un constructor de la clase Driver\\n\"\n",
    "<<endl;\n",
    "    }\n",
    "};\n",
    "\n",
    "int main() {\n",
    "    Driver d1;\n",
    "    return 0;\n",
    "}"
   ]
  },
  {
   "cell_type": "markdown",
   "id": "dd9371da",
   "metadata": {},
   "source": [
    "Observa que tan pronto como se crea el objeto, se llama al constructor de la clase ya que tiene la capacidad de sobrecargarse. "
   ]
  },
  {
   "cell_type": "markdown",
   "id": "ef018449",
   "metadata": {},
   "source": [
    "### Tipos de constructores\n",
    "\n",
    "C++ nos proporciona tres tipos de constructores, cada uno un poco diferente.\n",
    "\n",
    "Estos tipos son los siguientes.\n",
    "\n",
    "\n"
   ]
  },
  {
   "cell_type": "markdown",
   "id": "98278e6d",
   "metadata": {},
   "source": [
    "#### 1 . Constructores predeterminados\n",
    "\n",
    "Estos no toman argumentos y todos los objetos de la clase se inicializan con el mismo conjunto de valores. Estos son dados por el compilador y serán 0 o cualquier valor entero. \n",
    "\n",
    "Si un programador se olvida de definir un constructor explícitamente en C++, el compilador le proporciona implícitamente el constructor predeterminado. La sintaxis para escribir el constructor predeterminado es la siguiente:"
   ]
  },
  {
   "cell_type": "code",
   "execution_count": null,
   "id": "12803f96",
   "metadata": {},
   "outputs": [],
   "source": [
    "class nombre_clase\n",
    "  { nombre_clase()\n",
    "{ //....\n",
    "}\n",
    "};"
   ]
  },
  {
   "cell_type": "code",
   "execution_count": null,
   "id": "bbc139ce",
   "metadata": {},
   "outputs": [],
   "source": [
    "#include <iostream>\n",
    "using namespace std;\n",
    "\n",
    "class Personas\n",
    "{\n",
    "  public:\n",
    "  Personas()\n",
    "  {\n",
    "    std::cout << \"\\nEste es un constructor predeterminado \\n\" <<endl;\n",
    "    }\n",
    "};\n",
    "\n",
    "int main() {\n",
    "    Personas Objetos1;\n",
    "    \n",
    "    return 0;\n",
    "}"
   ]
  },
  {
   "cell_type": "markdown",
   "id": "3b3b4c3f",
   "metadata": {},
   "source": [
    "#### 2 . Constructores Parametrizados\n",
    "\n",
    "En un constructor parametrizado podemos pasar uno o más argumentos a la función miembro para asignar diferentes valores de inicialización a un objeto a medida que se crea. Ten en cuenta que para llamar a este tipo de constructor debemos usar el orden correcto y el tipo de argumentos que se define en el prototipo del constructor. \n",
    "\n",
    "La sintaxis de un constructor parametrizado es la siguiente:\n"
   ]
  },
  {
   "cell_type": "code",
   "execution_count": null,
   "id": "35bc56b8",
   "metadata": {},
   "outputs": [],
   "source": [
    "class nombre_clase\n",
    "  { nombre_v\n",
    "      clase(argumentos lista..)\n",
    "{ //...\n",
    "}\n",
    "};"
   ]
  },
  {
   "cell_type": "code",
   "execution_count": null,
   "id": "df96df1e",
   "metadata": {},
   "outputs": [],
   "source": [
    "#include <iostream>\n",
    "using namespace std;\n",
    "class Estudiante\n",
    "{\n",
    "  public:\n",
    "  Estudiante(string n)\n",
    "  {\n",
    "    std::cout << \"\\nEste es un constructor parametrizado \" << endl;\n",
    "    std::cout << \"\\nEl nombre es \" <<n<<endl;\n",
    "   }\n",
    "};\n",
    "int main() {\n",
    "    Estudiante s1(\"Kapumota\");\n",
    "return 0;\n",
    "}"
   ]
  },
  {
   "cell_type": "markdown",
   "id": "cb1686e8",
   "metadata": {},
   "source": [
    "#### 3. Constructor de copias\n",
    "\n",
    "Un constructor de copias ayuda a crear una copia de otro objeto de una clase. La copia se crea con los mismos valores para todos los miembros de datos. \n",
    "\n",
    "La sintaxis para un constructor de copias es la siguiente:\n"
   ]
  },
  {
   "cell_type": "code",
   "execution_count": null,
   "id": "57d74bc2",
   "metadata": {},
   "outputs": [],
   "source": [
    "class nombre_clase\n",
    "{ nombre_clase(argumentos lista..)\n",
    "    { //...\n",
    "   }\n",
    "    nombre_clase(const nombre_clase)\n",
    "    { //...\n",
    "    }\n",
    " };"
   ]
  },
  {
   "cell_type": "code",
   "execution_count": null,
   "id": "726a86fa",
   "metadata": {},
   "outputs": [],
   "source": [
    "#include <iostream>\n",
    "using namespace std;\n",
    "class Estudiante\n",
    "\n",
    "{\n",
    "    public:\n",
    "    string n;\n",
    "    /*Estudiante()\n",
    "    {\n",
    "    std::cout << \"\\nEste es un constructor predeterminado \\n\" <<endl;\n",
    "    }*/\n",
    "    Estudiante(string n)\n",
    "     {\n",
    "        std::cout << \"\\nEl nombre es \" <<n<<endl;\n",
    "    }\n",
    "    Estudiante(const Estudiante& s1)\n",
    "    {\n",
    "        std::cout << \"\\nEste es un constructor copia\\n\" <<endl;\n",
    "    }\n",
    "};\n",
    "int main() {\n",
    "    //Estudiante s1;\n",
    "    Estudiante s1(\"Kapumota\");\n",
    "    Estudiante s3(s1);\n",
    "    \n",
    "    return 0;\n",
    "}"
   ]
  },
  {
   "cell_type": "markdown",
   "id": "509ad68b",
   "metadata": {},
   "source": [
    "**Ejemplo:** Escribe código donde se utilizan todos los constructores."
   ]
  },
  {
   "cell_type": "code",
   "execution_count": null,
   "id": "227c2761",
   "metadata": {},
   "outputs": [],
   "source": [
    "#include <iostream>\n",
    "using namespace std;\n",
    "class Estudiante\n",
    "\n",
    "{\n",
    "    public:\n",
    "    string n;\n",
    "    Estudiante()\n",
    "    {\n",
    "        std::cout << \"\\nEste es un constructor predeterminado \\n\" <<endl;\n",
    "    }\n",
    "    Estudiante(string n)\n",
    "     {\n",
    "        std::cout << \"\\nEste es un constructor parametrizado \" << endl;\n",
    "        std::cout << \"\\nEl nombre es: \" <<n<<endl;\n",
    "    }\n",
    "    Estudiante(const Estudiante& s2)\n",
    "    {\n",
    "        std::cout << \"\\nEste es un constructor copia\\n\" <<endl;\n",
    "    }\n",
    "};\n",
    "int main() {\n",
    "    Estudiante s1;\n",
    "    Estudiante s2(\"Kapumota\");\n",
    "    Estudiante s3(s2);\n",
    "    \n",
    "    return 0;\n",
    "}"
   ]
  },
  {
   "cell_type": "markdown",
   "id": "c02215c4",
   "metadata": {},
   "source": [
    "Los destructores se llaman cuando un objeto ya no está en uso y necesita ser borrado. Ayudan con la utilización de la memoria para que los objetos no utilizados no ocupen espacio necesario. El compilador llama automáticamente a un destructor cada vez que el objeto parece estar fuera del alcance. \n",
    "\n",
    "Si deseas hacer la destrucción manualmente usa la tilde `(~)`. \n"
   ]
  },
  {
   "cell_type": "markdown",
   "id": "705f940a",
   "metadata": {},
   "source": [
    "**Características de los Destructores**\n",
    "\n",
    "1. Tienen el mismo nombre que la clase.\n",
    "\n",
    "2. Ayudan a desasignar la memoria de un objeto no utilizado\n",
    "\n",
    "3. No toman parámetros y son de un solo tipo, por lo tanto, no se puede sobrecargar.\n",
    "\n",
    "4. La destrucción ocurre en el orden opuesto a la construcción, lo que significa que el último objeto creado se elimina primero (LIFO, Last In First Out).\n",
    "\n",
    "La sintaxis para los destructores es la siguiente:"
   ]
  },
  {
   "cell_type": "code",
   "execution_count": null,
   "id": "ce05b1d5",
   "metadata": {},
   "outputs": [],
   "source": [
    "class nombre_clase { nombre_clase(argumentos lista..)\n",
    "{ //cuerpo del constructor}\n",
    "~nombre_clase()\n",
    "{ //cuerpo del constructor}};"
   ]
  },
  {
   "cell_type": "code",
   "execution_count": null,
   "id": "50fe104c",
   "metadata": {},
   "outputs": [],
   "source": [
    "#include <iostream>\n",
    "using namespace std;\n",
    "class Estudiante\n",
    "\n",
    "{\n",
    "    public:\n",
    "    Estudiante()\n",
    "    {\n",
    "    std::cout << \"\\nEste es un constructor predeterminado \\n\" <<endl;\n",
    "    }\n",
    "    \n",
    "    Estudiante(string n)\n",
    "    {\n",
    "        \n",
    "    std::cout << \"\\nEste es un constructor parametrizado\" <<endl;    \n",
    "    std::cout << \"\\nEl nombre es \" <<n<<endl;\n",
    "    }\n",
    "    \n",
    "    \n",
    "    Estudiante(const Estudiante& s2)\n",
    "    {\n",
    "        std::cout << \"\\nEste es un constructor copia\\n\" <<endl;\n",
    "    }\n",
    "    \n",
    "    ~Estudiante()\n",
    "    {\n",
    "        std::cout << \"\\nEste es un destructor para todos.\\n\" <<endl;\n",
    "    }\n",
    "};\n",
    "int main() {\n",
    "    Estudiante s1;\n",
    "    Estudiante s2(\"Kapumota\");\n",
    "    Estudiante s3(s2);\n",
    "    \n",
    "    return 0;\n",
    "}"
   ]
  },
  {
   "cell_type": "markdown",
   "id": "a9fc33a1",
   "metadata": {},
   "source": [
    "### El puntero this\n",
    "\n",
    "Cada objeto de una clase lleva consigo una copia de todos los miembros de datos, pero estos acceden a la copia original de las funciones. Puede ocurrir una situación en la que varios objetos acceden a la misma función miembro. ¿Cómo se actualizarán los valores dentro de la función? \n",
    "\n",
    "Este problema se puede resolver usando el puntero `this`. Este puntero almacena la dirección de un  objeto  para permitir que la función miembro actualice los valores correctos. \n",
    "\n",
    "Este puntero se puede utilizar en varios lugares y de varias maneras.  A veces, incluso se nos puede ocultar, ya que cuando el compilador se encuentra con una función miembro, implícitamente agregará `this` como un parámetro de función no estático para realizar un seguimiento de la dirección para `recordar` qué objeto llamó a esta función.\n",
    "\n",
    "El puntero `this` siempre apuntará hacia el objeto o la instancia en la que se está trabajando actualmente. \n",
    "\n",
    "Podemos hacer referencia explícita a este puntero `this` usándolo dentro de un constructor o métodos y apuntar a las variables de instancia que se actualizarán sin cambiar la dirección del puntero."
   ]
  },
  {
   "cell_type": "code",
   "execution_count": null,
   "id": "c90cc011",
   "metadata": {},
   "outputs": [],
   "source": [
    "#include<iostream>\n",
    "using namespace std;\n",
    "\n",
    "class Promedio {\n",
    "    private:\n",
    "    int num1;\n",
    "    int num2;\n",
    "    int r;\n",
    "    \n",
    "    public:\n",
    "      Promedio (int num1, int num2) {\n",
    "        this->num1 = num1;\n",
    "        this->num2 = num2;\n",
    "    }\n",
    "    void promedioResultado() {\n",
    "        cout<<\"\\nPromedio de num1 y num 2 = \"<<(this->num1+this->num2)/2<<endl;\n",
    "    }\n",
    "};\n",
    "\n",
    "int main () {\n",
    "    Promedio objeto1(22, 33);\n",
    "    objeto1.promedioResultado();\n",
    "    return 0;\n",
    "}"
   ]
  },
  {
   "cell_type": "markdown",
   "id": "abc72b11",
   "metadata": {},
   "source": [
    "#### Ejemplo 1\n",
    "\n"
   ]
  },
  {
   "cell_type": "code",
   "execution_count": null,
   "id": "9fa69bd2",
   "metadata": {},
   "outputs": [],
   "source": [
    "#include <iostream>\n",
    "using namespace std;\n",
    "class Demo {\n",
    "private:\n",
    "  int num;\n",
    "  char ch;\n",
    "public:\n",
    "  void colocaMisValores(int num, char ch){\n",
    "    this->num =num;\n",
    "    this->ch=ch;\n",
    "  }\n",
    "  void muestraMisValores(){\n",
    "    cout<<num<<endl;\n",
    "    cout<<ch;\n",
    "  }\n",
    "};\n",
    "int main(){\n",
    "  Demo obj;\n",
    "  obj.colocaMisValores(100, 'A');\n",
    "  obj.muestraMisValores();\n",
    "  return 0;\n",
    "}"
   ]
  },
  {
   "cell_type": "markdown",
   "id": "074bc68c",
   "metadata": {},
   "source": [
    "Aquí puedes ver que tenemos dos miembros de datos `num` y `ch`. En la función `colocaMisValores()` tenemos dos variables locales que tienen el mismo nombre que el nombre de los miembros de datos. En tal caso, si deseas asignar el valor de la variable local a los miembros de datos, no podrá hacerlos hasta que no uses el puntero `this`, porque el compilador no sabrá que te estás refiriendo a los miembros de datos del objeto a menos que se use el puntero. Este es uno de los ejemplos en los que debes usar ek puntero `this`."
   ]
  },
  {
   "cell_type": "markdown",
   "id": "795d82c2",
   "metadata": {},
   "source": [
    "#### Ejemplo2 "
   ]
  },
  {
   "cell_type": "code",
   "execution_count": null,
   "id": "6cf14e16",
   "metadata": {},
   "outputs": [],
   "source": [
    "#include <iostream>\n",
    "using namespace std;\n",
    "class Demo {\n",
    "private:\n",
    "  int num;\n",
    "  char ch;\n",
    "public:\n",
    "  Demo &colocaNum(int num){\n",
    "    this->num =num;\n",
    "    return *this;\n",
    "  }\n",
    "  Demo &colocaCh(char ch){\n",
    "    this->num++;\n",
    "    this->ch =ch;\n",
    "    return *this;\n",
    "  }\n",
    "  void muestraMisValores(){\n",
    "    cout<<num<<endl;\n",
    "    cout<<ch;\n",
    "  }\n",
    "};\n",
    "int main(){\n",
    "  Demo obj;\n",
    "  obj.colocaNum(100).colocaCh('A');\n",
    "  obj.muestraMisValores();\n",
    "  return 0;\n",
    "}"
   ]
  },
  {
   "cell_type": "markdown",
   "id": "9da04513",
   "metadata": {},
   "source": [
    "Otro ejemplo de uso es devolver la referencia del objeto actual para que pueda encadenar llamadas a funciones. \n",
    "Otro punto importante a tener en cuenta en este programa es que se incrementa el valor del objeto en la segunda función y se puede ver en la salida que en realidad incrementó el valor que establecimos en la primera llamada a la función. \n",
    "Esto muestra que el encadenamiento es secuencial y los cambios realizados en los miembros de datos del objeto se retienen para futuras llamadas de encadenamiento.\n"
   ]
  },
  {
   "cell_type": "markdown",
   "id": "cff812be",
   "metadata": {},
   "source": [
    "**En resumen ...**\n",
    "\n",
    "`this` identifica `este` objeto en el que está operando actualmente. \n",
    "\n",
    "Cuando tienes una clase, puede tener funciones miembro de dos tipos: `static` y `no-static`. Las funciones miembro `no-static` deben operar en una instancia particular de la clase y necesitan saber dónde está esa instancia. Para ayudar, el lenguaje define una variable implícita (es decir, una que se declara automáticamente cuando se necesita sin que tengas que hacer nada) que se llama `this` y que automáticamente apuntará a la instancia particular de la clase en que opera la función miembro.\n"
   ]
  },
  {
   "cell_type": "code",
   "execution_count": null,
   "id": "0fe74cf8",
   "metadata": {},
   "outputs": [],
   "source": [
    "#include <iostream> //https://stackoverflow.com/questions/16492736/what-is-the-this-pointer\n",
    "\n",
    "class A\n",
    "{\n",
    "public:\n",
    "    A() \n",
    "    { \n",
    "        std::cout << \"A::A: construida en \" << this << std::endl;\n",
    "    } \n",
    "\n",
    "    void decimosHola()\n",
    "    {\n",
    "        std::cout << \"Hola, soy una instancia de A en \" << this << std::endl;\n",
    "    }\n",
    "};\n",
    "\n",
    "int main(int, char **)\n",
    "{\n",
    "    A a1;\n",
    "    A a2;\n",
    "\n",
    "    a1.decimosHola();        \n",
    "    a2.decimosHola();\n",
    "\n",
    "    return 0;\n",
    "}"
   ]
  },
  {
   "cell_type": "markdown",
   "id": "1e78ef4a",
   "metadata": {},
   "source": [
    "###  Métodos de clase\n",
    "\n",
    "Hemos discutido las clases y sus miembros, así como los constructores de funciones. Ahora, consideremos los métodos de clase. Las funciones de clase se pueden definir dentro o fuera de la definición de clase.\n",
    "\n",
    "La llamada de estas funciones se realiza utilizando objetos de la clase a través del operador punto o del de selección.\n"
   ]
  },
  {
   "cell_type": "code",
   "execution_count": null,
   "id": "64cc3cd2",
   "metadata": {},
   "outputs": [],
   "source": [
    "#include <iostream>\n",
    "using namespace std;\n",
    "\n",
    "\n",
    "class clase1\n",
    "{\n",
    "  public :\n",
    "  static int num1;\n",
    "  int y=100,r;\n",
    "  int suma(int x,int y)\n",
    "\n",
    "    {\n",
    "    cout << \"\\nLa suma es = \" << x+y<<endl;\n",
    "    }\n",
    "    static int asignacion(int x)\n",
    "    {\n",
    "        cout << \"\\nEl valor asignado al entero= \" << x<<endl;\n",
    "    }\n",
    "    void avg()\n",
    "    {\n",
    "        r= (num1+y)/2;\n",
    "        cout << \"\\nEl promedio es = \" << r<<endl;\n",
    "        cout << \"\\nEl nombre is \" << n<<endl;\n",
    "    }\n",
    "    private:\n",
    "    string n=\"Kapumota\";\n",
    "};\n",
    "int clase1::num1=4560;\n",
    "int main()\n",
    "{\n",
    "    clase1 obj1,obj2,obj3;\n",
    "    clase1::asignacion(45);\n",
    "    obj2.avg();\n",
    "    obj2.suma(20,27);\n",
    "    cout << \"\\nEl valor de la variable estatica : \" <<obj1.num1<<endl;\n",
    "return 0;\n",
    "}"
   ]
  },
  {
   "cell_type": "markdown",
   "id": "6fcc8d7c",
   "metadata": {},
   "source": [
    "En el código anterior, aparece un nuevo símbolo `(::)`, que se denomina operador de resolución de alcance (`scope resolution`) en C++. \n",
    "\n",
    "Su función principal es acceder o asignar valor a los miembros estáticos de una clase.\n"
   ]
  },
  {
   "cell_type": "markdown",
   "id": "a846623d",
   "metadata": {},
   "source": [
    "#### Usos del operador de resolución de alcance\n",
    "\n",
    "* Acceder a variables globales para verificar si tienen nombres en `conflicto` con alguna de las variables locales\n",
    "\n",
    "* Para definir un cuerpo de función particular fuera de la clase\n",
    "\n",
    "* Para acceder a miembros de tipos de datos estáticos\n",
    "\n",
    "* Usado en herencia\n",
    "\n",
    "* Se utiliza para acceder a variables y funciones que existen dentro de un alcance específico. \n",
    "\n"
   ]
  },
  {
   "cell_type": "markdown",
   "id": "7c8d43aa",
   "metadata": {},
   "source": [
    "El operador de resolución de alcance nos ayuda a comprender el alcance de las variables y funciones. \n",
    "\n",
    "Nos ayuda a ajustar el alcance para asegurarnos de que el código funcione como queremos.\n"
   ]
  },
  {
   "cell_type": "code",
   "execution_count": null,
   "id": "0fc86348",
   "metadata": {},
   "outputs": [],
   "source": [
    "#include <iostream>\n",
    "using namespace std;\n",
    "\n",
    "int x = 5; // variable global\n",
    "\n",
    "int main() {\n",
    " int x = 10; // variable local\n",
    "  cout << \"Local x: \" << x << endl;\n",
    "  cout << \"Global x: \" << ::x << endl;\n",
    "   return 0;\n",
    "}"
   ]
  },
  {
   "cell_type": "markdown",
   "id": "9c80d7e8",
   "metadata": {},
   "source": [
    "En este ejemplo, hemos definido una variable global llamada `x` y una variable local llamada `x` dentro de la función `main()`. Cuando usamos el operador de resolución de alcance `(::x)` podemos acceder a la variable global `x` desde dentro de la función `main()`. Esto nos permite diferenciar entre las variables globales y locales que tienen el mismo nombre.\n"
   ]
  },
  {
   "cell_type": "markdown",
   "id": "5d12466d",
   "metadata": {},
   "source": [
    "En C++, los objetos se crean a partir de clases y el operador de resolución de alcance se usa para acceder a funciones miembro y variables de esos objetos. Por ejemplo:\n"
   ]
  },
  {
   "cell_type": "code",
   "execution_count": null,
   "id": "ba1a27cc",
   "metadata": {},
   "outputs": [],
   "source": [
    "#include <iostream>\n",
    "using namespace std;\n",
    "\n",
    "class Clase1 {\n",
    "public:\n",
    " int x;\n",
    " void printX() {\n",
    "    cout << \"X es: \" << x << endl;\n",
    "}\n",
    "};\n",
    "\n",
    "int main() {\n",
    "    Clase1 obj;\n",
    "    obj.x = 5;\n",
    "    obj.printX();\n",
    "    return 0;\n",
    "}\n"
   ]
  },
  {
   "cell_type": "markdown",
   "id": "13cafc05",
   "metadata": {},
   "source": [
    "En este ejemplo, hemos definido una clase llamada `Clase1`, que contiene una variable entera pública llamada `x` y una función miembro pública llamada `printX()`. Luego creamos un objeto de la clase `Clase1` llamado `obj` y establecemos su valor `x` en 5. Luego podemos usar el operador de resolución de alcance `(obj.printX())` para acceder a la función miembro `printX()` del objeto `obj` que generará el valor de `x`.\n",
    "\n",
    "Incluso cuando se sobrecargan funciones, el operador de resolución de alcance puede especificar a qué función sobrecargada llamar, en función de los parámetros pasados a la función.\n"
   ]
  },
  {
   "cell_type": "markdown",
   "id": "b20748f7",
   "metadata": {},
   "source": [
    "**Referencia:** https://learn.microsoft.com/en-us/cpp/cpp/scope-resolution-operator?view=msvc-170&viewFallbackFrom=vs-2017"
   ]
  },
  {
   "cell_type": "markdown",
   "id": "5461eddd",
   "metadata": {},
   "source": [
    "C++ tiene una característica que habilita funciones en línea (`inline functions`) en una clase, donde el compilador copia el código del cuerpo de una función cada vez que se le solicita. Esto produce resultados más rápidos, por lo que no tenemos que escribir código una y otra vez. \n",
    "\n",
    "La sintaxis para llamar funciones en línea es la siguiente:\n"
   ]
  },
  {
   "cell_type": "code",
   "execution_count": null,
   "id": "bd5d3db4",
   "metadata": {},
   "outputs": [],
   "source": [
    "inline tipoRetorno nombre_funcion(Argumentos Lista....)\n",
    "{ // cuerpo de la función}"
   ]
  },
  {
   "cell_type": "markdown",
   "id": "d4e5498f",
   "metadata": {},
   "source": [
    "### La palabra clave static\n",
    "\n",
    "En C++, la palabra clave `static` declara cualquier variable, miembro de datos o función como un tipo de constante.\n",
    "Estos valores no se pueden modificar. Se inicializa solo una vez y solo se usa una copia durante la vida útil de un programa.\n",
    "\n",
    "Características de la palabra clave `static`:\n",
    "\n",
    "1. Las variables estáticas se inicializan solo una vez en un programa C++.\n",
    "\n",
    "2. Una variable estática puede definirse dentro de una función particular o fuera de ella.\n",
    "\n",
    "3. El alcance de una variable estática es local al bloque donde se usa.\n",
    "\n",
    "4. Cero es el valor predeterminado proporcionado a una variable estática si el programador no lo asigna.\n",
    "\n",
    "5. La vida útil de una variable estática dura hasta que termina un programa y luego se libera el espacio de memoria.\n",
    "\n",
    "6. Las funciones estáticas se llaman directamente desde el nombre de la clase.\n",
    "\n",
    "La sintaxis de las funciones y variables estáticas es la siguiente:\n"
   ]
  },
  {
   "cell_type": "code",
   "execution_count": null,
   "id": "bc08f4c8",
   "metadata": {},
   "outputs": [],
   "source": [
    "static DataType var = 10; // da una variable estática\n",
    "static returnType function // funcion declarada estática\n",
    " { // cuerpo de la función\n",
    "  }"
   ]
  },
  {
   "cell_type": "code",
   "execution_count": null,
   "id": "fe2d615c",
   "metadata": {},
   "outputs": [],
   "source": [
    "#include <iostream>\n",
    "using namespace std;\n",
    "\n",
    "class clase1\n",
    "{\n",
    "    public :\n",
    "    static int num1;\n",
    "    static int asignacion(int x)\n",
    "    {\n",
    "    cout << \"\\nValor asignado a entero= \" << x<<endl;\n",
    "    }\n",
    "};\n",
    "int clase1::num1=4560;\n",
    "int main()\n",
    "{\n",
    "    clase1 obj1;\n",
    "    clase1::asignacion(87);\n",
    "    cout << \"\\nEl valor de la variable estática : \" <<obj1.num1<<endl;\n",
    "return 0;\n",
    "}"
   ]
  },
  {
   "cell_type": "markdown",
   "id": "e554d539",
   "metadata": {},
   "source": [
    "### Administración de memoria y recolección de basura en C++\n",
    "\n",
    "C++ proporciona otros operadores útiles, como `new` y `delete` que vimos anteriormente. Estos operadores ayudan a mejorar la flexibilidad para asignar o desasignar memoria cuando sea necesario con respecto a las funciones de C como `malloc()`, `calloc()` y `free()`.\n",
    "\n",
    "La administración de la memoria en la programación es importante, ya que el espacio RAM proporcionado en un dispositivo es limitado. El `garbage collection` es un tipo de técnica de administración de memoria que realiza el recolector de elementos no utilizados de forma manual o automática. \n",
    "\n",
    "Hemos hecho este tipo de trabajo antes: todas las variables globales y estáticas solo viven hasta el final del programa, después de lo cual no sirven y la memoria se libera. Las variables locales dentro de una función, también, solo `viven` entre el lapso de la llamada a la función y la declaración de retorno.\n",
    "\n",
    "Todo este trabajo se realiza automáticamente en C++ y todo se realiza en el momento de la compilación. C++ también tiene la capacidad de asignar memoria para variables en tiempo de ejecución, lo que se conoce como asignación de memoria dinámica. Esto debe hacerse manualmente, a diferencia de otros lenguajes de programación como Java o Python, donde el compilador administra automáticamente la tarea de asignación de memoria."
   ]
  },
  {
   "cell_type": "markdown",
   "id": "9fe846bf",
   "metadata": {},
   "source": [
    "#### ¿Por qué utilizar la asignación de memoria dinámica?\n",
    "\n",
    "1. Útil para situaciones en las que no somos conscientes del tamaño de un tipo de datos en particular hasta el tiempo de ejecución\n",
    "\n",
    "2. Para hacer que un grupo de tipos de datos sea más flexible y modificable por el usuario \n",
    "\n",
    "3. Se presta más atención a la entrada del usuario y los resultados se vuelven más personalizados. "
   ]
  },
  {
   "cell_type": "markdown",
   "id": "eebb1c3a",
   "metadata": {},
   "source": [
    "### El operador new \n",
    "\n",
    "El operador `new` en C++ ayuda en la asignación dinámica de memoria. \n",
    "\n",
    "Realizamos una solicitud de espacio de memoria y, si la cantidad de memoria requerida está allí, se asigna la cantidad de memoria especificada y se devuelve un puntero (o `null`, si no se pudo asignar). \n",
    "\n",
    "`Sizeof` se puede utilizar para calcular su tamaño. \n",
    "\n",
    "La sintaxis de este operador es la siguiente: \n"
   ]
  },
  {
   "cell_type": "code",
   "execution_count": null,
   "id": "54fb46fa",
   "metadata": {},
   "outputs": [],
   "source": [
    "Puntero = new TipoDato;\n",
    "TipoDato *new tipodato [size in int];\n",
    "varPuntero = new TipoDato[int size];"
   ]
  },
  {
   "cell_type": "markdown",
   "id": "586818d1",
   "metadata": {},
   "source": [
    "### El operador delete\n",
    "\n",
    "El operador `delete` en C ++ ayuda a desasignar memoria dinámicamente.\n",
    "\n",
    "Si un objeto se asigna con el operador `new`, solo se puede eliminar con el operador `delete`. Este operador garantiza un uso seguro y eficiente de la memoria. \n",
    "\n",
    "La sintaxis del operador `delete` es la siguiente: "
   ]
  },
  {
   "cell_type": "code",
   "execution_count": null,
   "id": "77334c8c",
   "metadata": {},
   "outputs": [],
   "source": [
    "delete ptr_var;"
   ]
  },
  {
   "cell_type": "code",
   "execution_count": null,
   "id": "da4cda2f",
   "metadata": {},
   "outputs": [],
   "source": [
    "#include <iostream>\n",
    "using namespace std;\n",
    "\n",
    "int main () {\n",
    "\n",
    "    int *ptr1 = nullptr;\n",
    "    ptr1 = new int;\n",
    "    *ptr1 = 28;\n",
    "    cout << \"\\nValor de la variable puntero 1 : \" << *ptr1 << endl;\n",
    "    delete ptr1;\n",
    "    return 0;\n",
    "}"
   ]
  },
  {
   "cell_type": "markdown",
   "id": "9485fd97",
   "metadata": {},
   "source": [
    "### Ejercicios\n",
    "\n",
    "1. Escribe un programa en C++ que ilustre una declaración y definición de clase, así como el acceso a los miembros de la clase.\n",
    "\n",
    "2. Escribe un programa en C++ para representar la llamada de los constructores de una clase.\n",
    "\n",
    "3. Escribe un programa en C++ para representar la llamada de los destructores de una clase.\n",
    "\n",
    "4. Escribe un programa en C++ para una calculadora simple con menú usando el concepto de clases.\n",
    "\n",
    "6. Escribe un programa en C++ para representar las formas de usar la palabra clave `static`.\n",
    "\n",
    "7. Escribe un programa en C++ para contar y mostrar el número de veces que se crea un objeto usando la palabra clave `static`.\n",
    "\n",
    "8. Escribe un programa en C++ para representar el uso de los operadores `new` y `delete`.\n",
    "\n",
    "9. Escribe un programa en C++ para una calculadora simple con un menú que use solo variables de puntero."
   ]
  },
  {
   "cell_type": "code",
   "execution_count": null,
   "id": "23fd9ad4",
   "metadata": {},
   "outputs": [],
   "source": [
    "//Tus respuestas"
   ]
  },
  {
   "cell_type": "markdown",
   "id": "70410a87",
   "metadata": {},
   "source": [
    "### Estructuras y Uniones\n",
    "\n",
    "En C++, las clases son una forma de que existan los tipos de datos definidos por el usuario. Sin embargo, también podemos usar la estructura, que es un tipo de datos definido por el usuario que agrupa diferentes tipos de datos. \n",
    "\n",
    "Se puede ver como un arreglo que almacena tipos de datos similares bajo un nombre. \n",
    "\n",
    "La forma en que la estructura almacena información es diferente de cómo una clase la almacena, ya que, de manera predeterminada, todos los miembros de una estructura poseen visibilidad pública, mientras que en una clase, la visibilidad predeterminada si todos los miembros son privados. \n",
    "\n"
   ]
  },
  {
   "cell_type": "markdown",
   "id": "475a8ddb",
   "metadata": {},
   "source": [
    "### Características de la estructura \n",
    "\n",
    "- Se define usando la palabra clave `struct` y los miembros acceden a ella usando el nombre. \n",
    "- La asignación de memoria para una estructura en C++ ocurre de forma contigua. \n",
    "- Tiene miembros de datos y funciones que son similares a las variables y funciones utilizadas en otras partes de C++. \n",
    "- Los miembros de datos no se pueden inicializar dentro de una estructura. \n",
    "- La inicialización de los miembros se puede realizar mediante llaves. \n",
    "- El acceso a los miembros se realiza mediante el selector o el operador de punto. \n",
    "- Un puntero a una estructura en C++ usa los siguientes caracteres: ->. \n",
    "- Al igual que los arreglos, las estructuras de  estructuras se pueden hacer en C++. \n",
    "- La sintaxis de una estructura es la siguiente: "
   ]
  },
  {
   "cell_type": "code",
   "execution_count": null,
   "id": "859de4ae",
   "metadata": {},
   "outputs": [],
   "source": [
    "struct {\n",
    "// Declaracion de la estructua\n",
    "//miembros\n",
    "};"
   ]
  },
  {
   "cell_type": "markdown",
   "id": "741acaf0",
   "metadata": {},
   "source": [
    "**Ejemplo:** Clases y Estructuras en C++"
   ]
  },
  {
   "cell_type": "code",
   "execution_count": null,
   "id": "f377285a",
   "metadata": {},
   "outputs": [],
   "source": [
    "// Completa"
   ]
  },
  {
   "cell_type": "markdown",
   "id": "abc59105",
   "metadata": {},
   "source": [
    "En este código, creamos una clase con algunos métodos. Los métodos de los valores se utilizan para tomar entradas para los miembros de datos de el usuario. Aquí, el constructor está sobrecargado y se usa con un objeto. El código muestra los cambios realizados. La sobrecarga se realizó exitosamente. "
   ]
  },
  {
   "cell_type": "markdown",
   "id": "5718012b",
   "metadata": {},
   "source": [
    "**Ejemplo** Trabajando con estructuras"
   ]
  },
  {
   "cell_type": "code",
   "execution_count": null,
   "id": "a453a646",
   "metadata": {},
   "outputs": [],
   "source": [
    "// Completa"
   ]
  },
  {
   "cell_type": "markdown",
   "id": "07009ce8",
   "metadata": {},
   "source": [
    "En este código, creamos una estructura con algunas variables. El objeto de la estructura está hecho para acceder a los miembros. Observa que el tamaño de toda la estructura se vuelve diferente. El código muestra los cambios realizados. \n"
   ]
  },
  {
   "cell_type": "markdown",
   "id": "0a9b53db",
   "metadata": {},
   "source": [
    "### Acceso a una estructura \n",
    "\n",
    "Una estructura, un tipo de datos definido por el usuario en C++, agrupa diferentes tipos de datos juntos. El acceso a los miembros se realiza mediante el operador (.) o utilizando un puntero de estructura. \n",
    "\n",
    "Aquí hay algunos ejemplos que muestran cómo se accede y se llama a los miembros. \n",
    "Estos ejemplos también muestran la cantidad de memoria (o bytes) que ocupa la estructura. "
   ]
  },
  {
   "cell_type": "code",
   "execution_count": null,
   "id": "8dbfe4ee",
   "metadata": {},
   "outputs": [],
   "source": [
    "#include <iostream>\n",
    "using namespace std;\n",
    "  struct Estructura1 {\n",
    "    int x;\n",
    "    char c;\n",
    "};\n",
    "// Completa"
   ]
  },
  {
   "cell_type": "markdown",
   "id": "520bdc12",
   "metadata": {},
   "source": [
    "En este código, creamos dos estructuras con algunas variables. Una sintaxis diferentes se utiliza para la creación de estructuras. El objeto de la estructura del código anterior está hecho para acceder a los miembros. \n",
    "\n",
    "Observa que el tamaño de toda la estructura se vuelve diferente, como en un clase. El código muestra los cambios realizados."
   ]
  },
  {
   "cell_type": "markdown",
   "id": "6a0c7751",
   "metadata": {},
   "source": [
    "**Ejemplo:** Trabajando con estructuras"
   ]
  },
  {
   "cell_type": "code",
   "execution_count": null,
   "id": "658d6d09",
   "metadata": {},
   "outputs": [],
   "source": [
    "// Completa"
   ]
  },
  {
   "cell_type": "markdown",
   "id": "61b289fd",
   "metadata": {},
   "source": [
    "### Union\n",
    "\n",
    "`Union` es otro tipo de datos definido por el usuario en C++. Agrupa varios objetos y miembros de diferentes tipos y bytes juntos. La estructura y la unión pueden parecer similares debido a su sintaxis, pero varían en la asignación de memoria de los miembros. \n",
    "\n",
    "Una unión dará un espacio de memoria variable de datos que es igual al espacio ocupado por la variable de datos con el tamaño más grande de esa unión respectiva. La sintaxis para una unión es la siguiente: "
   ]
  },
  {
   "cell_type": "code",
   "execution_count": null,
   "id": "cf7dcdf9",
   "metadata": {},
   "outputs": [],
   "source": [
    "union nombreUnion\n",
    "\n",
    " {//miembros\n",
    "};"
   ]
  },
  {
   "cell_type": "markdown",
   "id": "98b2cc25",
   "metadata": {},
   "source": [
    "#### Características \n",
    "\n",
    "* Definido usando la palabra clave `union` y los miembros son accedidos mediante el nombre\n",
    "* La asignación de memoria para una unión está determinada por el miembro más grande. \n",
    "* Tiene miembros de datos y funciones que son similares a las variables y funciones utilizadas en otras partes de C++. \n",
    "* Los miembros de datos se pueden inicializar y sobrescribir si el valor cambia a medida que se ve afectado el mismo espacio de memoria. \n",
    "\n",
    "* El acceso a los miembros se realiza mediante el selector o el operador de punto. \n",
    "\n",
    "* Un puntero a una estructura en C++ es el siguiente: ->. \n",
    "\n"
   ]
  },
  {
   "cell_type": "code",
   "execution_count": null,
   "id": "8e34c8fa",
   "metadata": {},
   "outputs": [],
   "source": [
    "// Completa"
   ]
  },
  {
   "cell_type": "markdown",
   "id": "c6cc2299",
   "metadata": {},
   "source": [
    "En este código, creamos una unión con algunas variables. Entonces, el objeto de la unión se hace para acceder a los miembros. Observa que el tamaño de toda la unión cambia, como en una estructura. \n",
    "El código muestra los cambios realizados. \n",
    "\n"
   ]
  },
  {
   "cell_type": "markdown",
   "id": "aa300aa8",
   "metadata": {},
   "source": [
    "**Ejemplo:** Implementación de un tipo de datos Union\n"
   ]
  },
  {
   "cell_type": "code",
   "execution_count": null,
   "id": "a9b428f1",
   "metadata": {},
   "outputs": [],
   "source": [
    "// Completa"
   ]
  },
  {
   "cell_type": "markdown",
   "id": "a5e9a356",
   "metadata": {},
   "source": [
    "En este código, creamos una unión con algunas variables y valores asignados usando el operador punto. Entonces, el objeto de la unión se hace para acceder a los miembros. Observa que el tamaño de toda la unión cambia, como en una estructura. El código muestra los cambios realizados."
   ]
  },
  {
   "cell_type": "markdown",
   "id": "f54e68e3",
   "metadata": {},
   "source": [
    "### Enumeración en C++\n",
    "\n",
    "Los tipos de datos definidos por el usuario ayudan a que el programa C++ sea más flexible y fácil de usar. Hacen que sea más fácil para el desarrollador entender el lenguaje que la computadora quiere hablar. La enumeración (enum) es un tipo de datos único en C++ que nos permite definir tipos de datos y nombrar elementos de la elección para que se consideren constantes integrales.\n",
    "\n",
    "La sintaxis para la enumeración es la siguiente:\n"
   ]
  },
  {
   "cell_type": "code",
   "execution_count": null,
   "id": "947549ff",
   "metadata": {},
   "outputs": [],
   "source": [
    "enum datatypename{enum values list..... };"
   ]
  },
  {
   "cell_type": "markdown",
   "id": "6f874166",
   "metadata": {},
   "source": [
    "**Ejemplo:** Usando enumeración"
   ]
  },
  {
   "cell_type": "code",
   "execution_count": null,
   "id": "a037a246",
   "metadata": {},
   "outputs": [],
   "source": [
    "#include <iostream>\n",
    "using namespace std;\n",
    "int main()\n",
    "{\n",
    "    enum Genero { max, checo=9,lewis, kimi, mick, ocon };\n",
    "    int i;\n",
    "    for (i = checo; i <= ocon; i++)\n",
    "        cout << i << \" \";\n",
    "}"
   ]
  },
  {
   "cell_type": "markdown",
   "id": "a54232ed",
   "metadata": {},
   "source": [
    "En este código, usamos `enum` con ítems. El bucle `for` atraviesa la estructura de datos y muestra cada miembro como un número de índice. El índice es +1, y esto se puede cambiar según los requisitos."
   ]
  },
  {
   "cell_type": "markdown",
   "id": "67d4d44f",
   "metadata": {},
   "source": [
    "**Ejemplo:** Trabajando con `enum` en C++"
   ]
  },
  {
   "cell_type": "code",
   "execution_count": null,
   "id": "743e29b7",
   "metadata": {},
   "outputs": [],
   "source": [
    "// Completa"
   ]
  },
  {
   "cell_type": "markdown",
   "id": "a134b8c2",
   "metadata": {},
   "source": [
    "#### Características de la enumeración\n",
    "\n",
    "* Se define usando la palabra clave `enum` y se accede a los elementos usando el nombre.\n",
    "\n",
    "* La asignación de memoria para todos los miembros de `enum` es la misma.\n",
    "\n",
    "* Tiene elementos de datos y una posición predeterminada o valor asignado que es similar a un arreglo.\n",
    "\n",
    "* Podemos cambiar el valor de los elementos, y los siguientes elementos tomarán el valor definido.\n",
    "\n",
    "* El acceso a los elementos se puede hacer comparando con los casos de switch, ya que son constantes integrales.\n",
    "\n",
    "* Los elementos de `enum` se denominan enumeradores y ayudan a simplificar el cuerpo complejo del código.\n",
    "\n"
   ]
  },
  {
   "cell_type": "markdown",
   "id": "76370dd4",
   "metadata": {},
   "source": [
    "### Ejercicios\n",
    "\n",
    "1. Explica la organización de almacenamiento de las variables de estructura.\n",
    "\n",
    "2. Escribe una breve nota sobre el paso de variables de tipo estructura a una función y la idoneidad de diferentes esquemas de paso de parámetros en diferentes situaciones.\n",
    "\n",
    "3. Escribe un programa en C++ que procese la fecha de nacimiento usando estructuras. Incluye la capacidad de procesar las fechas de nacimiento de varios estudiantes.\n",
    "\n",
    "4. Escribe un programa en C++ para procesar números complejos. El programa tiene que realizar sumas, restas, multiplicaciones y divisiones de números complejos  debe imprimir los resultados en forma `x+ iy`.\n",
    "\n",
    "5. Considera la siguiente declaración de estructura:\n",
    "\n",
    "\n",
    "```\n",
    "struct institucion {\n",
    "struct profesor{\n",
    "int empl_no;\n",
    "    char nombre[20];\n",
    "};\n",
    "\n",
    "struct student {\n",
    "    int roll_no;\n",
    "    char nombre[15];\n",
    "    };\n",
    "};\n",
    "```\n",
    "\n",
    "¿Cuáles son los valores de tamaño de (institución), tamaño de (maestro) y tamaño de (estudiante)?\n"
   ]
  },
  {
   "cell_type": "code",
   "execution_count": null,
   "id": "a0310bba",
   "metadata": {},
   "outputs": [],
   "source": [
    "// Tus respuestas"
   ]
  },
  {
   "cell_type": "code",
   "execution_count": null,
   "id": "28548aa4",
   "metadata": {},
   "outputs": [],
   "source": []
  }
 ],
 "metadata": {
  "kernelspec": {
   "display_name": "C++11",
   "language": "C++11",
   "name": "xcpp11"
  },
  "language_info": {
   "codemirror_mode": "text/x-c++src",
   "file_extension": ".cpp",
   "mimetype": "text/x-c++src",
   "name": "c++",
   "version": "11"
  }
 },
 "nbformat": 4,
 "nbformat_minor": 5
}
