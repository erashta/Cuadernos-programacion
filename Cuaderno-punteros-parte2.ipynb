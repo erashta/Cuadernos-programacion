{
 "cells": [
  {
   "cell_type": "markdown",
   "id": "c2e2a6ec",
   "metadata": {},
   "source": [
    "## Referencias\n",
    "\n",
    "Una referencia es un segundo tipo de variable que contiene la dirección de otra variable. Es decir, la referencia apunta a otra variable. A diferencia de los punteros, que pueden hacer referencia a una variable válida, una ubicación de memoria no válida o `nullptr`, una referencia debe inicializarse para apuntar a una variable cuando se declara. \n",
    "\n",
    "Una diferencia entre las referencias y los punteros es que una referencia no se puede actualizar,  una vez declarada, siempre apunta a la misma variable. Esto significa que una referencia no se puede incrementar para recorrer un arreglo de la misma manera que un puntero. \n",
    "\n",
    "Una segunda diferencia es que las referencias se desreferencian implícitamente en uso. Los operadores aritméticos y relacionales aplicados a las referencias afectan a la variable apuntada. Si `ir` es una referencia de tipo `int`, entonces el enunciado `ir = ir-10`, resta 10 del `int` referenciado. \n",
    "\n",
    "Un desarrollador puede usar referencias para señalar de manera eficiente una variable con un significado numérico, como un número complejo o un arreglo, y expresiones como `a = b * c` tienen el significado esperado. \n",
    "\n",
    "Por el contrario, las operaciones aritméticas y relacionales sobre punteros se refieren a las direcciones de máquina que son los valores de los propios punteros, no a las variables apuntadas. Si los tipos numéricos, como los arreglos, se señalan mediante punteros, las expresiones matemáticas resultantes requieren operadores de desreferencia explícitos, de modo que se vean como `*a = *b * *c`  que contienen muchas posibilidades de malentendidos. \n",
    "\n"
   ]
  },
  {
   "cell_type": "markdown",
   "id": "4cd0b49b",
   "metadata": {},
   "source": [
    "### Ejemplo\n",
    "\n",
    "Este ejemplo involucra un pequeño programa que crea algunas referencias para ilustrar su sintaxis y demostrar sus propiedades. \n",
    "\n",
    "Estos son los pasos para completar:\n",
    "\n",
    "\n"
   ]
  },
  {
   "cell_type": "markdown",
   "id": "d208ad45",
   "metadata": {},
   "source": [
    "1 .  Escribe la función esqueleto `main()`:\n"
   ]
  },
  {
   "cell_type": "code",
   "execution_count": null,
   "id": "d1eb90e7",
   "metadata": {},
   "outputs": [],
   "source": [
    "#include <iostream>\n",
    "using namespace std;\n",
    "int main()\n",
    "{\n",
    "    return 0;\n",
    "}"
   ]
  },
  {
   "cell_type": "markdown",
   "id": "6e9c09fe",
   "metadata": {},
   "source": [
    "2 . Siguiendo la llave de apertura de `main()`, declara una variable `int` llamada `i` e inicialícela en `10`. Declara una referencia `int`, `ir`, e inicialícela para que apunte a `i`. \n",
    "Las referencias se declaran con el nombre de tipo y `&` y se inicializan en una variable, por ejemplo, `int& ir = i;` o `int& ir {i};`."
   ]
  },
  {
   "cell_type": "code",
   "execution_count": null,
   "id": "a0386d01",
   "metadata": {},
   "outputs": [],
   "source": [
    "int i = 10;\n",
    "int& ir = i;"
   ]
  },
  {
   "cell_type": "markdown",
   "id": "b7cee0c6",
   "metadata": {},
   "source": [
    "3 . Ahora asigna `i + 10` a `i` e `ir * 10` a `ir`. Observa que la expresión aritmética tiene el mismo aspecto usando `int` que usando referencias `int`:"
   ]
  },
  {
   "cell_type": "code",
   "execution_count": null,
   "id": "6753fd11",
   "metadata": {},
   "outputs": [],
   "source": [
    " i = i + 10;\n",
    "ir = ir * 10;"
   ]
  },
  {
   "cell_type": "markdown",
   "id": "b768e416",
   "metadata": {},
   "source": [
    "4 . Muestra el valor de `i` para demostrar que cuando el programa cambió `ir`, realmente cambió lo que había en `i`:\n"
   ]
  },
  {
   "cell_type": "code",
   "execution_count": null,
   "id": "7808fb3d",
   "metadata": {},
   "outputs": [],
   "source": [
    "cout << \"i = \" << i << endl;"
   ]
  },
  {
   "cell_type": "markdown",
   "id": "52885a45",
   "metadata": {},
   "source": [
    "5 . Declara un puntero llamado `ip` que inicie en la dirección de `ir`. El operador `address-of &` afecta a la variable a la que apunta `ir`, por lo que `ip` ahora apunta a `i`. \n",
    "\n",
    "Desreferencia `ip` para cambiar el valor de la variable que apunta `ip` a `33`: \n"
   ]
  },
  {
   "cell_type": "code",
   "execution_count": null,
   "id": "07a8bb13",
   "metadata": {},
   "outputs": [],
   "source": [
    "int* ip = &ir;\n",
    "*ip = 33;"
   ]
  },
  {
   "cell_type": "markdown",
   "id": "c48442d1",
   "metadata": {},
   "source": [
    "6 . Ahora genera `i`,` *ip` e `ir` para demostrar que cambiar `*ip` realmente cambia `i` y  que `ir` también cambia: "
   ]
  },
  {
   "cell_type": "code",
   "execution_count": null,
   "id": "e032cbc6",
   "metadata": {},
   "outputs": [],
   "source": [
    "cout << \"i = \" << i << \", *ip = \" << *ip << \", ir = \" << ir << endl;"
   ]
  },
  {
   "cell_type": "markdown",
   "id": "e82fc48f",
   "metadata": {},
   "source": [
    "7 . Desarrolla el programa completo"
   ]
  },
  {
   "cell_type": "code",
   "execution_count": null,
   "id": "7052cc04",
   "metadata": {},
   "outputs": [],
   "source": [
    "#include <iostream>\n",
    "using namespace std;\n",
    "int main()\n",
    "{\n",
    "    int i = 10;\n",
    "    int & ir = i;\n",
    "    i = i + 10;\n",
    "\n",
    "    ir = ir * 10;\n",
    "    cout << \"i = \" << i << endl;\n",
    "    \n",
    "    int *ip = & ir;\n",
    "    *ip = 33;\n",
    "    \n",
    "    cout << \"i = \" << i << \", *ip = \" << * ip << \", ir = \" << ir << endl;\n",
    "    return 0;\n",
    "}"
   ]
  },
  {
   "cell_type": "markdown",
   "id": "3bf2c8f1",
   "metadata": {},
   "source": [
    "8 . Compila y ejecuta el programa. Explica los resultados. \n"
   ]
  },
  {
   "cell_type": "markdown",
   "id": "a73c619b",
   "metadata": {},
   "source": [
    "El resultado muestra que tanto las referencias como los punteros son tipos que apuntan a otra variable. Cuando el programa modifica referencias o punteros desreferenciados, modifica la variable a la que apunta."
   ]
  },
  {
   "cell_type": "markdown",
   "id": "77e177a9",
   "metadata": {},
   "source": [
    "### Ejemplo: Malas Referencias \n",
    "\n",
    "Una referencia siempre apunta a una variable cuando se declara y una referencia válida siempre apunta a una variable. Desafortunadamente, una referencia puede volverse inválida. Este ejemplo te invita a conocer unos de los los callejones oscuros de C++, donde las referencias pueden ser nulas o inválidas. \n",
    "\n",
    "Estos son los pasos para completar el ejemplo:\n"
   ]
  },
  {
   "cell_type": "markdown",
   "id": "3c08623c",
   "metadata": {},
   "source": [
    "1 .Ingresa el siguiente programa muy corto: \n"
   ]
  },
  {
   "cell_type": "code",
   "execution_count": null,
   "id": "5c5ffd51",
   "metadata": {},
   "outputs": [],
   "source": [
    "int main()\n",
    "{\n",
    "   char* p = nullptr;\n",
    "    char& r = *p;\n",
    "      r = '!';\n",
    "        return 0;\n",
    "}\n"
   ]
  },
  {
   "cell_type": "markdown",
   "id": "366b251e",
   "metadata": {},
   "source": [
    "2 . Ejecuta el programa. Si estás utilizando un compilador en línea, usa uno como `coliru`, que captura los mensajes de error del sistema operativo. Explica que sucede.\n"
   ]
  },
  {
   "cell_type": "markdown",
   "id": "ea0fcdaa",
   "metadata": {},
   "source": [
    "..."
   ]
  },
  {
   "cell_type": "markdown",
   "id": "5b549d51",
   "metadata": {},
   "source": [
    "3 . Examina la siguiente función. ¿qué sucede con esta función?"
   ]
  },
  {
   "cell_type": "code",
   "execution_count": null,
   "id": "30e9a3a2",
   "metadata": {},
   "outputs": [],
   "source": [
    "int& invalid_ref()\n",
    "{\n",
    "    int a = 10;\n",
    "    return a;\n",
    "}"
   ]
  },
  {
   "cell_type": "markdown",
   "id": "5bf3c5f1",
   "metadata": {},
   "source": [
    "..."
   ]
  },
  {
   "cell_type": "markdown",
   "id": "fa6bbc95",
   "metadata": {},
   "source": [
    "### Punteros y referencias como argumentos de una función \n",
    "\n",
    "Cuando una expresión es un argumento para una llamada de función, el valor de la expresión se copia en el almacenamiento local de la función en la pila de llamadas de función. El costo de copiar no es un problema cuando la expresión es un tipo fundamental, como `int` o `float`, pero la copia puede consumir cantidades significativas de tiempo cuando el argumento es una instancia de estructura o clase con muchos miembros. Estos objetos pueden contener arreglos grandes o estructuras de datos vinculados. \n",
    "\n",
    "En lugar de pasar una instancia de estructura o clase directamente a una función, el programa puede pasar una referencia o puntero a la instancia en la función. Esto permite que grandes estructuras de datos se transmitan de manera eficiente. Los punteros y las referencias son igualmente eficientes, por lo que la elección de cuál usar depende del estilo. \n",
    "\n",
    "Un puntero que se pasa a una función debe comprobarse por `nullptr`. El uso de una referencia como argumento de función documenta que el programador crea que la referencia debe ser válida y no se verificará dentro de la función. \n",
    "\n",
    "Debido a que un puntero puede ser `nullptr`, es útil cuando un argumento es opcional. Es decir, cuándo se puede o no requerir un argumento para calcular la función. Siempre se debe proporcionar un valor para un argumento de referencia. \n",
    "\n",
    "Un argumento de puntero es apropiado cuando un argumento apunta a un arreglo. \n",
    "\n",
    "Debido a que el almacenamiento al que apunta un puntero o referencia proviene de fuera de la función, un puntero o argumento de referencia también es útil cuando un programa quiere pasar información fuera de una función, o cuando el propósito de la función es modificar una estructura de datos. \n",
    "\n"
   ]
  },
  {
   "cell_type": "markdown",
   "id": "081e3735",
   "metadata": {},
   "source": [
    "### Ejemplo\n",
    "\n",
    "Este programa contiene una función que copia un arreglo de `char` en otro arreglo. Dado que los argumentos de la función son arreglos, los punteros son más apropiados que las referencias para los argumentos formales de la función.  \n",
    "\n",
    "Estos son los pasos para completar el ejemplo: \n"
   ]
  },
  {
   "cell_type": "markdown",
   "id": "f918b783",
   "metadata": {},
   "source": [
    "1 . Ingresa la función esqueleto `main()`:\n"
   ]
  },
  {
   "cell_type": "code",
   "execution_count": null,
   "id": "ba59f563",
   "metadata": {},
   "outputs": [],
   "source": [
    "// Completa"
   ]
  },
  {
   "cell_type": "markdown",
   "id": "7c1576ad",
   "metadata": {},
   "source": [
    "2 . Después de usar `using namespace std;`  ingresa el esqueleto de la función `copychars()`. `copychars()` toma dos punteros `char`, uno para copiar desde y otro para copiar en. También se necesita  `int count` de caracteres para copiar:"
   ]
  },
  {
   "cell_type": "code",
   "execution_count": null,
   "id": "52a4c299",
   "metadata": {},
   "outputs": [],
   "source": [
    "// Completa"
   ]
  },
  {
   "cell_type": "markdown",
   "id": "b7b8fec2",
   "metadata": {},
   "source": [
    "3 . Los punteros deben compararse con `nullptr` a menos que el desarrollador esté absolutamente seguro de que el que llama ya los ha verificado. El código para eso debería ir justo después de la llave de apertura de `copychars()`.\n"
   ]
  },
  {
   "cell_type": "code",
   "execution_count": null,
   "id": "b1f01753",
   "metadata": {},
   "outputs": [],
   "source": [
    "// Completa"
   ]
  },
  {
   "cell_type": "markdown",
   "id": "761e5d1b",
   "metadata": {},
   "source": [
    "4 . Ahora ingresa el bucle  de copia principal, que copia los caracteres `count`: \n",
    "\n"
   ]
  },
  {
   "cell_type": "code",
   "execution_count": null,
   "id": "7f51761d",
   "metadata": {},
   "outputs": [],
   "source": [
    "// Completa"
   ]
  },
  {
   "cell_type": "markdown",
   "id": "79842080",
   "metadata": {},
   "source": [
    "Ahora escribe el contenido de la función `main()`. Primero, declara un arreglo llamado `string[]` e inicializarlo en `\"uvwxyz\"`. Cuando compiles esto, notarás que no hay mensajes acerca de qué `string[]` no sea `const char`. \n",
    "\n",
    "Esto se debe a que la cadena de caracteres literales `\"uvwxyz\"` se copia en `string[]` cuando se inicializa `string[]`. Observa cómo el programa no especifica un tamaño para el arreglo `string[]`. \n",
    "El compilador de C++ sabe que se inicializa con siete caracteres: siete, porque se agrega un carácter nulo, `'\\0'`, al final de la cadena literal para marcar su final: \n"
   ]
  },
  {
   "cell_type": "code",
   "execution_count": null,
   "id": "828fefa2",
   "metadata": {},
   "outputs": [],
   "source": [
    "// Completa"
   ]
  },
  {
   "cell_type": "markdown",
   "id": "a7d7c0d2",
   "metadata": {},
   "source": [
    "5 . Declara un arreglo de 10 caracteres denominado `buffer[]`. Este es el arreglo en el que se copiará el programa. Ahora el programa puede llamar a `copychars()`, con `string[]` en la posición del argumento `from` y `buffer[]` en el argumento `to`. `count` se establece en 7: \n"
   ]
  },
  {
   "cell_type": "code",
   "execution_count": null,
   "id": "95bbeb5d",
   "metadata": {},
   "outputs": [],
   "source": [
    "// Completa"
   ]
  },
  {
   "cell_type": "markdown",
   "id": "02638a40",
   "metadata": {},
   "source": [
    "6 . Finalmente, genera `buffer[]` para probar que `string[]` se movió a `buffer[]`:\n",
    "\n"
   ]
  },
  {
   "cell_type": "code",
   "execution_count": null,
   "id": "1895ff0b",
   "metadata": {},
   "outputs": [],
   "source": [
    "// Completa"
   ]
  },
  {
   "cell_type": "markdown",
   "id": "3356c220",
   "metadata": {},
   "source": [
    "7 . El programa completo se ve así: "
   ]
  },
  {
   "cell_type": "code",
   "execution_count": null,
   "id": "c4085d05",
   "metadata": {},
   "outputs": [],
   "source": [
    "// Completa"
   ]
  },
  {
   "cell_type": "markdown",
   "id": "1f612192",
   "metadata": {},
   "source": [
    "\n",
    "8 .Compila y ejecuta el programa si aún no lo has hecho. Muestra los resultados.\n"
   ]
  },
  {
   "cell_type": "code",
   "execution_count": null,
   "id": "754176ce",
   "metadata": {},
   "outputs": [],
   "source": [
    "// Completa"
   ]
  },
  {
   "cell_type": "markdown",
   "id": "eee6ff25",
   "metadata": {},
   "source": [
    "## Punteros a clases o estructuras\n",
    "\n",
    "Un miembro de una clase o estructura se selecciona usando el operador de punto `.`. por ejemplo `instance.membername`. Cuando un puntero apunta a una instancia, primero se debe quitar la referencia del puntero mediante el operador `*`. Debido a las reglas de precedencia y asociatividad de los operadores, esta expresión debe estar entre paréntesis, por ejemplo, `(*pinstance).membername`. \n",
    "\n",
    "Los desarrolladores de C++ proporcionaron una notación simplificada. `pinstance->membername` elimina la referencia del puntero y luego selecciona el miembro nombrado. \n"
   ]
  },
  {
   "cell_type": "markdown",
   "id": "1d9e35bd",
   "metadata": {},
   "source": [
    "### Ejemplos: Punteros a instancia de una clase \n",
    "\n",
    "\n",
    "En este ejemplo, el programa generará el contenido de un arreglo de instancias de estructura. Las estructuras y las clases son similares en C++. Todos los miembros de una estructura son públicos, por lo que se necesitan menos líneas para escribir la estructura. \n",
    "\n",
    "En el código de producción, es mucho más probable que se utilice una clase. \n",
    "\n",
    "Estos son los pasos para completar el ejemplo: "
   ]
  },
  {
   "cell_type": "markdown",
   "id": "f006d23d",
   "metadata": {},
   "source": [
    "1 . Ingresa a la función esqueleto `main()`. Tiene la forma familiar a continuación: \n"
   ]
  },
  {
   "cell_type": "code",
   "execution_count": null,
   "id": "cb30ac6f",
   "metadata": {},
   "outputs": [],
   "source": [
    "// Completa"
   ]
  },
  {
   "cell_type": "markdown",
   "id": "d8291be6",
   "metadata": {},
   "source": [
    "2 . Ingresa  `struct mydata`. Tiene un campo `char const*` llamado `name_` y un campo `int` llamado `hero_`. `mydata` es una estructura, por lo que los campos se declaran automáticamente públicos y, por lo tanto, son accesibles desde fuera de la estructura. \n",
    "Ten en cuenta que los nombres de los miembros tienen un guión bajo al final. La estructura `mydata` se ve así:\n"
   ]
  },
  {
   "cell_type": "code",
   "execution_count": null,
   "id": "1c59890e",
   "metadata": {},
   "outputs": [],
   "source": [
    "// Completa"
   ]
  },
  {
   "cell_type": "markdown",
   "id": "d6a401d6",
   "metadata": {},
   "source": [
    "3 . A continuación, crea un arreglo de instancias de `mydata` llamada `cast` e inicialícela como se muestra a continuación. Es posible que reconozca las entradas del arreglo como los nombres de algunos superhéroes de historietas. Aquí, el miembro `hero_` se establece en `true` si el personaje es un héroe y `false` si el personaje es un villano. A el arreglo no se le asigna un tamaño explícito, por lo que el número de inicializadores establece su tamaño: \n",
    " "
   ]
  },
  {
   "cell_type": "code",
   "execution_count": null,
   "id": "bd11ac8b",
   "metadata": {},
   "outputs": [],
   "source": [
    "// Completa"
   ]
  },
  {
   "cell_type": "markdown",
   "id": "e51338d3",
   "metadata": {},
   "source": [
    "4 . A continuación, escribe la función `printdata()`. Esta función imprime una instancia de `mydata`:\n"
   ]
  },
  {
   "cell_type": "code",
   "execution_count": null,
   "id": "52b8df9b",
   "metadata": {},
   "outputs": [],
   "source": [
    "// Completa"
   ]
  },
  {
   "cell_type": "markdown",
   "id": "c24df5bb",
   "metadata": {},
   "source": [
    "5 .  Dentro de `main()`, genera el tamaño de una instancia de `struct mydata`, seguido del tamaño de un puntero a `mydata`. La instancia es más grande y, por lo tanto, más costosa de copiar en funciones como argumento que el puntero. En código de producción, `mydata` puede tener cientos o miles de bytes o tener un constructor que realiza operaciones costosas. Por lo tanto, pasar un puntero en lugar de copiar la instancia es más eficiente: "
   ]
  },
  {
   "cell_type": "code",
   "execution_count": null,
   "id": "49d19b59",
   "metadata": {},
   "outputs": [],
   "source": [
    "// Completa"
   ]
  },
  {
   "cell_type": "markdown",
   "id": "84eebd60",
   "metadata": {},
   "source": [
    "6 . A continuación, ingresa un bucle `for` que imprima las instancias de `mydata` en el arreglo `heroes[]`. "
   ]
  },
  {
   "cell_type": "code",
   "execution_count": null,
   "id": "181a1e60",
   "metadata": {},
   "outputs": [],
   "source": [
    "// Completa"
   ]
  },
  {
   "cell_type": "markdown",
   "id": "2a410b28",
   "metadata": {},
   "source": [
    "7 . El programa completo se ve así:\n"
   ]
  },
  {
   "cell_type": "code",
   "execution_count": null,
   "id": "90923435",
   "metadata": {},
   "outputs": [],
   "source": [
    "// Completa"
   ]
  },
  {
   "cell_type": "markdown",
   "id": "21507b72",
   "metadata": {},
   "source": [
    "8 . Compila  y ejecuta el programa. Explica los resultados.\n"
   ]
  },
  {
   "cell_type": "code",
   "execution_count": null,
   "id": "ffbe1ad7",
   "metadata": {},
   "outputs": [],
   "source": [
    "// Completa"
   ]
  },
  {
   "cell_type": "markdown",
   "id": "584567a3",
   "metadata": {},
   "source": [
    "### Adicional\n",
    "\n",
    "Podemos solucionar el problema del tamaño codificado. Usar la función `std::end()`. `std::end()` hace esencialmente lo mismo que el truco `sizeof`, pero tiene que usar una gran cantidad de plantillas mágicas para copiar toda la declaración del arreglo en la función y evitar que se convierta en un puntero. \n",
    "\n",
    "Así es como se ve la instrucción `for` con `std::end()`: \n",
    "\n",
    "```\n",
    "for (mydata* p = heroes; p < std::end(heroes); ++p)\n",
    "```\n",
    "\n"
   ]
  },
  {
   "cell_type": "markdown",
   "id": "d760edba",
   "metadata": {},
   "source": [
    "9 . `std::end()` funciona para arreglos y punteros, y también funciona para iteradores que recorren las clases contenedoras de biblioteca estándar. Hay otra función, `std::begin()`, que produce un puntero al comienzo del arreglo (o un iterador al comienzo de un contenedor de la biblioteca estándar). \n",
    "\n",
    "Hay una parte más para perfeccionar tus bucles `for`. `std::begin()` devuelve un puntero o iterador. Sin embargo, la instrucción `for` declara un puntero. Eso no es completamente general, pero el C++ moderno ofrece una solución. Se llama `auto`. \n",
    "\n",
    "Ahora, `auto` declara una variable cuando su tipo es obvio en contexto, como cuando es el objetivo de una instrucción de asignación. `auto` es perfecto para declarar variables de inducción de bucle. En el programa, hemos incluido el espacio de nombres `std`, por lo que no necesitamos usar el prefijo `std::`. Con todos estos cambios, la instrucción `for` parece muy simplificada: \n",
    "\n",
    "```\n",
    "for (auto p = begin(heroes); p < end(heroes); ++p)\n",
    "```\n",
    "\n",
    "**Nota**:  Un miembro de puntero como `mydata::name_` es riesgoso de usar a menos que sea inicializado por una constante literal. El almacenamiento al que apunta `name_` debe permanecer válido hasta que la instancia de la clase quede fuera del alcance, o el puntero apuntará a una memoria no válida y el programa se comportará mal. \n"
   ]
  },
  {
   "cell_type": "markdown",
   "id": "1facb5f2",
   "metadata": {},
   "source": [
    "### Referencias como argumentos de una función \n",
    "\n",
    "Las referencias contienen un puntero a los datos, al igual que los punteros. Sin embargo, como se mencionó anteriormente, los operadores aplicados a una referencia se aplican al objeto señalado. Para seleccionar un miembro de una estructura o clase apuntada por una referencia, use el operador punto `.` . \n",
    "El operador punto se aplica a la variable apuntada; es decir, la instancia de clase. Usando `.` con una referencia genera el mismo código que si hubieras usado `->` con un puntero. \n",
    "\n",
    "Otra diferencia entre las referencias y los punteros es que puedes inicializar una referencia con una variable. Con punteros, debes tomar explícitamente la dirección de la variable, convirtiéndola en un puntero, para asignarla al puntero. La misma convención se aplica a los argumentos de función. Lo que sucede  es que el argumento formal de referencia de tipo a instancia se inicializa para apuntar a la instancia de argumento real. \n",
    "\n",
    "Hay una forma especial del bucle `for` que es adecuada para iterar a través de un arreglo cuando un programa necesita tener una referencia a cada elemento del arreglo. Se llama un bucle `for basado en rango`. La sintaxis se ve así: `for (mydata& ref : arr)`. El compilador reconoce la variable `arr` como un arreglo y genera código para recorrer cada elemento del arreglo. Cada elemento, a su vez, se asigna a  `ref`. Recuerda que dijimos que una variable de referencia no se puede modificar una vez que se establece, pero esta variable de referencia se crea cada vez que pasa por el bucle. \n",
    "\n",
    "Un refinamiento adicional de este bucle `for` es el uso de la palabra clave `auto`, como en `for(auto& ref : arr)`. La palabra clave `auto` le pide al compilador que deduzca el tipo de referencia mirando el tipo de elemento de `arr`. \n",
    "El operador `&` le dice al bucle `for` que cada vez que pasa por el bucle debe inicializar una referencia al elemento del arreglo en lugar de copiar el elemento del arreglo en una variable de instancia.\n"
   ]
  },
  {
   "cell_type": "markdown",
   "id": "f4db592f",
   "metadata": {},
   "source": [
    "### Ejemplo: Referencias como argumentos de una función\n",
    "\n",
    "Este programa es bastante similar al programa del ejemplo anterior excepto que usa referencias en lugar de punteros. Imprime el arreglo de instancias de clase.\n",
    "\n",
    "Estos son los pasos para completar el ejercicio: \n",
    "\n"
   ]
  },
  {
   "cell_type": "markdown",
   "id": "424e40a0",
   "metadata": {},
   "source": [
    "1 . Escribe la función esqueleto `main()` que ha visto muchas veces antes:\n"
   ]
  },
  {
   "cell_type": "code",
   "execution_count": null,
   "id": "2da80037",
   "metadata": {},
   "outputs": [],
   "source": [
    "// Completa"
   ]
  },
  {
   "cell_type": "markdown",
   "id": "5762231c",
   "metadata": {},
   "source": [
    "2 . A continuación, ingresa la definición de `struct mydata`. Este ejemplo es `const-correct` y no genera ningún mensaje de advertencia del compilador: \n"
   ]
  },
  {
   "cell_type": "code",
   "execution_count": null,
   "id": "3e07ea77",
   "metadata": {},
   "outputs": [],
   "source": [
    "// Completa"
   ]
  },
  {
   "cell_type": "markdown",
   "id": "2fb3f327",
   "metadata": {},
   "source": [
    "3 . Inicializa el arreglo de conversión de tres instancias de `mydata`:\n"
   ]
  },
  {
   "cell_type": "code",
   "execution_count": null,
   "id": "9fd564c8",
   "metadata": {},
   "outputs": [],
   "source": [
    "// Completa"
   ]
  },
  {
   "cell_type": "markdown",
   "id": "28c253d8",
   "metadata": {},
   "source": [
    "4 . Escribe la función `printname()`.  Esta función toma una referencia a una instancia de `mydata` como su argumento. Cuando uses una referencia a una instancia de estructura o clase, usa el  operador punto `.` de acceso a miembros para acceder a un miembro. El operador de punto se aplica al objeto al que se hace referencia, no a la referencia: \n",
    "\n"
   ]
  },
  {
   "cell_type": "code",
   "execution_count": null,
   "id": "3217c749",
   "metadata": {},
   "outputs": [],
   "source": [
    "// Completa"
   ]
  },
  {
   "cell_type": "markdown",
   "id": "41c92da1",
   "metadata": {},
   "source": [
    "5 . Ahora ingresa el contenido de la función `main()`: \n"
   ]
  },
  {
   "cell_type": "code",
   "execution_count": null,
   "id": "1c8dc814",
   "metadata": {},
   "outputs": [],
   "source": [
    "// Completa"
   ]
  },
  {
   "cell_type": "markdown",
   "id": "76589209",
   "metadata": {},
   "source": [
    "6 . Debido a que el programa usa referencias, se puede usar la versión basada en rango del bucle for."
   ]
  },
  {
   "cell_type": "code",
   "execution_count": null,
   "id": "de46c297",
   "metadata": {},
   "outputs": [],
   "source": [
    "// Completa"
   ]
  },
  {
   "cell_type": "markdown",
   "id": "1d81319b",
   "metadata": {},
   "source": [
    "7 . Compila y ejecuta el programa. \n"
   ]
  },
  {
   "cell_type": "code",
   "execution_count": null,
   "id": "a662650b",
   "metadata": {},
   "outputs": [],
   "source": [
    "// Completa"
   ]
  },
  {
   "cell_type": "markdown",
   "id": "8cabd4bb",
   "metadata": {},
   "source": [
    "8 . Edita el programa para usar `auto` en el bucle `for` de modo que diga `for (auto & data : cast)`. Compila y ejecuta el programa para ver cómo funciona. \n",
    "\n",
    "\n"
   ]
  },
  {
   "cell_type": "code",
   "execution_count": null,
   "id": "53f0a503",
   "metadata": {},
   "outputs": [],
   "source": [
    "// Completa"
   ]
  },
  {
   "cell_type": "markdown",
   "id": "5b00b98b",
   "metadata": {},
   "source": [
    "9 . Elimina el `&` en el bucle `for` para que diga `for (auto data : cast)`.  Compila y ejecutar el programa. `auto data` también funciona, pero es menos eficiente porque copia elementos de el arreglo en `data`, que es del tipo `mydata`, en lugar de `mydata&`. Si estos elementos contienen muchos datos, eso es mucha copia. "
   ]
  },
  {
   "cell_type": "code",
   "execution_count": null,
   "id": "6f90ebf0",
   "metadata": {},
   "outputs": [],
   "source": [
    "// Completa"
   ]
  },
  {
   "cell_type": "markdown",
   "id": "4d0aa401",
   "metadata": {},
   "source": [
    "**Ejercicio : Uso de punteros y referencias para manipular un arreglo de cadenas** \n",
    "\n",
    "En este ejercicio, se te pedirá que uses punteros y referencias para escribir una función que manipule el arreglo de cadenas y que proporcione pruebas para garantizar que el código funcione correctamente. La función es como miles de funciones similares escritas cada año por desarrolladores de todo el mundo. \n",
    "\n",
    "La función se llama `printarray()`. Toma dos punteros como argumentos en el arreglo de cadenas literales terminadas en `null`. Un puntero apunta a la primera entrada de el arreglo que imprimirá `printarray()` y el otro apunta a uno después de la última entrada que se va a imprimir. `printarray()` también toma como argumento una referencia a `int` que `printarray()` establece en un recuento de las cadenas que no son `nullptr`. \n",
    "\n",
    "Además, `printarray()` genera cadenas que no son nullptr en la consola, una cadena por línea. `printarray()` devuelve 1 si se ejecuta correctamente y 0 si detecta un problema con los argumentos. El arreglo tiene un tamaño máximo de 26 elementos. \n",
    "\n",
    "\n",
    "El programa principal debe probar la función con varios argumentos, incluidos los argumentos no válidos. Estos son los pasos para completar el ejercicio: \n",
    "\n",
    "\n",
    "1 . Ingresa una función esqueleto `main()`\n",
    "Arriba de `main()`, crea el arreglo de cadenas. El código será más fácil de depurar si usa cadenas en orden alfabético, como `\"alpha\"`, `\"bravo\"`, `\"charlie\"`, etc., o `\"alphs\"`, `\"bets\"`, `\"gamms\"`, etc. . \n",
    "\n",
    "2 . Introduce un esqueleto de la función `printarray()`. Dado que estamos imprimiendo el arreglo de cadenas literales, los punteros son del tipo `char const**`. El argumento `count` es una referencia `int`. Define el tipo de retorno, que se especifica como `int` en la asignación. \n",
    "\n",
    "3 . Dentro de `printarray()`, ingresa el código para detectar errores en los argumentos de `printarray()`. \n",
    "\n",
    "4 . Limpia `count`. \n",
    "\n",
    "5 . Introduce un bucle para controlar la impresión. \n",
    "\n",
    "6 . Dentro de `main()`, escribe algunas pruebas. Las pruebas deben verificar si el valor devuelto es correcto para los argumentos. También puedes consultar el recuento de argumentos impresos. \n"
   ]
  },
  {
   "cell_type": "code",
   "execution_count": null,
   "id": "f94dbb83",
   "metadata": {},
   "outputs": [],
   "source": [
    "// Tus respuestas"
   ]
  }
 ],
 "metadata": {
  "kernelspec": {
   "display_name": "C++11",
   "language": "C++11",
   "name": "xcpp11"
  },
  "language_info": {
   "codemirror_mode": "text/x-c++src",
   "file_extension": ".cpp",
   "mimetype": "text/x-c++src",
   "name": "c++",
   "version": "11"
  }
 },
 "nbformat": 4,
 "nbformat_minor": 5
}
