{
 "cells": [
  {
   "cell_type": "markdown",
   "id": "9dbba949",
   "metadata": {},
   "source": [
    "## Algunas respuestas de la lista de ejercicios 6"
   ]
  },
  {
   "cell_type": "markdown",
   "id": "1cb6305c",
   "metadata": {},
   "source": [
    "### Algunos problemas con la asignación de memoria"
   ]
  },
  {
   "cell_type": "markdown",
   "id": "971c7492",
   "metadata": {},
   "source": [
    "Explica la salida del siguiente código en C++\n",
    "\n",
    "**Caso: uso de una variable dinámica antes de crearla.**"
   ]
  },
  {
   "cell_type": "code",
   "execution_count": null,
   "id": "7c4074f4",
   "metadata": {},
   "outputs": [],
   "source": [
    "#include<iostream>\n",
    "using namespace std;\n",
    "int main()\n",
    "{\n",
    "   char* p = nullptr;\n",
    "    p[10] = '!';\n",
    "    return 0;\n",
    "}"
   ]
  },
  {
   "cell_type": "markdown",
   "id": "a9152dc6",
   "metadata": {},
   "source": [
    "Debería ser obvio que eliminar la referencia de un puntero a un almacenamiento no válido provocará un comportamiento indefinido, que puede incluir un bloqueo o simplemente generar un resultado incorrecto. \n",
    "\n",
    "La salida del programa es un mensaje de error (dependiendo del sistema operativo) El error es obvio en este breve ejemplo: nunca se asignó ninguna variable dinámica a `p`. \n",
    "\n",
    "En un programa más grande, el puntero puede colocarse en un lugar, usarse en otro y eliminarse luego. Puede que no sea obvio el punto donde ocurrió el error, qué ruta de código condujo al uso de la variable sin crearla. Es posible que los sistemas operativos embebidos no detecten una escritura en una dirección no válida y en cambio, pueden sobrescribir información crítica del sistema, lo que hace que el programa integrado sea inestable en lugar de colapsar de inmediato. \n",
    "\n",
    "El mensaje de error de falla de segmentación relativamente informativo ocurre porque este puntero en particular se inicializó en `nullptr`. El sistema operativo atrapó el acceso a la memoria no asignada. \n",
    "\n",
    "Si el puntero tuviera alguna otra dirección no válida, podría sobrescribir variables o dañar parte del heap, lo que generaría un mensaje de error diferente en un punto del programa que está lejos de la fuente del problema. "
   ]
  },
  {
   "cell_type": "markdown",
   "id": "ba938af3",
   "metadata": {},
   "source": [
    "Explica la salida del siguiente código en C++\n",
    "\n",
    "**Caso: eliminar una variable dinámica y luego continuar usando el puntero como si todavía se refiriera a esa variable dinámica.**"
   ]
  },
  {
   "cell_type": "code",
   "execution_count": null,
   "id": "ee4de1c1",
   "metadata": {},
   "outputs": [],
   "source": [
    "#include <iostream>\n",
    "using namespace std;\n",
    "\n",
    "int main()\n",
    "{\n",
    "    char* p = new char[10];\n",
    "    p[0] = '!';\n",
    "    delete[] p;\n",
    "    cout << \"p[0] = \" << p[0] << endl;\n",
    "    return 0;\n",
    "}\n"
   ]
  },
  {
   "cell_type": "markdown",
   "id": "36aa453a",
   "metadata": {},
   "source": [
    "Cuando compilas y ejecutas el programa la  salida en un compilador y sistema operativo en particular es la siguiente.\n",
    "\n",
    "```\n",
    "p[0] = p\n",
    "``` \n",
    "\n",
    "Puede esperar que el valor de `p[0]` sea `'!'` porque puedes ver la línea de código que lo estableció en `'!'`. Sin embargo, cuando el programa eliminó `p`, indicó a C++ que el programa había terminado utilizando el almacenamiento al que apuntaba `p`. \n",
    "\n",
    "Después de eso, C++ hizo algo más con él. Podría haber hecho cualquier cosa. El hecho de que el programa imprimiera el carácter `p` es pura coincidencia. Ciertamente no imprimió `!`. \n",
    "\n",
    "Se reserva un círculo especial del infierno para los programas que cometen este pecado, porque el programa no falla inmediatamente. Los síntomas de este error incluyen variables que cambian de valor inesperadamente o un bloqueo en una `new-expresión`  posterior o una `delete-expresión` que puede ocurrir en una línea que está lejos de la línea del programa donde ocurrió el error.\n",
    "\n"
   ]
  },
  {
   "cell_type": "markdown",
   "id": "b2614044",
   "metadata": {},
   "source": [
    "Explica la salida del siguiente código en C++\n",
    "\n",
    "**Caso: crear una variable dinámica y luego olvidar de eliminarla**."
   ]
  },
  {
   "cell_type": "code",
   "execution_count": null,
   "id": "fb4b2425",
   "metadata": {},
   "outputs": [],
   "source": [
    "#include <iostream>\n",
    "using namespace std;\n",
    "int main()\n",
    "{\n",
    "    char* p = new char[10];\n",
    "    p[0] = '!';\n",
    "    cout << \"p[0] = \" << p[0] << endl;\n",
    "    return 0;\n",
    "}\n"
   ]
  },
  {
   "cell_type": "markdown",
   "id": "56e77cf3",
   "metadata": {},
   "source": [
    "\n",
    "La salida se parece a esto: \n",
    "\n",
    "``` \n",
    "p[0] = !\n",
    "``` \n",
    "\n",
    "Tampoco hay mensajes de error. Entonces, ¿por qué es esto un problema? \n",
    "\n",
    "El problema es que cada variable dinámica creada con una `new-expresión` o `new[]-expresión` debe ser eliminada por una `delete-expresión`  o `delete[]-expresión` coincidente. \n",
    "De lo contrario, el almacenamiento ocupado por la variable se volverá inaccesible para el programa, es decir, la memoria se perderá del programa. \n",
    "\n"
   ]
  },
  {
   "cell_type": "markdown",
   "id": "23d4931b",
   "metadata": {},
   "source": [
    "Explica la salida del siguiente código en C++\n",
    "\n",
    "**Caso: si sobrescribes un puntero válido a una variable dinámica.**."
   ]
  },
  {
   "cell_type": "code",
   "execution_count": null,
   "id": "5e109e70",
   "metadata": {},
   "outputs": [],
   "source": [
    "\n",
    "#include <iostream>\n",
    "using namespace std;\n",
    "\n",
    "class nclase\n",
    "{\n",
    "    int i_;\n",
    "public:\n",
    "    nclase(int i) : i_(i)\n",
    "    {\n",
    "        cout << \"construyendo nclase \" << i << endl;\n",
    "    }\n",
    "   ~nclase()\n",
    "    {\n",
    "        cout << \"destruyendo  nclase\" << i_ << endl;\n",
    "    }\n",
    "};\n",
    "\n",
    "int main()\n",
    "{\n",
    "    nclase N(1);\n",
    "    nclase * p = new nclase(2);\n",
    "    p = new nclase(3);\n",
    "    delete p;\n",
    "\n",
    "    return 0;\n",
    "}\n"
   ]
  },
  {
   "cell_type": "markdown",
   "id": "e5767b74",
   "metadata": {},
   "source": [
    "Cuando la ejecución ingresa a `main()` se crea una instancia de `nclase`. Se llama al constructor `nclase`, imprimiendo el primer mensaje `construyendo nclase 1`. \n",
    "La siguiente declaración crea la primera instancia dinámica `nclase` que produce el segundo mensaje `construyendo nclase 2`. La siguiente declaración construye otra instancia `nclase`,  `nclase 3` y asigna un puntero a esa instancia a `p` reemplazando el puntero a `nclase 2`. \n",
    "\n",
    "La siguiente declaración elimina `p` lo que hace que el destructor de `nclase 3` imprima un mensaje. Luego, `main()` regresa, lo que hace que la variable local `N` quede fuera del alcance y active una llamada al destructor de `nclase 1`.\n",
    "\n",
    "¿Qué pasó con `nclase 2`? Se debe eliminar una variable dinámica, pero no queda ningún puntero en el programa que apunte a `nclase 2` porque fue sobrescrito por el puntero a `nclase 3` por lo qué `nclase 2` no se puede eliminar. Sin embargo, `nclase 2` no deja de existir. \n",
    "El sistema operativo no sabe dónde está el almacenamiento de `nclase 2`. El sistema operativo entregó la administración del almacenamiento de `nclase 2` al programa, pero el programa ha olvidado dónde está `nclase 2`,  `nclase 2` se ha filtrado fuera del programa. \n",
    "\n",
    "Lo que suceda después de eso depende del sistema operativo. Linux libera toda la memoria utilizada por un programa. Sin embargo, en los sistemas integrados y en Windows, la memoria perdida puede desaparecer hasta la próxima vez que se reinicie la computadora. Cada vez que se ejecuta el programa, otra instancia de ` nclase 2` se vuelve inaccesible. Si esto sucede muchas veces, el sistema operativo no tendrá suficiente memoria para ejecutar programas. Se volverá inestable y causará un pánico en el kernel del sistema operativo.\n",
    "\n",
    "\n",
    "\n",
    "\n",
    "\n"
   ]
  },
  {
   "cell_type": "markdown",
   "id": "3dbc9d6a",
   "metadata": {},
   "source": [
    "Explica la salida del siguiente código en C++\n",
    "\n",
    "**Caso: eliminar una variable dinámica más de una vez, es decir**."
   ]
  },
  {
   "cell_type": "code",
   "execution_count": null,
   "id": "deb64cfb",
   "metadata": {},
   "outputs": [],
   "source": [
    "#include <iostream>\n",
    "using namespace std;\n",
    "\n",
    "int main()\n",
    "{\n",
    "    char* p = new char[10];\n",
    "    delete[] p;\n",
    "    delete[] p;\n",
    "    return 0;\n",
    "}"
   ]
  },
  {
   "cell_type": "markdown",
   "id": "cd97e8c9",
   "metadata": {},
   "source": [
    "Cuando un programa elimina una variable dinámica, el almacenamiento vuelve al heap. El puntero sin embargo, no cambia todavía apunta al comienzo de lo que solía ser la variable dinámica. \n",
    "Si el programa vuelve a eliminar el mismo puntero, C++ intenta llamar al destructor de la variable dinámica anterior ya destruida, lo que puede bloquear el programa.\n",
    "\n",
    "Luego, C++ intenta colocar el almacenamiento de la variable dinámica anterior lo que muy probablemente corromperá la lista de bloques de almacenamiento disponibles. \n",
    "\n",
    "\n",
    "No todos los compiladores de C++ generan un mensaje de error de tiempo de ejecución para este programa; depende del compilador y de las opciones de compilación."
   ]
  },
  {
   "cell_type": "markdown",
   "id": "a4d917d2",
   "metadata": {},
   "source": [
    "Explica la salida del siguiente código en C++\n",
    "\n",
    "**Caso: eliminar una variable dinámica con delete en lugar de delete[]**."
   ]
  },
  {
   "cell_type": "code",
   "execution_count": null,
   "id": "d8525edf",
   "metadata": {},
   "outputs": [],
   "source": [
    "#include <iostream>\n",
    "using namespace std;\n",
    "\n",
    "struct nclase\n",
    "{\n",
    "    nclase() { cout << \"construyendo nclase\" << endl; }\n",
    "   ~nclase() { cout << \"destruyendo nclase\" << endl; }\n",
    "};\n",
    "\n",
    "int main()\n",
    "{\n",
    "    nclase* p = new nclase[3];\n",
    "    delete p;\n",
    "    return 0;\n",
    "}\n"
   ]
  },
  {
   "cell_type": "markdown",
   "id": "eff69fd9",
   "metadata": {},
   "source": [
    "Se construyeron tres instancias `nclase` pero solo se destruyó una instancia `nclase` en lugar de tres. \n",
    "\n",
    "En un compilador y en un sistema operativo en particular, C++ detecta un problema, imprima un mensaje y luego finaliza el programa. \n",
    "No hay garantía de que  C++ detecte un problema. Hay una garantía de que las otras dos instancias de `nclase` no fueron destruidas, por lo que filtraron las variables dinámicas que contenían. \n",
    "\n",
    "También existe la posibilidad de que que parte del heap se haya dañado, por lo que, eventualmente, el programa se volverá inestable.\n"
   ]
  },
  {
   "cell_type": "markdown",
   "id": "809bd185",
   "metadata": {},
   "source": [
    "Explica la salida del siguiente código en C++\n",
    "\n",
    "**Caso: eliminar una variable dinámica con delete[] en lugar de delete**."
   ]
  },
  {
   "cell_type": "code",
   "execution_count": null,
   "id": "dab70c51",
   "metadata": {},
   "outputs": [],
   "source": [
    "#include <iostream>\n",
    "using namespace std;\n",
    "\n",
    "struct nclase\n",
    "{\n",
    "    nclase() { cout << \"construyendo nclase\" << endl; }\n",
    "   ~nclase() { cout << \"destruyendo nclase << endl; }\n",
    "};\n",
    "\n",
    "int main()\n",
    "{\n",
    "    nclase* p = new nclase;\n",
    "    delete[] p;\n",
    "}\n"
   ]
  },
  {
   "cell_type": "markdown",
   "id": "f8a10865",
   "metadata": {},
   "source": [
    "\n",
    "* `new[]-expresion`  guarda el tamaño del arreglo  que asigna para que pueda llamar a un destructor para cada instancia del arreglo. Una new-expresión no guarda este valor.\n",
    "\n",
    "\n",
    "* `delete[]-expresión`  busca el número secreto de instancias y lee la basura. A menos que la basura sea igual a uno, lo cual es bastante improbable, `delete[]` intentará eliminar las instancias que no existen. El programa luego descenderá al círculo caótico del infierno llamado comportamiento indefinido.\n",
    "\n",
    "Administrar variables dinámicas es lo suficientemente difícil como para que el C++ moderno defina algo llamado puntero inteligente,  es decir, una clase que elimina automáticamente la variable dinámica cuando el puntero inteligente queda fuera del alcance. Los punteros inteligentes son la única buena manera de manejar variables dinámicas. \n",
    "\n",
    "Hasta que lleguemos a los punteros inteligentes, debemos tratar las variables dinámicas a la antigua.\n"
   ]
  },
  {
   "cell_type": "markdown",
   "id": "b8910eca",
   "metadata": {},
   "source": [
    "### Punteros inteligentes"
   ]
  },
  {
   "cell_type": "markdown",
   "id": "dd73a4e7",
   "metadata": {},
   "source": [
    "En este ejercicio construye y destruye algunas instancias de `unique_ptr<>` que apuntan a variables dinámicas y arreglo dinámicas y muestra cómo transferir la propiedad de una variable dinámica de un `unique_ptr<>` a otro.\n"
   ]
  },
  {
   "cell_type": "code",
   "execution_count": null,
   "id": "c8b0a09f",
   "metadata": {},
   "outputs": [],
   "source": [
    "//"
   ]
  },
  {
   "cell_type": "markdown",
   "id": "761f9d39",
   "metadata": {},
   "source": [
    "Demuestra cómo usar `make_unique()` para ocultar nuevas expresiones. "
   ]
  },
  {
   "cell_type": "code",
   "execution_count": null,
   "id": "13f18911",
   "metadata": {},
   "outputs": [],
   "source": [
    "//"
   ]
  },
  {
   "cell_type": "markdown",
   "id": "63bfb124",
   "metadata": {},
   "source": [
    "En este ejercicio crea una clase simple cuyos miembros son punteros inteligentes para ilustrar la sintaxis de clase simplificada que resulta cuando los punteros inteligentes  como `unique_ptr<>` son miembros de clase."
   ]
  },
  {
   "cell_type": "code",
   "execution_count": null,
   "id": "915bf74e",
   "metadata": {},
   "outputs": [],
   "source": [
    "//"
   ]
  },
  {
   "cell_type": "markdown",
   "id": "c2979e01",
   "metadata": {},
   "source": [
    "Desarrolla un ejemplo para  mostrar cómo transferir la propiedad de una variable dinámica devolviéndole una instancia `unique_ptr<>`.\n"
   ]
  },
  {
   "cell_type": "code",
   "execution_count": null,
   "id": "0d275f30",
   "metadata": {},
   "outputs": [],
   "source": [
    "// "
   ]
  },
  {
   "cell_type": "markdown",
   "id": "98a5bd89",
   "metadata": {},
   "source": [
    "En este ejercicio, crea algunos punteros compartidos y llama  a una función que toma un puntero compartido como argumento y devuelve un puntero compartido. La idea de este programa es que una función condiciona una variable dinámica para que nunca sea `nullptr`, por lo que el programa no tiene que probar `nullptr`.\n"
   ]
  },
  {
   "cell_type": "code",
   "execution_count": null,
   "id": "7f0301ae",
   "metadata": {},
   "outputs": [],
   "source": [
    "//"
   ]
  },
  {
   "cell_type": "markdown",
   "id": "c11a6e6c",
   "metadata": {},
   "source": [
    "Escribe un ejemplo del uso `make_shared()`."
   ]
  },
  {
   "cell_type": "code",
   "execution_count": null,
   "id": "d6940658",
   "metadata": {},
   "outputs": [],
   "source": [
    "// "
   ]
  },
  {
   "cell_type": "markdown",
   "id": "077d50c2",
   "metadata": {},
   "source": [
    "**Referencia:** [Smart pointers (Modern C++)](https://learn.microsoft.com/en-us/cpp/cpp/smart-pointers-modern-cpp?view=msvc-170)."
   ]
  },
  {
   "cell_type": "markdown",
   "id": "11c3acb3",
   "metadata": {},
   "source": [
    "### Estructuras"
   ]
  },
  {
   "cell_type": "markdown",
   "id": "ba1a7042",
   "metadata": {},
   "source": [
    "Escribe un programa en C++ que procese la fecha de nacimiento usando estructuras. Incluye la capacidad de procesar las fechas de nacimiento de varios estudiantes.\n"
   ]
  },
  {
   "cell_type": "code",
   "execution_count": null,
   "id": "ded78058",
   "metadata": {},
   "outputs": [],
   "source": [
    "#include <iostream>\n",
    "using namespace std;\n",
    "\n",
    "struct Fecha {\n",
    "    int dia;\n",
    "    int mes;\n",
    "    int year;\n",
    "};\n",
    "\n",
    "struct Estudiante {\n",
    "    string nombre;\n",
    "    Fecha dob;\n",
    "};\n",
    "\n",
    "void mostrarDetallesEstudiantes(Estudiante estudiante) {\n",
    "    cout << \"Nombre: \" << estudiante.nombre << endl;\n",
    "    cout << \"Cumple: \" << estudiante.dob.dia<< \"/\"\n",
    "         << estudiante.dob.mes << \"/\" << estudiante.dob.year << endl;\n",
    "    cout << endl;\n",
    "}\n",
    "\n",
    "int main() {\n",
    "    const int MAX_ESTUDIANTES = 3;\n",
    "    Estudiante estudiantes[MAX_ESTUDIANTES];\n",
    "\n",
    "    for (int i = 0; i < MAX_ESTUDIANTES; i++) {\n",
    "        cout << \"Ingresa el nombre del estudiante \" << i + 1 << \": \";\n",
    "        cin >> estudiantes[i].nombre;\n",
    "        cout << \"Ingresa la fecha del cumple (dd mm yyyy) para estudiante\" << i + 1 << \": \";\n",
    "        cin >> estudiantes[i].dob.dia >> estudiantes[i].dob.mes >> estudiantes[i].dob.year;\n",
    "        cout << endl;\n",
    "    }\n",
    "\n",
    "    cout << \"Detalles de estudiantes:\" << endl;\n",
    "    for (int i = 0; i < MAX_ESTUDIANTES; i++) {\n",
    "        mostrarDetallesEstudiantes(estudiantes[i]);\n",
    "    }\n",
    "\n",
    "    return 0;\n",
    "}\n"
   ]
  },
  {
   "cell_type": "markdown",
   "id": "49363699",
   "metadata": {},
   "source": [
    "Escribe un programa que almacene registros de empleados en un archivo. El programa debería poder leer los registros y mostrarlos en la pantalla.\n"
   ]
  },
  {
   "cell_type": "code",
   "execution_count": null,
   "id": "1d3c04c1",
   "metadata": {},
   "outputs": [],
   "source": [
    "#include <fstream>\n",
    "#include <iostream>\n",
    "using namespace std ;\n",
    "int main( )\n",
    "{\n",
    "struct empleado\n",
    "{\n",
    "    char nombre[ 20 ] ;\n",
    "    int edad ;\n",
    "    float basico;\n",
    "    float total ;\n",
    "};\n",
    "empleado e ;\n",
    "\n",
    "char ch = 'Y' ;\n",
    "    ofstream outfile ;\n",
    "    outfile.open ( \"empleado.txt\", ios::out | ios::binary ) ;\n",
    "    while ( ch == 'Y' || ch == 'y' )\n",
    "    {\n",
    "    cout << \"Ingresa un registro:\" ;\n",
    "        cin >> e.nombre >> e.edad >> e.basico>> e.total ;\n",
    "        outfile.write ( ( char * ) &e, sizeof ( e ) ) ;\n",
    "        cout << \"Agrega otro Y/N? \" ;\n",
    "        cin >> ch ;\n",
    "}\n",
    "outfile.close( ) ;\n",
    "    \n",
    "ifstream infile ;\n",
    "infile.open ( \"empleado.txt\", ios::in | ios::binary ) ;\n",
    "while ( infile.read ( ( char * ) &e, sizeof ( e ) ) )\n",
    "{\n",
    "    cout << e.nombre << '\\t' << e.edad << '\\t'\n",
    "    << e.basico<< '\\t' << e.total << endl ;\n",
    "    }\n",
    "return 0 ;\n",
    "}"
   ]
  },
  {
   "cell_type": "markdown",
   "id": "6ce37f85",
   "metadata": {},
   "source": [
    "Realiza la estructura punto con los siguientes atributos, etiqueta del punto, coordenada x,\n",
    "coordenada y donde se ingrese 3 coordenadas:\n",
    "\n",
    "Se pide utilizar funciones, el operador `new `y estructuras:\n",
    "\n",
    "```\n",
    "Ingresar los 3 puntos.\n",
    "Listar los puntos.\n",
    "Validar si es isósceles.\n",
    "```\n",
    "\n",
    "**Ejemplo:**\n",
    "\n",
    "```\n",
    "Listar Datos Etiqueta: A x: 2 y: 1\n",
    "Etiqueta: B x: 4 y: 1\n",
    "Etiqueta: C x: 3 y: 3\n",
    "\n",
    "El triángulo es Isósceles.\n",
    "``` "
   ]
  },
  {
   "cell_type": "code",
   "execution_count": null,
   "id": "4ed6e577",
   "metadata": {},
   "outputs": [],
   "source": [
    "#include<iostream>\n",
    "#include<cstdlib>\n",
    "#include<string>\n",
    "#include<cmath>\n",
    "#define N 3\n",
    "\n",
    "using namespace std;\n",
    "\n",
    "struct punto{\n",
    "    string etiqueta;\n",
    "    float x;\n",
    "    float y;\n",
    "};\n",
    "void ingresar(struct punto pun[N]);\n",
    "void listar(struct punto pun[N]);\n",
    "int es_isoceles(struct punto pun[N]);\n",
    "void ingresar(struct punto pun[N]){\n",
    "    struct punto p[3]={\n",
    "        {\"A\",2,1},\n",
    "        {\"B\",4,1},\n",
    "        {\"C\",3,3},\n",
    "\n",
    "    };\n",
    "    int i = 0;\n",
    "    while( i < N ) {\n",
    "        pun[i].etiqueta = p[i].etiqueta;\n",
    "        pun[i].x = p[i].x;\n",
    "        pun[i].y = p[i].y;\n",
    "        i++;\n",
    "    }\n",
    "}\n",
    "int es_isoceles(struct punto pun[N]){\n",
    "    float L1,L2,L3;\n",
    "    L1=sqrt(pow(pun[0].x-pun[1].x,2)+pow(pun[0].y-pun[1].y,2));\n",
    "    L2=sqrt(pow(pun[1].x-pun[2].x,2)+pow(pun[1].y-pun[2].y,2));\n",
    "    L3=sqrt(pow(pun[2].x-pun[0].x,2)+pow(pun[2].y-pun[0].y,2));\n",
    "    \n",
    "    if( L1 == L2 || L1 == L3 || L2 == L3 ){\n",
    "        cout<< \"\\nEl triangulo es Isoceles\\n\" ;\n",
    "        return 1;\n",
    "    }else{\n",
    "        return 0;\n",
    "        cout<< \"\\nEl triangulo no es Isoceles\\n\" ;\n",
    "   }\n",
    "}\n",
    "void listar(struct punto pun[N]){\n",
    "    int i;\n",
    "    for(i = 0; i < N; i++){\n",
    "        cout<< \"Etiqueta: \"<< pun[i].etiqueta << \"  x: \"<< pun[i].x << \" y: \"<< pun[i].y <<\"\\n\";\n",
    "    }\n",
    "}\n",
    "int main(){\n",
    "    punto *P;\n",
    "    P = new punto[N];\n",
    "    ingresar(P);\n",
    "    cout<<\"Listar Datos \\n\";\n",
    "    listar(P);\n",
    "    if (es_isoceles(P)){\n",
    "        cout<< \"\\nEl triangulo es Isoceles\\n\" ;\n",
    "    }else{\n",
    "        cout<< \"\\nEl triangulo No es Isoceles\\n\" ;\n",
    "    }\n",
    "    return 0;\n",
    "    delete [] P;\n",
    "}"
   ]
  },
  {
   "cell_type": "markdown",
   "id": "13feccbe",
   "metadata": {},
   "source": [
    "Implementar un programa para mantener una base de datos con información de accesorios o partes de equipos informáticos. Para esto deberás incluir lo siguiente:\n",
    "\n",
    "El tipo estructura `accesorio` cuyos campos son el número de partes, nombre, cantidad (stock). \n",
    "\n",
    "Define el arreglo `inventario` que tendrá un tamaño límite de 100 accesorios.\n",
    "\n",
    "En la función `main` se presentará un menú que pedirá el ingreso de un código de operación, luego se realizará alguna de las siguientes tareas:\n",
    "\n",
    "\n",
    "- Insertar: intenta añadir un nuevo accesorio, si fuera posible. Muestra un mensaje de error si el número de parte ya existe.\n",
    "- Buscar: Solicita un número de accesorio y lo busca en la base de datos. Si la ubica, imprime el nombre y stock, sino imprime un mensaje de error.\n",
    "- Actualizar: Solicita un número de accesorio y lo busca en la base de datos. Si el número de parte no existe muestra un mensaje de error, sino le pide al usuario ingresar la cantidad y realiza el cambio.\n",
    "- Listar: Presenta todos los accesorios adquiridos. Los accesorios se mostrarán en el orden que fueron ingresados. El menú se presentará de forma interactiva hasta que el usuario presione el código 5.\n",
    "\n",
    "```\n",
    "MENU\n",
    "\n",
    "(1) Insertar\n",
    "(2) Buscar\n",
    "(3) Actualizar\n",
    "(4) Listar\n",
    "(5) Salir\n",
    "``` \n"
   ]
  },
  {
   "cell_type": "code",
   "execution_count": null,
   "id": "66205c3c",
   "metadata": {},
   "outputs": [],
   "source": [
    "#include <iostream>\n",
    "#include <cstdio>\n",
    "#include <string>\n",
    "#define TAM 80\n",
    "using namespace std;\n",
    "struct TAccesorio{\n",
    "     int parte; \n",
    "     string nombre;\n",
    "     int cantidad;\n",
    "};\n",
    "struct TAccesorio inv[TAM];\n",
    "int menu();\n",
    "void Listar(struct TAccesorio inv[],int n);\n",
    "int Ubicar_np(int np,struct TAccesorio inv[],int n);\n",
    "void Mostrar(int np,struct TAccesorio inv[],int n);\n",
    "void Actualizar(int np,struct TAccesorio inv[],int n);\n",
    "int main(){\n",
    "   int i,j,k,n,nparte,y;\n",
    "   int opc;\n",
    "   char resp;\n",
    "   n=0;\n",
    "   do{\n",
    "        opc=menu();\n",
    "    switch(opc){\n",
    "        case 1:  \n",
    "                cout<<\"Numero de parte: \";cin>>nparte;\n",
    "        y=-1;\n",
    "                if (n>0)          \n",
    "                   y=Ubicar_np(nparte,inv,n);\n",
    "      if (y==-1){\n",
    "        cout<<\"Accesorio Nro. \"<<n+1<<\"\\n\";\n",
    "            inv[n].parte=nparte;\n",
    "                        cin.ignore();\n",
    "            cout<<\"Nombre: \";\n",
    "            getline(cin,inv[n].nombre);\n",
    "            cout<<\"Cantidad: \";cin>>inv[n].cantidad;  \n",
    "            n=n+1;\n",
    "                }\n",
    "        else{  \n",
    "                    cout<<\"Accesorio ya existe\\n\"; \n",
    "        }\n",
    "                break;                 \n",
    "           case 2: //Ubicar    \n",
    "                cout<<\"Numero de parte: \";cin>>nparte;\n",
    "                Mostrar(nparte,inv,n);                 \n",
    "                break;\n",
    "           case 3: //Actualizar   \n",
    "                cout<<\"Numero de parte: \";cin>>nparte;\n",
    "                Actualizar(nparte,inv,n);                 \n",
    "                break;\n",
    "            case 4: \n",
    "        Listar(inv,n);\n",
    "                break;\n",
    "        }\n",
    "        cout<<\"¿Desea continuar?(S/N): \";\n",
    "        cin>>resp;\n",
    "     }while (resp=='S');\n",
    "   return 0;\n",
    "}\n",
    "int Ubicar_np(int np,struct TAccesorio inv[],int n){\n",
    "   int hallado=-1;\n",
    "   for (int i=0;i<n;i++)\n",
    "       if (np==inv[i].parte)\n",
    "              hallado=i;\n",
    "   return  hallado;\n",
    "}\n",
    "void Actualizar(int np,struct TAccesorio inv[],int n){\n",
    "   int y,cant;\n",
    "   y=Ubicar_np(np,inv,n);\n",
    "   if ( y!=-1){\n",
    "      cout<<\"\\nIngrese nueva cantidad: \";\n",
    "      cin>>cant;\n",
    "      inv[y].cantidad=cant;\n",
    "      cout<<\"Se actualizaron los datos...\\n\";  \n",
    "   }\n",
    "   else\n",
    "      cout<<\"Error. Codigo de accesorio no existe.\\n\";\n",
    "}\n",
    "void Mostrar(int np,struct TAccesorio inv[],int n){\n",
    "   int y;\n",
    "   y=Ubicar_np(np,inv,n);\n",
    "   if ( y!=-1){\n",
    "      cout<<\"\\nNombre: \"<<inv[y].nombre;\n",
    "      cout<<\"\\nCantidad: \"<<inv[y].cantidad;  \n",
    "   }\n",
    "   else\n",
    "      cout<<\"Error. Codigo de accesorio no existe.\\n\";\n",
    "}\n",
    "\n",
    "void Listar(struct TAccesorio inv[],int n){\n",
    "   cout<<\"Datos de los accesorios\\n\";\n",
    "   for (int i=0;i<n;i++){\n",
    "     cout<<\"\\nAccesorio Nro. \"<<i+1;\n",
    "     cout<<\"\\nNumero de Parte: \"<<inv[i].parte;\n",
    "     cout<<\"\\nNombre: \"<<inv[i].nombre;\n",
    "     cout<<\"\\nCantidad: \"<<inv[i].cantidad<<endl;\n",
    "   }\n",
    "}\n",
    "int menu(){\n",
    "  int opc;\n",
    "  cout<<\"\\tMENU\\n\";\n",
    "  cout<<\"(1)Insertar\\n\";  \n",
    "  cout<<\"(2)Buscar\\n\";\n",
    "  cout<<\"(3)Actualizar\\n\";\n",
    "  cout<<\"(4)Listar\\n\";\n",
    "  cout<<\"(5)Salir\\n\";\n",
    "  cout<<\"Elija la opcion: \";cin>>opc;\n",
    "  return opc;\n",
    "}\n"
   ]
  },
  {
   "cell_type": "markdown",
   "id": "ddac91ff",
   "metadata": {},
   "source": [
    "Escribe un programa en C++ para procesar números complejos. Tienes que realizar sumas, restas, multiplicaciones y divisiones de números complejos. Imprime los resultados en forma x+ iy.\n"
   ]
  },
  {
   "cell_type": "code",
   "execution_count": null,
   "id": "8383ec5d",
   "metadata": {},
   "outputs": [],
   "source": [
    "#include <iostream>\n",
    "using namespace std;\n",
    "\n",
    "struct Compleja {\n",
    "    double real;\n",
    "    double imaginaria;\n",
    "};\n",
    "\n",
    "Compleja sumaCompleja(Compleja c1,Compleja c2) {\n",
    "   Compleja resultado;\n",
    "    resultado.real = c1.real + c2.real;\n",
    "    resultado.imaginaria = c1.imaginaria + c2.imaginaria;\n",
    "    return resultado;\n",
    "}\n",
    "\n",
    "Compleja substraccionCompleja(Compleja c1,Compleja c2) {\n",
    "   Compleja resultado;\n",
    "    resultado.real = c1.real - c2.real;\n",
    "    resultado.imaginaria = c1.imaginaria - c2.imaginaria;\n",
    "    return resultado;\n",
    "}\n",
    "\n",
    "Compleja multiplicacionCompleja(Compleja c1,Compleja c2) {\n",
    "   Compleja resultado;\n",
    "    resultado.real = (c1.real * c2.real) - (c1.imaginaria * c2.imaginaria);\n",
    "    resultado.imaginaria = (c1.real * c2.imaginaria) + (c1.imaginaria * c2.real);\n",
    "    return resultado;\n",
    "}\n",
    "\n",
    "Compleja divisionCompleja(Compleja c1,Compleja c2) {\n",
    "   Compleja resultado;\n",
    "    double denominador = (c2.real * c2.real) + (c2.imaginaria * c2.imaginaria);\n",
    "    resultado.real = ((c1.real * c2.real) + (c1.imaginaria * c2.imaginaria)) / denominador;\n",
    "    resultado.imaginaria = ((c1.imaginaria * c2.real) - (c1.real * c2.imaginaria)) / denominador;\n",
    "    return resultado;\n",
    "}\n",
    "\n",
    "void impresionCompleja(Compleja c) {\n",
    "    cout << c.real << \" + \" << c.imaginaria << \"i\" << endl;\n",
    "}\n",
    "\n",
    "int main() {\n",
    "   Compleja num1, num2;\n",
    "\n",
    "    cout << \"Ingresa la parte real e imaginaria del primero numero complejo: \";\n",
    "    cin >> num1.real >> num1.imaginaria;\n",
    "\n",
    "    cout << \"Ingresa la parte real e imaginaria del segundo numero complejo: \";\n",
    "    cin >> num2.real >> num2.imaginaria;\n",
    "\n",
    "    cout << \"Adicion de numeros complejos: \";\n",
    "    impresionCompleja(sumaCompleja(num1, num2));\n",
    "\n",
    "    cout << \"Resta de numeros complejos: \";\n",
    "    impresionCompleja(substraccionCompleja(num1, num2));\n",
    "\n",
    "    cout << \"Multiplicacion de numeros complejos: \";\n",
    "    impresionCompleja(multiplicacionCompleja(num1, num2));\n",
    "\n",
    "    cout << \"Division de numeros complejos: \";\n",
    "    impresionCompleja(divisionCompleja(num1, num2));\n",
    "\n",
    "    return 0;\n",
    "}\n"
   ]
  }
 ],
 "metadata": {
  "kernelspec": {
   "display_name": "C++11",
   "language": "C++11",
   "name": "xcpp11"
  },
  "language_info": {
   "codemirror_mode": "text/x-c++src",
   "file_extension": ".cpp",
   "mimetype": "text/x-c++src",
   "name": "c++",
   "version": "11"
  }
 },
 "nbformat": 4,
 "nbformat_minor": 5
}
