{
 "cells": [
  {
   "cell_type": "markdown",
   "id": "bf9181e3",
   "metadata": {},
   "source": [
    "### Repaso\n",
    "\n",
    "Formas de declarar un arreglo de cadenas C++ \n",
    "\n",
    "1 . La palabra clave `String` para crear un arreglo de cadenas en C++\n",
    "\n",
    "C++ nos proporciona la palabra clave 'String' para declarar y manipular datos en un arreglo de cadenas. \n",
    "\n",
    "\n",
    "Sintaxis: para declarar un arreglo de cadenas usando la palabra clave 'string' \n",
    "\n",
    "\n"
   ]
  },
  {
   "cell_type": "code",
   "execution_count": null,
   "id": "785760fa",
   "metadata": {},
   "outputs": [],
   "source": [
    "string array-name[size];"
   ]
  },
  {
   "cell_type": "markdown",
   "id": "1b9111da",
   "metadata": {},
   "source": [
    "Además, podemos inicializar el arreglo de cadenas usando la siguiente sintaxis: "
   ]
  },
  {
   "cell_type": "code",
   "execution_count": null,
   "id": "9c8a5b95",
   "metadata": {},
   "outputs": [],
   "source": [
    "string array-name[size]={'val1','val2',.....,'valN'};"
   ]
  },
  {
   "cell_type": "markdown",
   "id": "9fcb6c5c",
   "metadata": {},
   "source": [
    "#### Ejemplo"
   ]
  },
  {
   "cell_type": "code",
   "execution_count": null,
   "id": "b1fdc3d7",
   "metadata": {},
   "outputs": [],
   "source": [
    "// Completa"
   ]
  },
  {
   "cell_type": "markdown",
   "id": "d28f6cb7",
   "metadata": {},
   "source": [
    "#### Ejemplo"
   ]
  },
  {
   "cell_type": "code",
   "execution_count": null,
   "id": "a5c864d9",
   "metadata": {},
   "outputs": [],
   "source": [
    "// Completa"
   ]
  },
  {
   "cell_type": "markdown",
   "id": "7dda5c4a",
   "metadata": {},
   "source": [
    "2 . Uso del contenedor STL de C++ - Vector \n",
    "\n",
    "[STL](https://cplusplus.com/reference/stl/)  C++ nos proporciona contenedores para trabajar con datos y almacenarlos de manera eficiente. \n",
    "\n",
    "`Vector`, al ser uno de esos contenedores, almacena los elementos del arreglo de forma dinámica. Por lo tanto, los vectores de C++ se pueden usar para crear un arreglo de cadenas. \n",
    "\n",
    "Sintaxis:\n"
   ]
  },
  {
   "cell_type": "code",
   "execution_count": null,
   "id": "2bc294a9",
   "metadata": {},
   "outputs": [],
   "source": [
    "vector<string>array-name;"
   ]
  },
  {
   "cell_type": "markdown",
   "id": "c5171935",
   "metadata": {},
   "source": [
    "* El método `vector.push_back(element)` se utiliza para agregar elementos en el arreglo de cadenas de vectores. \n",
    "\n",
    "* El método `vector.size()` se usa para calcular la longitud del arreglo, es decir, el conteo de elementos ingresados en el arreglo de cadenas. \n",
    "\n"
   ]
  },
  {
   "cell_type": "markdown",
   "id": "10debb6c",
   "metadata": {},
   "source": [
    "#### Ejemplo"
   ]
  },
  {
   "cell_type": "code",
   "execution_count": null,
   "id": "4b567257",
   "metadata": {},
   "outputs": [],
   "source": [
    "// #include <vector> \n",
    "//#include <string>\n",
    "//#include <iostream>\n",
    "//using namespace std; \n",
    "\n",
    "// Completa"
   ]
  },
  {
   "cell_type": "markdown",
   "id": "dc564683",
   "metadata": {},
   "source": [
    "3 . Usando un arreglo de caracteres 2D \n",
    "\n",
    "Un arreglo 2D representa un arreglo de cadenas en C++. Entonces, podemos usar un arreglo de caracteres 2D para representar elementos de tipo cadena en un arreglo.\n",
    "\n",
    "`char array` crea y almacena elementos en tiempo estático o de compilación, es decir, la cantidad y el tamaño de los elementos permanecen fijos/constantes. \n",
    "\n",
    "Sintaxis: \n"
   ]
  },
  {
   "cell_type": "code",
   "execution_count": null,
   "id": "a02d2719",
   "metadata": {},
   "outputs": [],
   "source": [
    "char array-name[number-of-items][maximun_size-of-string];"
   ]
  },
  {
   "cell_type": "markdown",
   "id": "0ac9e6d3",
   "metadata": {},
   "source": [
    "#### Ejemplo"
   ]
  },
  {
   "cell_type": "code",
   "execution_count": null,
   "id": "e0caa0c1",
   "metadata": {},
   "outputs": [],
   "source": [
    "// Completa"
   ]
  },
  {
   "cell_type": "markdown",
   "id": "4d0226d7",
   "metadata": {},
   "source": [
    "###  Arreglo de cadenas de C++ como argumento de una función \n",
    "\n",
    "Un arreglo de cadenas también se puede pasar a una función como un argumento de la misma manera que se le pasa otro arreglo  que no sea de tipo cadena. \n",
    "\n",
    "Sintaxis:\n",
    "\n"
   ]
  },
  {
   "cell_type": "code",
   "execution_count": null,
   "id": "5f5be3c8",
   "metadata": {},
   "outputs": [],
   "source": [
    "return-type function-name(string array-name[size])\n",
    "{\n",
    "  // cuerpo de la funcion\n",
    "}"
   ]
  },
  {
   "cell_type": "markdown",
   "id": "d78525af",
   "metadata": {},
   "source": [
    "#### Ejemplo"
   ]
  },
  {
   "cell_type": "code",
   "execution_count": null,
   "id": "9b648256",
   "metadata": {},
   "outputs": [],
   "source": [
    "// Completa"
   ]
  },
  {
   "cell_type": "markdown",
   "id": "aba6db56",
   "metadata": {},
   "source": [
    "### Métodos para devolver un arreglo en una función de C++\n",
    "\n",
    "Por lo general, no es posible devolver un arreglo completp a una llamada de función. Solo podríamos hacerlo usando punteros.\n",
    "\n",
    "Además, declarar una función con un tipo de retorno de un puntero y devolver la dirección de un arreglo de tipo C en C++ no funciona en todos los casos. El compilador genera una advertencia por devolver una variable local e incluso muestra un comportamiento anormal en la salida.\n",
    "\n",
    "Por lo tanto, devolver un arreglo desde una función en C++ no es tan fácil. Pero podemos lograrlo siguiendo cualquiera de los métodos mencionados a continuación.\n",
    "\n",
    "1 . Usando punteros\n",
    "\n",
    "Devolver un arreglo normal desde una función usando punteros a veces nos da resultados inesperados. Pero este comportamiento y las advertencias se pueden evitar declarando que el arreglo es estático.\n"
   ]
  },
  {
   "cell_type": "code",
   "execution_count": null,
   "id": "1b435a89",
   "metadata": {},
   "outputs": [],
   "source": [
    "#include<iostream>\n",
    "using namespace std;\n",
    "\n",
    "int* demo()\n",
    "{\n",
    "    static int a[5]; \n",
    "    for(int i = 0; i<5; i++)\n",
    "    {\n",
    "        a[i] = i; \n",
    "    }\n",
    "\n",
    "    return a; \n",
    "}\n",
    "\n",
    "int main()\n",
    "{\n",
    "\n",
    "    int* ptr; \n",
    "    int i;\n",
    "    ptr = demo();\n",
    "    cout<<\"El arreglo es: \";\n",
    "    for(i=0 ; i<5; i++)\n",
    "        cout<<ptr[i]<<\"\\t\"; \n",
    "    \n",
    "    return 0;\n",
    "}"
   ]
  },
  {
   "cell_type": "markdown",
   "id": "e5d8e99f",
   "metadata": {},
   "source": [
    "2 . Usando una estructura en C++\n",
    "\n",
    "También podemos hacer que una función devuelva un arreglo a ser declarado dentro de una estructura en C++.\n"
   ]
  },
  {
   "cell_type": "code",
   "execution_count": null,
   "id": "eb512d80",
   "metadata": {},
   "outputs": [],
   "source": [
    "#include <iostream>\n",
    "using namespace std;\n",
    "\n",
    "struct demo\n",
    "{\n",
    "    \n",
    "    int arr[100];\n",
    "};\n",
    "\n",
    "struct demo func(int n) \n",
    "{\n",
    "    struct demo demo_mem;\n",
    "    for(int i=0;i<n;i++)\n",
    "    {\n",
    "        \n",
    "        demo_mem.arr[i] = i;\n",
    "    }\n",
    "    return demo_mem; \n",
    "}\n",
    "\n",
    "int main() \n",
    "{\n",
    "    struct demo a;\n",
    "    int n=5; \n",
    "    \n",
    "    a=func(n); \n",
    "    \n",
    "    cout<<\" El arreglo es : \";\n",
    "    for(int i=0;i<n;i++)\n",
    "    {\n",
    "        cout<<a.arr[i]<<\"\\t\";\n",
    "    }\n",
    "    \n",
    "    return 0;\n",
    "}"
   ]
  },
  {
   "cell_type": "markdown",
   "id": "c5b0773e",
   "metadata": {},
   "source": [
    "3 . Usando std::array\n",
    "\n",
    "Para `std::array` en C++, devolver el nombre del arreglo desde una función en realidad se traduce en que toda el arreglo se devuelve al sitio de la llamada a la función.\n"
   ]
  },
  {
   "cell_type": "code",
   "execution_count": null,
   "id": "ea012544",
   "metadata": {},
   "outputs": [],
   "source": [
    "#include <iostream>\n",
    "#include<array>\n",
    "using namespace std;\n",
    "\n",
    "std::array<int,5> func() \n",
    "{\n",
    "    std::array<int,5> f_array; \n",
    "    \n",
    "    for(int i=0;i<5;i++)\n",
    "    {\n",
    "\n",
    "        f_array[i] = i;\n",
    "    }\n",
    "\n",
    "    return f_array; \n",
    "}\n",
    "\n",
    "int main() \n",
    "{\n",
    "    std::array<int,5> arr;\n",
    "    \n",
    "    arr=func(); \n",
    "    \n",
    "    cout<<\"El arreglo es : \";\n",
    "    for(int i=0;i<5;i++)\n",
    "    {\n",
    "        cout<<arr[i]<<\"\\t\";\n",
    "    }\n",
    "    \n",
    "    return 0;\n",
    "}"
   ]
  },
  {
   "cell_type": "markdown",
   "id": "4e7f29b0",
   "metadata": {},
   "source": [
    "### Las funciones fgets() y gets()\n",
    "\n",
    "`scanf()` funciona muy bien al tomar entradas como enteros, caracteres, flotantes, etc. Ciertamente se queda atrás al tomar entradas de cadena que contienen espacios en blanco. \n",
    "\n",
    "Veamos un ejemplo:"
   ]
  },
  {
   "cell_type": "code",
   "execution_count": null,
   "id": "424a77f4",
   "metadata": {},
   "outputs": [],
   "source": [
    "#include<stdio.h>\n",
    "int main()\n",
    "{\n",
    "    char cadena[10];\n",
    "    printf(\"Ingresa la cadena: \");\n",
    "    scanf(\"%s\", cadena);\n",
    "    printf(\"\\n %s\",cadena);\n",
    "    return 0;\n",
    "}"
   ]
  },
  {
   "cell_type": "markdown",
   "id": "88957e23",
   "metadata": {},
   "source": [
    "Esto se puede evitar fácilmente usando otras funciones de entrada como `gets()` y `fgets()`. "
   ]
  },
  {
   "cell_type": "markdown",
   "id": "4edefa40",
   "metadata": {},
   "source": [
    "#### Función gets() en C \n",
    "\n",
    "`gets()` es una función predefinida en C que se usa para leer una cadena o una línea de texto. Y almacena la entrada en una variable de cadena bien definida. La función termina tu sesión de lectura tan pronto como encuentra un carácter de nueva línea. \n",
    "\n",
    "Sintaxis:"
   ]
  },
  {
   "cell_type": "code",
   "execution_count": null,
   "id": "297190cb",
   "metadata": {},
   "outputs": [],
   "source": [
    "gets( variable name );"
   ]
  },
  {
   "cell_type": "markdown",
   "id": "62c38f4f",
   "metadata": {},
   "source": [
    "#### Ejemplo"
   ]
  },
  {
   "cell_type": "code",
   "execution_count": null,
   "id": "a8c8f8d0",
   "metadata": {},
   "outputs": [],
   "source": [
    "// Completa"
   ]
  },
  {
   "cell_type": "markdown",
   "id": "5f1e14a4",
   "metadata": {},
   "source": [
    "#### Función fgets() en C \n",
    "\n",
    "La función lee una línea de texto o una cadena del archivo o consola especificados. Y luego lo almacena en la variable de cadena respectiva. Similar a la función `gets()`, `fgets` también termina la lectura cada vez que encuentra un carácter de nueva línea. \n",
    "\n",
    "Pero además, a diferencia de `gets()`, la función también se detiene cuando se alcanza EOF o incluso si la longitud de la cadena supera el límite especificado, `n-1`. \n",
    "\n",
    "\n",
    "Sintaxis:\n"
   ]
  },
  {
   "cell_type": "code",
   "execution_count": null,
   "id": "6f354b2f",
   "metadata": {},
   "outputs": [],
   "source": [
    "fgets(char *str, int n, FILE *stream)"
   ]
  },
  {
   "cell_type": "markdown",
   "id": "2952a589",
   "metadata": {},
   "source": [
    "- `str` - Es la variable en la que se va a almacenar la cadena \n",
    "\n",
    "- `n` - Es la longitud máxima de la cadena que se debe leer \n",
    "\n",
    "- `stream`- es el identificador de archivo, desde donde se debe leer la cadena."
   ]
  },
  {
   "cell_type": "markdown",
   "id": "6d021e05",
   "metadata": {},
   "source": [
    "Podemos leer líneas de texto de un archivo o el flujo de entrada estándar usando la función `fgets()`. \n",
    "\n",
    "Veamos cómo:\n",
    "\n",
    "1 . Leer de un archivo dado usando `fgets()` \n"
   ]
  },
  {
   "cell_type": "code",
   "execution_count": null,
   "id": "c72176be",
   "metadata": {},
   "outputs": [],
   "source": [
    "#include<stdio.h>\n",
    "int main()\n",
    "{\n",
    "    char cadena[20];\n",
    "    FILE *fp;\n",
    "    fp=fopen(\"archivo.txt\",\"r\");\n",
    "    fgets(cadena,20,fp);\n",
    "    printf(\"La cadena es : %s\",cadena);\n",
    "    fclose(fp);\n",
    "    return 0;\n",
    "}"
   ]
  },
  {
   "cell_type": "markdown",
   "id": "a79a85d8",
   "metadata": {},
   "source": [
    "**Ejercicio:** ¿cuál es el resultado del ejemplo anterior?."
   ]
  },
  {
   "cell_type": "code",
   "execution_count": null,
   "id": "ebff80a4",
   "metadata": {},
   "outputs": [],
   "source": [
    "// Tu respuesta"
   ]
  },
  {
   "cell_type": "markdown",
   "id": "e57b7797",
   "metadata": {},
   "source": [
    "2 . Leer desde `stdin` usando `fgets()` \n"
   ]
  },
  {
   "cell_type": "code",
   "execution_count": null,
   "id": "ae5ebeab",
   "metadata": {},
   "outputs": [],
   "source": [
    "#include<stdio.h>\n",
    "int main()\n",
    "{\n",
    "    char cadena[20];\n",
    "    printf(\"Ingresa la cadena: \");\n",
    "    fgets(cadena,20,stdin);     \n",
    "    printf(\"\\nLa cadena es: %s\",cadena);\n",
    "    return 0;\n",
    "}"
   ]
  },
  {
   "cell_type": "markdown",
   "id": "bb37ec0d",
   "metadata": {},
   "source": [
    "### La función puts() en C/C++ \n",
    "\n",
    "La función `puts()` en C/C++ se usa para escribir una línea o cadena en el flujo de salida (`stdout`). Imprime la cadena pasada con una nueva línea y devuelve un valor entero. El valor de retorno depende del éxito del procedimiento de escritura. \n",
    "\n",
    "La declaración de la función `puts()` se proporciona a continuación."
   ]
  },
  {
   "cell_type": "code",
   "execution_count": null,
   "id": "2f9e6c73",
   "metadata": {},
   "outputs": [],
   "source": [
    "int puts(const char* str);\n"
   ]
  },
  {
   "cell_type": "markdown",
   "id": "99005712",
   "metadata": {},
   "source": [
    "Aquí, `str` es la cadena constante que se va a imprimir."
   ]
  },
  {
   "cell_type": "markdown",
   "id": "7ae3bc4d",
   "metadata": {},
   "source": [
    "#### Ejemplo"
   ]
  },
  {
   "cell_type": "code",
   "execution_count": null,
   "id": "ade28d17",
   "metadata": {},
   "outputs": [],
   "source": [
    "// Completa"
   ]
  },
  {
   "cell_type": "markdown",
   "id": "7b8ef29b",
   "metadata": {},
   "source": [
    "El fragmento de código proporcionado a continuación también produce el mismo resultado en C++.\n"
   ]
  },
  {
   "cell_type": "code",
   "execution_count": null,
   "id": "2f41425a",
   "metadata": {},
   "outputs": [],
   "source": [
    "// Completa"
   ]
  },
  {
   "cell_type": "markdown",
   "id": "71bd2cda",
   "metadata": {},
   "source": [
    "#### Usando la función puts() en C/C++ \n",
    "\n",
    "Hemos mencionado anteriormente que la función `puts()` agrega un carácter de nueva línea al final mientras escribe una cadena/línea.\n"
   ]
  },
  {
   "cell_type": "code",
   "execution_count": null,
   "id": "765d6ba5",
   "metadata": {},
   "outputs": [],
   "source": [
    "#include<stdio.h>\n",
    "int main()\n",
    "\n",
    "    char cadena1[10] = \"Python\";\n",
    "    char cadena2[10] = \"Kotlin\";\n",
    "    \n",
    "    puts(cadena1);\n",
    " puts(cadena2); \n",
    "    \n",
    "    return 0;\n",
    "}"
   ]
  },
  {
   "cell_type": "markdown",
   "id": "3bb2ff36",
   "metadata": {},
   "source": [
    "La función `puts()` devuelve un número entero no negativo para una ejecución exitosa. De lo contrario, devuelve EOF para cualquier error. \n",
    "\n",
    "El ejemplo a continuación ilustra el valor de retorno de la función `puts()`.\n"
   ]
  },
  {
   "cell_type": "code",
   "execution_count": null,
   "id": "4fc7dc30",
   "metadata": {},
   "outputs": [],
   "source": [
    "#include<stdio.h>\n",
    "int main()\n",
    "{\n",
    "\n",
    "    char cadena1[] = \"La funcion puts()\";\n",
    "    \n",
    "    int val = puts(cadena1);\n",
    "    printf(\"Valor de retorno Val = %d\", val);\n",
    "    \n",
    "    return 0;\n",
    "}"
   ]
  },
  {
   "cell_type": "markdown",
   "id": "b5522ca3",
   "metadata": {},
   "source": [
    "### ¿Cómo usar std::getline() en C++? \n",
    "\n",
    "\n",
    "Esta función lee caracteres de un flujo de entrada y los coloca en una cadena. Necesitamos importar el archivo de encabezado `<string>`, ya que `getline()` es parte de este archivo.\n",
    "\n",
    "Si bien esto requiere argumentos de plantilla, nos centraremos en las entradas de cadena (caracteres), ya que la salida se escribe en una cadena.\n"
   ]
  },
  {
   "cell_type": "code",
   "execution_count": null,
   "id": "1bf640b0",
   "metadata": {},
   "outputs": [],
   "source": [
    "istream& getline(istream& input_stream, string& output, char delim);"
   ]
  },
  {
   "cell_type": "markdown",
   "id": "e54d10aa",
   "metadata": {},
   "source": [
    "Lo que esto dice es que `getline()` toma un flujo de entrada y lo escribe en la salida. Los delimitadores se pueden especificar opcionalmente mediante `delim`. Esto también devuelve una referencia al mismo flujo de entrada, pero en la mayoría de los casos, no necesitamos este identificador. \n",
    "\n"
   ]
  },
  {
   "cell_type": "markdown",
   "id": "6effaead",
   "metadata": {},
   "source": [
    "#### Usando std::getline() para leer desde flujos de entrada \n",
    "\n",
    "Ahora que conocemos la sintaxis básica, obtengamos la entrada de `std::cin` (flujo de entrada estándar) en una cadena."
   ]
  },
  {
   "cell_type": "code",
   "execution_count": null,
   "id": "a53b9cc1",
   "metadata": {},
   "outputs": [],
   "source": [
    "// Completa"
   ]
  },
  {
   "cell_type": "markdown",
   "id": "bc41701c",
   "metadata": {},
   "source": [
    "#### Ejemplo\n",
    "\n",
    "Leamos el archivo línea por línea y almacenémoslos en un vector de cadenas.\n",
    "\n",
    "Podemos escribir esto fácilmente usando este formato:\n",
    "\n",
    "\n"
   ]
  },
  {
   "cell_type": "code",
   "execution_count": null,
   "id": "23ffd47a",
   "metadata": {},
   "outputs": [],
   "source": [
    "std::ifstream infile(\"archivo.txt\");\n",
    "\n",
    "std::string temp;\n",
    "\n",
    "while (std::getline(infile, temp)) {\n",
    "  salidad.push_back(temp);\n",
    "}\n"
   ]
  },
  {
   "cell_type": "code",
   "execution_count": null,
   "id": "90d8e6fd",
   "metadata": {},
   "outputs": [],
   "source": [
    "// Completa"
   ]
  },
  {
   "cell_type": "markdown",
   "id": "e355aae1",
   "metadata": {},
   "source": [
    "#### Usando std::getline() en C++ para dividir la entrada usando delimitadores \n",
    "\n",
    "También podemos usar el argumento `delim` para hacer que la función `getline` divida la entrada en términos de un carácter delimitador. De forma predeterminada, el delimitador es `\\n` (nueva línea). \n",
    "\n",
    "Podemos cambiar esto para hacer que `getline()` divida la entrada en función de otros caracteres también.\n",
    "\n",
    "Establezcamos el carácter delimitador en un carácter de espacio `' '` en el ejemplo anterior.\n"
   ]
  },
  {
   "cell_type": "code",
   "execution_count": null,
   "id": "e7c03abd",
   "metadata": {},
   "outputs": [],
   "source": [
    "// Completa"
   ]
  },
  {
   "cell_type": "markdown",
   "id": "9d848457",
   "metadata": {},
   "source": [
    "#### Posibles problemas con el uso de std::getline() \n",
    "\n",
    "Si bien `std::getline()` es una función muy útil, podría haber algunos problemas que podría enfrentar cuando se usa junto con algunos flujos de entrada como `std::cin`. \n",
    "\n",
    "* `std::getline()` no ignora ningún espacio en blanco/carácter de nueva línea. \n",
    "\n",
    "Debido a esto, si llamas a `std::cin >> var` justo antes de `getline()`, quedará una nueva línea en el flujo de entrada, después de leer la variable de entrada. \n",
    "\n",
    "Entonces, si llamas a `getline()` inmediatamente después de `cin`, obtienes una nueva línea en su lugar, ya que es el primer carácter en el flujo de entrada.\n",
    "\n",
    "Para evitar esto, simplemente agregue un `std::getline()`  para consumir este carácter de nueva línea. \n",
    "\n",
    "El siguiente programa muestra un problema con el uso de `cin` justo antes de `getline()`.\n"
   ]
  },
  {
   "cell_type": "code",
   "execution_count": null,
   "id": "245aa53c",
   "metadata": {},
   "outputs": [],
   "source": [
    "#include <iostream>\n",
    "#include <string>\n",
    "\n",
    "int main() {\n",
    "    std::string nombre;\n",
    "\n",
    "    int id;\n",
    "    std::cout << \"Ingresa el id: \";\n",
    "\n",
    "    std::cin >> id;\n",
    "    std::cout << \"Ingresa el nombre : \";\n",
    "\n",
    "    // Observa que std::cin fue la última llamada de entrada\n",
    "    std::getline(std::cin, nombre);\n",
    "\n",
    "    std::cout << \"Id: \" << id << std::endl;\n",
    "    std::cout << \"Nombre: \" << nombre << \"\\n\";\n",
    "\n",
    "    return 0;\n",
    "}"
   ]
  },
  {
   "cell_type": "markdown",
   "id": "69d54e40",
   "metadata": {},
   "source": [
    "Observa que no se pudo ingresar el nombre. Dado que había una nueva línea final en el flujo de entrada, simplemente tomó eso y dado que es un delimitador dejó de leer\n",
    "\n",
    "Arreglemos el problema de la siguiente manera:\n"
   ]
  },
  {
   "cell_type": "code",
   "execution_count": null,
   "id": "b1aab609",
   "metadata": {},
   "outputs": [],
   "source": [
    "// Completa"
   ]
  },
  {
   "cell_type": "markdown",
   "id": "d7443183",
   "metadata": {},
   "source": [
    "### Formas de encontrar la longitud de un arreglo en C++\n",
    "\n",
    "Veamos las diferentes formas en que podemos encontrar la longitud de un arreglo en C++:\n",
    "\n",
    "\n",
    "- Contando elemento por elemento,\n",
    "- `begin()` y `end()`,\n",
    "- La función `sizeof()`,\n",
    "- La función `size()` en STL,\n",
    "- Punteros.\n",
    "\n",
    "\n"
   ]
  },
  {
   "cell_type": "markdown",
   "id": "f67464e1",
   "metadata": {},
   "source": [
    "1 . Contar elemento por elemento\n",
    "\n",
    "Recorrer el arreglo dado y contar simultáneamente el número total de elementos que recorrimos puede darnos la longitud del arreglo.\n",
    "\n",
    "Pero para atravesar no podemos usar un bucle `for` directamente si no conocemos la longitud del arreglo de antemano. \n",
    "\n",
    "Este problema se puede resolver usando un bucle `for-each` simple. "
   ]
  },
  {
   "cell_type": "code",
   "execution_count": null,
   "id": "2f81e318",
   "metadata": {},
   "outputs": [],
   "source": [
    "#include<iostream>    \n",
    "#include<array> \n",
    "using namespace std;\n",
    "int main()\n",
    "{\n",
    "   int c;\n",
    "   int arr[]={1,2,3,4,5,6,7,8,9,0};\n",
    "   cout<<\"El arreglo es: \";\n",
    "   for(auto i: arr)\n",
    "   {\n",
    "       cout<<i<<\" \";\n",
    "       c++;\n",
    "   }\n",
    "   cout<<\"\\nLa longitud del arreglo dado es : \"<<c;\n",
    "   \n",
    "   return 0;\n",
    "}"
   ]
  },
  {
   "cell_type": "markdown",
   "id": "0212fe4d",
   "metadata": {},
   "source": [
    "Aquí,  recorremos todo el arreglo `arr` usando un bucle `for-each` con el iterador `i`. Simultáneamente se incrementa el contador `c`. \n",
    "\n",
    "Por último, cuando termina el recorrido, `c` contiene la longitud del arreglo dado."
   ]
  },
  {
   "cell_type": "markdown",
   "id": "31072c7c",
   "metadata": {},
   "source": [
    "2 . Usando begin() y end()\n",
    "\n",
    "También podemos calcular la longitud de un arreglo utilizando las funciones `begin()` y `end()` de la biblioteca estándar. \n",
    "\n",
    "Las dos funciones devuelven iteradores que apuntan al inicio y al final del arreglo correspondiente, respectivamente. "
   ]
  },
  {
   "cell_type": "code",
   "execution_count": null,
   "id": "c5a7d84c",
   "metadata": {},
   "outputs": [],
   "source": [
    "#include<iostream>    \n",
    "#include<array> \n",
    "using namespace std;\n",
    "int main()\n",
    "{  \n",
    "   int arr[] = { 11, 22, 33, 44 };\n",
    "   \n",
    "   cout<<\"La longitud del arreglo es : \"<<end(arr)-begin(arr);// longitud\n",
    "   \n",
    "   return 0;\n",
    "}"
   ]
  },
  {
   "cell_type": "markdown",
   "id": "97e1cd51",
   "metadata": {},
   "source": [
    "Por lo tanto, aquí, como podemos ver, la diferencia entre los valores de retorno de las dos funciones `end()` y `begin()` que nos dan el tamaño o la longitud del arreglo dado `arr`. Es decir, en el ejemplo 4.\n"
   ]
  },
  {
   "cell_type": "markdown",
   "id": "51ea12e7",
   "metadata": {},
   "source": [
    "3 . Uso de la función `sizeof()` para encontrar la longitud del arreglo en C++\n",
    "\n",
    "El operador `sizeof()` en C++ devuelve el tamaño de la variable o los datos pasados en bytes. Del mismo modo, también devuelve el número total de bytes necesarios para almacenar un arreglo. \n",
    "\n",
    "Por lo tanto, si simplemente dividimos el tamaño del arreglo por el tamaño adquirido por cada elemento del mismo, para obtener el número total de elementos presentes en el arreglo."
   ]
  },
  {
   "cell_type": "code",
   "execution_count": null,
   "id": "f8673cae",
   "metadata": {},
   "outputs": [],
   "source": [
    "#include<iostream>    \n",
    "#include<array> \n",
    "using namespace std;\n",
    "int main()\n",
    "{  \n",
    "   int  arr[] = {10 ,20 ,30};\n",
    "   \n",
    "   int al = sizeof(arr)/sizeof(arr[0]); //calculo\n",
    "   cout << \"La longitud del arreglo es : \" <<al;\n",
    "   \n",
    "   return 0;\n",
    "}"
   ]
  },
  {
   "cell_type": "markdown",
   "id": "8d5e89e8",
   "metadata": {},
   "source": [
    "4 . Usando la función size() en STL\n",
    "\n",
    "Tenemos la función `size()` definida en la biblioteca estándar que devuelve el número de elementos en el contenedor dado (arreglo en nuestro caso).\n"
   ]
  },
  {
   "cell_type": "code",
   "execution_count": null,
   "id": "efccc96f",
   "metadata": {},
   "outputs": [],
   "source": [
    "#include<iostream>    \n",
    "#include<array> \n",
    "using namespace std;\n",
    "int main()\n",
    "{  \n",
    "   array<int,5> arr{ 1, 2, 3, 4, 5 };\n",
    "   cout<<\"\\nLa longitud del arreglo dado es : \"<<arr.size();\n",
    "   return 0;\n",
    "}"
   ]
  },
  {
   "cell_type": "markdown",
   "id": "861c368b",
   "metadata": {},
   "source": [
    "5 . Uso de punteros para encontrar la longitud de un arreglo en C++\n",
    "\n",
    "También podemos encontrar la longitud de un arreglo dada usando punteros.\n"
   ]
  },
  {
   "cell_type": "code",
   "execution_count": null,
   "id": "fab31597",
   "metadata": {},
   "outputs": [],
   "source": [
    "#include<iostream>    \n",
    "#include<array> \n",
    "using namespace std;\n",
    "int main()\n",
    "{  //Given array\n",
    "   int  arr[6] = {5,4,3,2,1,0};\n",
    "   \n",
    "   int len = *(&arr + 1) - arr; // importante!   \n",
    "   cout << \"La longitud del arreglo es : \" << len;\n",
    "   \n",
    "   return 0;\n",
    "}"
   ]
  },
  {
   "cell_type": "markdown",
   "id": "4a10340d",
   "metadata": {},
   "source": [
    "La expresión `*(arr+1)` nos da la dirección del espacio de memoria justo después del último elemento del arreglo. Por lo tanto, la diferencia entre esta y la ubicación inicial del arreglo o la dirección base (`arr`) nos da el número total de elementos presentes en el arreglo."
   ]
  },
  {
   "cell_type": "markdown",
   "id": "8643ef3a",
   "metadata": {},
   "source": [
    "### Convertir un  string en un arreglo de caracteres  y un arreglo de caracteres en string en C++\n",
    "\n",
    "C++ nos proporciona las siguientes técnicas para convertir una cadena en un arreglo  de caracteres: \n",
    "\n",
    "1 . Las funciones `c_str()` y `strcpy()` en C++ \n",
    "\n",
    "La función C++ `c_str()` junto con la función `strcpy()` se puede usar para convertir fácilmente una cadena en un arreglo de caracteres. El método `c_str()` representa la secuencia de caracteres en un arreglo de cadena seguida de un carácter nulo ('\\0'). Devuelve un puntero nulo a la cadena.\n",
    "\n",
    "Sintaxis:"
   ]
  },
  {
   "cell_type": "markdown",
   "id": "d1c1c8da",
   "metadata": {},
   "source": [
    "string-name.c_str();"
   ]
  },
  {
   "cell_type": "markdown",
   "id": "84c8507f",
   "metadata": {},
   "source": [
    "* Al principio, usamos el método `c_str()` para obtener todos los caracteres de la cadena junto con un carácter nulo de terminación. \n",
    "\n",
    "* Además, declaramos un arreglo  vacío de tipo `char` para almacenar el resultado de la conversión de una cadena a un arreglo  `char`.\n",
    "\n",
    "* Finalmente, usamos el método `strcpy()` para copiar la secuencia de caracteres generada por el método `c_str()` al arreglo de caracteres vacío."
   ]
  },
  {
   "cell_type": "markdown",
   "id": "a8d0383a",
   "metadata": {},
   "source": [
    "#### Ejemplo"
   ]
  },
  {
   "cell_type": "code",
   "execution_count": null,
   "id": "01d1aab0",
   "metadata": {},
   "outputs": [],
   "source": [
    "// Completa"
   ]
  },
  {
   "cell_type": "markdown",
   "id": "f4c493f4",
   "metadata": {},
   "source": [
    "2 . Conversión de un arreglo de cadena a char en C++ usando for \n",
    "\n",
    "Para la conversión de un arreglo  de caracteres a una cadena, podemos usar C ++ para bucles con facilidad. \n",
    "\n",
    "- Inicialmente, creamos un arreglo vacío de tipo char \n",
    "- Después de esto, iteramos a través de la cadena de entrada. \n",
    "- Mientras iteramos, almacenamos los caracteres en el arreglo  de caracteres\n"
   ]
  },
  {
   "cell_type": "markdown",
   "id": "898146e6",
   "metadata": {},
   "source": [
    "#### Ejemplo"
   ]
  },
  {
   "cell_type": "code",
   "execution_count": null,
   "id": "59fa5b6d",
   "metadata": {},
   "outputs": [],
   "source": [
    "#include <iostream> \n",
    "using namespace std; \n",
    "\n",
    "int main() \n",
    "{  \n",
    "\n",
    "    string str = \"\";\n",
    "    cout<<\"Ingresa la cadena:\\n\";\n",
    "\n",
    "    cin>>str;\n",
    "\n",
    "    char arr[str.length() + 1]; \n",
    "    cout<<\"Conversion de cadenas a un arreglo de caracteres:\\n\";\n",
    "    for (int x = 0; x < sizeof(arr); x++) { \n",
    "        arr[x] = str[x]; \n",
    "        cout << arr[x]; \n",
    "    } \n",
    "\n",
    "    return 0; \n",
    "}"
   ]
  },
  {
   "cell_type": "markdown",
   "id": "5b2528d0",
   "metadata": {},
   "source": [
    "### Convertir un arreglo de caracteres a cadenas en C++ \n",
    "\n",
    "Las técnicas mencionadas se pueden usar para convertir un arreglo de caracteres en una cadena en C++: \n",
    "\n",
    "- El operador '+' \n",
    "\n",
    "- El pperador '=' sobrecargado de C++ \n",
    "\n",
    "- El constructor C++ incorporado.\n"
   ]
  },
  {
   "cell_type": "markdown",
   "id": "3eebb960",
   "metadata": {},
   "source": [
    "1 . Operador '+' de C++ \n",
    "\n",
    "C++ nos proporciona el operador '+' para concatenar o agregar elementos de datos a una variable. \n",
    "\n",
    "* Creamos una nueva cadena vacía para almacenar el resultado.\n",
    "* Usamos un ciclo `for` para atravesar el arreglo de caracteres de entrada. \n",
    "* En el proceso de pasar el arreglo , usamos el operador '+' para concatenar los caracteres en la cadena."
   ]
  },
  {
   "cell_type": "markdown",
   "id": "8f966e27",
   "metadata": {},
   "source": [
    "#### Ejemplo"
   ]
  },
  {
   "cell_type": "code",
   "execution_count": null,
   "id": "0be68d99",
   "metadata": {},
   "outputs": [],
   "source": [
    "#include<iostream>\n",
    "//#include <bits/stdc++.h> \n",
    "using namespace std; \n",
    "\n",
    "\n",
    "int main() \n",
    "{ \n",
    "    char arr[] = { 'K', 'A', 'P', 'E', 'R', 'U', 'Z', 'I', 'T', 'A' }; \n",
    "    \n",
    "    int size_arr = sizeof(arr) / sizeof(char); \n",
    "    string str = \"\"; \n",
    "    for (int x = 0; x < size_arr; x++) { \n",
    "        str = str + arr[x]; \n",
    "    } \n",
    "    cout<<\"Arreglo de caracteres convertido a cadenas:\\n\";\n",
    "    cout << str << endl; \n",
    "    return 0; \n",
    "}"
   ]
  },
  {
   "cell_type": "markdown",
   "id": "b9b1052b",
   "metadata": {},
   "source": [
    "2 . Operador '=' sobrecargado de C++\n",
    "\n",
    "C ++ tiene el concepto de sobrecarga que hace que un operador realice otras operaciones además de la operación básica o predeterminada. \n",
    "\n",
    "* Inicialmente, creamos una nueva cadena vacía. \n",
    "* Usamos el operador '=' sobrecargado para almacenar los elementos de datos carácter por carácter en la cadena vacía recién creada.\n",
    "\n"
   ]
  },
  {
   "cell_type": "markdown",
   "id": "0b4936b2",
   "metadata": {},
   "source": [
    "**Ejemplo**"
   ]
  },
  {
   "cell_type": "code",
   "execution_count": null,
   "id": "08729e19",
   "metadata": {},
   "outputs": [],
   "source": [
    "// Completa"
   ]
  },
  {
   "cell_type": "markdown",
   "id": "b77732ce",
   "metadata": {},
   "source": [
    "\n",
    "3 . Constructor C++ incorporado de cadena \n",
    "\n",
    "En el contexto de la conversión de un arreglo de caracteres a una cadena, podemos usar C ++ String `Constructor` para lo mismo.\n",
    "\n",
    "Sintaxis: \n",
    "\n"
   ]
  },
  {
   "cell_type": "markdown",
   "id": "9ff70355",
   "metadata": {},
   "source": [
    "string string-name(char array-name);"
   ]
  },
  {
   "cell_type": "markdown",
   "id": "29afc11c",
   "metadata": {},
   "source": [
    "Este constructor toma una secuencia de caracteres terminados en un carácter nulo como parámetro de entrada. \n"
   ]
  },
  {
   "cell_type": "markdown",
   "id": "3fdb149b",
   "metadata": {},
   "source": [
    "#### Ejemplo"
   ]
  },
  {
   "cell_type": "code",
   "execution_count": null,
   "id": "2df5e99f",
   "metadata": {},
   "outputs": [],
   "source": [
    "#include <iostream> \n",
    "using namespace std; \n",
    "\n",
    "int main() \n",
    "{ \n",
    "    char arr[] = { 'K', 'A', 'P', 'E', 'R', 'U', 'Z', 'I', 'T', 'A' }; \n",
    "    int size_arr = sizeof(arr) / sizeof(char); \n",
    "    string str(arr);\n",
    "    cout<<\"Arreglo de caracteres convertidos a cadena:\\n\";\n",
    "    cout <<str<< endl; \n",
    "    return 0; \n",
    "}"
   ]
  },
  {
   "cell_type": "markdown",
   "id": "daee8c2c",
   "metadata": {},
   "source": [
    "### Concatenación de cadenas\n",
    "\n",
    "\n",
    "Las siguientes técnicas se pueden tener en cuenta al concatenar cadenas en C++: \n",
    "\n",
    "- Operador de concatenación (+) de C++ \n",
    "\n",
    "- El método `strcat()`\n",
    "\n",
    "- La función `append()` de C ++ \n",
    "\n",
    "- Usando el bucle for  C++ para concatenación. \n"
   ]
  },
  {
   "cell_type": "markdown",
   "id": "6e80ef29",
   "metadata": {},
   "source": [
    "1 . Operador '+'  para la concatenación de cadenas\n",
    "\n",
    " El operador '+' de C++ se puede usar para concatenar dos cadenas fácilmente. El operador '+' agrega las dos cadenas de entrada y devuelve una nueva cadena que contiene la cadena concatenada. \n",
    "\n",
    "Sintaxis:\n"
   ]
  },
  {
   "cell_type": "code",
   "execution_count": null,
   "id": "b6c4f1ba",
   "metadata": {},
   "outputs": [],
   "source": [
    "cadena1 + cadena2"
   ]
  },
  {
   "cell_type": "code",
   "execution_count": null,
   "id": "75559435",
   "metadata": {},
   "outputs": [],
   "source": [
    "// Completa"
   ]
  },
  {
   "cell_type": "markdown",
   "id": "e66e8eeb",
   "metadata": {},
   "source": [
    "2 . Método strcat() de C++ \n",
    "\n",
    "C++ tiene un método integrado para concatenar cadenas. El método `strcat()` se usa para concatenar cadenas en C++. La función `strcat()` toma el arreglo `char` como entrada y luego concatena los valores de entrada pasados a la función.\n",
    "\n",
    "Sintaxis:\n"
   ]
  },
  {
   "cell_type": "code",
   "execution_count": null,
   "id": "78397272",
   "metadata": {},
   "outputs": [],
   "source": [
    "strcat(char *array1, char *array2)"
   ]
  },
  {
   "cell_type": "code",
   "execution_count": null,
   "id": "217e2d23",
   "metadata": {},
   "outputs": [],
   "source": [
    "#include <cstring> \n",
    "using namespace std; \n",
    "\n",
    "int main() \n",
    "{   \n",
    "    char str1[100] = \"Kapu\";\n",
    "    char str2[100]= \"Mota\";\n",
    "    \n",
    "     \n",
    "    cout<<\"Cadena concatenada :\"<<endl;\n",
    "    \n",
    "    strcat(str1, str2);\n",
    "    cout<<str1;\n",
    "    return 0; \n",
    "}"
   ]
  },
  {
   "cell_type": "markdown",
   "id": "67d44430",
   "metadata": {},
   "source": [
    "#### Ejemplo\n",
    "\n",
    "Aceptamos valores de entrada del usuario mediante la función `getline()` de C++, que obtiene la entrada desde el terminal carácter por carácter.\n"
   ]
  },
  {
   "cell_type": "code",
   "execution_count": null,
   "id": "e5fcaac7",
   "metadata": {},
   "outputs": [],
   "source": [
    "// Completa"
   ]
  },
  {
   "cell_type": "markdown",
   "id": "7e06bf45",
   "metadata": {},
   "source": [
    "3 . El método append() para la concatenación de cadenas en C++ \n",
    "\n",
    "C++ tiene otro método integrado: `append()` para concatenar cadenas. El método `append()` se puede usar para agregar cadenas. \n",
    "\n",
    "Toma una cadena como parámetro y la agrega al final de otro objeto de cadena. \n",
    "\n",
    "Sintaxis:\n"
   ]
  },
  {
   "cell_type": "code",
   "execution_count": null,
   "id": "93d58f28",
   "metadata": {},
   "outputs": [],
   "source": [
    "cadena1.append(cadena2);"
   ]
  },
  {
   "cell_type": "code",
   "execution_count": null,
   "id": "334a87b6",
   "metadata": {},
   "outputs": [],
   "source": [
    "#include <iostream>\n",
    "#include <cstring>\n",
    "using namespace std; \n",
    "\n",
    "int main() \n",
    "{   string str1=\"\", str2=\"\";\n",
    "\n",
    "    cout<<\"Ingresa la cadena 1:\\n\";\n",
    "    cin>>str1;\n",
    "    cout<<\"Ingresa la cadena 2:\\n\";\n",
    "    cin>>str2;\n",
    "    \n",
    "    str1.append(str2);\n",
    "    cout<<\"La cadena concateneda es :\"<<endl;\n",
    "    cout<<str1;\n",
    "    return 0; \n",
    "}"
   ]
  },
  {
   "cell_type": "markdown",
   "id": "ee77e78e",
   "metadata": {},
   "source": [
    "4 . Usando el bucle for C++\n",
    "\n",
    "Para concatenar cadenas, podemos usar C ++ para bucles para cumplir el propósito sin la necesidad de ninguna función incorporada.\n"
   ]
  },
  {
   "cell_type": "code",
   "execution_count": null,
   "id": "8fa87df8",
   "metadata": {},
   "outputs": [],
   "source": [
    "#include<iostream>\n",
    "#include<string.h>\n",
    "using namespace std;\n",
    "\n",
    "int main()\n",
    "{\n",
    "\n",
    "    char x[100]=\"Python\", y[100]=\"Java\";\n",
    "    cout<<\"Cadena 1:\\n\";\n",
    "   cout<<x<<endl;\n",
    "   cout<<\"Cadena 2:\\n\";\n",
    "   cout<<y<<endl;\n",
    "    int p;\n",
    "    for(p=0; x[p] != '\\0'; p++);\n",
    "\n",
    "    for(int q=0; y[q] != '\\0'; q++,p++)\n",
    "    {\n",
    "        x[p]=y[q];\n",
    "    }\n",
    "    \n",
    "    \n",
    "    x[p]='\\0';\n",
    "  cout<<\"Cadena concatenada: \\n\";\n",
    "   cout<<x<<endl;\n",
    "\n",
    "    return 0;\n",
    "}"
   ]
  },
  {
   "cell_type": "markdown",
   "id": "674be0da",
   "metadata": {},
   "source": [
    "**Pregunta:** Explica como funciona el código anterior."
   ]
  },
  {
   "cell_type": "markdown",
   "id": "0872eae2",
   "metadata": {},
   "source": [
    "### Como usar find()  en C++\n",
    "\n",
    "Si queremos comprobar si una cadena contiene otra cadena, el método `std::string.find()` es muy útil. ¡Entendamos cómo podemos usar este método, con algunos ejemplos! \n",
    "\n",
    "\n",
    "Este método pertenece a la clase de cadenas de C++ (`std::string`). Y por lo tanto, debemos incluir el archivo de cabecera `<string>`.\n",
    "\n",
    "Debemos invocar esto en un objeto de cadena, usando otra cadena como argumento. \n",
    "\n",
    "El método `find()` luego verificará si la cadena dada se encuentra en nuestra cadena. Devolverá el tamaño de la subcadena, incluido el carácter de terminación `'\\0'` (como `size_t`). Pero si la cadena no se encuentra en nuestra cadena original, devolverá 0. \n",
    "\n",
    "Con eso, la función se define así:\n"
   ]
  },
  {
   "cell_type": "code",
   "execution_count": null,
   "id": "cade4575",
   "metadata": {},
   "outputs": [],
   "source": [
    "size_t find(const std::string& my_string, size_t pos = 0);"
   ]
  },
  {
   "cell_type": "markdown",
   "id": "69ea1b2e",
   "metadata": {},
   "source": [
    "Hay un parámetro más, `pos` que define la posición inicial desde la que buscar. \n",
    "\n",
    "De forma predeterminada, es 0, por lo que, a menos que especifique claramente la posición de inicio, la búsqueda se realizará desde el inicio de la cadena. \n",
    "\n",
    "También observa que la cadena se pasa por `const reference`.\n",
    "\n",
    "\n",
    "Nos centraremos ahora en una sobrecarga en particular, que involucra la longitud de la subcadena.\n"
   ]
  },
  {
   "cell_type": "code",
   "execution_count": null,
   "id": "31c2c007",
   "metadata": {},
   "outputs": [],
   "source": [
    "size_t find( const Char* s, size_type pos, size_type count )"
   ]
  },
  {
   "cell_type": "markdown",
   "id": "faa1d925",
   "metadata": {},
   "source": [
    "Esta sobrecarga particular verifica si la subcadena se encuentra dentro de la cadena, pero también tiene un límite para la longitud de la subcadena. Esto coincidirá hasta `count` caracteres. \n",
    "\n",
    "Pero esto no se puede usar para `std::string`. Observa `const Char*` en el prototipo. Entonces, podemos usar esto solo para cadenas de estilo C. Por ejemplo, si le pasamos la subcadena \"Hell\" a \"Hello\" a esta función.\n",
    "\n"
   ]
  },
  {
   "cell_type": "code",
   "execution_count": null,
   "id": "35c45a68",
   "metadata": {},
   "outputs": [],
   "source": [
    "std::cout << \"Hello\".find(\"Hell\", 0, 3) << std::endl;"
   ]
  },
  {
   "cell_type": "markdown",
   "id": "a4a81026",
   "metadata": {},
   "source": [
    "Esto solo coincidirá con 3 caracteres, desde el comienzo de \"Hello\". Entonces, obtendremos solo 4 bytes como salida, en lugar de 5. "
   ]
  },
  {
   "cell_type": "markdown",
   "id": "514562b8",
   "metadata": {},
   "source": [
    "#### Usando string.find() en C++ \n",
    "\n",
    "Veamos la llamada predeterminada, cuando `pos=0`. Simplemente buscaremos la subcadena completa, desde el comienzo de la cadena.\n"
   ]
  },
  {
   "cell_type": "code",
   "execution_count": null,
   "id": "e521ee6c",
   "metadata": {},
   "outputs": [],
   "source": [
    "#include <iostream>\n",
    "#include <string>\n",
    "\n",
    "int main() {\n",
    "    std::string str1(\"Hola CC112\");\n",
    "    std::string str1_obj(\"CC112\");\n",
    "\n",
    "    std::cout << \"Es \" << str1_obj << \" una subcadena de \" << str1 << \" ?\\n\";\n",
    "    size_t longitud_subcadena = str1.find(str1_obj);\n",
    "    if (longitud_subcadena == 0)\n",
    "        std::cout << \"No\\n\";\n",
    "    else\n",
    "        std::cout << \"Longitud de la subcadena coincidente = \" << longitud_subcadena << std::endl;\n",
    "\n",
    "    return 0;\n",
    "}\n"
   ]
  },
  {
   "cell_type": "markdown",
   "id": "92142068",
   "metadata": {},
   "source": [
    "Ahora busquemos la misma subcadena desde una posición específica en la cadena.\n"
   ]
  },
  {
   "cell_type": "code",
   "execution_count": null,
   "id": "ee8ab0c8",
   "metadata": {},
   "outputs": [],
   "source": [
    "#include <iostream>\n",
    "#include <string>\n",
    "\n",
    "int main() {\n",
    "    std::string str1(\"Hola CC112\");\n",
    "    std::string str1_obj(\"CC112\");\n",
    "\n",
    "    std::cout << \"Es \" << str1_obj << \" una subcadena de \" << str1 << \" ?\\n\";\n",
    "    size_t longitud_subcadena = str1.find(str1_obj,12);\n",
    "    if (longitud_subcadena == 0)\n",
    "        std::cout << \"No\\n\";\n",
    "    else\n",
    "        std::cout << \"Longitud de la subcadena coincidente = \" << longitud_subcadena << std::endl;\n",
    "\n",
    "    return 0;\n",
    "}\n"
   ]
  },
  {
   "cell_type": "markdown",
   "id": "5710c911",
   "metadata": {},
   "source": [
    "**Pregunta:** ¿Qué sucede en el resultado anterior?"
   ]
  },
  {
   "cell_type": "markdown",
   "id": "dbdbf521",
   "metadata": {},
   "source": [
    "`find()` va más allá del final de la cadena, así que tenga esto en cuenta. \n",
    "\n",
    "Por lo tanto, solucionaremos este estado peligroso comprobando si hemos llegado al final de la cadena. \n",
    "\n",
    "C++ tiene una variable especial llamada `std::string::npos` que devuelve un identificador a la cadena actual que podemos usar para detectar si hemos llegado al final de la cadena.\n",
    "\n"
   ]
  },
  {
   "cell_type": "code",
   "execution_count": null,
   "id": "620cd009",
   "metadata": {},
   "outputs": [],
   "source": [
    "if (str1.find(str1_obj) != std::string::npos) {\n",
    "    }\n",
    "else {\n",
    "\n",
    "}\n"
   ]
  },
  {
   "cell_type": "code",
   "execution_count": null,
   "id": "4da9a92e",
   "metadata": {},
   "outputs": [],
   "source": [
    "// Completa"
   ]
  },
  {
   "cell_type": "markdown",
   "id": "37e999c3",
   "metadata": {},
   "source": [
    "Mostramos la otra forma sobrecargada de `find()` usando `count`. Recuerda que no podemos usar este formulario directamente en cadenas C++."
   ]
  },
  {
   "cell_type": "code",
   "execution_count": null,
   "id": "2bb35b66",
   "metadata": {},
   "outputs": [],
   "source": [
    "#include <iostream>\n",
    "#include <string>\n",
    "\n",
    "int main() {\n",
    "    std::string str1(\"Hola CC112\");\n",
    "    std::string str1_obj(\"CC112\");\n",
    "\n",
    "    std::cout << \"Es \" << str1_obj << \" una subcadena de \" << str1 << \" ?\\n\";\n",
    "    size_t longitud_subcadena;\n",
    "    \n",
    "    if ((longitud_subcadena = str1.find(\"CC112\", 0, 5)) != std::string::npos) {\n",
    "        std::cout << \"Longitud de la subcadena coincidente = \" << longitud_subcadena << std::endl;\n",
    "    }\n",
    "    else{\n",
    "        std::cout << \"No\\n\";\n",
    "    }\n",
    "\n",
    "    return 0;\n",
    "}"
   ]
  },
  {
   "cell_type": "code",
   "execution_count": null,
   "id": "3ea545d5",
   "metadata": {},
   "outputs": [],
   "source": []
  }
 ],
 "metadata": {
  "kernelspec": {
   "display_name": "C++11",
   "language": "C++11",
   "name": "xcpp11"
  },
  "language_info": {
   "codemirror_mode": "text/x-c++src",
   "file_extension": ".cpp",
   "mimetype": "text/x-c++src",
   "name": "c++",
   "version": "11"
  }
 },
 "nbformat": 4,
 "nbformat_minor": 5
}
